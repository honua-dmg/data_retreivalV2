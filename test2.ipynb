{
 "cells": [
  {
   "cell_type": "code",
   "execution_count": 5,
   "metadata": {},
   "outputs": [
    {
     "ename": "BlockingIOError",
     "evalue": "[Errno 35] Unable to open file (unable to lock file, errno = 35, error message = 'Resource temporarily unavailable')",
     "output_type": "error",
     "traceback": [
      "\u001b[0;31m---------------------------------------------------------------------------\u001b[0m",
      "\u001b[0;31mBlockingIOError\u001b[0m                           Traceback (most recent call last)",
      "Cell \u001b[0;32mIn[5], line 3\u001b[0m\n\u001b[1;32m      1\u001b[0m \u001b[38;5;28;01mimport\u001b[39;00m \u001b[38;5;21;01mh5py\u001b[39;00m \u001b[38;5;28;01mas\u001b[39;00m \u001b[38;5;21;01mh\u001b[39;00m\n\u001b[1;32m      2\u001b[0m \u001b[38;5;28;01mimport\u001b[39;00m \u001b[38;5;21;01mtime\u001b[39;00m\n\u001b[0;32m----> 3\u001b[0m \u001b[38;5;28;01mwith\u001b[39;00m \u001b[43mh\u001b[49m\u001b[38;5;241;43m.\u001b[39;49m\u001b[43mFile\u001b[49m\u001b[43m(\u001b[49m\u001b[38;5;124;43m'\u001b[39;49m\u001b[38;5;124;43mtest.h5\u001b[39;49m\u001b[38;5;124;43m'\u001b[39;49m\u001b[43m,\u001b[49m\u001b[38;5;124;43m'\u001b[39;49m\u001b[38;5;124;43mr\u001b[39;49m\u001b[38;5;124;43m'\u001b[39;49m\u001b[43m,\u001b[49m\u001b[43mswmr\u001b[49m\u001b[38;5;241;43m=\u001b[39;49m\u001b[38;5;28;43;01mTrue\u001b[39;49;00m\u001b[43m)\u001b[49m \u001b[38;5;28;01mas\u001b[39;00m f:\n\u001b[1;32m      4\u001b[0m     time\u001b[38;5;241m.\u001b[39msleep(\u001b[38;5;241m3\u001b[39m)\n\u001b[1;32m      5\u001b[0m     \u001b[38;5;28mprint\u001b[39m(f[\u001b[38;5;124m'\u001b[39m\u001b[38;5;124mmaster\u001b[39m\u001b[38;5;124m'\u001b[39m][\u001b[38;5;241m0\u001b[39m,\u001b[38;5;241m1\u001b[39m])\n",
      "File \u001b[0;32m~/programming/STONKS/data_retreival_v2/fyers_data_retreivalv2/lib/python3.12/site-packages/h5py/_hl/files.py:562\u001b[0m, in \u001b[0;36mFile.__init__\u001b[0;34m(self, name, mode, driver, libver, userblock_size, swmr, rdcc_nslots, rdcc_nbytes, rdcc_w0, track_order, fs_strategy, fs_persist, fs_threshold, fs_page_size, page_buf_size, min_meta_keep, min_raw_keep, locking, alignment_threshold, alignment_interval, meta_block_size, **kwds)\u001b[0m\n\u001b[1;32m    553\u001b[0m     fapl \u001b[38;5;241m=\u001b[39m make_fapl(driver, libver, rdcc_nslots, rdcc_nbytes, rdcc_w0,\n\u001b[1;32m    554\u001b[0m                      locking, page_buf_size, min_meta_keep, min_raw_keep,\n\u001b[1;32m    555\u001b[0m                      alignment_threshold\u001b[38;5;241m=\u001b[39malignment_threshold,\n\u001b[1;32m    556\u001b[0m                      alignment_interval\u001b[38;5;241m=\u001b[39malignment_interval,\n\u001b[1;32m    557\u001b[0m                      meta_block_size\u001b[38;5;241m=\u001b[39mmeta_block_size,\n\u001b[1;32m    558\u001b[0m                      \u001b[38;5;241m*\u001b[39m\u001b[38;5;241m*\u001b[39mkwds)\n\u001b[1;32m    559\u001b[0m     fcpl \u001b[38;5;241m=\u001b[39m make_fcpl(track_order\u001b[38;5;241m=\u001b[39mtrack_order, fs_strategy\u001b[38;5;241m=\u001b[39mfs_strategy,\n\u001b[1;32m    560\u001b[0m                      fs_persist\u001b[38;5;241m=\u001b[39mfs_persist, fs_threshold\u001b[38;5;241m=\u001b[39mfs_threshold,\n\u001b[1;32m    561\u001b[0m                      fs_page_size\u001b[38;5;241m=\u001b[39mfs_page_size)\n\u001b[0;32m--> 562\u001b[0m     fid \u001b[38;5;241m=\u001b[39m \u001b[43mmake_fid\u001b[49m\u001b[43m(\u001b[49m\u001b[43mname\u001b[49m\u001b[43m,\u001b[49m\u001b[43m \u001b[49m\u001b[43mmode\u001b[49m\u001b[43m,\u001b[49m\u001b[43m \u001b[49m\u001b[43muserblock_size\u001b[49m\u001b[43m,\u001b[49m\u001b[43m \u001b[49m\u001b[43mfapl\u001b[49m\u001b[43m,\u001b[49m\u001b[43m \u001b[49m\u001b[43mfcpl\u001b[49m\u001b[43m,\u001b[49m\u001b[43m \u001b[49m\u001b[43mswmr\u001b[49m\u001b[38;5;241;43m=\u001b[39;49m\u001b[43mswmr\u001b[49m\u001b[43m)\u001b[49m\n\u001b[1;32m    564\u001b[0m \u001b[38;5;28;01mif\u001b[39;00m \u001b[38;5;28misinstance\u001b[39m(libver, \u001b[38;5;28mtuple\u001b[39m):\n\u001b[1;32m    565\u001b[0m     \u001b[38;5;28mself\u001b[39m\u001b[38;5;241m.\u001b[39m_libver \u001b[38;5;241m=\u001b[39m libver\n",
      "File \u001b[0;32m~/programming/STONKS/data_retreival_v2/fyers_data_retreivalv2/lib/python3.12/site-packages/h5py/_hl/files.py:235\u001b[0m, in \u001b[0;36mmake_fid\u001b[0;34m(name, mode, userblock_size, fapl, fcpl, swmr)\u001b[0m\n\u001b[1;32m    233\u001b[0m     \u001b[38;5;28;01mif\u001b[39;00m swmr \u001b[38;5;129;01mand\u001b[39;00m swmr_support:\n\u001b[1;32m    234\u001b[0m         flags \u001b[38;5;241m|\u001b[39m\u001b[38;5;241m=\u001b[39m h5f\u001b[38;5;241m.\u001b[39mACC_SWMR_READ\n\u001b[0;32m--> 235\u001b[0m     fid \u001b[38;5;241m=\u001b[39m \u001b[43mh5f\u001b[49m\u001b[38;5;241;43m.\u001b[39;49m\u001b[43mopen\u001b[49m\u001b[43m(\u001b[49m\u001b[43mname\u001b[49m\u001b[43m,\u001b[49m\u001b[43m \u001b[49m\u001b[43mflags\u001b[49m\u001b[43m,\u001b[49m\u001b[43m \u001b[49m\u001b[43mfapl\u001b[49m\u001b[38;5;241;43m=\u001b[39;49m\u001b[43mfapl\u001b[49m\u001b[43m)\u001b[49m\n\u001b[1;32m    236\u001b[0m \u001b[38;5;28;01melif\u001b[39;00m mode \u001b[38;5;241m==\u001b[39m \u001b[38;5;124m'\u001b[39m\u001b[38;5;124mr+\u001b[39m\u001b[38;5;124m'\u001b[39m:\n\u001b[1;32m    237\u001b[0m     fid \u001b[38;5;241m=\u001b[39m h5f\u001b[38;5;241m.\u001b[39mopen(name, h5f\u001b[38;5;241m.\u001b[39mACC_RDWR, fapl\u001b[38;5;241m=\u001b[39mfapl)\n",
      "File \u001b[0;32mh5py/_objects.pyx:54\u001b[0m, in \u001b[0;36mh5py._objects.with_phil.wrapper\u001b[0;34m()\u001b[0m\n",
      "File \u001b[0;32mh5py/_objects.pyx:55\u001b[0m, in \u001b[0;36mh5py._objects.with_phil.wrapper\u001b[0;34m()\u001b[0m\n",
      "File \u001b[0;32mh5py/h5f.pyx:102\u001b[0m, in \u001b[0;36mh5py.h5f.open\u001b[0;34m()\u001b[0m\n",
      "\u001b[0;31mBlockingIOError\u001b[0m: [Errno 35] Unable to open file (unable to lock file, errno = 35, error message = 'Resource temporarily unavailable')"
     ]
    }
   ],
   "source": [
    "import h5py as h\n",
    "import time\n",
    "with h.File('test.h5','r',swmr=True) as f:\n",
    "    time.sleep(3)\n",
    "    print(f['master'][0,1])\n",
    "    time.sleep(5)\n",
    "    print(f['master'][1,1])"
   ]
  },
  {
   "cell_type": "code",
   "execution_count": 6,
   "metadata": {},
   "outputs": [
    {
     "name": "stderr",
     "output_type": "stream",
     "text": [
      "/var/folders/v8/1wyl6_ks02s620m7tv5drmch0000gn/T/ipykernel_34429/3700888319.py:7: UserWarning: swmr=True only affects read ('r') mode. For swmr write mode, set f.swmr_mode = True after opening the file.\n",
      "  with h5py.File(filename, 'a', swmr=True) as f:\n",
      "Exception in thread Thread-10 (read_data):\n",
      "Traceback (most recent call last):\n",
      "  File \"/opt/anaconda3/lib/python3.12/threading.py\", line 1073, in _bootstrap_inner\n",
      "Exception in thread Thread-9 (write_data):\n",
      "Traceback (most recent call last):\n",
      "  File \"/opt/anaconda3/lib/python3.12/threading.py\", line 1073, in _bootstrap_inner\n",
      "    self.run()\n",
      "  File \"/Users/gurusai/programming/STONKS/data_retreival_v2/fyers_data_retreivalv2/lib/python3.12/site-packages/ipykernel/ipkernel.py\", line 766, in run_closure\n",
      "    self.run()\n",
      "  File \"/Users/gurusai/programming/STONKS/data_retreival_v2/fyers_data_retreivalv2/lib/python3.12/site-packages/ipykernel/ipkernel.py\", line 766, in run_closure\n",
      "    _threading_Thread_run(self)\n",
      "  File \"/opt/anaconda3/lib/python3.12/threading.py\", line 1010, in run\n",
      "    _threading_Thread_run(self)\n",
      "  File \"/opt/anaconda3/lib/python3.12/threading.py\", line 1010, in run\n",
      "    self._target(*self._args, **self._kwargs)\n",
      "  File \"/var/folders/v8/1wyl6_ks02s620m7tv5drmch0000gn/T/ipykernel_34429/3700888319.py\", line 17, in read_data\n",
      "    self._target(*self._args, **self._kwargs)\n",
      "  File \"/var/folders/v8/1wyl6_ks02s620m7tv5drmch0000gn/T/ipykernel_34429/3700888319.py\", line 8, in write_data\n",
      "  File \"h5py/_objects.pyx\", line 54, in h5py._objects.with_phil.wrapper\n",
      "  File \"h5py/_objects.pyx\", line 54, in h5py._objects.with_phil.wrapper\n",
      "  File \"h5py/_objects.pyx\", line 55, in h5py._objects.with_phil.wrapper\n",
      "  File \"/Users/gurusai/programming/STONKS/data_retreival_v2/fyers_data_retreivalv2/lib/python3.12/site-packages/h5py/_hl/group.py\", line 357, in __getitem__\n",
      "  File \"h5py/_objects.pyx\", line 55, in h5py._objects.with_phil.wrapper\n",
      "    oid = h5o.open(self.id, self._e(name), lapl=self._lapl)\n",
      "          ^^^^^^^^^^^^^^^^^^^^^^^^^^^^^^^^^^^^^^^^^^^^^^^^^\n",
      "  File \"h5py/_objects.pyx\", line 54, in h5py._objects.with_phil.wrapper\n",
      "  File \"h5py/_objects.pyx\", line 55, in h5py._objects.with_phil.wrapper\n",
      "  File \"/Users/gurusai/programming/STONKS/data_retreival_v2/fyers_data_retreivalv2/lib/python3.12/site-packages/h5py/_hl/group.py\", line 357, in __getitem__\n",
      "  File \"h5py/h5o.pyx\", line 241, in h5py.h5o.open\n",
      "    oid = h5o.open(self.id, self._e(name), lapl=self._lapl)\n",
      "          ^^^^^^^^^^^^^^^^^^^^^^^^^^^^^^^^^^^^^^^^^^^^^^^^^\n",
      "  File \"h5py/_objects.pyx\", line 54, in h5py._objects.with_phil.wrapper\n",
      "  File \"h5py/_objects.pyx\", line 55, in h5py._objects.with_phil.wrapper\n",
      "  File \"h5py/h5o.pyx\", line 241, in h5py.h5o.open\n",
      "KeyError: \"Unable to open object (object 'data' doesn't exist)\"\n",
      "KeyError: \"Unable to open object (object 'data' doesn't exist)\"\n"
     ]
    }
   ],
   "source": [
    "import threading\n",
    "import h5py\n",
    "filename = 'example.h5'\n",
    "\n",
    "\n",
    "def write_data(filename):\n",
    "    with h5py.File(filename, 'a', swmr=True) as f:\n",
    "        dset = f['data']\n",
    "        for i in range(1, 11):\n",
    "            dset.resize(dset.shape[0] + 1, axis=0)\n",
    "            dset[-1] = i\n",
    "            print(f'Wrote value {i}')\n",
    "            time.sleep(1)  # Simulate a delay\n",
    "\n",
    "def read_data(filename):\n",
    "    with h5py.File(filename, 'r', swmr=True) as f:\n",
    "        dset = f['data']\n",
    "        while True:\n",
    "            print(f'Current dataset shape: {dset.shape}')\n",
    "            print(f'Current data: {dset[:]}\\n')\n",
    "            time.sleep(2)  # Simulate a delay\n",
    "\n",
    "# Start the writer thread\n",
    "writer_thread = threading.Thread(target=write_data, args=(filename,))\n",
    "writer_thread.start()\n",
    "\n",
    "# Start the reader thread\n",
    "reader_thread = threading.Thread(target=read_data, args=(filename,))\n",
    "reader_thread.start()\n",
    "\n",
    "writer_thread.join()\n",
    "reader_thread.join()"
   ]
  },
  {
   "cell_type": "code",
   "execution_count": 9,
   "metadata": {},
   "outputs": [
    {
     "name": "stderr",
     "output_type": "stream",
     "text": [
      "Exception in thread Thread-28 (write_data):\n",
      "Traceback (most recent call last):\n",
      "  File \"/opt/anaconda3/lib/python3.12/threading.py\", line 1073, in _bootstrap_inner\n",
      "    self.run()\n",
      "  File \"/Users/gurusai/programming/STONKS/data_retreival_v2/fyers_data_retreivalv2/lib/python3.12/site-packages/ipykernel/ipkernel.py\", line 766, in run_closure\n",
      "    _threading_Thread_run(self)\n",
      "  File \"/opt/anaconda3/lib/python3.12/threading.py\", line 1010, in run\n",
      "    self._target(*self._args, **self._kwargs)\n",
      "  File \"/var/folders/v8/1wyl6_ks02s620m7tv5drmch0000gn/T/ipykernel_34429/2852292939.py\", line 14, in write_data\n",
      "  File \"h5py/_objects.pyx\", line 54, in h5py._objects.with_phil.wrapper\n",
      "  File \"h5py/_objects.pyx\", line 55, in h5py._objects.with_phil.wrapper\n",
      "  File \"/Users/gurusai/programming/STONKS/data_retreival_v2/fyers_data_retreivalv2/lib/python3.12/site-packages/h5py/_hl/files.py\", line 372, in swmr_mode\n",
      "    self.id.start_swmr_write()\n",
      "  File \"h5py/_objects.pyx\", line 54, in h5py._objects.with_phil.wrapper\n",
      "  File \"h5py/_objects.pyx\", line 55, in h5py._objects.with_phil.wrapper\n",
      "  File \"h5py/h5f.pyx\", line 581, in h5py.h5f.FileID.start_swmr_write\n",
      "RuntimeError: Unable to start swmr writing (file superblock version - should be at least 3)\n"
     ]
    },
    {
     "name": "stdout",
     "output_type": "stream",
     "text": [
      "Current dataset shape: (0,)\n",
      "Current data: []\n",
      "Current dataset shape: (0,)\n",
      "Current data: []\n",
      "Current dataset shape: (0,)\n",
      "Current data: []\n",
      "Current dataset shape: (0,)\n",
      "Current data: []\n",
      "Current dataset shape: (0,)\n",
      "Current data: []\n",
      "Current dataset shape: (0,)\n",
      "Current data: []\n",
      "Current dataset shape: (0,)\n",
      "Current data: []\n",
      "Current dataset shape: (0,)\n",
      "Current data: []\n",
      "Current dataset shape: (0,)\n",
      "Current data: []\n",
      "Current dataset shape: (0,)\n",
      "Current data: []\n",
      "Current dataset shape: (0,)\n",
      "Current data: []\n",
      "Current dataset shape: (0,)\n",
      "Current data: []\n",
      "Current dataset shape: (0,)\n",
      "Current data: []\n",
      "Current dataset shape: (0,)\n",
      "Current data: []\n",
      "Current dataset shape: (0,)\n",
      "Current data: []\n",
      "Current dataset shape: (0,)\n",
      "Current data: []\n",
      "Current dataset shape: (0,)\n",
      "Current data: []\n",
      "Current dataset shape: (0,)\n",
      "Current data: []\n",
      "Current dataset shape: (0,)\n",
      "Current data: []\n",
      "Current dataset shape: (0,)\n",
      "Current data: []\n",
      "Current dataset shape: (0,)\n",
      "Current data: []\n",
      "Current dataset shape: (0,)\n",
      "Current data: []\n",
      "Current dataset shape: (0,)\n",
      "Current data: []\n",
      "Current dataset shape: (0,)\n",
      "Current data: []\n",
      "Current dataset shape: (0,)\n",
      "Current data: []\n",
      "Current dataset shape: (0,)\n",
      "Current data: []\n",
      "Current dataset shape: (0,)\n",
      "Current data: []\n",
      "Current dataset shape: (0,)\n",
      "Current data: []\n",
      "Current dataset shape: (0,)\n",
      "Current data: []\n",
      "Current dataset shape: (0,)\n",
      "Current data: []\n",
      "Current dataset shape: (0,)\n",
      "Current data: []\n"
     ]
    },
    {
     "ename": "KeyboardInterrupt",
     "evalue": "",
     "output_type": "error",
     "traceback": [
      "\u001b[0;31m---------------------------------------------------------------------------\u001b[0m",
      "\u001b[0;31mKeyboardInterrupt\u001b[0m                         Traceback (most recent call last)",
      "Cell \u001b[0;32mIn[9], line 46\u001b[0m\n\u001b[1;32m     44\u001b[0m \u001b[38;5;66;03m# Wait for both threads to finish\u001b[39;00m\n\u001b[1;32m     45\u001b[0m writer_thread\u001b[38;5;241m.\u001b[39mjoin()\n\u001b[0;32m---> 46\u001b[0m \u001b[43mreader_thread\u001b[49m\u001b[38;5;241;43m.\u001b[39;49m\u001b[43mjoin\u001b[49m\u001b[43m(\u001b[49m\u001b[43m)\u001b[49m\n",
      "File \u001b[0;32m/opt/anaconda3/lib/python3.12/threading.py:1147\u001b[0m, in \u001b[0;36mThread.join\u001b[0;34m(self, timeout)\u001b[0m\n\u001b[1;32m   1144\u001b[0m     \u001b[38;5;28;01mraise\u001b[39;00m \u001b[38;5;167;01mRuntimeError\u001b[39;00m(\u001b[38;5;124m\"\u001b[39m\u001b[38;5;124mcannot join current thread\u001b[39m\u001b[38;5;124m\"\u001b[39m)\n\u001b[1;32m   1146\u001b[0m \u001b[38;5;28;01mif\u001b[39;00m timeout \u001b[38;5;129;01mis\u001b[39;00m \u001b[38;5;28;01mNone\u001b[39;00m:\n\u001b[0;32m-> 1147\u001b[0m     \u001b[38;5;28;43mself\u001b[39;49m\u001b[38;5;241;43m.\u001b[39;49m\u001b[43m_wait_for_tstate_lock\u001b[49m\u001b[43m(\u001b[49m\u001b[43m)\u001b[49m\n\u001b[1;32m   1148\u001b[0m \u001b[38;5;28;01melse\u001b[39;00m:\n\u001b[1;32m   1149\u001b[0m     \u001b[38;5;66;03m# the behavior of a negative timeout isn't documented, but\u001b[39;00m\n\u001b[1;32m   1150\u001b[0m     \u001b[38;5;66;03m# historically .join(timeout=x) for x<0 has acted as if timeout=0\u001b[39;00m\n\u001b[1;32m   1151\u001b[0m     \u001b[38;5;28mself\u001b[39m\u001b[38;5;241m.\u001b[39m_wait_for_tstate_lock(timeout\u001b[38;5;241m=\u001b[39m\u001b[38;5;28mmax\u001b[39m(timeout, \u001b[38;5;241m0\u001b[39m))\n",
      "File \u001b[0;32m/opt/anaconda3/lib/python3.12/threading.py:1167\u001b[0m, in \u001b[0;36mThread._wait_for_tstate_lock\u001b[0;34m(self, block, timeout)\u001b[0m\n\u001b[1;32m   1164\u001b[0m     \u001b[38;5;28;01mreturn\u001b[39;00m\n\u001b[1;32m   1166\u001b[0m \u001b[38;5;28;01mtry\u001b[39;00m:\n\u001b[0;32m-> 1167\u001b[0m     \u001b[38;5;28;01mif\u001b[39;00m \u001b[43mlock\u001b[49m\u001b[38;5;241;43m.\u001b[39;49m\u001b[43macquire\u001b[49m\u001b[43m(\u001b[49m\u001b[43mblock\u001b[49m\u001b[43m,\u001b[49m\u001b[43m \u001b[49m\u001b[43mtimeout\u001b[49m\u001b[43m)\u001b[49m:\n\u001b[1;32m   1168\u001b[0m         lock\u001b[38;5;241m.\u001b[39mrelease()\n\u001b[1;32m   1169\u001b[0m         \u001b[38;5;28mself\u001b[39m\u001b[38;5;241m.\u001b[39m_stop()\n",
      "\u001b[0;31mKeyboardInterrupt\u001b[0m: "
     ]
    },
    {
     "name": "stdout",
     "output_type": "stream",
     "text": [
      "Current dataset shape: (0,)\n",
      "Current data: []\n",
      "Current dataset shape: (0,)\n",
      "Current data: []\n"
     ]
    },
    {
     "name": "stderr",
     "output_type": "stream",
     "text": [
      "Exception in thread Exception in threading.excepthook:\n",
      "Exception ignored in thread started by: <bound method Thread._bootstrap of <Thread(Thread-29 (read_data), stopped 6302068736)>>\n",
      "Traceback (most recent call last):\n",
      "  File \"/opt/anaconda3/lib/python3.12/threading.py\", line 1030, in _bootstrap\n",
      "    self._bootstrap_inner()\n",
      "  File \"/opt/anaconda3/lib/python3.12/threading.py\", line 1075, in _bootstrap_inner\n",
      "    self._invoke_excepthook(self)\n",
      "  File \"/opt/anaconda3/lib/python3.12/threading.py\", line 1389, in invoke_excepthook\n",
      "    local_print(\"Exception in threading.excepthook:\",\n",
      "  File \"/Users/gurusai/programming/STONKS/data_retreival_v2/fyers_data_retreivalv2/lib/python3.12/site-packages/ipykernel/iostream.py\", line 604, in flush\n",
      "    self.pub_thread.schedule(self._flush)\n",
      "  File \"/Users/gurusai/programming/STONKS/data_retreival_v2/fyers_data_retreivalv2/lib/python3.12/site-packages/ipykernel/iostream.py\", line 267, in schedule\n",
      "    self._event_pipe.send(b\"\")\n",
      "  File \"/Users/gurusai/programming/STONKS/data_retreival_v2/fyers_data_retreivalv2/lib/python3.12/site-packages/zmq/sugar/socket.py\", line 701, in send\n",
      "    return super().send(data, flags=flags, copy=copy, track=track)\n",
      "           ^^^^^^^^^^^^^^^^^^^^^^^^^^^^^^^^^^^^^^^^^^^^^^^^^^^^^^^\n",
      "  File \"_zmq.py\", line 1073, in zmq.backend.cython._zmq.Socket.send\n",
      "  File \"_zmq.py\", line 1115, in zmq.backend.cython._zmq.Socket.send\n",
      "  File \"_zmq.py\", line 1190, in zmq.backend.cython._zmq._check_closed\n",
      "zmq.error.ZMQError: Socket operation on non-socket\n",
      "Exception ignored in sys.unraisablehook: <built-in function unraisablehook>\n",
      "Traceback (most recent call last):\n",
      "  File \"/Users/gurusai/programming/STONKS/data_retreival_v2/fyers_data_retreivalv2/lib/python3.12/site-packages/ipykernel/iostream.py\", line 604, in flush\n",
      "    self.pub_thread.schedule(self._flush)\n",
      "  File \"/Users/gurusai/programming/STONKS/data_retreival_v2/fyers_data_retreivalv2/lib/python3.12/site-packages/ipykernel/iostream.py\", line 267, in schedule\n",
      "    self._event_pipe.send(b\"\")\n",
      "  File \"/Users/gurusai/programming/STONKS/data_retreival_v2/fyers_data_retreivalv2/lib/python3.12/site-packages/zmq/sugar/socket.py\", line 701, in send\n",
      "    return super().send(data, flags=flags, copy=copy, track=track)\n",
      "           ^^^^^^^^^^^^^^^^^^^^^^^^^^^^^^^^^^^^^^^^^^^^^^^^^^^^^^^\n",
      "  File \"_zmq.py\", line 1073, in zmq.backend.cython._zmq.Socket.send\n",
      "  File \"_zmq.py\", line 1115, in zmq.backend.cython._zmq.Socket.send\n",
      "  File \"_zmq.py\", line 1190, in zmq.backend.cython._zmq._check_closed\n",
      "zmq.error.ZMQError: Socket operation on non-socket\n"
     ]
    },
    {
     "name": "stdout",
     "output_type": "stream",
     "text": [
      "Current dataset shape: (0,)"
     ]
    }
   ],
   "source": [
    "import h5py\n",
    "import time\n",
    "import threading\n",
    "\n",
    "# Function to write data with SWMR mode enabled\n",
    "def write_data(filename):\n",
    "    with h5py.File(filename, 'w') as f:\n",
    "        # Create a dataset with an initial size and max shape\n",
    "        try:\n",
    "            dset = f['data']\n",
    "        except Exception:\n",
    "            dset = f.create_dataset('data', (0,), maxshape=(None,), dtype='i')\n",
    "\n",
    "        f.swmr_mode = True  # Enable SWMR mode\n",
    "        for i in range(10):\n",
    "            dset.resize(dset.shape[0] + 1, axis=0)\n",
    "            dset[-1] = i\n",
    "            print(f'Wrote value {i}')\n",
    "            time.sleep(1)  # Simulate a delay\n",
    "\n",
    "# Function to read data with SWMR mode enabled\n",
    "def read_data(filename):\n",
    "    with h5py.File(filename, 'r', swmr=True) as f:\n",
    "        while True:\n",
    "            try:\n",
    "                dset = f['data']\n",
    "                print(f'Current dataset shape: {dset.shape}')\n",
    "                print(f'Current data: {dset[:]}')\n",
    "            except KeyError:\n",
    "                print('Dataset not available yet...')\n",
    "            time.sleep(2)  # Simulate a delay\n",
    "\n",
    "# Set the filename for the HDF5 file\n",
    "filename = 'example.h5'\n",
    "\n",
    "# Start the writer thread\n",
    "writer_thread = threading.Thread(target=write_data, args=(filename,))\n",
    "writer_thread.start()\n",
    "\n",
    "# Start the reader thread\n",
    "reader_thread = threading.Thread(target=read_data, args=(filename,))\n",
    "reader_thread.start()\n",
    "\n",
    "# Wait for both threads to finish\n",
    "writer_thread.join()\n",
    "reader_thread.join()\n"
   ]
  },
  {
   "cell_type": "code",
   "execution_count": 64,
   "metadata": {},
   "outputs": [
    {
     "data": {
      "text/plain": [
       "(124, 21)"
      ]
     },
     "execution_count": 64,
     "metadata": {},
     "output_type": "execute_result"
    }
   ],
   "source": [
    "import h5py as h\n",
    "import pandas as pd\n",
    "with h.File('/Users/gurusai/data/2024-08-Symbol.h5','r',swmr=True) as f:\n",
    "    file = pd.DataFrame(f['APOLLOHOSP/1/BSE'][:],columns=f['APOLLOHOSP/1/BSE'].attrs['columns'])\n",
    "file.shape"
   ]
  },
  {
   "cell_type": "code",
   "execution_count": null,
   "metadata": {},
   "outputs": [],
   "source": []
  },
  {
   "cell_type": "code",
   "execution_count": null,
   "metadata": {},
   "outputs": [],
   "source": []
  }
 ],
 "metadata": {
  "kernelspec": {
   "display_name": "fyers_data_retreivalv2",
   "language": "python",
   "name": "python3"
  },
  "language_info": {
   "codemirror_mode": {
    "name": "ipython",
    "version": 3
   },
   "file_extension": ".py",
   "mimetype": "text/x-python",
   "name": "python",
   "nbconvert_exporter": "python",
   "pygments_lexer": "ipython3",
   "version": "3.12.4"
  }
 },
 "nbformat": 4,
 "nbformat_minor": 2
}
