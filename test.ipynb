{
 "cells": [
  {
   "cell_type": "code",
   "execution_count": 1,
   "metadata": {},
   "outputs": [],
   "source": [
    "from gen_token import accesstoken"
   ]
  },
  {
   "cell_type": "code",
   "execution_count": 2,
   "metadata": {},
   "outputs": [
    {
     "name": "stdout",
     "output_type": "stream",
     "text": [
      "\n",
      "Warning: uc_driver not found. Getting it now:\n",
      "\n",
      "*** chromedriver to download = 126.0.6478.126 (Latest Stable) \n",
      "\n",
      "Downloading chromedriver-mac-x64.zip from:\n",
      "https://storage.googleapis.com/chrome-for-testing-public/126.0.6478.126/mac-x64/chromedriver-mac-x64.zip ...\n",
      "Download Complete!\n",
      "\n",
      "Extracting ['chromedriver'] from chromedriver-mac-x64.zip ...\n",
      "Unzip Complete!\n",
      "\n",
      "The file [uc_driver] was saved to:\n",
      "/Users/gurusai/programming/STONKS/data_retreival_v2/fyers_data_retreivalv2/lib/python3.12/site-packages/seleniumbase/drivers/uc_driver\n",
      "\n",
      "Making [uc_driver 126.0.6478.126] executable ...\n",
      "[uc_driver 126.0.6478.126] is now ready for use!\n",
      "\n",
      "no neeed to validate :)\n",
      "auth_code obtained!\n",
      "200\n",
      "********************************************************************************\n",
      "success\n"
     ]
    }
   ],
   "source": [
    "access_token = accesstoken('secrets.txt',data_type='test')"
   ]
  },
  {
   "cell_type": "code",
   "execution_count": 4,
   "metadata": {},
   "outputs": [
    {
     "data": {
      "text/plain": [
       "'eyJ0eXAiOiJKV1QiLCJhbGciOiJIUzI1NiJ9.eyJpc3MiOiJhcGkuZnllcnMuaW4iLCJpYXQiOjE3MjExMDQ0NDgsImV4cCI6MTcyMTE3NjIwOCwibmJmIjoxNzIxMTA0NDQ4LCJhdWQiOlsieDowIiwieDoxIiwieDoyIiwiZDoxIiwiZDoyIiwieDoxIiwieDowIl0sInN1YiI6ImFjY2Vzc190b2tlbiIsImF0X2hhc2giOiJnQUFBQUFCbWxmaEFqbHVVWnQ5ZUNMQTFEVkZYV0hDSWV6S3ppeGFzZU81dW9fN0djYm1SUVp3Q2xPWW1GWVNDQmthOGJ0X0M0MEFlT1p4WHBIY3ZVMGc4TGlNYkMzM25ZR1VpVmlUSmJHZDNkVGVlY2FienQ4WT0iLCJkaXNwbGF5X25hbWUiOiJNQUxMRVBBTExJIEdBSlVMQSBHVVJVIFNBSSBQUkFTQUQiLCJvbXMiOiJLMSIsImhzbV9rZXkiOiJjY2Q4NDkwZGNkYTc2OTU0Njk3YmE4Y2JkN2YxMGI5MWNjMTU1YmI2ODA5OGRkZjUxYjk0NTg5ZiIsImZ5X2lkIjoiWU0wODkyNyIsImFwcFR5cGUiOjEwMCwicG9hX2ZsYWciOiJOIn0.LEAVMhV-B_o_CblqbKe7ETYEdE--3szQlJed6x6QRjU'"
      ]
     },
     "execution_count": 4,
     "metadata": {},
     "output_type": "execute_result"
    }
   ],
   "source": [
    "access_token"
   ]
  },
  {
   "cell_type": "markdown",
   "metadata": {},
   "source": [
    "# start working here\n"
   ]
  },
  {
   "cell_type": "code",
   "execution_count": 5,
   "metadata": {},
   "outputs": [
    {
     "ename": "ModuleNotFoundError",
     "evalue": "No module named 'websoc'",
     "output_type": "error",
     "traceback": [
      "\u001b[0;31m---------------------------------------------------------------------------\u001b[0m",
      "\u001b[0;31mModuleNotFoundError\u001b[0m                       Traceback (most recent call last)",
      "Cell \u001b[0;32mIn[5], line 1\u001b[0m\n\u001b[0;32m----> 1\u001b[0m \u001b[38;5;28;01mfrom\u001b[39;00m \u001b[38;5;21;01mwebsoc\u001b[39;00m \u001b[38;5;28;01mimport\u001b[39;00m collect\n",
      "\u001b[0;31mModuleNotFoundError\u001b[0m: No module named 'websoc'"
     ]
    }
   ],
   "source": [
    "from websoc import collect"
   ]
  },
  {
   "cell_type": "code",
   "execution_count": null,
   "metadata": {},
   "outputs": [],
   "source": []
  }
 ],
 "metadata": {
  "kernelspec": {
   "display_name": "fyers_data_retreivalv2",
   "language": "python",
   "name": "python3"
  },
  "language_info": {
   "codemirror_mode": {
    "name": "ipython",
    "version": 3
   },
   "file_extension": ".py",
   "mimetype": "text/x-python",
   "name": "python",
   "nbconvert_exporter": "python",
   "pygments_lexer": "ipython3",
   "version": "3.12.4"
  }
 },
 "nbformat": 4,
 "nbformat_minor": 2
}
