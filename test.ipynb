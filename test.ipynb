{
 "cells": [
  {
   "cell_type": "code",
   "execution_count": 1,
   "metadata": {},
   "outputs": [],
   "source": [
    "from data import accesstoken"
   ]
  },
  {
   "cell_type": "code",
   "execution_count": 2,
   "metadata": {},
   "outputs": [
    {
     "name": "stdout",
     "output_type": "stream",
     "text": [
      "yeassss\n",
      "shucks login issue occured, we prolly got detected: Message: element not interactable\n",
      "  (Session info: chrome=127.0.6533.100)\n",
      "Stacktrace:\n",
      "0   uc_driver                           0x00000001010bb848 uc_driver + 5179464\n",
      "1   uc_driver                           0x00000001010b327a uc_driver + 5145210\n",
      "2   uc_driver                           0x0000000100c2a0e1 uc_driver + 389345\n",
      "3   uc_driver                           0x0000000100c70598 uc_driver + 677272\n",
      "4   uc_driver                           0x0000000100c6e9fa uc_driver + 670202\n",
      "5   uc_driver                           0x0000000100c987b2 uc_driver + 841650\n",
      "6   uc_driver                           0x0000000100c6ae58 uc_driver + 654936\n",
      "7   uc_driver                           0x0000000100c9896e uc_driver + 842094\n",
      "8   uc_driver                           0x0000000100cb5b9b uc_driver + 961435\n",
      "9   uc_driver                           0x0000000100c98553 uc_driver + 841043\n",
      "10  uc_driver                           0x0000000100c697f6 uc_driver + 649206\n",
      "11  uc_driver                           0x0000000100c6a05e uc_driver + 651358\n",
      "12  uc_driver                           0x000000010107eab0 uc_driver + 4930224\n",
      "13  uc_driver                           0x00000001010839c6 uc_driver + 4950470\n",
      "14  uc_driver                           0x0000000101084095 uc_driver + 4952213\n",
      "15  uc_driver                           0x0000000101060e79 uc_driver + 4808313\n",
      "16  uc_driver                           0x0000000101084389 uc_driver + 4952969\n",
      "17  uc_driver                           0x00000001010527d4 uc_driver + 4749268\n",
      "18  uc_driver                           0x00000001010a3558 uc_driver + 5080408\n",
      "19  uc_driver                           0x00000001010a3717 uc_driver + 5080855\n",
      "20  uc_driver                           0x00000001010b2e5e uc_driver + 5144158\n",
      "21  libsystem_pthread.dylib             0x00007ff800a7418b _pthread_start + 99\n",
      "22  libsystem_pthread.dylib             0x00007ff800a6fae3 thread_start + 15\n",
      "\n",
      "mode 0 used up\n",
      "yeassss\n",
      "auth code failed to be received Message: element not interactable\n",
      "  (Session info: chrome=127.0.6533.100)\n",
      "Stacktrace:\n",
      "0   uc_driver                           0x0000000104fd3848 uc_driver + 5179464\n",
      "1   uc_driver                           0x0000000104fcb27a uc_driver + 5145210\n",
      "2   uc_driver                           0x0000000104b420e1 uc_driver + 389345\n",
      "3   uc_driver                           0x0000000104b88598 uc_driver + 677272\n",
      "4   uc_driver                           0x0000000104b869fa uc_driver + 670202\n",
      "5   uc_driver                           0x0000000104bb07b2 uc_driver + 841650\n",
      "6   uc_driver                           0x0000000104b82e58 uc_driver + 654936\n",
      "7   uc_driver                           0x0000000104bb096e uc_driver + 842094\n",
      "8   uc_driver                           0x0000000104bcdb9b uc_driver + 961435\n",
      "9   uc_driver                           0x0000000104bb0553 uc_driver + 841043\n",
      "10  uc_driver                           0x0000000104b817f6 uc_driver + 649206\n",
      "11  uc_driver                           0x0000000104b8205e uc_driver + 651358\n",
      "12  uc_driver                           0x0000000104f96ab0 uc_driver + 4930224\n",
      "13  uc_driver                           0x0000000104f9b9c6 uc_driver + 4950470\n",
      "14  uc_driver                           0x0000000104f9c095 uc_driver + 4952213\n",
      "15  uc_driver                           0x0000000104f78e79 uc_driver + 4808313\n",
      "16  uc_driver                           0x0000000104f9c389 uc_driver + 4952969\n",
      "17  uc_driver                           0x0000000104f6a7d4 uc_driver + 4749268\n",
      "18  uc_driver                           0x0000000104fbb558 uc_driver + 5080408\n",
      "19  uc_driver                           0x0000000104fbb717 uc_driver + 5080855\n",
      "20  uc_driver                           0x0000000104fcae5e uc_driver + 5144158\n",
      "21  libsystem_pthread.dylib             0x00007ff800a7418b _pthread_start + 99\n",
      "22  libsystem_pthread.dylib             0x00007ff800a6fae3 thread_start + 15\n",
      "\n",
      "mode 1 undetectable=true gone\n"
     ]
    }
   ],
   "source": [
    "access_token = accesstoken('secrets.txt',data_type='test')"
   ]
  },
  {
   "cell_type": "code",
   "execution_count": 1,
   "metadata": {},
   "outputs": [],
   "source": [
    "access_token = 'eyJ0eXAiOiJKV1QiLCJhbGciOiJIUzI1NiJ9.eyJpc3MiOiJhcGkuZnllcnMuaW4iLCJpYXQiOjE3MjExMDQ0NDgsImV4cCI6MTcyMTE3NjIwOCwibmJmIjoxNzIxMTA0NDQ4LCJhdWQiOlsieDowIiwieDoxIiwieDoyIiwiZDoxIiwiZDoyIiwieDoxIiwieDowIl0sInN1YiI6ImFjY2Vzc190b2tlbiIsImF0X2hhc2giOiJnQUFBQUFCbWxmaEFqbHVVWnQ5ZUNMQTFEVkZYV0hDSWV6S3ppeGFzZU81dW9fN0djYm1SUVp3Q2xPWW1GWVNDQmthOGJ0X0M0MEFlT1p4WHBIY3ZVMGc4TGlNYkMzM25ZR1VpVmlUSmJHZDNkVGVlY2FienQ4WT0iLCJkaXNwbGF5X25hbWUiOiJNQUxMRVBBTExJIEdBSlVMQSBHVVJVIFNBSSBQUkFTQUQiLCJvbXMiOiJLMSIsImhzbV9rZXkiOiJjY2Q4NDkwZGNkYTc2OTU0Njk3YmE4Y2JkN2YxMGI5MWNjMTU1YmI2ODA5OGRkZjUxYjk0NTg5ZiIsImZ5X2lkIjoiWU0wODkyNyIsImFwcFR5cGUiOjEwMCwicG9hX2ZsYWciOiJOIn0.LEAVMhV-B_o_CblqbKe7ETYEdE--3szQlJed6x6QRjU'\n",
    "stonks = ['NSE:SBIN-EQ','BSE:SBIN-A','NSE:TATAMOTORS-EQ']\n",
    "wait_time = 20"
   ]
  },
  {
   "cell_type": "code",
   "execution_count": 3,
   "metadata": {},
   "outputs": [],
   "source": []
  },
  {
   "cell_type": "markdown",
   "metadata": {},
   "source": [
    "# start working here\n"
   ]
  },
  {
   "cell_type": "code",
   "execution_count": 1,
   "metadata": {},
   "outputs": [],
   "source": [
    "from data import connect,accesstoken\n",
    "access_token = 'eyJ0eXAiOiJKV1QiLCJhbGciOiJIUzI1NiJ9.eyJpc3MiOiJhcGkuZnllcnMuaW4iLCJpYXQiOjE3MjExMDQ0NDgsImV4cCI6MTcyMTE3NjIwOCwibmJmIjoxNzIxMTA0NDQ4LCJhdWQiOlsieDowIiwieDoxIiwieDoyIiwiZDoxIiwiZDoyIiwieDoxIiwieDowIl0sInN1YiI6ImFjY2Vzc190b2tlbiIsImF0X2hhc2giOiJnQUFBQUFCbWxmaEFqbHVVWnQ5ZUNMQTFEVkZYV0hDSWV6S3ppeGFzZU81dW9fN0djYm1SUVp3Q2xPWW1GWVNDQmthOGJ0X0M0MEFlT1p4WHBIY3ZVMGc4TGlNYkMzM25ZR1VpVmlUSmJHZDNkVGVlY2FienQ4WT0iLCJkaXNwbGF5X25hbWUiOiJNQUxMRVBBTExJIEdBSlVMQSBHVVJVIFNBSSBQUkFTQUQiLCJvbXMiOiJLMSIsImhzbV9rZXkiOiJjY2Q4NDkwZGNkYTc2OTU0Njk3YmE4Y2JkN2YxMGI5MWNjMTU1YmI2ODA5OGRkZjUxYjk0NTg5ZiIsImZ5X2lkIjoiWU0wODkyNyIsImFwcFR5cGUiOjEwMCwicG9hX2ZsYWciOiJOIn0.LEAVMhV-B_o_CblqbKe7ETYEdE--3szQlJed6x6QRjU'\n",
    "stonks = ['NSE:SBIN-EQ','BSE:SBIN-A','NSE:TATAMOTORS-EQ']\n",
    "wait_time = 20"
   ]
  },
  {
   "cell_type": "code",
   "execution_count": 2,
   "metadata": {},
   "outputs": [
    {
     "name": "stdout",
     "output_type": "stream",
     "text": [
      "processes initiated!\n",
      "\n",
      "\n",
      "\n",
      "\n",
      "\n",
      "\n",
      "\n",
      "Response: {'type': 'cn', 'code': 200, 'message': 'Authentication done', 's': 'ok'}\n",
      "Response: {'type': 'cn', 'code': 200, 'message': 'Authentication done', 's': 'ok'}\n",
      "connection opened\n",
      "connection opened\n",
      "Response: {'type': 'ful', 'code': 200, 'message': 'Full Mode On', 's': 'ok'}\n",
      "Response: {'type': 'ful', 'code': 200, 'message': 'Full Mode On', 's': 'ok'}\n",
      "Response: {'type': 'sub', 'code': 200, 'message': 'Subscribed', 's': 'ok'}\n",
      "Response: {'type': 'sub', 'code': 200, 'message': 'Subscribed', 's': 'ok'}\n",
      "Response: {'bid_price1': 879.55, 'bid_price2': 879.5, 'bid_price3': 879.4, 'bid_price4': 879.35, 'bid_price5': 879.3, 'ask_price1': 879.7, 'ask_price2': 879.75, 'ask_price3': 879.8, 'ask_price4': 879.85, 'ask_price5': 879.9, 'bid_size1': 76, 'bid_size2': 58, 'bid_size3': 1126, 'bid_size4': 1111, 'bid_size5': 3779, 'ask_size1': 574, 'ask_size2': 107, 'ask_size3': 297, 'ask_size4': 695, 'ask_size5': 1346, 'bid_order1': 1, 'bid_order2': 2, 'bid_order3': 8, 'bid_order4': 9, 'bid_order5': 21, 'ask_order1': 2, 'ask_order2': 2, 'ask_order3': 4, 'ask_order4': 9, 'ask_order5': 11, 'type': 'dp', 'symbol': 'NSE:SBIN-EQ'}\n",
      "Response: {'bid_price1': 879.2, 'bid_price2': 879.15, 'bid_price3': 879.1, 'bid_price4': 879.05, 'bid_price5': 879.0, 'ask_price1': 879.7, 'ask_price2': 879.75, 'ask_price3': 879.8, 'ask_price4': 879.85, 'ask_price5': 879.9, 'bid_size1': 86, 'bid_size2': 194, 'bid_size3': 712, 'bid_size4': 1003, 'bid_size5': 1117, 'ask_size1': 177, 'ask_size2': 328, 'ask_size3': 285, 'ask_size4': 273, 'ask_size5': 481, 'bid_order1': 6, 'bid_order2': 9, 'bid_order3': 6, 'bid_order4': 10, 'bid_order5': 15, 'ask_order1': 2, 'ask_order2': 5, 'ask_order3': 3, 'ask_order4': 4, 'ask_order5': 5, 'type': 'dp', 'symbol': 'BSE:SBIN-A'}\n",
      "Response: {'bid_price1': 1028.0, 'bid_price2': 1027.9, 'bid_price3': 1027.85, 'bid_price4': 1027.8, 'bid_price5': 1027.75, 'ask_price1': 1028.05, 'ask_price2': 1028.1, 'ask_price3': 1028.15, 'ask_price4': 1028.2, 'ask_price5': 1028.25, 'bid_size1': 340, 'bid_size2': 44, 'bid_size3': 40, 'bid_size4': 652, 'bid_size5': 904, 'ask_size1': 166, 'ask_size2': 50, 'ask_size3': 145, 'ask_size4': 50, 'ask_size5': 238, 'bid_order1': 7, 'bid_order2': 1, 'bid_order3': 1, 'bid_order4': 3, 'bid_order5': 6, 'ask_order1': 2, 'ask_order2': 1, 'ask_order3': 2, 'ask_order4': 1, 'ask_order5': 3, 'type': 'dp', 'symbol': 'NSE:TATAMOTORS-EQ'}\n",
      "Response: {'ltp': 879.55, 'vol_traded_today': 4686471, 'last_traded_time': 1721106717, 'exch_feed_time': 1721106718, 'bid_size': 76, 'ask_size': 574, 'bid_price': 879.55, 'ask_price': 879.7, 'last_traded_qty': 1, 'tot_buy_qty': 667557, 'tot_sell_qty': 1232122, 'avg_trade_price': 881.73, 'low_price': 877.0, 'high_price': 888.1, 'lower_ckt': 0, 'upper_ckt': 0, 'open_price': 882.3, 'prev_close_price': 881.35, 'type': 'sf', 'symbol': 'NSE:SBIN-EQ', 'ch': -1.8, 'chp': -0.2042}\n",
      "Response: {'ltp': 879.2, 'vol_traded_today': 209999, 'last_traded_time': 1721106717, 'exch_feed_time': 1721106719, 'bid_size': 86, 'ask_size': 177, 'bid_price': 879.2, 'ask_price': 879.7, 'last_traded_qty': 81, 'tot_buy_qty': 117154, 'tot_sell_qty': 225451, 'avg_trade_price': 881.72, 'low_price': 877.0, 'high_price': 888.0, 'lower_ckt': 0, 'upper_ckt': 0, 'open_price': 882.2, 'prev_close_price': 881.6, 'type': 'sf', 'symbol': 'BSE:SBIN-A', 'ch': -2.4, 'chp': -0.2722}\n",
      "Response: {'ltp': 1028.0, 'vol_traded_today': 2068773, 'last_traded_time': 1721106717, 'exch_feed_time': 1721106718, 'bid_size': 340, 'ask_size': 166, 'bid_price': 1028.0, 'ask_price': 1028.05, 'last_traded_qty': 28, 'tot_buy_qty': 424926, 'tot_sell_qty': 998967, 'avg_trade_price': 1023.84, 'low_price': 1019.2, 'high_price': 1029.6, 'lower_ckt': 0, 'upper_ckt': 0, 'open_price': 1025.5, 'prev_close_price': 1024.45, 'type': 'sf', 'symbol': 'NSE:TATAMOTORS-EQ', 'ch': 3.55, 'chp': 0.3465}\n",
      "Response: {'bid_price1': 879.6, 'bid_price2': 879.5, 'bid_price3': 879.45, 'bid_price4': 879.4, 'bid_price5': 879.35, 'ask_price1': 879.7, 'ask_price2': 879.75, 'ask_price3': 879.8, 'ask_price4': 879.85, 'ask_price5': 879.9, 'bid_size1': 77, 'bid_size2': 58, 'bid_size3': 21, 'bid_size4': 1406, 'bid_size5': 1165, 'ask_size1': 571, 'ask_size2': 47, 'ask_size3': 75, 'ask_size4': 653, 'ask_size5': 1303, 'bid_order1': 2, 'bid_order2': 2, 'bid_order3': 1, 'bid_order4': 10, 'bid_order5': 10, 'ask_order1': 4, 'ask_order2': 1, 'ask_order3': 3, 'ask_order4': 8, 'ask_order5': 10, 'type': 'dp', 'symbol': 'NSE:SBIN-EQ'}\n",
      "Response: {'ltp': 879.7, 'vol_traded_today': 4686533, 'last_traded_time': 1721106718, 'exch_feed_time': 1721106718, 'bid_size': 77, 'ask_size': 571, 'bid_price': 879.6, 'ask_price': 879.7, 'last_traded_qty': 1, 'tot_buy_qty': 667534, 'tot_sell_qty': 1232010, 'avg_trade_price': 881.73, 'low_price': 877.0, 'high_price': 888.1, 'lower_ckt': 0, 'upper_ckt': 0, 'open_price': 882.3, 'prev_close_price': 881.35, 'type': 'sf', 'symbol': 'NSE:SBIN-EQ', 'ch': -1.65, 'chp': -0.1872}\n",
      "Response: {'bid_price1': 1028.0, 'bid_price2': 1027.9, 'bid_price3': 1027.85, 'bid_price4': 1027.8, 'bid_price5': 1027.75, 'ask_price1': 1028.05, 'ask_price2': 1028.1, 'ask_price3': 1028.15, 'ask_price4': 1028.25, 'ask_price5': 1028.3, 'bid_size1': 341, 'bid_size2': 44, 'bid_size3': 40, 'bid_size4': 702, 'bid_size5': 938, 'ask_size1': 166, 'ask_size2': 50, 'ask_size3': 145, 'ask_size4': 191, 'ask_size5': 403, 'bid_order1': 7, 'bid_order2': 1, 'bid_order3': 1, 'bid_order4': 4, 'bid_order5': 5, 'ask_order1': 2, 'ask_order2': 1, 'ask_order3': 2, 'ask_order4': 3, 'ask_order5': 5, 'type': 'dp', 'symbol': 'NSE:TATAMOTORS-EQ'}\n",
      "Response: {'ltp': 1028.0, 'vol_traded_today': 2068781, 'last_traded_time': 1721106718, 'exch_feed_time': 1721106719, 'bid_size': 341, 'ask_size': 166, 'bid_price': 1028.0, 'ask_price': 1028.05, 'last_traded_qty': 8, 'tot_buy_qty': 424938, 'tot_sell_qty': 999405, 'avg_trade_price': 1023.84, 'low_price': 1019.2, 'high_price': 1029.6, 'lower_ckt': 0, 'upper_ckt': 0, 'open_price': 1025.5, 'prev_close_price': 1024.45, 'type': 'sf', 'symbol': 'NSE:TATAMOTORS-EQ', 'ch': 3.55, 'chp': 0.3465}\n",
      "Response: {'bid_price1': 879.25, 'bid_price2': 879.2, 'bid_price3': 879.15, 'bid_price4': 879.1, 'bid_price5': 879.05, 'ask_price1': 879.75, 'ask_price2': 879.8, 'ask_price3': 879.85, 'ask_price4': 879.9, 'ask_price5': 879.95, 'bid_size1': 398, 'bid_size2': 46, 'bid_size3': 891, 'bid_size4': 949, 'bid_size5': 805, 'ask_size1': 284, 'ask_size2': 178, 'ask_size3': 317, 'ask_size4': 481, 'ask_size5': 523, 'bid_order1': 14, 'bid_order2': 2, 'bid_order3': 7, 'bid_order4': 9, 'bid_order5': 5, 'ask_order1': 4, 'ask_order2': 3, 'ask_order3': 5, 'ask_order4': 5, 'ask_order5': 5, 'type': 'dp', 'symbol': 'BSE:SBIN-A'}\n",
      "Response: {'ltp': 879.7, 'vol_traded_today': 4686533, 'last_traded_time': 1721106718, 'exch_feed_time': 1721106719, 'bid_size': 77, 'ask_size': 571, 'bid_price': 879.6, 'ask_price': 879.7, 'last_traded_qty': 3, 'tot_buy_qty': 667534, 'tot_sell_qty': 1232010, 'avg_trade_price': 881.73, 'low_price': 877.0, 'high_price': 888.1, 'lower_ckt': 0, 'upper_ckt': 0, 'open_price': 882.3, 'prev_close_price': 881.35, 'type': 'sf', 'symbol': 'NSE:SBIN-EQ', 'ch': -1.65, 'chp': -0.1872}\n",
      "Response: {'ltp': 879.2, 'vol_traded_today': 209999, 'last_traded_time': 1721106717, 'exch_feed_time': 1721106719, 'bid_size': 398, 'ask_size': 284, 'bid_price': 879.25, 'ask_price': 879.75, 'last_traded_qty': 81, 'tot_buy_qty': 117264, 'tot_sell_qty': 225153, 'avg_trade_price': 881.72, 'low_price': 877.0, 'high_price': 888.0, 'lower_ckt': 0, 'upper_ckt': 0, 'open_price': 882.2, 'prev_close_price': 881.6, 'type': 'sf', 'symbol': 'BSE:SBIN-A', 'ch': -2.4, 'chp': -0.2722}\n",
      "Response: {'bid_price1': 879.65, 'bid_price2': 879.6, 'bid_price3': 879.5, 'bid_price4': 879.45, 'bid_price5': 879.4, 'ask_price1': 879.7, 'ask_price2': 879.75, 'ask_price3': 879.8, 'ask_price4': 879.85, 'ask_price5': 879.9, 'bid_size1': 170, 'bid_size2': 1, 'bid_size3': 327, 'bid_size4': 227, 'bid_size5': 1218, 'ask_size1': 518, 'ask_size2': 47, 'ask_size3': 49, 'ask_size4': 592, 'ask_size5': 584, 'bid_order1': 1, 'bid_order2': 1, 'bid_order3': 4, 'bid_order4': 1, 'bid_order5': 9, 'ask_order1': 4, 'ask_order2': 1, 'ask_order3': 2, 'ask_order4': 7, 'ask_order5': 5, 'type': 'dp', 'symbol': 'NSE:SBIN-EQ'}\n",
      "Response: {'bid_price1': 879.3, 'bid_price2': 879.25, 'bid_price3': 879.2, 'bid_price4': 879.15, 'bid_price5': 879.1, 'ask_price1': 879.75, 'ask_price2': 879.8, 'ask_price3': 879.85, 'ask_price4': 879.9, 'ask_price5': 879.95, 'bid_size1': 60, 'bid_size2': 358, 'bid_size3': 26, 'bid_size4': 891, 'bid_size5': 949, 'ask_size1': 284, 'ask_size2': 222, 'ask_size3': 273, 'ask_size4': 481, 'ask_size5': 523, 'bid_order1': 5, 'bid_order2': 10, 'bid_order3': 1, 'bid_order4': 7, 'bid_order5': 9, 'ask_order1': 4, 'ask_order2': 4, 'ask_order3': 4, 'ask_order4': 5, 'ask_order5': 5, 'type': 'dp', 'symbol': 'BSE:SBIN-A'}\n",
      "Response: {'ltp': 879.7, 'vol_traded_today': 4686586, 'last_traded_time': 1721106718, 'exch_feed_time': 1721106719, 'bid_size': 170, 'ask_size': 518, 'bid_price': 879.65, 'ask_price': 879.7, 'last_traded_qty': 3, 'tot_buy_qty': 668659, 'tot_sell_qty': 1233717, 'avg_trade_price': 881.73, 'low_price': 877.0, 'high_price': 888.1, 'lower_ckt': 0, 'upper_ckt': 0, 'open_price': 882.3, 'prev_close_price': 881.35, 'type': 'sf', 'symbol': 'NSE:SBIN-EQ', 'ch': -1.65, 'chp': -0.1872}\n",
      "Response: {'ltp': 879.2, 'vol_traded_today': 209999, 'last_traded_time': 1721106717, 'exch_feed_time': 1721106719, 'bid_size': 60, 'ask_size': 284, 'bid_price': 879.3, 'ask_price': 879.75, 'last_traded_qty': 81, 'tot_buy_qty': 117171, 'tot_sell_qty': 227053, 'avg_trade_price': 881.72, 'low_price': 877.0, 'high_price': 888.0, 'lower_ckt': 0, 'upper_ckt': 0, 'open_price': 882.2, 'prev_close_price': 881.6, 'type': 'sf', 'symbol': 'BSE:SBIN-A', 'ch': -2.4, 'chp': -0.2722}\n",
      "Response: {'ltp': 879.7, 'vol_traded_today': 4686586, 'last_traded_time': 1721106718, 'exch_feed_time': 1721106720, 'bid_size': 170, 'ask_size': 518, 'bid_price': 879.65, 'ask_price': 879.7, 'last_traded_qty': 1, 'tot_buy_qty': 668659, 'tot_sell_qty': 1233717, 'avg_trade_price': 881.73, 'low_price': 877.0, 'high_price': 888.1, 'lower_ckt': 0, 'upper_ckt': 0, 'open_price': 882.3, 'prev_close_price': 881.35, 'type': 'sf', 'symbol': 'NSE:SBIN-EQ', 'ch': -1.65, 'chp': -0.1872}\n",
      "Response: {'ltp': 1028.0, 'vol_traded_today': 2068781, 'last_traded_time': 1721106718, 'exch_feed_time': 1721106720, 'bid_size': 341, 'ask_size': 166, 'bid_price': 1028.0, 'ask_price': 1028.05, 'last_traded_qty': 10, 'tot_buy_qty': 424938, 'tot_sell_qty': 999405, 'avg_trade_price': 1023.84, 'low_price': 1019.2, 'high_price': 1029.6, 'lower_ckt': 0, 'upper_ckt': 0, 'open_price': 1025.5, 'prev_close_price': 1024.45, 'type': 'sf', 'symbol': 'NSE:TATAMOTORS-EQ', 'ch': 3.55, 'chp': 0.3465}\n",
      "Response: {'bid_price1': 1028.0, 'bid_price2': 1027.9, 'bid_price3': 1027.85, 'bid_price4': 1027.8, 'bid_price5': 1027.75, 'ask_price1': 1028.05, 'ask_price2': 1028.1, 'ask_price3': 1028.15, 'ask_price4': 1028.2, 'ask_price5': 1028.25, 'bid_size1': 331, 'bid_size2': 44, 'bid_size3': 40, 'bid_size4': 702, 'bid_size5': 945, 'ask_size1': 166, 'ask_size2': 50, 'ask_size3': 145, 'ask_size4': 10, 'ask_size5': 191, 'bid_order1': 7, 'bid_order2': 1, 'bid_order3': 1, 'bid_order4': 4, 'bid_order5': 6, 'ask_order1': 2, 'ask_order2': 1, 'ask_order3': 2, 'ask_order4': 1, 'ask_order5': 3, 'type': 'dp', 'symbol': 'NSE:TATAMOTORS-EQ'}\n",
      "Response: {'ltp': 1028.0, 'vol_traded_today': 2068791, 'last_traded_time': 1721106719, 'exch_feed_time': 1721106720, 'bid_size': 331, 'ask_size': 166, 'bid_price': 1028.0, 'ask_price': 1028.05, 'last_traded_qty': 10, 'tot_buy_qty': 424984, 'tot_sell_qty': 1000049, 'avg_trade_price': 1023.84, 'low_price': 1019.2, 'high_price': 1029.6, 'lower_ckt': 0, 'upper_ckt': 0, 'open_price': 1025.5, 'prev_close_price': 1024.45, 'type': 'sf', 'symbol': 'NSE:TATAMOTORS-EQ', 'ch': 3.55, 'chp': 0.3465}\n",
      "Response: {'bid_price1': 879.25, 'bid_price2': 879.2, 'bid_price3': 879.15, 'bid_price4': 879.1, 'bid_price5': 879.05, 'ask_price1': 879.75, 'ask_price2': 879.8, 'ask_price3': 879.85, 'ask_price4': 879.9, 'ask_price5': 879.95, 'bid_size1': 408, 'bid_size2': 26, 'bid_size3': 667, 'bid_size4': 878, 'bid_size5': 805, 'ask_size1': 328, 'ask_size2': 349, 'ask_size3': 273, 'ask_size4': 481, 'ask_size5': 514, 'bid_order1': 1, 'bid_order2': 1, 'bid_order3': 3, 'bid_order4': 8, 'bid_order5': 5, 'ask_order1': 5, 'ask_order2': 4, 'ask_order3': 4, 'ask_order4': 5, 'ask_order5': 4, 'type': 'dp', 'symbol': 'BSE:SBIN-A'}\n",
      "Response: {'ltp': 879.2, 'vol_traded_today': 209999, 'last_traded_time': 1721106717, 'exch_feed_time': 1721106722, 'bid_size': 408, 'ask_size': 328, 'bid_price': 879.25, 'ask_price': 879.75, 'last_traded_qty': 81, 'tot_buy_qty': 116813, 'tot_sell_qty': 225268, 'avg_trade_price': 881.72, 'low_price': 877.0, 'high_price': 888.0, 'lower_ckt': 0, 'upper_ckt': 0, 'open_price': 882.2, 'prev_close_price': 881.6, 'type': 'sf', 'symbol': 'BSE:SBIN-A', 'ch': -2.4, 'chp': -0.2722}\n",
      "Response: {'bid_price1': 1028.0, 'bid_price2': 1027.9, 'bid_price3': 1027.85, 'bid_price4': 1027.8, 'bid_price5': 1027.75, 'ask_price1': 1028.05, 'ask_price2': 1028.1, 'ask_price3': 1028.15, 'ask_price4': 1028.2, 'ask_price5': 1028.25, 'bid_size1': 331, 'bid_size2': 44, 'bid_size3': 40, 'bid_size4': 702, 'bid_size5': 945, 'ask_size1': 218, 'ask_size2': 50, 'ask_size3': 145, 'ask_size4': 10, 'ask_size5': 191, 'bid_order1': 7, 'bid_order2': 1, 'bid_order3': 1, 'bid_order4': 4, 'bid_order5': 6, 'ask_order1': 3, 'ask_order2': 1, 'ask_order3': 2, 'ask_order4': 1, 'ask_order5': 3, 'type': 'dp', 'symbol': 'NSE:TATAMOTORS-EQ'}\n",
      "Response: {'ltp': 1028.0, 'vol_traded_today': 2068791, 'last_traded_time': 1721106719, 'exch_feed_time': 1721106720, 'bid_size': 331, 'ask_size': 218, 'bid_price': 1028.0, 'ask_price': 1028.05, 'last_traded_qty': 10, 'tot_buy_qty': 424984, 'tot_sell_qty': 1000031, 'avg_trade_price': 1023.84, 'low_price': 1019.2, 'high_price': 1029.6, 'lower_ckt': 0, 'upper_ckt': 0, 'open_price': 1025.5, 'prev_close_price': 1024.45, 'type': 'sf', 'symbol': 'NSE:TATAMOTORS-EQ', 'ch': 3.55, 'chp': 0.3465}\n",
      "Response: {'bid_price1': 879.6, 'bid_price2': 879.5, 'bid_price3': 879.4, 'bid_price4': 879.35, 'bid_price5': 879.3, 'ask_price1': 879.7, 'ask_price2': 879.75, 'ask_price3': 879.8, 'ask_price4': 879.85, 'ask_price5': 879.9, 'bid_size1': 170, 'bid_size2': 286, 'bid_size3': 1218, 'bid_size4': 1072, 'bid_size5': 3764, 'ask_size1': 568, 'ask_size2': 97, 'ask_size3': 81, 'ask_size4': 704, 'ask_size5': 650, 'bid_order1': 1, 'bid_order2': 3, 'bid_order3': 9, 'bid_order4': 9, 'bid_order5': 21, 'ask_order1': 5, 'ask_order2': 2, 'ask_order3': 3, 'ask_order4': 11, 'ask_order5': 7, 'type': 'dp', 'symbol': 'NSE:SBIN-EQ'}\n",
      "Response: {'ltp': 879.6, 'vol_traded_today': 4686590, 'last_traded_time': 1721106720, 'exch_feed_time': 1721106720, 'bid_size': 170, 'ask_size': 568, 'bid_price': 879.6, 'ask_price': 879.7, 'last_traded_qty': 1, 'tot_buy_qty': 668676, 'tot_sell_qty': 1232941, 'avg_trade_price': 881.73, 'low_price': 877.0, 'high_price': 888.1, 'lower_ckt': 0, 'upper_ckt': 0, 'open_price': 882.3, 'prev_close_price': 881.35, 'type': 'sf', 'symbol': 'NSE:SBIN-EQ', 'ch': -1.75, 'chp': -0.1986}\n",
      "Response: {'bid_price1': 879.25, 'bid_price2': 879.2, 'bid_price3': 879.15, 'bid_price4': 879.1, 'bid_price5': 879.05, 'ask_price1': 879.75, 'ask_price2': 879.8, 'ask_price3': 879.85, 'ask_price4': 879.9, 'ask_price5': 879.95, 'bid_size1': 314, 'bid_size2': 53, 'bid_size3': 168, 'bid_size4': 1070, 'bid_size5': 834, 'ask_size1': 284, 'ask_size2': 393, 'ask_size3': 273, 'ask_size4': 481, 'ask_size5': 514, 'bid_order1': 10, 'bid_order2': 4, 'bid_order3': 2, 'bid_order4': 12, 'bid_order5': 6, 'ask_order1': 4, 'ask_order2': 5, 'ask_order3': 4, 'ask_order4': 5, 'ask_order5': 4, 'type': 'dp', 'symbol': 'BSE:SBIN-A'}\n",
      "Response: {'ltp': 879.2, 'vol_traded_today': 209999, 'last_traded_time': 1721106717, 'exch_feed_time': 1721106722, 'bid_size': 314, 'ask_size': 284, 'bid_price': 879.25, 'ask_price': 879.75, 'last_traded_qty': 81, 'tot_buy_qty': 116999, 'tot_sell_qty': 225035, 'avg_trade_price': 881.72, 'low_price': 877.0, 'high_price': 888.0, 'lower_ckt': 0, 'upper_ckt': 0, 'open_price': 882.2, 'prev_close_price': 881.6, 'type': 'sf', 'symbol': 'BSE:SBIN-A', 'ch': -2.4, 'chp': -0.2722}\n",
      "Response: {'ltp': 879.7, 'vol_traded_today': 4686590, 'last_traded_time': 1721106720, 'exch_feed_time': 1721106721, 'bid_size': 170, 'ask_size': 568, 'bid_price': 879.6, 'ask_price': 879.7, 'last_traded_qty': 20, 'tot_buy_qty': 668676, 'tot_sell_qty': 1232941, 'avg_trade_price': 881.73, 'low_price': 877.0, 'high_price': 888.1, 'lower_ckt': 0, 'upper_ckt': 0, 'open_price': 882.3, 'prev_close_price': 881.35, 'type': 'sf', 'symbol': 'NSE:SBIN-EQ', 'ch': -1.65, 'chp': -0.1872}\n",
      "Response: {'ltp': 1028.0, 'vol_traded_today': 2068791, 'last_traded_time': 1721106719, 'exch_feed_time': 1721106721, 'bid_size': 331, 'ask_size': 218, 'bid_price': 1028.0, 'ask_price': 1028.05, 'last_traded_qty': 3, 'tot_buy_qty': 424984, 'tot_sell_qty': 1000031, 'avg_trade_price': 1023.84, 'low_price': 1019.2, 'high_price': 1029.6, 'lower_ckt': 0, 'upper_ckt': 0, 'open_price': 1025.5, 'prev_close_price': 1024.45, 'type': 'sf', 'symbol': 'NSE:TATAMOTORS-EQ', 'ch': 3.55, 'chp': 0.3465}\n",
      "Response: {'bid_price1': 1028.0, 'bid_price2': 1027.9, 'bid_price3': 1027.85, 'bid_price4': 1027.8, 'bid_price5': 1027.75, 'ask_price1': 1028.05, 'ask_price2': 1028.1, 'ask_price3': 1028.15, 'ask_price4': 1028.2, 'ask_price5': 1028.25, 'bid_size1': 328, 'bid_size2': 44, 'bid_size3': 40, 'bid_size4': 702, 'bid_size5': 841, 'ask_size1': 217, 'ask_size2': 50, 'ask_size3': 145, 'ask_size4': 60, 'ask_size5': 238, 'bid_order1': 7, 'bid_order2': 1, 'bid_order3': 1, 'bid_order4': 4, 'bid_order5': 4, 'ask_order1': 3, 'ask_order2': 1, 'ask_order3': 2, 'ask_order4': 2, 'ask_order5': 3, 'type': 'dp', 'symbol': 'NSE:TATAMOTORS-EQ'}\n",
      "Response: {'ltp': 1028.05, 'vol_traded_today': 2068795, 'last_traded_time': 1721106721, 'exch_feed_time': 1721106721, 'bid_size': 328, 'ask_size': 217, 'bid_price': 1028.0, 'ask_price': 1028.05, 'last_traded_qty': 1, 'tot_buy_qty': 425803, 'tot_sell_qty': 999490, 'avg_trade_price': 1023.84, 'low_price': 1019.2, 'high_price': 1029.6, 'lower_ckt': 0, 'upper_ckt': 0, 'open_price': 1025.5, 'prev_close_price': 1024.45, 'type': 'sf', 'symbol': 'NSE:TATAMOTORS-EQ', 'ch': 3.6, 'chp': 0.3514}\n",
      "Response: {'bid_price1': 879.3, 'bid_price2': 879.25, 'bid_price3': 879.2, 'bid_price4': 879.15, 'bid_price5': 879.1, 'ask_price1': 879.75, 'ask_price2': 879.8, 'ask_price3': 879.85, 'ask_price4': 879.9, 'ask_price5': 879.95, 'bid_size1': 239, 'bid_size2': 829, 'bid_size3': 697, 'bid_size4': 918, 'bid_size5': 764, 'ask_size1': 284, 'ask_size2': 178, 'ask_size3': 273, 'ask_size4': 310, 'ask_size5': 558, 'bid_order1': 10, 'bid_order2': 7, 'bid_order3': 3, 'bid_order4': 7, 'bid_order5': 8, 'ask_order1': 4, 'ask_order2': 3, 'ask_order3': 4, 'ask_order4': 4, 'ask_order5': 5, 'type': 'dp', 'symbol': 'BSE:SBIN-A'}\n",
      "Response: {'ltp': 879.2, 'vol_traded_today': 209999, 'last_traded_time': 1721106717, 'exch_feed_time': 1721106723, 'bid_size': 239, 'ask_size': 284, 'bid_price': 879.3, 'ask_price': 879.75, 'last_traded_qty': 81, 'tot_buy_qty': 116874, 'tot_sell_qty': 227728, 'avg_trade_price': 881.72, 'low_price': 877.0, 'high_price': 888.0, 'lower_ckt': 0, 'upper_ckt': 0, 'open_price': 882.2, 'prev_close_price': 881.6, 'type': 'sf', 'symbol': 'BSE:SBIN-A', 'ch': -2.4, 'chp': -0.2722}\n",
      "Response: {'bid_price1': 879.65, 'bid_price2': 879.6, 'bid_price3': 879.55, 'bid_price4': 879.5, 'bid_price5': 879.45, 'ask_price1': 879.7, 'ask_price2': 879.75, 'ask_price3': 879.8, 'ask_price4': 879.85, 'ask_price5': 879.9, 'bid_size1': 1182, 'bid_size2': 411, 'bid_size3': 53, 'bid_size4': 740, 'bid_size5': 329, 'ask_size1': 519, 'ask_size2': 97, 'ask_size3': 169, 'ask_size4': 323, 'ask_size5': 436, 'bid_order1': 2, 'bid_order2': 2, 'bid_order3': 1, 'bid_order4': 6, 'bid_order5': 3, 'ask_order1': 5, 'ask_order2': 2, 'ask_order3': 3, 'ask_order4': 6, 'ask_order5': 4, 'type': 'dp', 'symbol': 'NSE:SBIN-EQ'}\n",
      "Response: {'ltp': 879.7, 'vol_traded_today': 4686639, 'last_traded_time': 1721106720, 'exch_feed_time': 1721106722, 'bid_size': 1182, 'ask_size': 519, 'bid_price': 879.65, 'ask_price': 879.7, 'last_traded_qty': 20, 'tot_buy_qty': 671767, 'tot_sell_qty': 1231495, 'avg_trade_price': 881.73, 'low_price': 877.0, 'high_price': 888.1, 'lower_ckt': 0, 'upper_ckt': 0, 'open_price': 882.3, 'prev_close_price': 881.35, 'type': 'sf', 'symbol': 'NSE:SBIN-EQ', 'ch': -1.65, 'chp': -0.1872}\n",
      "Response: {'ltp': 879.2, 'vol_traded_today': 209999, 'last_traded_time': 1721106717, 'exch_feed_time': 1721106723, 'bid_size': 239, 'ask_size': 284, 'bid_price': 879.3, 'ask_price': 879.75, 'last_traded_qty': 81, 'tot_buy_qty': 118071, 'tot_sell_qty': 227728, 'avg_trade_price': 881.72, 'low_price': 877.0, 'high_price': 888.0, 'lower_ckt': 0, 'upper_ckt': 0, 'open_price': 882.2, 'prev_close_price': 881.6, 'type': 'sf', 'symbol': 'BSE:SBIN-A', 'ch': -2.4, 'chp': -0.2722}\n",
      "Response: {'ltp': 1028.0, 'vol_traded_today': 2068795, 'last_traded_time': 1721106721, 'exch_feed_time': 1721106722, 'bid_size': 328, 'ask_size': 217, 'bid_price': 1028.0, 'ask_price': 1028.05, 'last_traded_qty': 13, 'tot_buy_qty': 425803, 'tot_sell_qty': 999490, 'avg_trade_price': 1023.84, 'low_price': 1019.2, 'high_price': 1029.6, 'lower_ckt': 0, 'upper_ckt': 0, 'open_price': 1025.5, 'prev_close_price': 1024.45, 'type': 'sf', 'symbol': 'NSE:TATAMOTORS-EQ', 'ch': 3.55, 'chp': 0.3465}\n",
      "Response: {'ltp': 879.65, 'vol_traded_today': 4686639, 'last_traded_time': 1721106720, 'exch_feed_time': 1721106722, 'bid_size': 1182, 'ask_size': 519, 'bid_price': 879.65, 'ask_price': 879.7, 'last_traded_qty': 1, 'tot_buy_qty': 671767, 'tot_sell_qty': 1231495, 'avg_trade_price': 881.73, 'low_price': 877.0, 'high_price': 888.1, 'lower_ckt': 0, 'upper_ckt': 0, 'open_price': 882.3, 'prev_close_price': 881.35, 'type': 'sf', 'symbol': 'NSE:SBIN-EQ', 'ch': -1.7, 'chp': -0.1929}\n",
      "Response: {'bid_price1': 1028.0, 'bid_price2': 1027.9, 'bid_price3': 1027.85, 'bid_price4': 1027.8, 'bid_price5': 1027.75, 'ask_price1': 1028.05, 'ask_price2': 1028.1, 'ask_price3': 1028.15, 'ask_price4': 1028.2, 'ask_price5': 1028.25, 'bid_size1': 312, 'bid_size2': 44, 'bid_size3': 40, 'bid_size4': 702, 'bid_size5': 665, 'ask_size1': 217, 'ask_size2': 50, 'ask_size3': 145, 'ask_size4': 60, 'ask_size5': 141, 'bid_order1': 6, 'bid_order2': 1, 'bid_order3': 1, 'bid_order4': 4, 'bid_order5': 3, 'ask_order1': 3, 'ask_order2': 1, 'ask_order3': 2, 'ask_order4': 2, 'ask_order5': 2, 'type': 'dp', 'symbol': 'NSE:TATAMOTORS-EQ'}\n",
      "Response: {'ltp': 1028.0, 'vol_traded_today': 2068811, 'last_traded_time': 1721106722, 'exch_feed_time': 1721106722, 'bid_size': 312, 'ask_size': 217, 'bid_price': 1028.0, 'ask_price': 1028.05, 'last_traded_qty': 2, 'tot_buy_qty': 425216, 'tot_sell_qty': 998496, 'avg_trade_price': 1023.84, 'low_price': 1019.2, 'high_price': 1029.6, 'lower_ckt': 0, 'upper_ckt': 0, 'open_price': 1025.5, 'prev_close_price': 1024.45, 'type': 'sf', 'symbol': 'NSE:TATAMOTORS-EQ', 'ch': 3.55, 'chp': 0.3465}\n",
      "Response: {'bid_price1': 879.3, 'bid_price2': 879.25, 'bid_price3': 879.2, 'bid_price4': 879.15, 'bid_price5': 879.1, 'ask_price1': 879.8, 'ask_price2': 879.85, 'ask_price3': 879.9, 'ask_price4': 879.95, 'ask_price5': 880.0, 'bid_size1': 239, 'bid_size2': 254, 'bid_size3': 787, 'bid_size4': 891, 'bid_size5': 731, 'ask_size1': 177, 'ask_size2': 202, 'ask_size3': 525, 'ask_size4': 346, 'ask_size5': 422, 'bid_order1': 10, 'bid_order2': 5, 'bid_order3': 4, 'bid_order4': 7, 'bid_order5': 7, 'ask_order1': 2, 'ask_order2': 3, 'ask_order3': 6, 'ask_order4': 4, 'ask_order5': 9, 'type': 'dp', 'symbol': 'BSE:SBIN-A'}\n",
      "Response: {'ltp': 879.2, 'vol_traded_today': 209999, 'last_traded_time': 1721106717, 'exch_feed_time': 1721106723, 'bid_size': 239, 'ask_size': 177, 'bid_price': 879.3, 'ask_price': 879.8, 'last_traded_qty': 81, 'tot_buy_qty': 113005, 'tot_sell_qty': 223777, 'avg_trade_price': 881.72, 'low_price': 877.0, 'high_price': 888.0, 'lower_ckt': 0, 'upper_ckt': 0, 'open_price': 882.2, 'prev_close_price': 881.6, 'type': 'sf', 'symbol': 'BSE:SBIN-A', 'ch': -2.4, 'chp': -0.2722}\n",
      "Response: {'ltp': 879.75, 'vol_traded_today': 4686639, 'last_traded_time': 1721106720, 'exch_feed_time': 1721106723, 'bid_size': 1182, 'ask_size': 519, 'bid_price': 879.65, 'ask_price': 879.7, 'last_traded_qty': 22, 'tot_buy_qty': 671767, 'tot_sell_qty': 1231495, 'avg_trade_price': 881.73, 'low_price': 877.0, 'high_price': 888.1, 'lower_ckt': 0, 'upper_ckt': 0, 'open_price': 882.3, 'prev_close_price': 881.35, 'type': 'sf', 'symbol': 'NSE:SBIN-EQ', 'ch': -1.6, 'chp': -0.1815}\n",
      "Response: {'ltp': 1028.05, 'vol_traded_today': 2068811, 'last_traded_time': 1721106722, 'exch_feed_time': 1721106723, 'bid_size': 312, 'ask_size': 217, 'bid_price': 1028.0, 'ask_price': 1028.05, 'last_traded_qty': 10, 'tot_buy_qty': 425216, 'tot_sell_qty': 998496, 'avg_trade_price': 1023.84, 'low_price': 1019.2, 'high_price': 1029.6, 'lower_ckt': 0, 'upper_ckt': 0, 'open_price': 1025.5, 'prev_close_price': 1024.45, 'type': 'sf', 'symbol': 'NSE:TATAMOTORS-EQ', 'ch': 3.6, 'chp': 0.3514}\n",
      "Response: {'bid_price1': 879.65, 'bid_price2': 879.6, 'bid_price3': 879.55, 'bid_price4': 879.5, 'bid_price5': 879.4, 'ask_price1': 879.75, 'ask_price2': 879.8, 'ask_price3': 879.85, 'ask_price4': 879.95, 'ask_price5': 880.0, 'bid_size1': 131, 'bid_size2': 228, 'bid_size3': 440, 'bid_size4': 958, 'bid_size5': 2098, 'ask_size1': 47, 'ask_size2': 169, 'ask_size3': 163, 'ask_size4': 241, 'ask_size5': 2358, 'bid_order1': 1, 'bid_order2': 1, 'bid_order3': 4, 'bid_order4': 7, 'bid_order5': 14, 'ask_order1': 1, 'ask_order2': 3, 'ask_order3': 6, 'ask_order4': 4, 'ask_order5': 18, 'type': 'dp', 'symbol': 'NSE:SBIN-EQ'}\n",
      "Response: {'ltp': 879.75, 'vol_traded_today': 4687950, 'last_traded_time': 1721106723, 'exch_feed_time': 1721106723, 'bid_size': 131, 'ask_size': 47, 'bid_price': 879.65, 'ask_price': 879.75, 'last_traded_qty': 22, 'tot_buy_qty': 671584, 'tot_sell_qty': 1223847, 'avg_trade_price': 881.73, 'low_price': 877.0, 'high_price': 888.1, 'lower_ckt': 0, 'upper_ckt': 0, 'open_price': 882.3, 'prev_close_price': 881.35, 'type': 'sf', 'symbol': 'NSE:SBIN-EQ', 'ch': -1.6, 'chp': -0.1815}\n",
      "Response: {'bid_price1': 879.35, 'bid_price2': 879.3, 'bid_price3': 879.25, 'bid_price4': 879.2, 'bid_price5': 879.15, 'ask_price1': 879.8, 'ask_price2': 879.85, 'ask_price3': 879.9, 'ask_price4': 879.95, 'ask_price5': 880.0, 'bid_size1': 92, 'bid_size2': 209, 'bid_size3': 925, 'bid_size4': 697, 'bid_size5': 918, 'ask_size1': 177, 'ask_size2': 202, 'ask_size3': 310, 'ask_size4': 346, 'ask_size5': 422, 'bid_order1': 3, 'bid_order2': 8, 'bid_order3': 8, 'bid_order4': 3, 'bid_order5': 7, 'ask_order1': 2, 'ask_order2': 3, 'ask_order3': 4, 'ask_order4': 4, 'ask_order5': 9, 'type': 'dp', 'symbol': 'BSE:SBIN-A'}\n",
      "Response: {'ltp': 879.2, 'vol_traded_today': 209999, 'last_traded_time': 1721106717, 'exch_feed_time': 1721106723, 'bid_size': 92, 'ask_size': 177, 'bid_price': 879.35, 'ask_price': 879.8, 'last_traded_qty': 81, 'tot_buy_qty': 118130, 'tot_sell_qty': 226557, 'avg_trade_price': 881.72, 'low_price': 877.0, 'high_price': 888.0, 'lower_ckt': 0, 'upper_ckt': 0, 'open_price': 882.2, 'prev_close_price': 881.6, 'type': 'sf', 'symbol': 'BSE:SBIN-A', 'ch': -2.4, 'chp': -0.2722}\n",
      "Response: {'bid_price1': 879.65, 'bid_price2': 879.6, 'bid_price3': 879.55, 'bid_price4': 879.5, 'bid_price5': 879.4, 'ask_price1': 879.75, 'ask_price2': 879.8, 'ask_price3': 879.85, 'ask_price4': 879.95, 'ask_price5': 880.0, 'bid_size1': 131, 'bid_size2': 228, 'bid_size3': 440, 'bid_size4': 958, 'bid_size5': 2098, 'ask_size1': 47, 'ask_size2': 169, 'ask_size3': 163, 'ask_size4': 468, 'ask_size5': 2366, 'bid_order1': 1, 'bid_order2': 1, 'bid_order3': 4, 'bid_order4': 7, 'bid_order5': 14, 'ask_order1': 1, 'ask_order2': 3, 'ask_order3': 6, 'ask_order4': 5, 'ask_order5': 19, 'type': 'dp', 'symbol': 'NSE:SBIN-EQ'}\n",
      "Response: {'ltp': 879.75, 'vol_traded_today': 4687950, 'last_traded_time': 1721106723, 'exch_feed_time': 1721106723, 'bid_size': 131, 'ask_size': 47, 'bid_price': 879.65, 'ask_price': 879.75, 'last_traded_qty': 22, 'tot_buy_qty': 671584, 'tot_sell_qty': 1225355, 'avg_trade_price': 881.73, 'low_price': 877.0, 'high_price': 888.1, 'lower_ckt': 0, 'upper_ckt': 0, 'open_price': 882.3, 'prev_close_price': 881.35, 'type': 'sf', 'symbol': 'NSE:SBIN-EQ', 'ch': -1.6, 'chp': -0.1815}\n",
      "Response: {'bid_price1': 1028.0, 'bid_price2': 1027.9, 'bid_price3': 1027.85, 'bid_price4': 1027.8, 'bid_price5': 1027.75, 'ask_price1': 1028.05, 'ask_price2': 1028.1, 'ask_price3': 1028.15, 'ask_price4': 1028.2, 'ask_price5': 1028.25, 'bid_size1': 313, 'bid_size2': 44, 'bid_size3': 40, 'bid_size4': 802, 'bid_size5': 565, 'ask_size1': 107, 'ask_size2': 50, 'ask_size3': 145, 'ask_size4': 10, 'ask_size5': 288, 'bid_order1': 7, 'bid_order2': 1, 'bid_order3': 1, 'bid_order4': 5, 'bid_order5': 2, 'ask_order1': 3, 'ask_order2': 1, 'ask_order3': 2, 'ask_order4': 1, 'ask_order5': 4, 'type': 'dp', 'symbol': 'NSE:TATAMOTORS-EQ'}\n",
      "Response: {'ltp': 1028.05, 'vol_traded_today': 2068921, 'last_traded_time': 1721106723, 'exch_feed_time': 1721106723, 'bid_size': 313, 'ask_size': 107, 'bid_price': 1028.0, 'ask_price': 1028.05, 'last_traded_qty': 100, 'tot_buy_qty': 424590, 'tot_sell_qty': 999677, 'avg_trade_price': 1023.84, 'low_price': 1019.2, 'high_price': 1029.6, 'lower_ckt': 0, 'upper_ckt': 0, 'open_price': 1025.5, 'prev_close_price': 1024.45, 'type': 'sf', 'symbol': 'NSE:TATAMOTORS-EQ', 'ch': 3.6, 'chp': 0.3514}\n",
      "Response: {'bid_price1': 879.3, 'bid_price2': 879.25, 'bid_price3': 879.2, 'bid_price4': 879.15, 'bid_price5': 879.1, 'ask_price1': 879.8, 'ask_price2': 879.85, 'ask_price3': 879.9, 'ask_price4': 879.95, 'ask_price5': 880.0, 'bid_size1': 109, 'bid_size2': 880, 'bid_size3': 770, 'bid_size4': 918, 'bid_size5': 704, 'ask_size1': 177, 'ask_size2': 246, 'ask_size3': 481, 'ask_size4': 346, 'ask_size5': 412, 'bid_order1': 1, 'bid_order2': 5, 'bid_order3': 4, 'bid_order4': 7, 'bid_order5': 7, 'ask_order1': 2, 'ask_order2': 4, 'ask_order3': 5, 'ask_order4': 4, 'ask_order5': 8, 'type': 'dp', 'symbol': 'BSE:SBIN-A'}\n",
      "Response: {'ltp': 879.75, 'vol_traded_today': 4687950, 'last_traded_time': 1721106723, 'exch_feed_time': 1721106724, 'bid_size': 131, 'ask_size': 47, 'bid_price': 879.65, 'ask_price': 879.75, 'last_traded_qty': 1, 'tot_buy_qty': 671584, 'tot_sell_qty': 1225355, 'avg_trade_price': 881.73, 'low_price': 877.0, 'high_price': 888.1, 'lower_ckt': 0, 'upper_ckt': 0, 'open_price': 882.3, 'prev_close_price': 881.35, 'type': 'sf', 'symbol': 'NSE:SBIN-EQ', 'ch': -1.6, 'chp': -0.1815}\n",
      "Response: {'ltp': 879.35, 'vol_traded_today': 210009, 'last_traded_time': 1721106723, 'exch_feed_time': 1721106723, 'bid_size': 109, 'ask_size': 177, 'bid_price': 879.3, 'ask_price': 879.8, 'last_traded_qty': 10, 'tot_buy_qty': 118022, 'tot_sell_qty': 224964, 'avg_trade_price': 881.72, 'low_price': 877.0, 'high_price': 888.0, 'lower_ckt': 0, 'upper_ckt': 0, 'open_price': 882.2, 'prev_close_price': 881.6, 'type': 'sf', 'symbol': 'BSE:SBIN-A', 'ch': -2.25, 'chp': -0.2552}\n",
      "Response: {'ltp': 1028.0, 'vol_traded_today': 2068921, 'last_traded_time': 1721106723, 'exch_feed_time': 1721106724, 'bid_size': 313, 'ask_size': 107, 'bid_price': 1028.0, 'ask_price': 1028.05, 'last_traded_qty': 10, 'tot_buy_qty': 424590, 'tot_sell_qty': 999677, 'avg_trade_price': 1023.84, 'low_price': 1019.2, 'high_price': 1029.6, 'lower_ckt': 0, 'upper_ckt': 0, 'open_price': 1025.5, 'prev_close_price': 1024.45, 'type': 'sf', 'symbol': 'NSE:TATAMOTORS-EQ', 'ch': 3.55, 'chp': 0.3465}\n",
      "Response: Response: {'bid_price1': 879.65, 'bid_price2': 879.6, 'bid_price3': 879.55, 'bid_price4': 879.5, 'bid_price5': 879.45, 'ask_price1': 879.75, 'ask_price2': 879.8, 'ask_price3': 879.85, 'ask_price4': 879.9, 'ask_price5': 879.95, 'bid_size1': 118, 'bid_size2': 228, 'bid_size3': 295, 'bid_size4': 545, 'bid_size5': 347, 'ask_size1': 45, 'ask_size2': 169, 'ask_size3': 163, 'ask_size4': 447, 'ask_size5': 560, 'bid_order1': 1, 'bid_order2': 1, 'bid_order3': 2, 'bid_order4': 5, 'bid_order5': 4, 'ask_order1': 1, 'ask_order2': 3, 'ask_order3': 6, 'ask_order4': 3, 'ask_order5': 6, 'type': 'dp', 'symbol': 'NSE:SBIN-EQ'}\n",
      "{'ltp': 879.65, 'vol_traded_today': 4687966, 'last_traded_time': 1721106724, 'exch_feed_time': 1721106724, 'bid_size': 118, 'ask_size': 45, 'bid_price': 879.65, 'ask_price': 879.75, 'last_traded_qty': 2, 'tot_buy_qty': 669790, 'tot_sell_qty': 1233247, 'avg_trade_price': 881.73, 'low_price': 877.0, 'high_price': 888.1, 'lower_ckt': 0, 'upper_ckt': 0, 'open_price': 882.3, 'prev_close_price': 881.35, 'type': 'sf', 'symbol': 'NSE:SBIN-EQ', 'ch': -1.7, 'chp': -0.1929}\n",
      "Response:Response:  {'ltp': 879.35, 'vol_traded_today': 210009, 'last_traded_time': 1721106723, 'exch_feed_time': 1721106723, 'bid_size': 169, 'ask_size': 177, 'bid_price': 879.3, 'ask_price': 879.8, 'last_traded_qty': 10, 'tot_buy_qty': 118000, 'tot_sell_qty': 224885, 'avg_trade_price': 881.72, 'low_price': 877.0, 'high_price': 888.0, 'lower_ckt': 0, 'upper_ckt': 0, 'open_price': 882.2, 'prev_close_price': 881.6, 'type': 'sf', 'symbol': 'BSE:SBIN-A', 'ch': -2.25, 'chp': -0.2552}\n",
      "{'bid_price1': 879.3, 'bid_price2': 879.25, 'bid_price3': 879.2, 'bid_price4': 879.15, 'bid_price5': 879.1, 'ask_price1': 879.8, 'ask_price2': 879.85, 'ask_price3': 879.9, 'ask_price4': 879.95, 'ask_price5': 880.0, 'bid_size1': 169, 'bid_size2': 955, 'bid_size3': 697, 'bid_size4': 918, 'bid_size5': 704, 'ask_size1': 177, 'ask_size2': 202, 'ask_size3': 481, 'ask_size4': 346, 'ask_size5': 412, 'bid_order1': 6, 'bid_order2': 10, 'bid_order3': 3, 'bid_order4': 7, 'bid_order5': 7, 'ask_order1': 2, 'ask_order2': 3, 'ask_order3': 5, 'ask_order4': 4, 'ask_order5': 8, 'type': 'dp', 'symbol': 'BSE:SBIN-A'}\n",
      "Response: {'bid_price1': 1028.0, 'bid_price2': 1027.9, 'bid_price3': 1027.85, 'bid_price4': 1027.8, 'bid_price5': 1027.75, 'ask_price1': 1028.05, 'ask_price2': 1028.1, 'ask_price3': 1028.15, 'ask_price4': 1028.2, 'ask_price5': 1028.25, 'bid_size1': 212, 'bid_size2': 44, 'bid_size3': 40, 'bid_size4': 698, 'bid_size5': 565, 'ask_size1': 52, 'ask_size2': 50, 'ask_size3': 145, 'ask_size4': 10, 'ask_size5': 346, 'bid_order1': 7, 'bid_order2': 1, 'bid_order3': 1, 'bid_order4': 4, 'bid_order5': 2, 'ask_order1': 1, 'ask_order2': 1, 'ask_order3': 2, 'ask_order4': 1, 'ask_order5': 5, 'type': 'dp', 'symbol': 'NSE:TATAMOTORS-EQ'}\n",
      "Response: {'ltp': 879.65, 'vol_traded_today': 4687966, 'last_traded_time': 1721106724, 'exch_feed_time': 1721106725, 'bid_size': 118, 'ask_size': 45, 'bid_price': 879.65, 'ask_price': 879.75, 'last_traded_qty': 5, 'tot_buy_qty': 669790, 'tot_sell_qty': 1233247, 'avg_trade_price': 881.73, 'low_price': 877.0, 'high_price': 888.1, 'lower_ckt': 0, 'upper_ckt': 0, 'open_price': 882.3, 'prev_close_price': 881.35, 'type': 'sf', 'symbol': 'NSE:SBIN-EQ', 'ch': -1.7, 'chp': -0.1929}\n",
      "Response: {'ltp': 1028.0, 'vol_traded_today': 2069079, 'last_traded_time': 1721106725, 'exch_feed_time': 1721106725, 'bid_size': 212, 'ask_size': 52, 'bid_price': 1028.0, 'ask_price': 1028.05, 'last_traded_qty': 68, 'tot_buy_qty': 424390, 'tot_sell_qty': 999191, 'avg_trade_price': 1023.84, 'low_price': 1019.2, 'high_price': 1029.6, 'lower_ckt': 0, 'upper_ckt': 0, 'open_price': 1025.5, 'prev_close_price': 1024.45, 'type': 'sf', 'symbol': 'NSE:TATAMOTORS-EQ', 'ch': 3.55, 'chp': 0.3465}\n",
      "Response: {'bid_price1': 879.3, 'bid_price2': 879.25, 'bid_price3': 879.2, 'bid_price4': 879.15, 'bid_price5': 879.1, 'ask_price1': 879.8, 'ask_price2': 879.85, 'ask_price3': 879.9, 'ask_price4': 879.95, 'ask_price5': 880.0, 'bid_size1': 109, 'bid_size2': 381, 'bid_size3': 589, 'bid_size4': 865, 'bid_size5': 899, 'ask_size1': 209, 'ask_size2': 351, 'ask_size3': 481, 'ask_size4': 346, 'ask_size5': 412, 'bid_order1': 1, 'bid_order2': 4, 'bid_order3': 2, 'bid_order4': 5, 'bid_order5': 10, 'ask_order1': 3, 'ask_order2': 5, 'ask_order3': 5, 'ask_order4': 4, 'ask_order5': 8, 'type': 'dp', 'symbol': 'BSE:SBIN-A'}\n",
      "Response: {'ltp': 879.8, 'vol_traded_today': 210021, 'last_traded_time': 1721106724, 'exch_feed_time': 1721106727, 'bid_size': 109, 'ask_size': 209, 'bid_price': 879.3, 'ask_price': 879.8, 'last_traded_qty': 12, 'tot_buy_qty': 118309, 'tot_sell_qty': 226819, 'avg_trade_price': 881.72, 'low_price': 877.0, 'high_price': 888.0, 'lower_ckt': 0, 'upper_ckt': 0, 'open_price': 882.2, 'prev_close_price': 881.6, 'type': 'sf', 'symbol': 'BSE:SBIN-A', 'ch': -1.8, 'chp': -0.2042}\n",
      "Response: {'bid_price1': 879.6, 'bid_price2': 879.55, 'bid_price3': 879.5, 'bid_price4': 879.45, 'bid_price5': 879.4, 'ask_price1': 879.75, 'ask_price2': 879.8, 'ask_price3': 879.85, 'ask_price4': 879.9, 'ask_price5': 879.95, 'bid_size1': 244, 'bid_size2': 295, 'bid_size3': 605, 'bid_size4': 348, 'bid_size5': 2044, 'ask_size1': 41, 'ask_size2': 169, 'ask_size3': 477, 'ask_size4': 420, 'ask_size5': 626, 'bid_order1': 2, 'bid_order2': 2, 'bid_order3': 6, 'bid_order4': 4, 'bid_order5': 13, 'ask_order1': 1, 'ask_order2': 3, 'ask_order3': 8, 'ask_order4': 5, 'ask_order5': 8, 'type': 'dp', 'symbol': 'NSE:SBIN-EQ'}\n",
      "Response: {'ltp': 879.75, 'vol_traded_today': 4688104, 'last_traded_time': 1721106725, 'exch_feed_time': 1721106725, 'bid_size': 244, 'ask_size': 41, 'bid_price': 879.6, 'ask_price': 879.75, 'last_traded_qty': 1, 'tot_buy_qty': 670881, 'tot_sell_qty': 1233389, 'avg_trade_price': 881.73, 'low_price': 877.0, 'high_price': 888.1, 'lower_ckt': 0, 'upper_ckt': 0, 'open_price': 882.3, 'prev_close_price': 881.35, 'type': 'sf', 'symbol': 'NSE:SBIN-EQ', 'ch': -1.6, 'chp': -0.1815}\n",
      "Response: {'ltp': 879.8, 'vol_traded_today': 4688104, 'last_traded_time': 1721106725, 'exch_feed_time': 1721106726, 'bid_size': 244, 'ask_size': 41, 'bid_price': 879.6, 'ask_price': 879.75, 'last_traded_qty': 51, 'tot_buy_qty': 670881, 'tot_sell_qty': 1233389, 'avg_trade_price': 881.73, 'low_price': 877.0, 'high_price': 888.1, 'lower_ckt': 0, 'upper_ckt': 0, 'open_price': 882.3, 'prev_close_price': 881.35, 'type': 'sf', 'symbol': 'NSE:SBIN-EQ', 'ch': -1.55, 'chp': -0.1759}\n",
      "Response: {'ltp': 1028.05, 'vol_traded_today': 2069079, 'last_traded_time': 1721106725, 'exch_feed_time': 1721106726, 'bid_size': 212, 'ask_size': 52, 'bid_price': 1028.0, 'ask_price': 1028.05, 'last_traded_qty': 5, 'tot_buy_qty': 424390, 'tot_sell_qty': 999191, 'avg_trade_price': 1023.84, 'low_price': 1019.2, 'high_price': 1029.6, 'lower_ckt': 0, 'upper_ckt': 0, 'open_price': 1025.5, 'prev_close_price': 1024.45, 'type': 'sf', 'symbol': 'NSE:TATAMOTORS-EQ', 'ch': 3.6, 'chp': 0.3514}\n",
      "Response: {'bid_price1': 1028.0, 'bid_price2': 1027.9, 'bid_price3': 1027.85, 'bid_price4': 1027.8, 'bid_price5': 1027.75, 'ask_price1': 1028.05, 'ask_price2': 1028.1, 'ask_price3': 1028.15, 'ask_price4': 1028.2, 'ask_price5': 1028.25, 'bid_size1': 212, 'bid_size2': 44, 'bid_size3': 40, 'bid_size4': 698, 'bid_size5': 572, 'ask_size1': 47, 'ask_size2': 290, 'ask_size3': 145, 'ask_size4': 107, 'ask_size5': 346, 'bid_order1': 7, 'bid_order2': 1, 'bid_order3': 1, 'bid_order4': 4, 'bid_order5': 3, 'ask_order1': 1, 'ask_order2': 2, 'ask_order3': 2, 'ask_order4': 2, 'ask_order5': 5, 'type': 'dp', 'symbol': 'NSE:TATAMOTORS-EQ'}\n",
      "Response: {'ltp': 1028.05, 'vol_traded_today': 2069084, 'last_traded_time': 1721106726, 'exch_feed_time': 1721106726, 'bid_size': 212, 'ask_size': 47, 'bid_price': 1028.0, 'ask_price': 1028.05, 'last_traded_qty': 5, 'tot_buy_qty': 424622, 'tot_sell_qty': 999551, 'avg_trade_price': 1023.84, 'low_price': 1019.2, 'high_price': 1029.6, 'lower_ckt': 0, 'upper_ckt': 0, 'open_price': 1025.5, 'prev_close_price': 1024.45, 'type': 'sf', 'symbol': 'NSE:TATAMOTORS-EQ', 'ch': 3.6, 'chp': 0.3514}\n",
      "Response: {'bid_price1': 1028.0, 'bid_price2': 1027.9, 'bid_price3': 1027.85, 'bid_price4': 1027.8, 'bid_price5': 1027.75, 'ask_price1': 1028.05, 'ask_price2': 1028.1, 'ask_price3': 1028.15, 'ask_price4': 1028.2, 'ask_price5': 1028.25, 'bid_size1': 208, 'bid_size2': 44, 'bid_size3': 40, 'bid_size4': 698, 'bid_size5': 565, 'ask_size1': 47, 'ask_size2': 290, 'ask_size3': 145, 'ask_size4': 157, 'ask_size5': 296, 'bid_order1': 7, 'bid_order2': 1, 'bid_order3': 1, 'bid_order4': 4, 'bid_order5': 2, 'ask_order1': 1, 'ask_order2': 2, 'ask_order3': 2, 'ask_order4': 3, 'ask_order5': 4, 'type': 'dp', 'symbol': 'NSE:TATAMOTORS-EQ'}\n",
      "Response: {'ltp': 1028.0, 'vol_traded_today': 2069088, 'last_traded_time': 1721106726, 'exch_feed_time': 1721106726, 'bid_size': 208, 'ask_size': 47, 'bid_price': 1028.0, 'ask_price': 1028.05, 'last_traded_qty': 4, 'tot_buy_qty': 424893, 'tot_sell_qty': 999556, 'avg_trade_price': 1023.84, 'low_price': 1019.2, 'high_price': 1029.6, 'lower_ckt': 0, 'upper_ckt': 0, 'open_price': 1025.5, 'prev_close_price': 1024.45, 'type': 'sf', 'symbol': 'NSE:TATAMOTORS-EQ', 'ch': 3.55, 'chp': 0.3465}\n",
      "Response: {'bid_price1': 879.3, 'bid_price2': 879.25, 'bid_price3': 879.2, 'bid_price4': 879.15, 'bid_price5': 879.1, 'ask_price1': 879.8, 'ask_price2': 879.85, 'ask_price3': 879.9, 'ask_price4': 879.95, 'ask_price5': 880.0, 'bid_size1': 109, 'bid_size2': 381, 'bid_size3': 589, 'bid_size4': 865, 'bid_size5': 899, 'ask_size1': 165, 'ask_size2': 395, 'ask_size3': 481, 'ask_size4': 346, 'ask_size5': 412, 'bid_order1': 1, 'bid_order2': 4, 'bid_order3': 2, 'bid_order4': 5, 'bid_order5': 10, 'ask_order1': 2, 'ask_order2': 6, 'ask_order3': 5, 'ask_order4': 4, 'ask_order5': 8, 'type': 'dp', 'symbol': 'BSE:SBIN-A'}\n",
      "Response: {'ltp': 879.8, 'vol_traded_today': 210021, 'last_traded_time': 1721106724, 'exch_feed_time': 1721106728, 'bid_size': 109, 'ask_size': 165, 'bid_price': 879.3, 'ask_price': 879.8, 'last_traded_qty': 12, 'tot_buy_qty': 117809, 'tot_sell_qty': 224688, 'avg_trade_price': 881.72, 'low_price': 877.0, 'high_price': 888.0, 'lower_ckt': 0, 'upper_ckt': 0, 'open_price': 882.2, 'prev_close_price': 881.6, 'type': 'sf', 'symbol': 'BSE:SBIN-A', 'ch': -1.8, 'chp': -0.2042}\n",
      "Response: {'bid_price1': 879.3, 'bid_price2': 879.25, 'bid_price3': 879.2, 'bid_price4': 879.15, 'bid_price5': 879.1, 'ask_price1': 879.75, 'ask_price2': 879.8, 'ask_price3': 879.85, 'ask_price4': 879.9, 'ask_price5': 879.95, 'bid_size1': 109, 'bid_size2': 479, 'bid_size3': 230, 'bid_size4': 983, 'bid_size5': 648, 'ask_size1': 64, 'ask_size2': 209, 'ask_size3': 287, 'ask_size4': 481, 'ask_size5': 184, 'bid_order1': 1, 'bid_order2': 3, 'bid_order3': 11, 'bid_order4': 9, 'bid_order5': 6, 'ask_order1': 1, 'ask_order2': 3, 'ask_order3': 4, 'ask_order4': 5, 'ask_order5': 3, 'type': 'dp', 'symbol': 'BSE:SBIN-A'}\n",
      "Response: {'ltp': 879.8, 'vol_traded_today': 4688267, 'last_traded_time': 1721106727, 'exch_feed_time': 1721106727, 'bid_size': 1, 'ask_size': 47, 'bid_price': 879.65, 'ask_price': 879.8, 'last_traded_qty': 1, 'tot_buy_qty': 661975, 'tot_sell_qty': 1232216, 'avg_trade_price': 881.73, 'low_price': 877.0, 'high_price': 888.1, 'lower_ckt': 0, 'upper_ckt': 0, 'open_price': 882.3, 'prev_close_price': 881.35, 'type': 'sf', 'symbol': 'NSE:SBIN-EQ', 'ch': -1.55, 'chp': -0.1759}\n",
      "Response: {'ltp': 879.8, 'vol_traded_today': 210021, 'last_traded_time': 1721106724, 'exch_feed_time': 1721106728, 'bid_size': 109, 'ask_size': 64, 'bid_price': 879.3, 'ask_price': 879.75, 'last_traded_qty': 12, 'tot_buy_qty': 118025, 'tot_sell_qty': 224526, 'avg_trade_price': 881.72, 'low_price': 877.0, 'high_price': 888.0, 'lower_ckt': 0, 'upper_ckt': 0, 'open_price': 882.2, 'prev_close_price': 881.6, 'type': 'sf', 'symbol': 'BSE:SBIN-A', 'ch': -1.8, 'chp': -0.2042}\n",
      "Response: {'bid_price1': 879.65, 'bid_price2': 879.55, 'bid_price3': 879.5, 'bid_price4': 879.45, 'bid_price5': 879.4, 'ask_price1': 879.8, 'ask_price2': 879.85, 'ask_price3': 879.9, 'ask_price4': 879.95, 'ask_price5': 880.0, 'bid_size1': 1, 'bid_size2': 188, 'bid_size3': 327, 'bid_size4': 67, 'bid_size5': 1723, 'ask_size1': 47, 'ask_size2': 475, 'ask_size3': 384, 'ask_size4': 1140, 'ask_size5': 2436, 'bid_order1': 1, 'bid_order2': 1, 'bid_order3': 4, 'bid_order4': 2, 'bid_order5': 10, 'ask_order1': 1, 'ask_order2': 8, 'ask_order3': 5, 'ask_order4': 15, 'ask_order5': 20, 'type': 'dp', 'symbol': 'NSE:SBIN-EQ'}\n",
      "Response: {'ltp': 1027.7, 'vol_traded_today': 2069088, 'last_traded_time': 1721106726, 'exch_feed_time': 1721106727, 'bid_size': 208, 'ask_size': 47, 'bid_price': 1028.0, 'ask_price': 1028.05, 'last_traded_qty': 44, 'tot_buy_qty': 424893, 'tot_sell_qty': 999556, 'avg_trade_price': 1023.84, 'low_price': 1019.2, 'high_price': 1029.6, 'lower_ckt': 0, 'upper_ckt': 0, 'open_price': 1025.5, 'prev_close_price': 1024.45, 'type': 'sf', 'symbol': 'NSE:TATAMOTORS-EQ', 'ch': 3.25, 'chp': 0.3172}\n",
      "Response: {'bid_price1': 1027.7, 'bid_price2': 1027.6, 'bid_price3': 1027.55, 'bid_price4': 1027.5, 'bid_price5': 1027.45, 'ask_price1': 1027.8, 'ask_price2': 1027.85, 'ask_price3': 1027.9, 'ask_price4': 1027.95, 'ask_price5': 1028.0, 'bid_size1': 31, 'bid_size2': 3, 'bid_size3': 255, 'bid_size4': 201, 'bid_size5': 348, 'ask_size1': 97, 'ask_size2': 97, 'ask_size3': 719, 'ask_size4': 355, 'ask_size5': 770, 'bid_order1': 1, 'bid_order2': 1, 'bid_order3': 6, 'bid_order4': 7, 'bid_order5': 4, 'ask_order1': 1, 'ask_order2': 1, 'ask_order3': 5, 'ask_order4': 7, 'ask_order5': 7, 'type': 'dp', 'symbol': 'NSE:TATAMOTORS-EQ'}\n",
      "Response: {'ltp': 1027.7, 'vol_traded_today': 2069680, 'last_traded_time': 1721106727, 'exch_feed_time': 1721106727, 'bid_size': 31, 'ask_size': 97, 'bid_price': 1027.7, 'ask_price': 1027.8, 'last_traded_qty': 1, 'tot_buy_qty': 417218, 'tot_sell_qty': 1002486, 'avg_trade_price': 1023.84, 'low_price': 1019.2, 'high_price': 1029.6, 'lower_ckt': 0, 'upper_ckt': 0, 'open_price': 1025.5, 'prev_close_price': 1024.45, 'type': 'sf', 'symbol': 'NSE:TATAMOTORS-EQ', 'ch': 3.25, 'chp': 0.3172}\n",
      "Response: {'bid_price1': 879.3, 'bid_price2': 879.25, 'bid_price3': 879.2, 'bid_price4': 879.15, 'bid_price5': 879.1, 'ask_price1': 879.75, 'ask_price2': 879.8, 'ask_price3': 879.85, 'ask_price4': 879.9, 'ask_price5': 879.95, 'bid_size1': 109, 'bid_size2': 516, 'bid_size3': 100, 'bid_size4': 797, 'bid_size5': 685, 'ask_size1': 106, 'ask_size2': 336, 'ask_size3': 287, 'ask_size4': 484, 'ask_size5': 184, 'bid_order1': 1, 'bid_order2': 3, 'bid_order3': 2, 'bid_order4': 12, 'bid_order5': 9, 'ask_order1': 2, 'ask_order2': 3, 'ask_order3': 4, 'ask_order4': 6, 'ask_order5': 3, 'type': 'dp', 'symbol': 'BSE:SBIN-A'}\n",
      "Response: {'ltp': 879.75, 'vol_traded_today': 210023, 'last_traded_time': 1721106727, 'exch_feed_time': 1721106728, 'bid_size': 109, 'ask_size': 106, 'bid_price': 879.3, 'ask_price': 879.75, 'last_traded_qty': 2, 'tot_buy_qty': 116632, 'tot_sell_qty': 224600, 'avg_trade_price': 881.72, 'low_price': 877.0, 'high_price': 888.0, 'lower_ckt': 0, 'upper_ckt': 0, 'open_price': 882.2, 'prev_close_price': 881.6, 'type': 'sf', 'symbol': 'BSE:SBIN-A', 'ch': -1.85, 'chp': -0.2098}\n",
      "Response: {'ltp': 879.8, 'vol_traded_today': 4688267, 'last_traded_time': 1721106727, 'exch_feed_time': 1721106728, 'bid_size': 1, 'ask_size': 47, 'bid_price': 879.65, 'ask_price': 879.8, 'last_traded_qty': 10, 'tot_buy_qty': 661975, 'tot_sell_qty': 1232216, 'avg_trade_price': 881.73, 'low_price': 877.0, 'high_price': 888.1, 'lower_ckt': 0, 'upper_ckt': 0, 'open_price': 882.3, 'prev_close_price': 881.35, 'type': 'sf', 'symbol': 'NSE:SBIN-EQ', 'ch': -1.55, 'chp': -0.1759}\n",
      "Response: {'ltp': 1027.7, 'vol_traded_today': 2069680, 'last_traded_time': 1721106727, 'exch_feed_time': 1721106728, 'bid_size': 31, 'ask_size': 97, 'bid_price': 1027.7, 'ask_price': 1027.8, 'last_traded_qty': 37, 'tot_buy_qty': 417218, 'tot_sell_qty': 1002486, 'avg_trade_price': 1023.84, 'low_price': 1019.2, 'high_price': 1029.6, 'lower_ckt': 0, 'upper_ckt': 0, 'open_price': 1025.5, 'prev_close_price': 1024.45, 'type': 'sf', 'symbol': 'NSE:TATAMOTORS-EQ', 'ch': 3.25, 'chp': 0.3172}\n",
      "Response: {'bid_price1': 879.65, 'bid_price2': 879.55, 'bid_price3': 879.5, 'bid_price4': 879.45, 'bid_price5': 879.4, 'ask_price1': 879.8, 'ask_price2': 879.85, 'ask_price3': 879.9, 'ask_price4': 879.95, 'ask_price5': 880.0, 'bid_size1': 1, 'bid_size2': 1, 'bid_size3': 286, 'bid_size4': 255, 'bid_size5': 1101, 'ask_size1': 37, 'ask_size2': 427, 'ask_size3': 384, 'ask_size4': 1140, 'ask_size5': 2489, 'bid_order1': 1, 'bid_order2': 1, 'bid_order3': 3, 'bid_order4': 3, 'bid_order5': 8, 'ask_order1': 1, 'ask_order2': 7, 'ask_order3': 5, 'ask_order4': 15, 'ask_order5': 21, 'type': 'dp', 'symbol': 'NSE:SBIN-EQ'}\n",
      "Response: {'ltp': 879.8, 'vol_traded_today': 4688277, 'last_traded_time': 1721106727, 'exch_feed_time': 1721106728, 'bid_size': 1, 'ask_size': 37, 'bid_price': 879.65, 'ask_price': 879.8, 'last_traded_qty': 10, 'tot_buy_qty': 665572, 'tot_sell_qty': 1232488, 'avg_trade_price': 881.73, 'low_price': 877.0, 'high_price': 888.1, 'lower_ckt': 0, 'upper_ckt': 0, 'open_price': 882.3, 'prev_close_price': 881.35, 'type': 'sf', 'symbol': 'NSE:SBIN-EQ', 'ch': -1.55, 'chp': -0.1759}\n",
      "Response: {'bid_price1': 879.3, 'bid_price2': 879.25, 'bid_price3': 879.2, 'bid_price4': 879.15, 'bid_price5': 879.1, 'ask_price1': 879.75, 'ask_price2': 879.8, 'ask_price3': 879.85, 'ask_price4': 879.9, 'ask_price5': 879.95, 'bid_size1': 109, 'bid_size2': 516, 'bid_size3': 100, 'bid_size4': 797, 'bid_size5': 685, 'ask_size1': 62, 'ask_size2': 380, 'ask_size3': 287, 'ask_size4': 484, 'ask_size5': 184, 'bid_order1': 1, 'bid_order2': 3, 'bid_order3': 2, 'bid_order4': 12, 'bid_order5': 9, 'ask_order1': 1, 'ask_order2': 4, 'ask_order3': 4, 'ask_order4': 6, 'ask_order5': 3, 'type': 'dp', 'symbol': 'BSE:SBIN-A'}\n",
      "Response: {'ltp': 879.75, 'vol_traded_today': 210023, 'last_traded_time': 1721106727, 'exch_feed_time': 1721106728, 'bid_size': 109, 'ask_size': 62, 'bid_price': 879.3, 'ask_price': 879.75, 'last_traded_qty': 2, 'tot_buy_qty': 117074, 'tot_sell_qty': 224826, 'avg_trade_price': 881.72, 'low_price': 877.0, 'high_price': 888.0, 'lower_ckt': 0, 'upper_ckt': 0, 'open_price': 882.2, 'prev_close_price': 881.6, 'type': 'sf', 'symbol': 'BSE:SBIN-A', 'ch': -1.85, 'chp': -0.2098}\n",
      "Response: {'bid_price1': 879.65, 'bid_price2': 879.55, 'bid_price3': 879.5, 'bid_price4': 879.45, 'bid_price5': 879.4, 'ask_price1': 879.8, 'ask_price2': 879.85, 'ask_price3': 879.9, 'ask_price4': 879.95, 'ask_price5': 880.0, 'bid_size1': 1, 'bid_size2': 1, 'bid_size3': 286, 'bid_size4': 255, 'bid_size5': 1101, 'ask_size1': 36, 'ask_size2': 427, 'ask_size3': 384, 'ask_size4': 1140, 'ask_size5': 2489, 'bid_order1': 1, 'bid_order2': 1, 'bid_order3': 3, 'bid_order4': 3, 'bid_order5': 8, 'ask_order1': 1, 'ask_order2': 7, 'ask_order3': 5, 'ask_order4': 15, 'ask_order5': 21, 'type': 'dp', 'symbol': 'NSE:SBIN-EQ'}\n",
      "Response: {'ltp': 879.8, 'vol_traded_today': 4688278, 'last_traded_time': 1721106728, 'exch_feed_time': 1721106728, 'bid_size': 1, 'ask_size': 36, 'bid_price': 879.65, 'ask_price': 879.8, 'last_traded_qty': 1, 'tot_buy_qty': 665572, 'tot_sell_qty': 1232487, 'avg_trade_price': 881.73, 'low_price': 877.0, 'high_price': 888.1, 'lower_ckt': 0, 'upper_ckt': 0, 'open_price': 882.3, 'prev_close_price': 881.35, 'type': 'sf', 'symbol': 'NSE:SBIN-EQ', 'ch': -1.55, 'chp': -0.1759}\n",
      "Response: Response: {'bid_price1': 1027.7, 'bid_price2': 1027.6, 'bid_price3': 1027.55, 'bid_price4': 1027.5, 'bid_price5': 1027.45, 'ask_price1': 1027.85, 'ask_price2': 1027.9, 'ask_price3': 1027.95, 'ask_price4': 1028.0, 'ask_price5': 1028.05, 'bid_size1': 44, 'bid_size2': 3, 'bid_size3': 255, 'bid_size4': 251, 'bid_size5': 298, 'ask_size1': 53, 'ask_size2': 669, 'ask_size3': 369, 'ask_size4': 806, 'ask_size5': 312, 'bid_order1': 1, 'bid_order2': 1, 'bid_order3': 6, 'bid_order4': 8, 'bid_order5': 3, 'ask_order1': 1, 'ask_order2': 4, 'ask_order3': 7, 'ask_order4': 8, 'ask_order5': 7, 'type': 'dp', 'symbol': 'NSE:TATAMOTORS-EQ'}\n",
      "{'ltp': 1027.85, 'vol_traded_today': 2069761, 'last_traded_time': 1721106728, 'exch_feed_time': 1721106728, 'bid_size': 44, 'ask_size': 53, 'bid_price': 1027.7, 'ask_price': 1027.85, 'last_traded_qty': 44, 'tot_buy_qty': 422044, 'tot_sell_qty': 1003135, 'avg_trade_price': 1023.84, 'low_price': 1019.2, 'high_price': 1029.6, 'lower_ckt': 0, 'upper_ckt': 0, 'open_price': 1025.5, 'prev_close_price': 1024.45, 'type': 'sf', 'symbol': 'NSE:TATAMOTORS-EQ', 'ch': 3.4, 'chp': 0.3319}\n",
      "Response: {'bid_price1': 879.3, 'bid_price2': 879.25, 'bid_price3': 879.2, 'bid_price4': 879.15, 'bid_price5': 879.1, 'ask_price1': 879.7, 'ask_price2': 879.75, 'ask_price3': 879.8, 'ask_price4': 879.85, 'ask_price5': 879.9, 'bid_size1': 109, 'bid_size2': 237, 'bid_size3': 573, 'bid_size4': 865, 'bid_size5': 818, 'ask_size1': 64, 'ask_size2': 88, 'ask_size3': 101, 'ask_size4': 287, 'ask_size5': 490, 'bid_order1': 1, 'bid_order2': 2, 'bid_order3': 3, 'bid_order4': 5, 'bid_order5': 9, 'ask_order1': 1, 'ask_order2': 2, 'ask_order3': 1, 'ask_order4': 4, 'ask_order5': 6, 'type': 'dp', 'symbol': 'BSE:SBIN-A'}\n",
      "Response: {'ltp': 879.8, 'vol_traded_today': 4688278, 'last_traded_time': 1721106728, 'exch_feed_time': 1721106729, 'bid_size': 1, 'ask_size': 36, 'bid_price': 879.65, 'ask_price': 879.8, 'last_traded_qty': 2, 'tot_buy_qty': 665572, 'tot_sell_qty': 1232487, 'avg_trade_price': 881.73, 'low_price': 877.0, 'high_price': 888.1, 'lower_ckt': 0, 'upper_ckt': 0, 'open_price': 882.3, 'prev_close_price': 881.35, 'type': 'sf', 'symbol': 'NSE:SBIN-EQ', 'ch': -1.55, 'chp': -0.1759}\n",
      "Response: {'ltp': 879.75, 'vol_traded_today': 210023, 'last_traded_time': 1721106727, 'exch_feed_time': 1721106731, 'bid_size': 109, 'ask_size': 64, 'bid_price': 879.3, 'ask_price': 879.7, 'last_traded_qty': 2, 'tot_buy_qty': 113260, 'tot_sell_qty': 224726, 'avg_trade_price': 881.72, 'low_price': 877.0, 'high_price': 888.0, 'lower_ckt': 0, 'upper_ckt': 0, 'open_price': 882.2, 'prev_close_price': 881.6, 'type': 'sf', 'symbol': 'BSE:SBIN-A', 'ch': -1.85, 'chp': -0.2098}\n",
      "Response: {'ltp': 1027.85, 'vol_traded_today': 2069761, 'last_traded_time': 1721106728, 'exch_feed_time': 1721106729, 'bid_size': 44, 'ask_size': 53, 'bid_price': 1027.7, 'ask_price': 1027.85, 'last_traded_qty': 44, 'tot_buy_qty': 422044, 'tot_sell_qty': 1003135, 'avg_trade_price': 1023.84, 'low_price': 1019.2, 'high_price': 1029.6, 'lower_ckt': 0, 'upper_ckt': 0, 'open_price': 1025.5, 'prev_close_price': 1024.45, 'type': 'sf', 'symbol': 'NSE:TATAMOTORS-EQ', 'ch': 3.4, 'chp': 0.3319}\n",
      "Response: Response:{'bid_price1': 879.3, 'bid_price2': 879.25, 'bid_price3': 879.2, 'bid_price4': 879.15, 'bid_price5': 879.1, 'ask_price1': 879.7, 'ask_price2': 879.75, 'ask_price3': 879.8, 'ask_price4': 879.85, 'ask_price5': 879.9, 'bid_size1': 109, 'bid_size2': 237, 'bid_size3': 573, 'bid_size4': 865, 'bid_size5': 818, 'ask_size1': 57, 'ask_size2': 88, 'ask_size3': 101, 'ask_size4': 287, 'ask_size5': 490, 'bid_order1': 1, 'bid_order2': 2, 'bid_order3': 3, 'bid_order4': 5, 'bid_order5': 9, 'ask_order1': 1, 'ask_order2': 2, 'ask_order3': 1, 'ask_order4': 4, 'ask_order5': 6, 'type': 'dp', 'symbol': 'BSE:SBIN-A'} \n",
      "{'ltp': 879.7, 'vol_traded_today': 210030, 'last_traded_time': 1721106729, 'exch_feed_time': 1721106731, 'bid_size': 109, 'ask_size': 57, 'bid_price': 879.3, 'ask_price': 879.7, 'last_traded_qty': 7, 'tot_buy_qty': 113260, 'tot_sell_qty': 223471, 'avg_trade_price': 881.72, 'low_price': 877.0, 'high_price': 888.0, 'lower_ckt': 0, 'upper_ckt': 0, 'open_price': 882.2, 'prev_close_price': 881.6, 'type': 'sf', 'symbol': 'BSE:SBIN-A', 'ch': -1.9, 'chp': -0.2155}\n",
      "Response: {'bid_price1': 879.8, 'bid_price2': 879.75, 'bid_price3': 879.7, 'bid_price4': 879.65, 'bid_price5': 879.6, 'ask_price1': 879.9, 'ask_price2': 879.95, 'ask_price3': 880.0, 'ask_price4': 880.05, 'ask_price5': 880.1, 'bid_size1': 80, 'bid_size2': 90, 'bid_size3': 506, 'bid_size4': 521, 'bid_size5': 512, 'ask_size1': 74, 'ask_size2': 2, 'ask_size3': 1787, 'ask_size4': 294, 'ask_size5': 1174, 'bid_order1': 1, 'bid_order2': 1, 'bid_order3': 3, 'bid_order4': 3, 'bid_order5': 3, 'ask_order1': 1, 'ask_order2': 2, 'ask_order3': 13, 'ask_order4': 8, 'ask_order5': 7, 'type': 'dp', 'symbol': 'NSE:SBIN-EQ'}\n",
      "Response: {'ltp': 879.9, 'vol_traded_today': 4688446, 'last_traded_time': 1721106729, 'exch_feed_time': 1721106729, 'bid_size': 80, 'ask_size': 74, 'bid_price': 879.8, 'ask_price': 879.9, 'last_traded_qty': 26, 'tot_buy_qty': 673505, 'tot_sell_qty': 1230170, 'avg_trade_price': 881.73, 'low_price': 877.0, 'high_price': 888.1, 'lower_ckt': 0, 'upper_ckt': 0, 'open_price': 882.3, 'prev_close_price': 881.35, 'type': 'sf', 'symbol': 'NSE:SBIN-EQ', 'ch': -1.45, 'chp': -0.1645}\n",
      "Response: {'bid_price1': 1027.7, 'bid_price2': 1027.65, 'bid_price3': 1027.6, 'bid_price4': 1027.55, 'bid_price5': 1027.5, 'ask_price1': 1027.85, 'ask_price2': 1027.9, 'ask_price3': 1028.05, 'ask_price4': 1028.1, 'ask_price5': 1028.15, 'bid_size1': 43, 'bid_size2': 750, 'bid_size3': 1047, 'bid_size4': 1049, 'bid_size5': 1384, 'ask_size1': 2, 'ask_size2': 357, 'ask_size3': 47, 'ask_size4': 795, 'ask_size5': 242, 'bid_order1': 1, 'bid_order2': 7, 'bid_order3': 8, 'bid_order4': 12, 'bid_order5': 18, 'ask_order1': 1, 'ask_order2': 1, 'ask_order3': 1, 'ask_order4': 8, 'ask_order5': 3, 'type': 'dp', 'symbol': 'NSE:TATAMOTORS-EQ'}\n",
      "Response: {'ltp': 1027.7, 'vol_traded_today': 2069762, 'last_traded_time': 1721106729, 'exch_feed_time': 1721106730, 'bid_size': 43, 'ask_size': 2, 'bid_price': 1027.7, 'ask_price': 1027.85, 'last_traded_qty': 1, 'tot_buy_qty': 424888, 'tot_sell_qty': 1001633, 'avg_trade_price': 1023.84, 'low_price': 1019.2, 'high_price': 1029.6, 'lower_ckt': 0, 'upper_ckt': 0, 'open_price': 1025.5, 'prev_close_price': 1024.45, 'type': 'sf', 'symbol': 'NSE:TATAMOTORS-EQ', 'ch': 3.25, 'chp': 0.3172}\n",
      "Response: {'ltp': 879.9, 'vol_traded_today': 4688446, 'last_traded_time': 1721106729, 'exch_feed_time': 1721106730, 'bid_size': 80, 'ask_size': 74, 'bid_price': 879.8, 'ask_price': 879.9, 'last_traded_qty': 10, 'tot_buy_qty': 673505, 'tot_sell_qty': 1230170, 'avg_trade_price': 881.73, 'low_price': 877.0, 'high_price': 888.1, 'lower_ckt': 0, 'upper_ckt': 0, 'open_price': 882.3, 'prev_close_price': 881.35, 'type': 'sf', 'symbol': 'NSE:SBIN-EQ', 'ch': -1.45, 'chp': -0.1645}\n",
      "Response: {'ltp': 1027.9, 'vol_traded_today': 2069762, 'last_traded_time': 1721106729, 'exch_feed_time': 1721106730, 'bid_size': 43, 'ask_size': 2, 'bid_price': 1027.7, 'ask_price': 1027.85, 'last_traded_qty': 8, 'tot_buy_qty': 424888, 'tot_sell_qty': 1001633, 'avg_trade_price': 1023.84, 'low_price': 1019.2, 'high_price': 1029.6, 'lower_ckt': 0, 'upper_ckt': 0, 'open_price': 1025.5, 'prev_close_price': 1024.45, 'type': 'sf', 'symbol': 'NSE:TATAMOTORS-EQ', 'ch': 3.45, 'chp': 0.3368}\n",
      "Response: {'bid_price1': 879.45, 'bid_price2': 879.4, 'bid_price3': 879.35, 'bid_price4': 879.3, 'bid_price5': 879.25, 'ask_price1': 879.9, 'ask_price2': 879.95, 'ask_price3': 880.0, 'ask_price4': 880.05, 'ask_price5': 880.1, 'bid_size1': 259, 'bid_size2': 40, 'bid_size3': 845, 'bid_size4': 1041, 'bid_size5': 843, 'ask_size1': 64, 'ask_size2': 69, 'ask_size3': 627, 'ask_size4': 322, 'ask_size5': 377, 'bid_order1': 2, 'bid_order2': 2, 'bid_order3': 12, 'bid_order4': 11, 'bid_order5': 5, 'ask_order1': 1, 'ask_order2': 2, 'ask_order3': 10, 'ask_order4': 4, 'ask_order5': 6, 'type': 'dp', 'symbol': 'BSE:SBIN-A'}\n",
      "Response: {'ltp': 879.7, 'vol_traded_today': 210030, 'last_traded_time': 1721106729, 'exch_feed_time': 1721106732, 'bid_size': 259, 'ask_size': 64, 'bid_price': 879.45, 'ask_price': 879.9, 'last_traded_qty': 7, 'tot_buy_qty': 119599, 'tot_sell_qty': 224836, 'avg_trade_price': 881.72, 'low_price': 877.0, 'high_price': 888.0, 'lower_ckt': 0, 'upper_ckt': 0, 'open_price': 882.2, 'prev_close_price': 881.6, 'type': 'sf', 'symbol': 'BSE:SBIN-A', 'ch': -1.9, 'chp': -0.2155}\n",
      "Response: {'bid_price1': 879.45, 'bid_price2': 879.4, 'bid_price3': 879.35, 'bid_price4': 879.3, 'bid_price5': 879.25, 'ask_price1': 879.9, 'ask_price2': 879.95, 'ask_price3': 880.0, 'ask_price4': 880.05, 'ask_price5': 880.1, 'bid_size1': 319, 'bid_size2': 115, 'bid_size3': 745, 'bid_size4': 1006, 'bid_size5': 843, 'ask_size1': 64, 'ask_size2': 69, 'ask_size3': 412, 'ask_size4': 322, 'ask_size5': 421, 'bid_order1': 7, 'bid_order2': 7, 'bid_order3': 4, 'bid_order4': 9, 'bid_order5': 5, 'ask_order1': 1, 'ask_order2': 2, 'ask_order3': 8, 'ask_order4': 4, 'ask_order5': 7, 'type': 'dp', 'symbol': 'BSE:SBIN-A'}\n",
      "Response: {'ltp': 879.7, 'vol_traded_today': 210030, 'last_traded_time': 1721106729, 'exch_feed_time': 1721106732, 'bid_size': 319, 'ask_size': 64, 'bid_price': 879.45, 'ask_price': 879.9, 'last_traded_qty': 7, 'tot_buy_qty': 119089, 'tot_sell_qty': 224665, 'avg_trade_price': 881.72, 'low_price': 877.0, 'high_price': 888.0, 'lower_ckt': 0, 'upper_ckt': 0, 'open_price': 882.2, 'prev_close_price': 881.6, 'type': 'sf', 'symbol': 'BSE:SBIN-A', 'ch': -1.9, 'chp': -0.2155}\n",
      "Response: {'bid_price1': 879.85, 'bid_price2': 879.75, 'bid_price3': 879.7, 'bid_price4': 879.65, 'bid_price5': 879.6, 'ask_price1': 879.9, 'ask_price2': 879.95, 'ask_price3': 880.0, 'ask_price4': 880.05, 'ask_price5': 880.1, 'bid_size1': 80, 'bid_size2': 90, 'bid_size3': 228, 'bid_size4': 562, 'bid_size5': 666, 'ask_size1': 62, 'ask_size2': 2, 'ask_size3': 1705, 'ask_size4': 521, 'ask_size5': 657, 'bid_order1': 1, 'bid_order2': 1, 'bid_order3': 1, 'bid_order4': 4, 'bid_order5': 5, 'ask_order1': 1, 'ask_order2': 2, 'ask_order3': 12, 'ask_order4': 9, 'ask_order5': 7, 'type': 'dp', 'symbol': 'NSE:SBIN-EQ'}\n",
      "Response: {'ltp': 879.9, 'vol_traded_today': 4688458, 'last_traded_time': 1721106730, 'exch_feed_time': 1721106730, 'bid_size': 80, 'ask_size': 62, 'bid_price': 879.85, 'ask_price': 879.9, 'last_traded_qty': 1, 'tot_buy_qty': 673074, 'tot_sell_qty': 1238191, 'avg_trade_price': 881.73, 'low_price': 877.0, 'high_price': 888.1, 'lower_ckt': 0, 'upper_ckt': 0, 'open_price': 882.3, 'prev_close_price': 881.35, 'type': 'sf', 'symbol': 'NSE:SBIN-EQ', 'ch': -1.45, 'chp': -0.1645}\n",
      "Response: {'ltp': 879.9, 'vol_traded_today': 4688458, 'last_traded_time': 1721106730, 'exch_feed_time': 1721106731, 'bid_size': 80, 'ask_size': 62, 'bid_price': 879.85, 'ask_price': 879.9, 'last_traded_qty': 2, 'tot_buy_qty': 673074, 'tot_sell_qty': 1238191, 'avg_trade_price': 881.73, 'low_price': 877.0, 'high_price': 888.1, 'lower_ckt': 0, 'upper_ckt': 0, 'open_price': 882.3, 'prev_close_price': 881.35, 'type': 'sf', 'symbol': 'NSE:SBIN-EQ', 'ch': -1.45, 'chp': -0.1645}\n",
      "Response: {'ltp': 1027.9, 'vol_traded_today': 2069762, 'last_traded_time': 1721106729, 'exch_feed_time': 1721106731, 'bid_size': 43, 'ask_size': 2, 'bid_price': 1027.7, 'ask_price': 1027.85, 'last_traded_qty': 50, 'tot_buy_qty': 424888, 'tot_sell_qty': 1001633, 'avg_trade_price': 1023.84, 'low_price': 1019.2, 'high_price': 1029.6, 'lower_ckt': 0, 'upper_ckt': 0, 'open_price': 1025.5, 'prev_close_price': 1024.45, 'type': 'sf', 'symbol': 'NSE:TATAMOTORS-EQ', 'ch': 3.45, 'chp': 0.3368}\n",
      "Response: {'bid_price1': 1027.7, 'bid_price2': 1027.65, 'bid_price3': 1027.6, 'bid_price4': 1027.55, 'bid_price5': 1027.5, 'ask_price1': 1027.9, 'ask_price2': 1028.05, 'ask_price3': 1028.1, 'ask_price4': 1028.15, 'ask_price5': 1028.2, 'bid_size1': 33, 'bid_size2': 1331, 'bid_size3': 947, 'bid_size4': 1248, 'bid_size5': 1234, 'ask_size1': 299, 'ask_size2': 97, 'ask_size3': 745, 'ask_size4': 242, 'ask_size5': 531, 'bid_order1': 1, 'bid_order2': 7, 'bid_order3': 7, 'bid_order4': 15, 'bid_order5': 18, 'ask_order1': 1, 'ask_order2': 2, 'ask_order3': 7, 'ask_order4': 3, 'ask_order5': 9, 'type': 'dp', 'symbol': 'NSE:TATAMOTORS-EQ'}\n",
      "Response: {'ltp': 1027.9, 'vol_traded_today': 2069822, 'last_traded_time': 1721106731, 'exch_feed_time': 1721106731, 'bid_size': 33, 'ask_size': 299, 'bid_price': 1027.7, 'ask_price': 1027.9, 'last_traded_qty': 50, 'tot_buy_qty': 425958, 'tot_sell_qty': 1002259, 'avg_trade_price': 1023.84, 'low_price': 1019.2, 'high_price': 1029.6, 'lower_ckt': 0, 'upper_ckt': 0, 'open_price': 1025.5, 'prev_close_price': 1024.45, 'type': 'sf', 'symbol': 'NSE:TATAMOTORS-EQ', 'ch': 3.45, 'chp': 0.3368}\n",
      "Response: {'ltp': 1027.9, 'vol_traded_today': 2069822, 'last_traded_time': 1721106731, 'exch_feed_time': 1721106731, 'bid_size': 33, 'ask_size': 299, 'bid_price': 1027.7, 'ask_price': 1027.9, 'last_traded_qty': 50, 'tot_buy_qty': 425958, 'tot_sell_qty': 1002265, 'avg_trade_price': 1023.84, 'low_price': 1019.2, 'high_price': 1029.6, 'lower_ckt': 0, 'upper_ckt': 0, 'open_price': 1025.5, 'prev_close_price': 1024.45, 'type': 'sf', 'symbol': 'NSE:TATAMOTORS-EQ', 'ch': 3.45, 'chp': 0.3368}\n",
      "Response: {'bid_price1': 879.5, 'bid_price2': 879.45, 'bid_price3': 879.4, 'bid_price4': 879.35, 'bid_price5': 879.3, 'ask_price1': 879.9, 'ask_price2': 879.95, 'ask_price3': 880.0, 'ask_price4': 880.05, 'ask_price5': 880.1, 'bid_size1': 20, 'bid_size2': 286, 'bid_size3': 579, 'bid_size4': 893, 'bid_size5': 910, 'ask_size1': 64, 'ask_size2': 69, 'ask_size3': 583, 'ask_size4': 322, 'ask_size5': 377, 'bid_order1': 2, 'bid_order2': 8, 'bid_order3': 6, 'bid_order4': 8, 'bid_order5': 6, 'ask_order1': 1, 'ask_order2': 2, 'ask_order3': 9, 'ask_order4': 4, 'ask_order5': 6, 'type': 'dp', 'symbol': 'BSE:SBIN-A'}\n",
      "Response: {'ltp': 879.7, 'vol_traded_today': 210030, 'last_traded_time': 1721106729, 'exch_feed_time': 1721106732, 'bid_size': 20, 'ask_size': 64, 'bid_price': 879.5, 'ask_price': 879.9, 'last_traded_qty': 7, 'tot_buy_qty': 118916, 'tot_sell_qty': 226476, 'avg_trade_price': 881.72, 'low_price': 877.0, 'high_price': 888.0, 'lower_ckt': 0, 'upper_ckt': 0, 'open_price': 882.2, 'prev_close_price': 881.6, 'type': 'sf', 'symbol': 'BSE:SBIN-A', 'ch': -1.9, 'chp': -0.2155}\n",
      "Response: {'ltp': 879.7, 'vol_traded_today': 210030, 'last_traded_time': 1721106729, 'exch_feed_time': 1721106732, 'bid_size': 20, 'ask_size': 108, 'bid_price': 879.5, 'ask_price': 879.9, 'last_traded_qty': 7, 'tot_buy_qty': 119010, 'tot_sell_qty': 226831, 'avg_trade_price': 881.72, 'low_price': 877.0, 'high_price': 888.0, 'lower_ckt': 0, 'upper_ckt': 0, 'open_price': 882.2, 'prev_close_price': 881.6, 'type': 'sf', 'symbol': 'BSE:SBIN-A', 'ch': -1.9, 'chp': -0.2155}\n",
      "Response: {'bid_price1': 879.85, 'bid_price2': 879.8, 'bid_price3': 879.7, 'bid_price4': 879.65, 'bid_price5': 879.6, 'ask_price1': 879.9, 'ask_price2': 879.95, 'ask_price3': 880.0, 'ask_price4': 880.05, 'ask_price5': 880.1, 'bid_size1': 104, 'bid_size2': 1, 'bid_size3': 228, 'bid_size4': 335, 'bid_size5': 613, 'ask_size1': 5, 'ask_size2': 2, 'ask_size3': 1725, 'ask_size4': 665, 'ask_size5': 741, 'bid_order1': 2, 'bid_order2': 1, 'bid_order3': 1, 'bid_order4': 3, 'bid_order5': 4, 'ask_order1': 1, 'ask_order2': 2, 'ask_order3': 13, 'ask_order4': 13, 'ask_order5': 10, 'type': 'dp', 'symbol': 'NSE:SBIN-EQ'}\n",
      "Response: {'bid_price1': 879.5, 'bid_price2': 879.45, 'bid_price3': 879.4, 'bid_price4': 879.35, 'bid_price5': 879.3, 'ask_price1': 879.9, 'ask_price2': 879.95, 'ask_price3': 880.0, 'ask_price4': 880.05, 'ask_price5': 880.1, 'bid_size1': 20, 'bid_size2': 238, 'bid_size3': 80, 'bid_size4': 893, 'bid_size5': 956, 'ask_size1': 108, 'ask_size2': 69, 'ask_size3': 583, 'ask_size4': 322, 'ask_size5': 377, 'bid_order1': 2, 'bid_order2': 8, 'bid_order3': 5, 'bid_order4': 8, 'bid_order5': 7, 'ask_order1': 2, 'ask_order2': 2, 'ask_order3': 9, 'ask_order4': 4, 'ask_order5': 6, 'type': 'dp', 'symbol': 'BSE:SBIN-A'}\n",
      "Response: {'ltp': 879.85, 'vol_traded_today': 4688521, 'last_traded_time': 1721106732, 'exch_feed_time': 1721106732, 'bid_size': 104, 'ask_size': 5, 'bid_price': 879.85, 'ask_price': 879.9, 'last_traded_qty': 1, 'tot_buy_qty': 671471, 'tot_sell_qty': 1237585, 'avg_trade_price': 881.73, 'low_price': 877.0, 'high_price': 888.1, 'lower_ckt': 0, 'upper_ckt': 0, 'open_price': 882.3, 'prev_close_price': 881.35, 'type': 'sf', 'symbol': 'NSE:SBIN-EQ', 'ch': -1.5, 'chp': -0.1702}\n",
      "Response: {'ltp': 1027.7, 'vol_traded_today': 2069822, 'last_traded_time': 1721106731, 'exch_feed_time': 1721106732, 'bid_size': 33, 'ask_size': 299, 'bid_price': 1027.7, 'ask_price': 1027.9, 'last_traded_qty': 2, 'tot_buy_qty': 425958, 'tot_sell_qty': 1002265, 'avg_trade_price': 1023.84, 'low_price': 1019.2, 'high_price': 1029.6, 'lower_ckt': 0, 'upper_ckt': 0, 'open_price': 1025.5, 'prev_close_price': 1024.45, 'type': 'sf', 'symbol': 'NSE:TATAMOTORS-EQ', 'ch': 3.25, 'chp': 0.3172}\n",
      "Response: {'bid_price1': 1027.7, 'bid_price2': 1027.65, 'bid_price3': 1027.6, 'bid_price4': 1027.55, 'bid_price5': 1027.5, 'ask_price1': 1027.9, 'ask_price2': 1028.05, 'ask_price3': 1028.1, 'ask_price4': 1028.15, 'ask_price5': 1028.2, 'bid_size1': 31, 'bid_size2': 1372, 'bid_size3': 947, 'bid_size4': 1248, 'bid_size5': 1148, 'ask_size1': 296, 'ask_size2': 139, 'ask_size3': 745, 'ask_size4': 242, 'ask_size5': 531, 'bid_order1': 1, 'bid_order2': 8, 'bid_order3': 7, 'bid_order4': 15, 'bid_order5': 16, 'ask_order1': 1, 'ask_order2': 3, 'ask_order3': 7, 'ask_order4': 3, 'ask_order5': 9, 'type': 'dp', 'symbol': 'NSE:TATAMOTORS-EQ'}\n",
      "Response: {'ltp': 1027.7, 'vol_traded_today': 2069827, 'last_traded_time': 1721106732, 'exch_feed_time': 1721106732, 'bid_size': 31, 'ask_size': 296, 'bid_price': 1027.7, 'ask_price': 1027.9, 'last_traded_qty': 2, 'tot_buy_qty': 425921, 'tot_sell_qty': 1002153, 'avg_trade_price': 1023.84, 'low_price': 1019.2, 'high_price': 1029.6, 'lower_ckt': 0, 'upper_ckt': 0, 'open_price': 1025.5, 'prev_close_price': 1024.45, 'type': 'sf', 'symbol': 'NSE:TATAMOTORS-EQ', 'ch': 3.25, 'chp': 0.3172}\n",
      "Response: {'bid_price1': 879.5, 'bid_price2': 879.45, 'bid_price3': 879.4, 'bid_price4': 879.35, 'bid_price5': 879.3, 'ask_price1': 879.9, 'ask_price2': 879.95, 'ask_price3': 880.0, 'ask_price4': 880.05, 'ask_price5': 880.1, 'bid_size1': 20, 'bid_size2': 238, 'bid_size3': 170, 'bid_size4': 873, 'bid_size5': 878, 'ask_size1': 61, 'ask_size2': 113, 'ask_size3': 445, 'ask_size4': 224, 'ask_size5': 279, 'bid_order1': 2, 'bid_order2': 8, 'bid_order3': 6, 'bid_order4': 8, 'bid_order5': 6, 'ask_order1': 1, 'ask_order2': 3, 'ask_order3': 7, 'ask_order4': 3, 'ask_order5': 5, 'type': 'dp', 'symbol': 'BSE:SBIN-A'}\n",
      "Response: {'ltp': 879.9, 'vol_traded_today': 210033, 'last_traded_time': 1721106732, 'exch_feed_time': 1721106732, 'bid_size': 20, 'ask_size': 61, 'bid_price': 879.5, 'ask_price': 879.9, 'last_traded_qty': 3, 'tot_buy_qty': 118918, 'tot_sell_qty': 221486, 'avg_trade_price': 881.72, 'low_price': 877.0, 'high_price': 888.0, 'lower_ckt': 0, 'upper_ckt': 0, 'open_price': 882.2, 'prev_close_price': 881.6, 'type': 'sf', 'symbol': 'BSE:SBIN-A', 'ch': -1.7, 'chp': -0.1928}\n",
      "Response: {'ltp': 879.85, 'vol_traded_today': 4688521, 'last_traded_time': 1721106732, 'exch_feed_time': 1721106733, 'bid_size': 104, 'ask_size': 5, 'bid_price': 879.85, 'ask_price': 879.9, 'last_traded_qty': 40, 'tot_buy_qty': 671471, 'tot_sell_qty': 1237585, 'avg_trade_price': 881.73, 'low_price': 877.0, 'high_price': 888.1, 'lower_ckt': 0, 'upper_ckt': 0, 'open_price': 882.3, 'prev_close_price': 881.35, 'type': 'sf', 'symbol': 'NSE:SBIN-EQ', 'ch': -1.5, 'chp': -0.1702}\n",
      "Response: {'bid_price1': 879.85, 'bid_price2': 879.8, 'bid_price3': 879.7, 'bid_price4': 879.65, 'bid_price5': 879.6, 'ask_price1': 880.0, 'ask_price2': 880.05, 'ask_price3': 880.1, 'ask_price4': 880.15, 'ask_price5': 880.2, 'bid_size1': 64, 'bid_size2': 1, 'bid_size3': 287, 'bid_size4': 562, 'bid_size5': 613, 'ask_size1': 1725, 'ask_size2': 564, 'ask_size3': 791, 'ask_size4': 1078, 'ask_size5': 1260, 'bid_order1': 2, 'bid_order2': 1, 'bid_order3': 3, 'bid_order4': 4, 'bid_order5': 4, 'ask_order1': 13, 'ask_order2': 11, 'ask_order3': 11, 'ask_order4': 12, 'ask_order5': 11, 'type': 'dp', 'symbol': 'NSE:SBIN-EQ'}\n",
      "Response: {'ltp': 879.85, 'vol_traded_today': 4688568, 'last_traded_time': 1721106732, 'exch_feed_time': 1721106733, 'bid_size': 64, 'ask_size': 1725, 'bid_price': 879.85, 'ask_price': 880.0, 'last_traded_qty': 40, 'tot_buy_qty': 669353, 'tot_sell_qty': 1230082, 'avg_trade_price': 881.73, 'low_price': 877.0, 'high_price': 888.1, 'lower_ckt': 0, 'upper_ckt': 0, 'open_price': 882.3, 'prev_close_price': 881.35, 'type': 'sf', 'symbol': 'NSE:SBIN-EQ', 'ch': -1.5, 'chp': -0.1702}\n",
      "Response: {'ltp': 879.9, 'vol_traded_today': 210033, 'last_traded_time': 1721106732, 'exch_feed_time': 1721106732, 'bid_size': 20, 'ask_size': 61, 'bid_price': 879.5, 'ask_price': 879.9, 'last_traded_qty': 3, 'tot_buy_qty': 118918, 'tot_sell_qty': 221523, 'avg_trade_price': 881.72, 'low_price': 877.0, 'high_price': 888.0, 'lower_ckt': 0, 'upper_ckt': 0, 'open_price': 882.2, 'prev_close_price': 881.6, 'type': 'sf', 'symbol': 'BSE:SBIN-A', 'ch': -1.7, 'chp': -0.1928}\n",
      "Response: {'bid_price1': 879.85, 'bid_price2': 879.8, 'bid_price3': 879.7, 'bid_price4': 879.65, 'bid_price5': 879.6, 'ask_price1': 880.0, 'ask_price2': 880.05, 'ask_price3': 880.1, 'ask_price4': 880.15, 'ask_price5': 880.2, 'bid_size1': 64, 'bid_size2': 1, 'bid_size3': 287, 'bid_size4': 562, 'bid_size5': 678, 'ask_size1': 1725, 'ask_size2': 564, 'ask_size3': 791, 'ask_size4': 1078, 'ask_size5': 1260, 'bid_order1': 2, 'bid_order2': 1, 'bid_order3': 3, 'bid_order4': 4, 'bid_order5': 5, 'ask_order1': 13, 'ask_order2': 11, 'ask_order3': 11, 'ask_order4': 12, 'ask_order5': 11, 'type': 'dp', 'symbol': 'NSE:SBIN-EQ'}\n",
      "Response: {'ltp': 879.85, 'vol_traded_today': 4688568, 'last_traded_time': 1721106732, 'exch_feed_time': 1721106733, 'bid_size': 64, 'ask_size': 1725, 'bid_price': 879.85, 'ask_price': 880.0, 'last_traded_qty': 40, 'tot_buy_qty': 669418, 'tot_sell_qty': 1237582, 'avg_trade_price': 881.73, 'low_price': 877.0, 'high_price': 888.1, 'lower_ckt': 0, 'upper_ckt': 0, 'open_price': 882.3, 'prev_close_price': 881.35, 'type': 'sf', 'symbol': 'NSE:SBIN-EQ', 'ch': -1.5, 'chp': -0.1702}\n",
      "Response: {'bid_price1': 1027.7, 'bid_price2': 1027.65, 'bid_price3': 1027.6, 'bid_price4': 1027.55, 'bid_price5': 1027.5, 'ask_price1': 1027.9, 'ask_price2': 1028.05, 'ask_price3': 1028.1, 'ask_price4': 1028.15, 'ask_price5': 1028.2, 'bid_size1': 31, 'bid_size2': 1372, 'bid_size3': 850, 'bid_size4': 1235, 'bid_size5': 1183, 'ask_size1': 296, 'ask_size2': 139, 'ask_size3': 745, 'ask_size4': 242, 'ask_size5': 531, 'bid_order1': 1, 'bid_order2': 8, 'bid_order3': 6, 'bid_order4': 14, 'bid_order5': 17, 'ask_order1': 1, 'ask_order2': 3, 'ask_order3': 7, 'ask_order4': 3, 'ask_order5': 9, 'type': 'dp', 'symbol': 'NSE:TATAMOTORS-EQ'}\n",
      "Response: {'ltp': 1027.7, 'vol_traded_today': 2069827, 'last_traded_time': 1721106732, 'exch_feed_time': 1721106733, 'bid_size': 31, 'ask_size': 296, 'bid_price': 1027.7, 'ask_price': 1027.9, 'last_traded_qty': 2, 'tot_buy_qty': 425955, 'tot_sell_qty': 1002224, 'avg_trade_price': 1023.84, 'low_price': 1019.2, 'high_price': 1029.6, 'lower_ckt': 0, 'upper_ckt': 0, 'open_price': 1025.5, 'prev_close_price': 1024.45, 'type': 'sf', 'symbol': 'NSE:TATAMOTORS-EQ', 'ch': 3.25, 'chp': 0.3172}\n",
      "Response: {'bid_price1': 879.5, 'bid_price2': 879.45, 'bid_price3': 879.4, 'bid_price4': 879.35, 'bid_price5': 879.3, 'ask_price1': 879.9, 'ask_price2': 879.95, 'ask_price3': 880.0, 'ask_price4': 880.05, 'ask_price5': 880.1, 'bid_size1': 20, 'bid_size2': 314, 'bid_size3': 170, 'bid_size4': 873, 'bid_size5': 878, 'ask_size1': 61, 'ask_size2': 113, 'ask_size3': 445, 'ask_size4': 224, 'ask_size5': 279, 'bid_order1': 2, 'bid_order2': 9, 'bid_order3': 6, 'bid_order4': 8, 'bid_order5': 6, 'ask_order1': 1, 'ask_order2': 3, 'ask_order3': 7, 'ask_order4': 3, 'ask_order5': 5, 'type': 'dp', 'symbol': 'BSE:SBIN-A'}\n",
      "Response: {'ltp': 880.0, 'vol_traded_today': 4688568, 'last_traded_time': 1721106732, 'exch_feed_time': 1721106734, 'bid_size': 64, 'ask_size': 1725, 'bid_price': 879.85, 'ask_price': 880.0, 'last_traded_qty': 50, 'tot_buy_qty': 669418, 'tot_sell_qty': 1237582, 'avg_trade_price': 881.73, 'low_price': 877.0, 'high_price': 888.1, 'lower_ckt': 0, 'upper_ckt': 0, 'open_price': 882.3, 'prev_close_price': 881.35, 'type': 'sf', 'symbol': 'NSE:SBIN-EQ', 'ch': -1.35, 'chp': -0.1532}\n",
      "Response: {'ltp': 879.9, 'vol_traded_today': 210033, 'last_traded_time': 1721106732, 'exch_feed_time': 1721106736, 'bid_size': 20, 'ask_size': 61, 'bid_price': 879.5, 'ask_price': 879.9, 'last_traded_qty': 3, 'tot_buy_qty': 119144, 'tot_sell_qty': 221743, 'avg_trade_price': 881.72, 'low_price': 877.0, 'high_price': 888.0, 'lower_ckt': 0, 'upper_ckt': 0, 'open_price': 882.2, 'prev_close_price': 881.6, 'type': 'sf', 'symbol': 'BSE:SBIN-A', 'ch': -1.7, 'chp': -0.1928}\n",
      "Response: Response: {'bid_price1': 879.5, 'bid_price2': 879.45, 'bid_price3': 879.4, 'bid_price4': 879.35, 'bid_price5': 879.3, 'ask_price1': 879.9, 'ask_price2': 879.95, 'ask_price3': 880.0, 'ask_price4': 880.05, 'ask_price5': 880.1, 'bid_size1': 20, 'bid_size2': 177, 'bid_size3': 170, 'bid_size4': 873, 'bid_size5': 878, 'ask_size1': 61, 'ask_size2': 113, 'ask_size3': 445, 'ask_size4': 224, 'ask_size5': 279, 'bid_order1': 2, 'bid_order2': 8, 'bid_order3': 6, 'bid_order4': 8, 'bid_order5': 6, 'ask_order1': 1, 'ask_order2': 3, 'ask_order3': 7, 'ask_order4': 3, 'ask_order5': 5, 'type': 'dp', 'symbol': 'BSE:SBIN-A'}\n",
      "{'ltp': 879.9, 'vol_traded_today': 210033, 'last_traded_time': 1721106732, 'exch_feed_time': 1721106736, 'bid_size': 20, 'ask_size': 61, 'bid_price': 879.5, 'ask_price': 879.9, 'last_traded_qty': 3, 'tot_buy_qty': 118781, 'tot_sell_qty': 221286, 'avg_trade_price': 881.72, 'low_price': 877.0, 'high_price': 888.0, 'lower_ckt': 0, 'upper_ckt': 0, 'open_price': 882.2, 'prev_close_price': 881.6, 'type': 'sf', 'symbol': 'BSE:SBIN-A', 'ch': -1.7, 'chp': -0.1928}\n",
      "Response: {'bid_price1': 879.85, 'bid_price2': 879.8, 'bid_price3': 879.7, 'bid_price4': 879.65, 'bid_price5': 879.6, 'ask_price1': 880.0, 'ask_price2': 880.05, 'ask_price3': 880.1, 'ask_price4': 880.15, 'ask_price5': 880.2, 'bid_size1': 64, 'bid_size2': 1, 'bid_size3': 231, 'bid_size4': 335, 'bid_size5': 678, 'ask_size1': 1665, 'ask_size2': 564, 'ask_size3': 791, 'ask_size4': 1131, 'ask_size5': 1260, 'bid_order1': 2, 'bid_order2': 1, 'bid_order3': 2, 'bid_order4': 3, 'bid_order5': 5, 'ask_order1': 13, 'ask_order2': 11, 'ask_order3': 11, 'ask_order4': 13, 'ask_order5': 11, 'type': 'dp', 'symbol': 'NSE:SBIN-EQ'}\n",
      "Response: {'ltp': 880.0, 'vol_traded_today': 4688629, 'last_traded_time': 1721106734, 'exch_feed_time': 1721106734, 'bid_size': 64, 'ask_size': 1665, 'bid_price': 879.85, 'ask_price': 880.0, 'last_traded_qty': 1, 'tot_buy_qty': 669462, 'tot_sell_qty': 1237422, 'avg_trade_price': 881.73, 'low_price': 877.0, 'high_price': 888.1, 'lower_ckt': 0, 'upper_ckt': 0, 'open_price': 882.3, 'prev_close_price': 881.35, 'type': 'sf', 'symbol': 'NSE:SBIN-EQ', 'ch': -1.35, 'chp': -0.1532}\n",
      "Response: {'bid_price1': 1027.6, 'bid_price2': 1027.55, 'bid_price3': 1027.5, 'bid_price4': 1027.45, 'bid_price5': 1027.4, 'ask_price1': 1027.9, 'ask_price2': 1028.0, 'ask_price3': 1028.05, 'ask_price4': 1028.1, 'ask_price5': 1028.15, 'bid_size1': 3, 'bid_size2': 1447, 'bid_size3': 1034, 'bid_size4': 1038, 'bid_size5': 2421, 'ask_size1': 296, 'ask_size2': 205, 'ask_size3': 366, 'ask_size4': 802, 'ask_size5': 307, 'bid_order1': 1, 'bid_order2': 11, 'bid_order3': 16, 'bid_order4': 7, 'bid_order5': 13, 'ask_order1': 1, 'ask_order2': 4, 'ask_order3': 4, 'ask_order4': 9, 'ask_order5': 5, 'type': 'dp', 'symbol': 'NSE:TATAMOTORS-EQ'}\n",
      "Response: {'ltp': 1027.7, 'vol_traded_today': 2069827, 'last_traded_time': 1721106732, 'exch_feed_time': 1721106735, 'bid_size': 3, 'ask_size': 296, 'bid_price': 1027.6, 'ask_price': 1027.9, 'last_traded_qty': 2, 'tot_buy_qty': 424138, 'tot_sell_qty': 1002291, 'avg_trade_price': 1023.84, 'low_price': 1019.2, 'high_price': 1029.6, 'lower_ckt': 0, 'upper_ckt': 0, 'open_price': 1025.5, 'prev_close_price': 1024.45, 'type': 'sf', 'symbol': 'NSE:TATAMOTORS-EQ', 'ch': 3.25, 'chp': 0.3172}\n",
      "Response: {'ltp': 880.0, 'vol_traded_today': 4688629, 'last_traded_time': 1721106734, 'exch_feed_time': 1721106735, 'bid_size': 64, 'ask_size': 1665, 'bid_price': 879.85, 'ask_price': 880.0, 'last_traded_qty': 10, 'tot_buy_qty': 669462, 'tot_sell_qty': 1237422, 'avg_trade_price': 881.73, 'low_price': 877.0, 'high_price': 888.1, 'lower_ckt': 0, 'upper_ckt': 0, 'open_price': 882.3, 'prev_close_price': 881.35, 'type': 'sf', 'symbol': 'NSE:SBIN-EQ', 'ch': -1.35, 'chp': -0.1532}\n",
      "Response: {'bid_price1': 879.5, 'bid_price2': 879.45, 'bid_price3': 879.4, 'bid_price4': 879.35, 'bid_price5': 879.3, 'ask_price1': 879.9, 'ask_price2': 879.95, 'ask_price3': 880.0, 'ask_price4': 880.05, 'ask_price5': 880.1, 'bid_size1': 20, 'bid_size2': 521, 'bid_size3': 170, 'bid_size4': 873, 'bid_size5': 951, 'ask_size1': 61, 'ask_size2': 113, 'ask_size3': 445, 'ask_size4': 224, 'ask_size5': 279, 'bid_order1': 2, 'bid_order2': 9, 'bid_order3': 6, 'bid_order4': 8, 'bid_order5': 7, 'ask_order1': 1, 'ask_order2': 3, 'ask_order3': 7, 'ask_order4': 3, 'ask_order5': 5, 'type': 'dp', 'symbol': 'BSE:SBIN-A'}\n",
      "Response: {'ltp': 879.9, 'vol_traded_today': 210033, 'last_traded_time': 1721106732, 'exch_feed_time': 1721106737, 'bid_size': 20, 'ask_size': 61, 'bid_price': 879.5, 'ask_price': 879.9, 'last_traded_qty': 3, 'tot_buy_qty': 119308, 'tot_sell_qty': 221363, 'avg_trade_price': 881.72, 'low_price': 877.0, 'high_price': 888.0, 'lower_ckt': 0, 'upper_ckt': 0, 'open_price': 882.2, 'prev_close_price': 881.6, 'type': 'sf', 'symbol': 'BSE:SBIN-A', 'ch': -1.7, 'chp': -0.1928}\n",
      "Response: {'bid_price1': 879.55, 'bid_price2': 879.5, 'bid_price3': 879.45, 'bid_price4': 879.4, 'bid_price5': 879.35, 'ask_price1': 879.95, 'ask_price2': 880.0, 'ask_price3': 880.05, 'ask_price4': 880.1, 'ask_price5': 880.15, 'bid_size1': 322, 'bid_size2': 500, 'bid_size3': 1200, 'bid_size4': 1297, 'bid_size5': 772, 'ask_size1': 5, 'ask_size2': 161, 'ask_size3': 121, 'ask_size4': 261, 'ask_size5': 223, 'bid_order1': 12, 'bid_order2': 10, 'bid_order3': 9, 'bid_order4': 5, 'bid_order5': 4, 'ask_order1': 1, 'ask_order2': 5, 'ask_order3': 2, 'ask_order4': 4, 'ask_order5': 3, 'type': 'dp', 'symbol': 'BSE:SBIN-A'}\n",
      "Response: {'ltp': 879.9, 'vol_traded_today': 210033, 'last_traded_time': 1721106732, 'exch_feed_time': 1721106737, 'bid_size': 322, 'ask_size': 5, 'bid_price': 879.55, 'ask_price': 879.95, 'last_traded_qty': 3, 'tot_buy_qty': 115564, 'tot_sell_qty': 224566, 'avg_trade_price': 881.72, 'low_price': 877.0, 'high_price': 888.0, 'lower_ckt': 0, 'upper_ckt': 0, 'open_price': 882.2, 'prev_close_price': 881.6, 'type': 'sf', 'symbol': 'BSE:SBIN-A', 'ch': -1.7, 'chp': -0.1928}\n",
      "Response: {'bid_price1': 879.95, 'bid_price2': 879.9, 'bid_price3': 879.85, 'bid_price4': 879.8, 'bid_price5': 879.75, 'ask_price1': 880.1, 'ask_price2': 880.15, 'ask_price3': 880.2, 'ask_price4': 880.25, 'ask_price5': 880.3, 'bid_size1': 94, 'bid_size2': 228, 'bid_size3': 84, 'bid_size4': 839, 'bid_size5': 446, 'ask_size1': 50, 'ask_size2': 84, 'ask_size3': 533, 'ask_size4': 511, 'ask_size5': 909, 'bid_order1': 1, 'bid_order2': 1, 'bid_order3': 3, 'bid_order4': 4, 'bid_order5': 4, 'ask_order1': 1, 'ask_order2': 3, 'ask_order3': 7, 'ask_order4': 7, 'ask_order5': 15, 'type': 'dp', 'symbol': 'NSE:SBIN-EQ'}\n",
      "Response: {'ltp': 880.05, 'vol_traded_today': 4692676, 'last_traded_time': 1721106735, 'exch_feed_time': 1721106735, 'bid_size': 94, 'ask_size': 50, 'bid_price': 879.95, 'ask_price': 880.1, 'last_traded_qty': 8, 'tot_buy_qty': 671022, 'tot_sell_qty': 1224487, 'avg_trade_price': 881.73, 'low_price': 877.0, 'high_price': 888.1, 'lower_ckt': 0, 'upper_ckt': 0, 'open_price': 882.3, 'prev_close_price': 881.35, 'type': 'sf', 'symbol': 'NSE:SBIN-EQ', 'ch': -1.3, 'chp': -0.1475}\n",
      "Response: {'ltp': 880.05, 'vol_traded_today': 4692676, 'last_traded_time': 1721106735, 'exch_feed_time': 1721106736, 'bid_size': 94, 'ask_size': 50, 'bid_price': 879.95, 'ask_price': 880.1, 'last_traded_qty': 8, 'tot_buy_qty': 671022, 'tot_sell_qty': 1224487, 'avg_trade_price': 881.73, 'low_price': 877.0, 'high_price': 888.1, 'lower_ckt': 0, 'upper_ckt': 0, 'open_price': 882.3, 'prev_close_price': 881.35, 'type': 'sf', 'symbol': 'NSE:SBIN-EQ', 'ch': -1.3, 'chp': -0.1475}\n",
      "Response: {'ltp': 1027.9, 'vol_traded_today': 2069827, 'last_traded_time': 1721106732, 'exch_feed_time': 1721106736, 'bid_size': 3, 'ask_size': 296, 'bid_price': 1027.6, 'ask_price': 1027.9, 'last_traded_qty': 100, 'tot_buy_qty': 424138, 'tot_sell_qty': 1002291, 'avg_trade_price': 1023.84, 'low_price': 1019.2, 'high_price': 1029.6, 'lower_ckt': 0, 'upper_ckt': 0, 'open_price': 1025.5, 'prev_close_price': 1024.45, 'type': 'sf', 'symbol': 'NSE:TATAMOTORS-EQ', 'ch': 3.45, 'chp': 0.3368}\n",
      "Response: {'bid_price1': 1027.65, 'bid_price2': 1027.6, 'bid_price3': 1027.55, 'bid_price4': 1027.5, 'bid_price5': 1027.45, 'ask_price1': 1027.9, 'ask_price2': 1028.0, 'ask_price3': 1028.05, 'ask_price4': 1028.1, 'ask_price5': 1028.15, 'bid_size1': 1263, 'bid_size2': 774, 'bid_size3': 1234, 'bid_size4': 1096, 'bid_size5': 955, 'ask_size1': 195, 'ask_size2': 10, 'ask_size3': 139, 'ask_size4': 726, 'ask_size5': 475, 'bid_order1': 7, 'bid_order2': 6, 'bid_order3': 14, 'bid_order4': 16, 'bid_order5': 7, 'ask_order1': 1, 'ask_order2': 2, 'ask_order3': 3, 'ask_order4': 6, 'ask_order5': 5, 'type': 'dp', 'symbol': 'NSE:TATAMOTORS-EQ'}\n",
      "Response: {'ltp': 1027.9, 'vol_traded_today': 2069928, 'last_traded_time': 1721106736, 'exch_feed_time': 1721106736, 'bid_size': 1263, 'ask_size': 195, 'bid_price': 1027.65, 'ask_price': 1027.9, 'last_traded_qty': 1, 'tot_buy_qty': 425577, 'tot_sell_qty': 1002765, 'avg_trade_price': 1023.84, 'low_price': 1019.2, 'high_price': 1029.6, 'lower_ckt': 0, 'upper_ckt': 0, 'open_price': 1025.5, 'prev_close_price': 1024.45, 'type': 'sf', 'symbol': 'NSE:TATAMOTORS-EQ', 'ch': 3.45, 'chp': 0.3368}\n",
      "Response: {'bid_price1': 1027.65, 'bid_price2': 1027.6, 'bid_price3': 1027.55, 'bid_price4': 1027.5, 'bid_price5': 1027.45, 'ask_price1': 1027.9, 'ask_price2': 1028.0, 'ask_price3': 1028.05, 'ask_price4': 1028.1, 'ask_price5': 1028.15, 'bid_size1': 1263, 'bid_size2': 774, 'bid_size3': 1234, 'bid_size4': 1096, 'bid_size5': 955, 'ask_size1': 236, 'ask_size2': 10, 'ask_size3': 139, 'ask_size4': 726, 'ask_size5': 475, 'bid_order1': 7, 'bid_order2': 6, 'bid_order3': 14, 'bid_order4': 16, 'bid_order5': 7, 'ask_order1': 2, 'ask_order2': 2, 'ask_order3': 3, 'ask_order4': 6, 'ask_order5': 5, 'type': 'dp', 'symbol': 'NSE:TATAMOTORS-EQ'}\n",
      "Response: {'ltp': 1027.9, 'vol_traded_today': 2069928, 'last_traded_time': 1721106736, 'exch_feed_time': 1721106736, 'bid_size': 1263, 'ask_size': 236, 'bid_price': 1027.65, 'ask_price': 1027.9, 'last_traded_qty': 1, 'tot_buy_qty': 425577, 'tot_sell_qty': 1002754, 'avg_trade_price': 1023.84, 'low_price': 1019.2, 'high_price': 1029.6, 'lower_ckt': 0, 'upper_ckt': 0, 'open_price': 1025.5, 'prev_close_price': 1024.45, 'type': 'sf', 'symbol': 'NSE:TATAMOTORS-EQ', 'ch': 3.45, 'chp': 0.3368}\n",
      "Response: {'ltp': 879.95, 'vol_traded_today': 210038, 'last_traded_time': 1721106735, 'exch_feed_time': 1721106737, 'bid_size': 244, 'ask_size': 225, 'bid_price': 879.65, 'ask_price': 880.0, 'last_traded_qty': 5, 'tot_buy_qty': 116551, 'tot_sell_qty': 223136, 'avg_trade_price': 881.72, 'low_price': 877.0, 'high_price': 888.0, 'lower_ckt': 0, 'upper_ckt': 0, 'open_price': 882.2, 'prev_close_price': 881.6, 'type': 'sf', 'symbol': 'BSE:SBIN-A', 'ch': -1.65, 'chp': -0.1872}\n",
      "Response: {'bid_price1': 879.65, 'bid_price2': 879.6, 'bid_price3': 879.55, 'bid_price4': 879.5, 'bid_price5': 879.45, 'ask_price1': 880.0, 'ask_price2': 880.1, 'ask_price3': 880.15, 'ask_price4': 880.2, 'ask_price5': 880.25, 'bid_size1': 244, 'bid_size2': 258, 'bid_size3': 457, 'bid_size4': 968, 'bid_size5': 524, 'ask_size1': 225, 'ask_size2': 172, 'ask_size3': 168, 'ask_size4': 384, 'ask_size5': 269, 'bid_order1': 2, 'bid_order2': 12, 'bid_order3': 6, 'bid_order4': 9, 'bid_order5': 5, 'ask_order1': 6, 'ask_order2': 3, 'ask_order3': 3, 'ask_order4': 4, 'ask_order5': 4, 'type': 'dp', 'symbol': 'BSE:SBIN-A'}\n",
      "Response: {'bid_price1': 879.65, 'bid_price2': 879.6, 'bid_price3': 879.55, 'bid_price4': 879.5, 'bid_price5': 879.45, 'ask_price1': 880.0, 'ask_price2': 880.1, 'ask_price3': 880.15, 'ask_price4': 880.2, 'ask_price5': 880.25, 'bid_size1': 304, 'bid_size2': 212, 'bid_size3': 382, 'bid_size4': 1467, 'bid_size5': 524, 'ask_size1': 225, 'ask_size2': 172, 'ask_size3': 168, 'ask_size4': 384, 'ask_size5': 269, 'bid_order1': 7, 'bid_order2': 9, 'bid_order3': 4, 'bid_order4': 10, 'bid_order5': 5, 'ask_order1': 6, 'ask_order2': 3, 'ask_order3': 3, 'ask_order4': 4, 'ask_order5': 4, 'type': 'dp', 'symbol': 'BSE:SBIN-A'}\n",
      "Response: {'ltp': 879.95, 'vol_traded_today': 210038, 'last_traded_time': 1721106735, 'exch_feed_time': 1721106737, 'bid_size': 304, 'ask_size': 225, 'bid_price': 879.65, 'ask_price': 880.0, 'last_traded_qty': 5, 'tot_buy_qty': 117178, 'tot_sell_qty': 222679, 'avg_trade_price': 881.72, 'low_price': 877.0, 'high_price': 888.0, 'lower_ckt': 0, 'upper_ckt': 0, 'open_price': 882.2, 'prev_close_price': 881.6, 'type': 'sf', 'symbol': 'BSE:SBIN-A', 'ch': -1.65, 'chp': -0.1872}\n",
      "Response: {'bid_price1': 879.95, 'bid_price2': 879.85, 'bid_price3': 879.8, 'bid_price4': 879.75, 'bid_price5': 879.7, 'ask_price1': 880.0, 'ask_price2': 880.1, 'ask_price3': 880.15, 'ask_price4': 880.2, 'ask_price5': 880.25, 'bid_size1': 128, 'bid_size2': 31, 'bid_size3': 269, 'bid_size4': 168, 'bid_size5': 780, 'ask_size1': 25, 'ask_size2': 270, 'ask_size3': 573, 'ask_size4': 571, 'ask_size5': 941, 'bid_order1': 1, 'bid_order2': 2, 'bid_order3': 2, 'bid_order4': 2, 'bid_order5': 3, 'ask_order1': 1, 'ask_order2': 2, 'ask_order3': 6, 'ask_order4': 8, 'ask_order5': 13, 'type': 'dp', 'symbol': 'NSE:SBIN-EQ'}\n",
      "Response: {'ltp': 879.95, 'vol_traded_today': 4692832, 'last_traded_time': 1721106737, 'exch_feed_time': 1721106737, 'bid_size': 128, 'ask_size': 25, 'bid_price': 879.95, 'ask_price': 880.0, 'last_traded_qty': 10, 'tot_buy_qty': 673353, 'tot_sell_qty': 1233564, 'avg_trade_price': 881.73, 'low_price': 877.0, 'high_price': 888.1, 'lower_ckt': 0, 'upper_ckt': 0, 'open_price': 882.3, 'prev_close_price': 881.35, 'type': 'sf', 'symbol': 'NSE:SBIN-EQ', 'ch': -1.4, 'chp': -0.1588}\n",
      "Response: {'ltp': 1027.9, 'vol_traded_today': 2069928, 'last_traded_time': 1721106736, 'exch_feed_time': 1721106737, 'bid_size': 1263, 'ask_size': 236, 'bid_price': 1027.65, 'ask_price': 1027.9, 'last_traded_qty': 50, 'tot_buy_qty': 425577, 'tot_sell_qty': 1002754, 'avg_trade_price': 1023.84, 'low_price': 1019.2, 'high_price': 1029.6, 'lower_ckt': 0, 'upper_ckt': 0, 'open_price': 1025.5, 'prev_close_price': 1024.45, 'type': 'sf', 'symbol': 'NSE:TATAMOTORS-EQ', 'ch': 3.45, 'chp': 0.3368}\n",
      "Response: {'bid_price1': 1027.65, 'bid_price2': 1027.6, 'bid_price3': 1027.55, 'bid_price4': 1027.5, 'bid_price5': 1027.45, 'ask_price1': 1027.9, 'ask_price2': 1028.0, 'ask_price3': 1028.05, 'ask_price4': 1028.1, 'ask_price5': 1028.15, 'bid_size1': 1281, 'bid_size2': 668, 'bid_size3': 1205, 'bid_size4': 1167, 'bid_size5': 975, 'ask_size1': 186, 'ask_size2': 10, 'ask_size3': 89, 'ask_size4': 592, 'ask_size5': 422, 'bid_order1': 9, 'bid_order2': 4, 'bid_order3': 13, 'bid_order4': 16, 'bid_order5': 8, 'ask_order1': 2, 'ask_order2': 2, 'ask_order3': 2, 'ask_order4': 5, 'ask_order5': 4, 'type': 'dp', 'symbol': 'NSE:TATAMOTORS-EQ'}\n",
      "Response: {'ltp': 1027.7, 'vol_traded_today': 2070028, 'last_traded_time': 1721106737, 'exch_feed_time': 1721106737, 'bid_size': 1281, 'ask_size': 186, 'bid_price': 1027.65, 'ask_price': 1027.9, 'last_traded_qty': 50, 'tot_buy_qty': 429034, 'tot_sell_qty': 1002234, 'avg_trade_price': 1023.84, 'low_price': 1019.2, 'high_price': 1029.6, 'lower_ckt': 0, 'upper_ckt': 0, 'open_price': 1025.5, 'prev_close_price': 1024.45, 'type': 'sf', 'symbol': 'NSE:TATAMOTORS-EQ', 'ch': 3.25, 'chp': 0.3172}\n",
      "Response: {'bid_price1': 879.35, 'bid_price2': 879.3, 'bid_price3': 879.25, 'bid_price4': 879.2, 'bid_price5': 879.15, 'ask_price1': 879.9, 'ask_price2': 879.95, 'ask_price3': 880.0, 'ask_price4': 880.05, 'ask_price5': 880.1, 'bid_size1': 190, 'bid_size2': 109, 'bid_size3': 349, 'bid_size4': 689, 'bid_size5': 316, 'ask_size1': 190, 'ask_size2': 144, 'ask_size3': 445, 'ask_size4': 76, 'ask_size5': 413, 'bid_order1': 3, 'bid_order2': 1, 'bid_order3': 4, 'bid_order4': 4, 'bid_order5': 5, 'ask_order1': 3, 'ask_order2': 2, 'ask_order3': 7, 'ask_order4': 2, 'ask_order5': 5, 'type': 'dp', 'symbol': 'BSE:SBIN-A'}\n",
      "Response: {'ltp': 879.55, 'vol_traded_today': 210638, 'last_traded_time': 1721106737, 'exch_feed_time': 1721106739, 'bid_size': 190, 'ask_size': 190, 'bid_price': 879.35, 'ask_price': 879.9, 'last_traded_qty': 84, 'tot_buy_qty': 116576, 'tot_sell_qty': 222368, 'avg_trade_price': 881.71, 'low_price': 877.0, 'high_price': 888.0, 'lower_ckt': 0, 'upper_ckt': 0, 'open_price': 882.2, 'prev_close_price': 881.6, 'type': 'sf', 'symbol': 'BSE:SBIN-A', 'ch': -2.05, 'chp': -0.2325}\n",
      "Response: {'bid_price1': 879.65, 'bid_price2': 879.6, 'bid_price3': 879.55, 'bid_price4': 879.5, 'bid_price5': 879.45, 'ask_price1': 880.0, 'ask_price2': 880.05, 'ask_price3': 880.1, 'ask_price4': 880.15, 'ask_price5': 880.2, 'bid_size1': 274, 'bid_size2': 597, 'bid_size3': 590, 'bid_size4': 1153, 'bid_size5': 1296, 'ask_size1': 445, 'ask_size2': 578, 'ask_size3': 1275, 'ask_size4': 935, 'ask_size5': 1321, 'bid_order1': 2, 'bid_order2': 5, 'bid_order3': 6, 'bid_order4': 13, 'bid_order5': 8, 'ask_order1': 5, 'ask_order2': 5, 'ask_order3': 8, 'ask_order4': 13, 'ask_order5': 11, 'type': 'dp', 'symbol': 'NSE:SBIN-EQ'}\n",
      "Response: {'ltp': 879.95, 'vol_traded_today': 4693312, 'last_traded_time': 1721106737, 'exch_feed_time': 1721106738, 'bid_size': 274, 'ask_size': 445, 'bid_price': 879.65, 'ask_price': 880.0, 'last_traded_qty': 10, 'tot_buy_qty': 671104, 'tot_sell_qty': 1242357, 'avg_trade_price': 881.73, 'low_price': 877.0, 'high_price': 888.1, 'lower_ckt': 0, 'upper_ckt': 0, 'open_price': 882.3, 'prev_close_price': 881.35, 'type': 'sf', 'symbol': 'NSE:SBIN-EQ', 'ch': -1.4, 'chp': -0.1588}\n",
      "Response: {'ltp': 1027.9, 'vol_traded_today': 2070028, 'last_traded_time': 1721106737, 'exch_feed_time': 1721106738, 'bid_size': 1281, 'ask_size': 186, 'bid_price': 1027.65, 'ask_price': 1027.9, 'last_traded_qty': 37, 'tot_buy_qty': 429034, 'tot_sell_qty': 1002234, 'avg_trade_price': 1023.84, 'low_price': 1019.2, 'high_price': 1029.6, 'lower_ckt': 0, 'upper_ckt': 0, 'open_price': 1025.5, 'prev_close_price': 1024.45, 'type': 'sf', 'symbol': 'NSE:TATAMOTORS-EQ', 'ch': 3.45, 'chp': 0.3368}\n",
      "Response: {'bid_price1': 879.35, 'bid_price2': 879.3, 'bid_price3': 879.25, 'bid_price4': 879.2, 'bid_price5': 879.15, 'ask_price1': 879.9, 'ask_price2': 879.95, 'ask_price3': 880.0, 'ask_price4': 880.05, 'ask_price5': 880.1, 'bid_size1': 320, 'bid_size2': 628, 'bid_size3': 1119, 'bid_size4': 841, 'bid_size5': 647, 'ask_size1': 146, 'ask_size2': 188, 'ask_size3': 445, 'ask_size4': 76, 'ask_size5': 413, 'bid_order1': 12, 'bid_order2': 4, 'bid_order3': 8, 'bid_order4': 7, 'bid_order5': 3, 'ask_order1': 2, 'ask_order2': 3, 'ask_order3': 7, 'ask_order4': 2, 'ask_order5': 5, 'type': 'dp', 'symbol': 'BSE:SBIN-A'}\n",
      "Response: {'ltp': 879.55, 'vol_traded_today': 210638, 'last_traded_time': 1721106737, 'exch_feed_time': 1721106740, 'bid_size': 320, 'ask_size': 146, 'bid_price': 879.35, 'ask_price': 879.9, 'last_traded_qty': 84, 'tot_buy_qty': 117669, 'tot_sell_qty': 223373, 'avg_trade_price': 881.71, 'low_price': 877.0, 'high_price': 888.0, 'lower_ckt': 0, 'upper_ckt': 0, 'open_price': 882.2, 'prev_close_price': 881.6, 'type': 'sf', 'symbol': 'BSE:SBIN-A', 'ch': -2.05, 'chp': -0.2325}\n",
      "Response: {'bid_price1': 1027.75, 'bid_price2': 1027.7, 'bid_price3': 1027.65, 'bid_price4': 1027.6, 'bid_price5': 1027.55, 'ask_price1': 1027.9, 'ask_price2': 1028.0, 'ask_price3': 1028.05, 'ask_price4': 1028.1, 'ask_price5': 1028.15, 'bid_size1': 28, 'bid_size2': 1635, 'bid_size3': 906, 'bid_size4': 241, 'bid_size5': 1958, 'ask_size1': 144, 'ask_size2': 10, 'ask_size3': 89, 'ask_size4': 518, 'ask_size5': 428, 'bid_order1': 1, 'bid_order2': 4, 'bid_order3': 8, 'bid_order4': 5, 'bid_order5': 16, 'ask_order1': 2, 'ask_order2': 2, 'ask_order3': 2, 'ask_order4': 3, 'ask_order5': 5, 'type': 'dp', 'symbol': 'NSE:TATAMOTORS-EQ'}\n",
      "Response: {'ltp': 1027.9, 'vol_traded_today': 2070070, 'last_traded_time': 1721106738, 'exch_feed_time': 1721106738, 'bid_size': 28, 'ask_size': 144, 'bid_price': 1027.75, 'ask_price': 1027.9, 'last_traded_qty': 5, 'tot_buy_qty': 428854, 'tot_sell_qty': 1001899, 'avg_trade_price': 1023.84, 'low_price': 1019.2, 'high_price': 1029.6, 'lower_ckt': 0, 'upper_ckt': 0, 'open_price': 1025.5, 'prev_close_price': 1024.45, 'type': 'sf', 'symbol': 'NSE:TATAMOTORS-EQ', 'ch': 3.45, 'chp': 0.3368}\n",
      "Response: {'type': 'unsub', 'code': 200, 'message': 'Unsubscribed', 's': 'ok'}\n",
      "Response: {'ltp': 879.7, 'vol_traded_today': 4693312, 'last_traded_time': 1721106737, 'exch_feed_time': 1721106739, 'bid_size': 274, 'ask_size': 445, 'bid_price': 879.65, 'ask_price': 880.0, 'last_traded_qty': 1, 'tot_buy_qty': 671104, 'tot_sell_qty': 1242357, 'avg_trade_price': 881.73, 'low_price': 877.0, 'high_price': 888.1, 'lower_ckt': 0, 'upper_ckt': 0, 'open_price': 882.3, 'prev_close_price': 881.35, 'type': 'sf', 'symbol': 'NSE:SBIN-EQ', 'ch': -1.65, 'chp': -0.1872}\n",
      "Response: {'ltp': 879.55, 'vol_traded_today': 210638, 'last_traded_time': 1721106737, 'exch_feed_time': 1721106740, 'bid_size': 833, 'ask_size': 64, 'bid_price': 879.35, 'ask_price': 879.9, 'last_traded_qty': 84, 'tot_buy_qty': 118233, 'tot_sell_qty': 222711, 'avg_trade_price': 881.71, 'low_price': 877.0, 'high_price': 888.0, 'lower_ckt': 0, 'upper_ckt': 0, 'open_price': 882.2, 'prev_close_price': 881.6, 'type': 'sf', 'symbol': 'BSE:SBIN-A', 'ch': -2.05, 'chp': -0.2325}\n",
      "Response: {'ltp': 1027.9, 'vol_traded_today': 2070070, 'last_traded_time': 1721106738, 'exch_feed_time': 1721106739, 'bid_size': 28, 'ask_size': 144, 'bid_price': 1027.75, 'ask_price': 1027.9, 'last_traded_qty': 5, 'tot_buy_qty': 428854, 'tot_sell_qty': 1001899, 'avg_trade_price': 1023.84, 'low_price': 1019.2, 'high_price': 1029.6, 'lower_ckt': 0, 'upper_ckt': 0, 'open_price': 1025.5, 'prev_close_price': 1024.45, 'type': 'sf', 'symbol': 'NSE:TATAMOTORS-EQ', 'ch': 3.45, 'chp': 0.3368}\n",
      "Response: {'ltp': 880.0, 'vol_traded_today': 4693317, 'last_traded_time': 1721106739, 'exch_feed_time': 1721106739, 'bid_size': 294, 'ask_size': 322, 'bid_price': 879.7, 'ask_price': 880.05, 'last_traded_qty': 1, 'tot_buy_qty': 672287, 'tot_sell_qty': 1239441, 'avg_trade_price': 881.73, 'low_price': 877.0, 'high_price': 888.1, 'lower_ckt': 0, 'upper_ckt': 0, 'open_price': 882.3, 'prev_close_price': 881.35, 'type': 'sf', 'symbol': 'NSE:SBIN-EQ', 'ch': -1.35, 'chp': -0.1532}\n",
      "Response: {'type': 'unsub', 'code': 200, 'message': 'Unsubscribed', 's': 'ok'}\n",
      "processes closed!\n",
      "\n",
      "\n",
      "\n",
      "\n",
      "\n",
      "\n",
      "\n"
     ]
    }
   ],
   "source": [
    "connect(access_token=access_token,stonks=stonks,wait_time=wait_time)"
   ]
  },
  {
   "cell_type": "code",
   "execution_count": 1,
   "metadata": {},
   "outputs": [
    {
     "data": {
      "text/plain": [
       "'2024-07'"
      ]
     },
     "execution_count": 1,
     "metadata": {},
     "output_type": "execute_result"
    }
   ],
   "source": [
    "date = '2024-07-08'\n",
    "'-'.join(date.split('-')[:2])"
   ]
  },
  {
   "cell_type": "code",
   "execution_count": 4,
   "metadata": {},
   "outputs": [
    {
     "ename": "AttributeError",
     "evalue": "'list' object has no attribute 'split'",
     "output_type": "error",
     "traceback": [
      "\u001b[0;31m---------------------------------------------------------------------------\u001b[0m",
      "\u001b[0;31mAttributeError\u001b[0m                            Traceback (most recent call last)",
      "Cell \u001b[0;32mIn[4], line 2\u001b[0m\n\u001b[1;32m      1\u001b[0m stonk \u001b[38;5;241m=\u001b[39m\u001b[38;5;124m'\u001b[39m\u001b[38;5;124mNSE:SBIN-EQ\u001b[39m\u001b[38;5;124m'\u001b[39m\n\u001b[0;32m----> 2\u001b[0m exchange,ticker,_ \u001b[38;5;241m=\u001b[39m \u001b[43mstonk\u001b[49m\u001b[38;5;241;43m.\u001b[39;49m\u001b[43msplit\u001b[49m\u001b[43m(\u001b[49m\u001b[38;5;124;43m'\u001b[39;49m\u001b[38;5;124;43m:\u001b[39;49m\u001b[38;5;124;43m'\u001b[39;49m\u001b[43m)\u001b[49m\u001b[38;5;241;43m.\u001b[39;49m\u001b[43msplit\u001b[49m(\u001b[38;5;124m'\u001b[39m\u001b[38;5;124m-\u001b[39m\u001b[38;5;124m'\u001b[39m)\n",
      "\u001b[0;31mAttributeError\u001b[0m: 'list' object has no attribute 'split'"
     ]
    }
   ],
   "source": [
    "stonk ='NSE:SBIN-EQ'\n",
    "exchange,name= stonk.split(':')\n",
    "ticker = name.split('-')[0]\n"
   ]
  },
  {
   "cell_type": "code",
   "execution_count": 3,
   "metadata": {},
   "outputs": [
    {
     "data": {
      "text/plain": [
       "'SBIN-EQ'"
      ]
     },
     "execution_count": 3,
     "metadata": {},
     "output_type": "execute_result"
    }
   ],
   "source": [
    "ticker"
   ]
  },
  {
   "cell_type": "code",
   "execution_count": 6,
   "metadata": {},
   "outputs": [
    {
     "data": {
      "text/plain": [
       "20"
      ]
     },
     "execution_count": 6,
     "metadata": {},
     "output_type": "execute_result"
    }
   ],
   "source": [
    "len(['ltp', 'vol_traded_today', 'last_traded_time', 'exch_feed_time', 'bid_size', 'ask_size',\n",
    "                        'bid_price', 'ask_price', 'last_traded_qty', 'tot_buy_qty', 'tot_sell_qty', 'avg_trade_price',\n",
    "                        'low_price','high_price', 'lower_ckt', 'upper_ckt', 'open_price', 'prev_close_price', 'ch', 'chp'])\n",
    "        "
   ]
  },
  {
   "cell_type": "code",
   "execution_count": 7,
   "metadata": {},
   "outputs": [
    {
     "data": {
      "text/plain": [
       "30"
      ]
     },
     "execution_count": 7,
     "metadata": {},
     "output_type": "execute_result"
    }
   ],
   "source": [
    "len(['bid_price1','bid_price2','bid_price3','bid_price4','bid_price5',\n",
    "                    'bid_size1','bid_size2','bid_size3','bid_size4','bid_size5',\n",
    "                    'bid_order1','bid_order2','bid_order3','bid_order4','bid_order5',\n",
    "                    'ask_price1','ask_price2','ask_price3','ask_price4','ask_price5',\n",
    "                    'ask_size1','ask_size2','ask_size3','ask_size4','ask_size5',\n",
    "                    'ask_order1','ask_order2','ask_order3','ask_order4','ask_order5'])"
   ]
  },
  {
   "cell_type": "code",
   "execution_count": 1,
   "metadata": {},
   "outputs": [],
   "source": [
    "from wbsoc import Depth\n",
    "import Save\n",
    "\n",
    "test = Depth('lala',['NSE:SBIN-EQ','BSE:SBIN-A','NSE:TATAMOTORS-EQ'],directory=r'/Users/gurusai/programming/STONKS/data_retreival_v2/data',save_mode=Save.mdf5)"
   ]
  },
  {
   "cell_type": "code",
   "execution_count": 1,
   "metadata": {},
   "outputs": [
    {
     "name": "stdout",
     "output_type": "stream",
     "text": [
      "Requirement already satisfied: h5py in ./fyers_data_retreivalv2/lib/python3.12/site-packages (3.11.0)\n",
      "Requirement already satisfied: numpy>=1.17.3 in ./fyers_data_retreivalv2/lib/python3.12/site-packages (from h5py) (2.0.0)\n",
      "\n",
      "\u001b[1m[\u001b[0m\u001b[34;49mnotice\u001b[0m\u001b[1;39;49m]\u001b[0m\u001b[39;49m A new release of pip is available: \u001b[0m\u001b[31;49m24.1.2\u001b[0m\u001b[39;49m -> \u001b[0m\u001b[32;49m24.2\u001b[0m\n",
      "\u001b[1m[\u001b[0m\u001b[34;49mnotice\u001b[0m\u001b[1;39;49m]\u001b[0m\u001b[39;49m To update, run: \u001b[0m\u001b[32;49mpip install --upgrade pip\u001b[0m\n",
      "Note: you may need to restart the kernel to use updated packages.\n"
     ]
    }
   ],
   "source": [
    "%pip install h5py"
   ]
  },
  {
   "cell_type": "markdown",
   "metadata": {},
   "source": [
    "# hdf5 test"
   ]
  },
  {
   "cell_type": "code",
   "execution_count": 1,
   "metadata": {},
   "outputs": [],
   "source": [
    "import data\n",
    "import Save\n"
   ]
  },
  {
   "cell_type": "code",
   "execution_count": 18,
   "metadata": {},
   "outputs": [
    {
     "name": "stdout",
     "output_type": "stream",
     "text": [
      "shucks login issue occured, we prolly got detected\n",
      "no neeed to validate :)\n",
      "auth_code obtained!\n",
      "200\n",
      "********************************************************************************\n",
      "success\n",
      "processes initiated!\n",
      "\n",
      "\n",
      "\n",
      "\n",
      "\n",
      "\n",
      "\n"
     ]
    },
    {
     "name": "stderr",
     "output_type": "stream",
     "text": [
      "Process Process-2:\n",
      "Traceback (most recent call last):\n",
      "  File \"/Users/gurusai/programming/STONKS/data_retreival_v2/fyers_data_retreivalv2/lib/python3.12/site-packages/h5py/_hl/files.py\", line 247, in make_fid\n",
      "    fid = h5f.open(name, h5f.ACC_RDWR, fapl=fapl)\n",
      "          ^^^^^^^^^^^^^^^^^^^^^^^^^^^^^^^^^^^^^^^\n",
      "  File \"h5py/_objects.pyx\", line 54, in h5py._objects.with_phil.wrapper\n",
      "  File \"h5py/_objects.pyx\", line 55, in h5py._objects.with_phil.wrapper\n",
      "  File \"h5py/h5f.pyx\", line 102, in h5py.h5f.open\n",
      "FileNotFoundError: [Errno 2] Unable to open file (unable to open file: name = '/Users/gurusai/programming/STONKS/data_retreival_v2/data/2024-08.h5', errno = 2, error message = 'No such file or directory', flags = 1, o_flags = 2)\n",
      "\n",
      "During handling of the above exception, another exception occurred:\n",
      "\n",
      "Traceback (most recent call last):\n",
      "  File \"/opt/anaconda3/lib/python3.12/multiprocessing/process.py\", line 314, in _bootstrap\n",
      "    self.run()\n",
      "  File \"/opt/anaconda3/lib/python3.12/multiprocessing/process.py\", line 108, in run\n",
      "    self._target(*self._args, **self._kwargs)\n",
      "  File \"/Users/gurusai/programming/STONKS/data_retreival_v2/wbsoc.py\", line 100, in collect\n",
      "    symbol = Data_class(auth,stonks,save_mode=save_mode,directory=dir)\n",
      "             ^^^^^^^^^^^^^^^^^^^^^^^^^^^^^^^^^^^^^^^^^^^^^^^^^^^^^^^^^\n",
      "  File \"/Users/gurusai/programming/STONKS/data_retreival_v2/wbsoc.py\", line 97, in __init__\n",
      "    self.save_mode.initialise()\n",
      "  File \"/Users/gurusai/programming/STONKS/data_retreival_v2/Save.py\", line 91, in initialise\n",
      "    with h.File(file_name,'a') as f:\n",
      "         ^^^^^^^^^^^^^^^^^^^^^\n",
      "  File \"/Users/gurusai/programming/STONKS/data_retreival_v2/fyers_data_retreivalv2/lib/python3.12/site-packages/h5py/_hl/files.py\", line 562, in __init__\n",
      "    fid = make_fid(name, mode, userblock_size, fapl, fcpl, swmr=swmr)\n",
      "          ^^^^^^^^^^^^^^^^^^^^^^^^^^^^^^^^^^^^^^^^^^^^^^^^^^^^^^^^^^^\n",
      "  File \"/Users/gurusai/programming/STONKS/data_retreival_v2/fyers_data_retreivalv2/lib/python3.12/site-packages/h5py/_hl/files.py\", line 261, in make_fid\n",
      "    fid = h5f.create(name, h5f.ACC_EXCL, fapl=fapl, fcpl=fcpl)\n",
      "          ^^^^^^^^^^^^^^^^^^^^^^^^^^^^^^^^^^^^^^^^^^^^^^^^^^^^\n",
      "  File \"h5py/_objects.pyx\", line 54, in h5py._objects.with_phil.wrapper\n",
      "  File \"h5py/_objects.pyx\", line 55, in h5py._objects.with_phil.wrapper\n",
      "  File \"h5py/h5f.pyx\", line 122, in h5py.h5f.create\n",
      "FileExistsError: [Errno 17] Unable to create file (unable to open file: name = '/Users/gurusai/programming/STONKS/data_retreival_v2/data/2024-08.h5', errno = 17, error message = 'File exists', flags = 15, o_flags = a02)\n"
     ]
    },
    {
     "name": "stdout",
     "output_type": "stream",
     "text": [
      "Response: {'type': 'cn', 'code': 200, 'message': 'Authentication done', 's': 'ok'}\n",
      "Response: {'type': 'ful', 'code': 200, 'message': 'Full Mode On', 's': 'ok'}\n",
      "connection opened\n",
      "Response: {'type': 'sub', 'code': 200, 'message': 'Subscribed', 's': 'ok'}\n",
      "Response: {'bid_price1': 817.0, 'bid_price2': 816.95, 'bid_price3': 816.9, 'bid_price4': 816.85, 'bid_price5': 816.8, 'ask_price1': 817.35, 'ask_price2': 817.4, 'ask_price3': 817.45, 'ask_price4': 817.5, 'ask_price5': 817.55, 'bid_size1': 210, 'bid_size2': 726, 'bid_size3': 586, 'bid_size4': 768, 'bid_size5': 1301, 'ask_size1': 232, 'ask_size2': 419, 'ask_size3': 1045, 'ask_size4': 6394, 'ask_size5': 2064, 'bid_order1': 4, 'bid_order2': 8, 'bid_order3': 10, 'bid_order4': 11, 'bid_order5': 12, 'ask_order1': 4, 'ask_order2': 5, 'ask_order3': 8, 'ask_order4': 28, 'ask_order5': 7, 'type': 'dp', 'symbol': 'NSE:SBIN-EQ'}\n",
      "[817.0, 816.95, 816.9, 816.85, 816.8, 817.35, 817.4, 817.45, 817.5, 817.55, 210, 726, 586, 768, 1301, 232, 419, 1045, 6394, 2064, 4, 8, 10, 11, 12, 4, 5, 8, 28, 7, 1723120577.508367]\n",
      "Response: {'bid_price1': 817.0, 'bid_price2': 816.95, 'bid_price3': 816.9, 'bid_price4': 816.85, 'bid_price5': 816.8, 'ask_price1': 817.4, 'ask_price2': 817.45, 'ask_price3': 817.5, 'ask_price4': 817.55, 'ask_price5': 817.6, 'bid_size1': 151, 'bid_size2': 4, 'bid_size3': 330, 'bid_size4': 61, 'bid_size5': 711, 'ask_size1': 22, 'ask_size2': 226, 'ask_size3': 294, 'ask_size4': 861, 'ask_size5': 441, 'bid_order1': 3, 'bid_order2': 1, 'bid_order3': 3, 'bid_order4': 1, 'bid_order5': 10, 'ask_order1': 1, 'ask_order2': 3, 'ask_order3': 3, 'ask_order4': 3, 'ask_order5': 8, 'type': 'dp', 'symbol': 'BSE:SBIN-A'}\n",
      "[817.0, 816.95, 816.9, 816.85, 816.8, 817.4, 817.45, 817.5, 817.55, 817.6, 151, 4, 330, 61, 711, 22, 226, 294, 861, 441, 3, 1, 3, 1, 10, 1, 3, 3, 3, 8, 1723120577.511943]\n",
      "Response: {'bid_price1': 1052.3, 'bid_price2': 1052.05, 'bid_price3': 1052.0, 'bid_price4': 1051.95, 'bid_price5': 1051.9, 'ask_price1': 1052.5, 'ask_price2': 1052.55, 'ask_price3': 1052.6, 'ask_price4': 1052.65, 'ask_price5': 1052.7, 'bid_size1': 2, 'bid_size2': 197, 'bid_size3': 152, 'bid_size4': 288, 'bid_size5': 325, 'ask_size1': 50, 'ask_size2': 521, 'ask_size3': 3461, 'ask_size4': 513, 'ask_size5': 541, 'bid_order1': 1, 'bid_order2': 4, 'bid_order3': 2, 'bid_order4': 7, 'bid_order5': 3, 'ask_order1': 3, 'ask_order2': 5, 'ask_order3': 12, 'ask_order4': 9, 'ask_order5': 12, 'type': 'dp', 'symbol': 'NSE:TATAMOTORS-EQ'}\n",
      "[1052.3, 1052.05, 1052.0, 1051.95, 1051.9, 1052.5, 1052.55, 1052.6, 1052.65, 1052.7, 2, 197, 152, 288, 325, 50, 521, 3461, 513, 541, 1, 4, 2, 7, 3, 3, 5, 12, 9, 12, 1723120577.514349]\n",
      "Response: {'bid_price1': 1052.3, 'bid_price2': 1052.25, 'bid_price3': 1052.2, 'bid_price4': 1052.15, 'bid_price5': 1052.1, 'ask_price1': 1052.6, 'ask_price2': 1052.65, 'ask_price3': 1052.7, 'ask_price4': 1052.75, 'ask_price5': 1052.8, 'bid_size1': 2, 'bid_size2': 16, 'bid_size3': 95, 'bid_size4': 105, 'bid_size5': 275, 'ask_size1': 2372, 'ask_size2': 166, 'ask_size3': 372, 'ask_size4': 514, 'ask_size5': 459, 'bid_order1': 1, 'bid_order2': 1, 'bid_order3': 1, 'bid_order4': 3, 'bid_order5': 5, 'ask_order1': 4, 'ask_order2': 4, 'ask_order3': 9, 'ask_order4': 10, 'ask_order5': 12, 'type': 'dp', 'symbol': 'NSE:TATAMOTORS-EQ'}\n",
      "[1052.3, 1052.25, 1052.2, 1052.15, 1052.1, 1052.6, 1052.65, 1052.7, 1052.75, 1052.8, 2, 16, 95, 105, 275, 2372, 166, 372, 514, 459, 1, 1, 1, 3, 5, 4, 4, 9, 10, 12, 1723120577.837425]\n",
      "Response: {'bid_price1': 817.25, 'bid_price2': 817.2, 'bid_price3': 817.15, 'bid_price4': 817.1, 'bid_price5': 817.05, 'ask_price1': 817.45, 'ask_price2': 817.5, 'ask_price3': 817.55, 'ask_price4': 817.6, 'ask_price5': 817.65, 'bid_size1': 1, 'bid_size2': 171, 'bid_size3': 235, 'bid_size4': 592, 'bid_size5': 1143, 'ask_size1': 823, 'ask_size2': 5936, 'ask_size3': 1258, 'ask_size4': 4949, 'ask_size5': 2494, 'bid_order1': 1, 'bid_order2': 1, 'bid_order3': 5, 'bid_order4': 5, 'bid_order5': 7, 'ask_order1': 6, 'ask_order2': 23, 'ask_order3': 4, 'ask_order4': 22, 'ask_order5': 13, 'type': 'dp', 'symbol': 'NSE:SBIN-EQ'}\n",
      "[817.25, 817.2, 817.15, 817.1, 817.05, 817.45, 817.5, 817.55, 817.6, 817.65, 1, 171, 235, 592, 1143, 823, 5936, 1258, 4949, 2494, 1, 1, 5, 5, 7, 6, 23, 4, 22, 13, 1723120578.157313]\n",
      "Response: {'bid_price1': 1052.65, 'bid_price2': 1052.55, 'bid_price3': 1052.5, 'bid_price4': 1052.45, 'bid_price5': 1052.4, 'ask_price1': 1052.7, 'ask_price2': 1052.75, 'ask_price3': 1052.8, 'ask_price4': 1052.85, 'ask_price5': 1052.9, 'bid_size1': 385, 'bid_size2': 138, 'bid_size3': 417, 'bid_size4': 95, 'bid_size5': 103, 'ask_size1': 177, 'ask_size2': 185, 'ask_size3': 256, 'ask_size4': 1, 'ask_size5': 216, 'bid_order1': 2, 'bid_order2': 3, 'bid_order3': 6, 'bid_order4': 1, 'bid_order5': 3, 'ask_order1': 6, 'ask_order2': 7, 'ask_order3': 8, 'ask_order4': 1, 'ask_order5': 8, 'type': 'dp', 'symbol': 'NSE:TATAMOTORS-EQ'}\n",
      "[1052.65, 1052.55, 1052.5, 1052.45, 1052.4, 1052.7, 1052.75, 1052.8, 1052.85, 1052.9, 385, 138, 417, 95, 103, 177, 185, 256, 1, 216, 2, 3, 6, 1, 3, 6, 7, 8, 1, 8, 1723120578.160264]\n",
      "Response: {'bid_price1': 817.2, 'bid_price2': 817.15, 'bid_price3': 817.1, 'bid_price4': 817.05, 'bid_price5': 817.0, 'ask_price1': 817.6, 'ask_price2': 817.65, 'ask_price3': 817.7, 'ask_price4': 817.8, 'ask_price5': 817.85, 'bid_size1': 281, 'bid_size2': 547, 'bid_size3': 513, 'bid_size4': 394, 'bid_size5': 592, 'ask_size1': 348, 'ask_size2': 961, 'ask_size3': 377, 'ask_size4': 718, 'ask_size5': 191, 'bid_order1': 3, 'bid_order2': 6, 'bid_order3': 6, 'bid_order4': 4, 'bid_order5': 10, 'ask_order1': 6, 'ask_order2': 5, 'ask_order3': 5, 'ask_order4': 7, 'ask_order5': 7, 'type': 'dp', 'symbol': 'BSE:SBIN-A'}\n",
      "[817.2, 817.15, 817.1, 817.05, 817.0, 817.6, 817.65, 817.7, 817.8, 817.85, 281, 547, 513, 394, 592, 348, 961, 377, 718, 191, 3, 6, 6, 4, 10, 6, 5, 5, 7, 7, 1723120578.306843]\n",
      "Response: {'bid_price1': 817.35, 'bid_price2': 817.25, 'bid_price3': 817.2, 'bid_price4': 817.15, 'bid_price5': 817.1, 'ask_price1': 817.45, 'ask_price2': 817.5, 'ask_price3': 817.55, 'ask_price4': 817.6, 'ask_price5': 817.65, 'bid_size1': 1, 'bid_size2': 3, 'bid_size3': 171, 'bid_size4': 235, 'bid_size5': 592, 'ask_size1': 823, 'ask_size2': 5849, 'ask_size3': 1345, 'ask_size4': 4949, 'ask_size5': 2494, 'bid_order1': 1, 'bid_order2': 3, 'bid_order3': 1, 'bid_order4': 5, 'bid_order5': 5, 'ask_order1': 6, 'ask_order2': 22, 'ask_order3': 5, 'ask_order4': 22, 'ask_order5': 13, 'type': 'dp', 'symbol': 'NSE:SBIN-EQ'}\n",
      "[817.35, 817.25, 817.2, 817.15, 817.1, 817.45, 817.5, 817.55, 817.6, 817.65, 1, 3, 171, 235, 592, 823, 5849, 1345, 4949, 2494, 1, 3, 1, 5, 5, 6, 22, 5, 22, 13, 1723120578.6436]\n",
      "Response: {'bid_price1': 817.2, 'bid_price2': 817.15, 'bid_price3': 817.1, 'bid_price4': 817.05, 'bid_price5': 817.0, 'ask_price1': 817.6, 'ask_price2': 817.65, 'ask_price3': 817.7, 'ask_price4': 817.8, 'ask_price5': 817.85, 'bid_size1': 281, 'bid_size2': 547, 'bid_size3': 441, 'bid_size4': 394, 'bid_size5': 547, 'ask_size1': 348, 'ask_size2': 961, 'ask_size3': 377, 'ask_size4': 1240, 'ask_size5': 690, 'bid_order1': 3, 'bid_order2': 6, 'bid_order3': 5, 'bid_order4': 4, 'bid_order5': 10, 'ask_order1': 6, 'ask_order2': 5, 'ask_order3': 5, 'ask_order4': 8, 'ask_order5': 8, 'type': 'dp', 'symbol': 'BSE:SBIN-A'}\n",
      "[817.2, 817.15, 817.1, 817.05, 817.0, 817.6, 817.65, 817.7, 817.8, 817.85, 281, 547, 441, 394, 547, 348, 961, 377, 1240, 690, 3, 6, 5, 4, 10, 6, 5, 5, 8, 8, 1723120578.70773]\n",
      "Response: {'bid_price1': 1052.7, 'bid_price2': 1052.6, 'bid_price3': 1052.45, 'bid_price4': 1052.4, 'bid_price5': 1052.35, 'ask_price1': 1052.85, 'ask_price2': 1052.9, 'ask_price3': 1052.95, 'ask_price4': 1053.0, 'ask_price5': 1053.05, 'bid_size1': 21, 'bid_size2': 40, 'bid_size3': 101, 'bid_size4': 115, 'bid_size5': 106, 'ask_size1': 9, 'ask_size2': 21, 'ask_size3': 434, 'ask_size4': 5956, 'ask_size5': 358, 'bid_order1': 1, 'bid_order2': 1, 'bid_order3': 3, 'bid_order4': 3, 'bid_order5': 2, 'ask_order1': 1, 'ask_order2': 2, 'ask_order3': 8, 'ask_order4': 106, 'ask_order5': 4, 'type': 'dp', 'symbol': 'NSE:TATAMOTORS-EQ'}\n",
      "[1052.7, 1052.6, 1052.45, 1052.4, 1052.35, 1052.85, 1052.9, 1052.95, 1053.0, 1053.05, 21, 40, 101, 115, 106, 9, 21, 434, 5956, 358, 1, 1, 3, 3, 2, 1, 2, 8, 106, 4, 1723120578.9996]\n",
      "Response: {'bid_price1': 817.35, 'bid_price2': 817.25, 'bid_price3': 817.2, 'bid_price4': 817.15, 'bid_price5': 817.1, 'ask_price1': 817.45, 'ask_price2': 817.5, 'ask_price3': 817.55, 'ask_price4': 817.6, 'ask_price5': 817.65, 'bid_size1': 1, 'bid_size2': 13, 'bid_size3': 171, 'bid_size4': 235, 'bid_size5': 624, 'ask_size1': 686, 'ask_size2': 5849, 'ask_size3': 1647, 'ask_size4': 4199, 'ask_size5': 3244, 'bid_order1': 1, 'bid_order2': 4, 'bid_order3': 1, 'bid_order4': 5, 'bid_order5': 7, 'ask_order1': 3, 'ask_order2': 22, 'ask_order3': 5, 'ask_order4': 21, 'ask_order5': 14, 'type': 'dp', 'symbol': 'NSE:SBIN-EQ'}\n",
      "[817.35, 817.25, 817.2, 817.15, 817.1, 817.45, 817.5, 817.55, 817.6, 817.65, 1, 13, 171, 235, 624, 686, 5849, 1647, 4199, 3244, 1, 4, 1, 5, 7, 3, 22, 5, 21, 14, 1723120579.400299]\n",
      "Response: {'bid_price1': 1052.85, 'bid_price2': 1052.75, 'bid_price3': 1052.7, 'bid_price4': 1052.6, 'bid_price5': 1052.5, 'ask_price1': 1052.9, 'ask_price2': 1052.95, 'ask_price3': 1053.0, 'ask_price4': 1053.05, 'ask_price5': 1053.1, 'bid_size1': 691, 'bid_size2': 131, 'bid_size3': 21, 'bid_size4': 132, 'bid_size5': 162, 'ask_size1': 143, 'ask_size2': 269, 'ask_size3': 5861, 'ask_size4': 172, 'ask_size5': 1042, 'bid_order1': 4, 'bid_order2': 1, 'bid_order3': 1, 'bid_order4': 2, 'bid_order5': 3, 'ask_order1': 3, 'ask_order2': 7, 'ask_order3': 105, 'ask_order4': 1, 'ask_order5': 3, 'type': 'dp', 'symbol': 'NSE:TATAMOTORS-EQ'}\n",
      "[1052.85, 1052.75, 1052.7, 1052.6, 1052.5, 1052.9, 1052.95, 1053.0, 1053.05, 1053.1, 691, 131, 21, 132, 162, 143, 269, 5861, 172, 1042, 4, 1, 1, 2, 3, 3, 7, 105, 1, 3, 1723120579.403934]\n",
      "Response: {'bid_price1': 817.2, 'bid_price2': 817.15, 'bid_price3': 817.1, 'bid_price4': 817.05, 'bid_price5': 817.0, 'ask_price1': 817.6, 'ask_price2': 817.65, 'ask_price3': 817.7, 'ask_price4': 817.8, 'ask_price5': 817.85, 'bid_size1': 409, 'bid_size2': 579, 'bid_size3': 537, 'bid_size4': 394, 'bid_size5': 547, 'ask_size1': 311, 'ask_size2': 833, 'ask_size3': 377, 'ask_size4': 1240, 'ask_size5': 690, 'bid_order1': 4, 'bid_order2': 6, 'bid_order3': 6, 'bid_order4': 4, 'bid_order5': 10, 'ask_order1': 5, 'ask_order2': 4, 'ask_order3': 5, 'ask_order4': 8, 'ask_order5': 8, 'type': 'dp', 'symbol': 'BSE:SBIN-A'}\n",
      "[817.2, 817.15, 817.1, 817.05, 817.0, 817.6, 817.65, 817.7, 817.8, 817.85, 409, 579, 537, 394, 547, 311, 833, 377, 1240, 690, 4, 6, 6, 4, 10, 5, 4, 5, 8, 8, 1723120579.921432]\n",
      "Response: {'bid_price1': 817.35, 'bid_price2': 817.25, 'bid_price3': 817.2, 'bid_price4': 817.15, 'bid_price5': 817.1, 'ask_price1': 817.45, 'ask_price2': 817.5, 'ask_price3': 817.55, 'ask_price4': 817.6, 'ask_price5': 817.65, 'bid_size1': 1, 'bid_size2': 34, 'bid_size3': 172, 'bid_size4': 277, 'bid_size5': 421, 'ask_size1': 685, 'ask_size2': 4984, 'ask_size3': 136, 'ask_size4': 3535, 'ask_size5': 3583, 'bid_order1': 1, 'bid_order2': 5, 'bid_order3': 2, 'bid_order4': 6, 'bid_order5': 4, 'ask_order1': 3, 'ask_order2': 19, 'ask_order3': 3, 'ask_order4': 13, 'ask_order5': 19, 'type': 'dp', 'symbol': 'NSE:SBIN-EQ'}\n",
      "[817.35, 817.25, 817.2, 817.15, 817.1, 817.45, 817.5, 817.55, 817.6, 817.65, 1, 34, 172, 277, 421, 685, 4984, 136, 3535, 3583, 1, 5, 2, 6, 4, 3, 19, 3, 13, 19, 1723120579.925169]\n",
      "Response: {'bid_price1': 1052.6, 'bid_price2': 1052.55, 'bid_price3': 1052.5, 'bid_price4': 1052.45, 'bid_price5': 1052.4, 'ask_price1': 1052.9, 'ask_price2': 1052.95, 'ask_price3': 1053.0, 'ask_price4': 1053.05, 'ask_price5': 1053.1, 'bid_size1': 244, 'bid_size2': 127, 'bid_size3': 69, 'bid_size4': 256, 'bid_size5': 115, 'ask_size1': 48, 'ask_size2': 603, 'ask_size3': 5861, 'ask_size4': 308, 'ask_size5': 1192, 'bid_order1': 2, 'bid_order2': 3, 'bid_order3': 3, 'bid_order4': 5, 'bid_order5': 3, 'ask_order1': 1, 'ask_order2': 8, 'ask_order3': 105, 'ask_order4': 3, 'ask_order5': 6, 'type': 'dp', 'symbol': 'NSE:TATAMOTORS-EQ'}\n",
      "[1052.6, 1052.55, 1052.5, 1052.45, 1052.4, 1052.9, 1052.95, 1053.0, 1053.05, 1053.1, 244, 127, 69, 256, 115, 48, 603, 5861, 308, 1192, 2, 3, 3, 5, 3, 1, 8, 105, 3, 6, 1723120580.227876]\n",
      "Response: {'bid_price1': 817.2, 'bid_price2': 817.15, 'bid_price3': 817.1, 'bid_price4': 817.05, 'bid_price5': 817.0, 'ask_price1': 817.6, 'ask_price2': 817.65, 'ask_price3': 817.7, 'ask_price4': 817.8, 'ask_price5': 817.85, 'bid_size1': 577, 'bid_size2': 579, 'bid_size3': 616, 'bid_size4': 394, 'bid_size5': 547, 'ask_size1': 311, 'ask_size2': 83, 'ask_size3': 1127, 'ask_size4': 1240, 'ask_size5': 690, 'bid_order1': 6, 'bid_order2': 6, 'bid_order3': 6, 'bid_order4': 4, 'bid_order5': 10, 'ask_order1': 5, 'ask_order2': 3, 'ask_order3': 6, 'ask_order4': 8, 'ask_order5': 8, 'type': 'dp', 'symbol': 'BSE:SBIN-A'}\n",
      "[817.2, 817.15, 817.1, 817.05, 817.0, 817.6, 817.65, 817.7, 817.8, 817.85, 577, 579, 616, 394, 547, 311, 83, 1127, 1240, 690, 6, 6, 6, 4, 10, 5, 3, 6, 8, 8, 1723120580.317438]\n",
      "Response: {'bid_price1': 817.25, 'bid_price2': 817.2, 'bid_price3': 817.15, 'bid_price4': 817.1, 'bid_price5': 817.05, 'ask_price1': 817.45, 'ask_price2': 817.5, 'ask_price3': 817.55, 'ask_price4': 817.6, 'ask_price5': 817.65, 'bid_size1': 11, 'bid_size2': 1, 'bid_size3': 4, 'bid_size4': 284, 'bid_size5': 569, 'ask_size1': 18, 'ask_size2': 4989, 'ask_size3': 96, 'ask_size4': 1636, 'ask_size5': 2484, 'bid_order1': 2, 'bid_order2': 1, 'bid_order3': 4, 'bid_order4': 4, 'bid_order5': 6, 'ask_order1': 2, 'ask_order2': 20, 'ask_order3': 5, 'ask_order4': 12, 'ask_order5': 13, 'type': 'dp', 'symbol': 'NSE:SBIN-EQ'}\n",
      "[817.25, 817.2, 817.15, 817.1, 817.05, 817.45, 817.5, 817.55, 817.6, 817.65, 11, 1, 4, 284, 569, 18, 4989, 96, 1636, 2484, 2, 1, 4, 4, 6, 2, 20, 5, 12, 13, 1723120580.617155]\n",
      "Response: {'bid_price1': 1052.6, 'bid_price2': 1052.55, 'bid_price3': 1052.5, 'bid_price4': 1052.45, 'bid_price5': 1052.4, 'ask_price1': 1052.8, 'ask_price2': 1052.95, 'ask_price3': 1053.0, 'ask_price4': 1053.05, 'ask_price5': 1053.1, 'bid_size1': 85, 'bid_size2': 40, 'bid_size3': 98, 'bid_size4': 248, 'bid_size5': 253, 'ask_size1': 500, 'ask_size2': 194, 'ask_size3': 6079, 'ask_size4': 460, 'ask_size5': 1158, 'bid_order1': 1, 'bid_order2': 1, 'bid_order3': 3, 'bid_order4': 2, 'bid_order5': 4, 'ask_order1': 1, 'ask_order2': 2, 'ask_order3': 108, 'ask_order4': 6, 'ask_order5': 5, 'type': 'dp', 'symbol': 'NSE:TATAMOTORS-EQ'}\n",
      "[1052.6, 1052.55, 1052.5, 1052.45, 1052.4, 1052.8, 1052.95, 1053.0, 1053.05, 1053.1, 85, 40, 98, 248, 253, 500, 194, 6079, 460, 1158, 1, 1, 3, 2, 4, 1, 2, 108, 6, 5, 1723120580.620604]\n",
      "Response: {'bid_price1': 817.25, 'bid_price2': 817.2, 'bid_price3': 817.15, 'bid_price4': 817.1, 'bid_price5': 817.05, 'ask_price1': 817.6, 'ask_price2': 817.65, 'ask_price3': 817.7, 'ask_price4': 817.8, 'ask_price5': 817.85, 'bid_size1': 259, 'bid_size2': 545, 'bid_size3': 183, 'bid_size4': 482, 'bid_size5': 220, 'ask_size1': 311, 'ask_size2': 911, 'ask_size3': 296, 'ask_size4': 1159, 'ask_size5': 570, 'bid_order1': 3, 'bid_order2': 6, 'bid_order3': 2, 'bid_order4': 5, 'bid_order5': 2, 'ask_order1': 5, 'ask_order2': 5, 'ask_order3': 4, 'ask_order4': 7, 'ask_order5': 4, 'type': 'dp', 'symbol': 'BSE:SBIN-A'}\n",
      "[817.25, 817.2, 817.15, 817.1, 817.05, 817.6, 817.65, 817.7, 817.8, 817.85, 259, 545, 183, 482, 220, 311, 911, 296, 1159, 570, 3, 6, 2, 5, 2, 5, 5, 4, 7, 4, 1723120580.711038]\n",
      "Response: {'bid_price1': 817.4, 'bid_price2': 817.25, 'bid_price3': 817.2, 'bid_price4': 817.15, 'bid_price5': 817.1, 'ask_price1': 817.45, 'ask_price2': 817.5, 'ask_price3': 817.55, 'ask_price4': 817.6, 'ask_price5': 817.65, 'bid_size1': 1, 'bid_size2': 11, 'bid_size3': 1, 'bid_size4': 241, 'bid_size5': 518, 'ask_size1': 17, 'ask_size2': 5514, 'ask_size3': 60, 'ask_size4': 1656, 'ask_size5': 2036, 'bid_order1': 1, 'bid_order2': 2, 'bid_order3': 1, 'bid_order4': 5, 'bid_order5': 5, 'ask_order1': 2, 'ask_order2': 21, 'ask_order3': 2, 'ask_order4': 12, 'ask_order5': 12, 'type': 'dp', 'symbol': 'NSE:SBIN-EQ'}\n",
      "[817.4, 817.25, 817.2, 817.15, 817.1, 817.45, 817.5, 817.55, 817.6, 817.65, 1, 11, 1, 241, 518, 17, 5514, 60, 1656, 2036, 1, 2, 1, 5, 5, 2, 21, 2, 12, 12, 1723120581.110542]\n",
      "Response: {'bid_price1': 817.25, 'bid_price2': 817.2, 'bid_price3': 817.15, 'bid_price4': 817.1, 'bid_price5': 817.05, 'ask_price1': 817.6, 'ask_price2': 817.65, 'ask_price3': 817.7, 'ask_price4': 817.8, 'ask_price5': 817.85, 'bid_size1': 381, 'bid_size2': 646, 'bid_size3': 281, 'bid_size4': 661, 'bid_size5': 225, 'ask_size1': 240, 'ask_size2': 833, 'ask_size3': 174, 'ask_size4': 613, 'ask_size5': 71, 'bid_order1': 4, 'bid_order2': 10, 'bid_order3': 3, 'bid_order4': 7, 'bid_order5': 3, 'ask_order1': 4, 'ask_order2': 4, 'ask_order3': 3, 'ask_order4': 5, 'ask_order5': 3, 'type': 'dp', 'symbol': 'BSE:SBIN-A'}\n",
      "[817.25, 817.2, 817.15, 817.1, 817.05, 817.6, 817.65, 817.7, 817.8, 817.85, 381, 646, 281, 661, 225, 240, 833, 174, 613, 71, 4, 10, 3, 7, 3, 4, 4, 3, 5, 3, 1723120581.135396]\n",
      "Response: {'bid_price1': 1052.8, 'bid_price2': 1052.75, 'bid_price3': 1052.7, 'bid_price4': 1052.65, 'bid_price5': 1052.6, 'ask_price1': 1053.0, 'ask_price2': 1053.1, 'ask_price3': 1053.15, 'ask_price4': 1053.2, 'ask_price5': 1053.25, 'bid_size1': 28, 'bid_size2': 40, 'bid_size3': 91, 'bid_size4': 183, 'bid_size5': 261, 'ask_size1': 2476, 'ask_size2': 1001, 'ask_size3': 168, 'ask_size4': 531, 'ask_size5': 490, 'bid_order1': 1, 'bid_order2': 1, 'bid_order3': 3, 'bid_order4': 4, 'bid_order5': 5, 'ask_order1': 40, 'ask_order2': 2, 'ask_order3': 1, 'ask_order4': 7, 'ask_order5': 13, 'type': 'dp', 'symbol': 'NSE:TATAMOTORS-EQ'}\n",
      "[1052.8, 1052.75, 1052.7, 1052.65, 1052.6, 1053.0, 1053.1, 1053.15, 1053.2, 1053.25, 28, 40, 91, 183, 261, 2476, 1001, 168, 531, 490, 1, 1, 3, 4, 5, 40, 2, 1, 7, 13, 1723120581.345888]\n",
      "Response: {'bid_price1': 817.45, 'bid_price2': 817.4, 'bid_price3': 817.3, 'bid_price4': 817.25, 'bid_price5': 817.2, 'ask_price1': 817.5, 'ask_price2': 817.55, 'ask_price3': 817.6, 'ask_price4': 817.65, 'ask_price5': 817.7, 'bid_size1': 3, 'bid_size2': 1, 'bid_size3': 19, 'bid_size4': 276, 'bid_size5': 128, 'ask_size1': 5253, 'ask_size2': 5, 'ask_size3': 1105, 'ask_size4': 265, 'ask_size5': 3656, 'bid_order1': 3, 'bid_order2': 1, 'bid_order3': 1, 'bid_order4': 3, 'bid_order5': 3, 'ask_order1': 20, 'ask_order2': 1, 'ask_order3': 6, 'ask_order4': 5, 'ask_order5': 20, 'type': 'dp', 'symbol': 'NSE:SBIN-EQ'}\n",
      "[817.45, 817.4, 817.3, 817.25, 817.2, 817.5, 817.55, 817.6, 817.65, 817.7, 3, 1, 19, 276, 128, 5253, 5, 1105, 265, 3656, 3, 1, 1, 3, 3, 20, 1, 6, 5, 20, 1723120582.086186]\n",
      "Response: {'bid_price1': 817.25, 'bid_price2': 817.2, 'bid_price3': 817.15, 'bid_price4': 817.1, 'bid_price5': 817.05, 'ask_price1': 817.6, 'ask_price2': 817.65, 'ask_price3': 817.7, 'ask_price4': 817.8, 'ask_price5': 817.85, 'bid_size1': 381, 'bid_size2': 646, 'bid_size3': 281, 'bid_size4': 661, 'bid_size5': 225, 'ask_size1': 210, 'ask_size2': 83, 'ask_size3': 924, 'ask_size4': 613, 'ask_size5': 71, 'bid_order1': 4, 'bid_order2': 10, 'bid_order3': 3, 'bid_order4': 7, 'bid_order5': 3, 'ask_order1': 3, 'ask_order2': 3, 'ask_order3': 4, 'ask_order4': 5, 'ask_order5': 3, 'type': 'dp', 'symbol': 'BSE:SBIN-A'}\n",
      "[817.25, 817.2, 817.15, 817.1, 817.05, 817.6, 817.65, 817.7, 817.8, 817.85, 381, 646, 281, 661, 225, 210, 83, 924, 613, 71, 4, 10, 3, 7, 3, 3, 3, 4, 5, 3, 1723120582.089335]\n",
      "Response: {'bid_price1': 817.45, 'bid_price2': 817.3, 'bid_price3': 817.25, 'bid_price4': 817.2, 'bid_price5': 817.15, 'ask_price1': 817.5, 'ask_price2': 817.55, 'ask_price3': 817.6, 'ask_price4': 817.65, 'ask_price5': 817.7, 'bid_size1': 4, 'bid_size2': 19, 'bid_size3': 276, 'bid_size4': 493, 'bid_size5': 538, 'ask_size1': 5195, 'ask_size2': 5, 'ask_size3': 355, 'ask_size4': 265, 'ask_size5': 4406, 'bid_order1': 4, 'bid_order2': 1, 'bid_order3': 3, 'bid_order4': 6, 'bid_order5': 5, 'ask_order1': 19, 'ask_order2': 1, 'ask_order3': 5, 'ask_order4': 5, 'ask_order5': 21, 'type': 'dp', 'symbol': 'NSE:SBIN-EQ'}\n",
      "[817.45, 817.3, 817.25, 817.2, 817.15, 817.5, 817.55, 817.6, 817.65, 817.7, 4, 19, 276, 493, 538, 5195, 5, 355, 265, 4406, 4, 1, 3, 6, 5, 19, 1, 5, 5, 21, 1723120582.155035]\n",
      "Response: {'bid_price1': 817.25, 'bid_price2': 817.2, 'bid_price3': 817.15, 'bid_price4': 817.1, 'bid_price5': 817.05, 'ask_price1': 817.6, 'ask_price2': 817.65, 'ask_price3': 817.7, 'ask_price4': 817.75, 'ask_price5': 817.8, 'bid_size1': 254, 'bid_size2': 550, 'bid_size3': 377, 'bid_size4': 661, 'bid_size5': 225, 'ask_size1': 210, 'ask_size2': 161, 'ask_size3': 1022, 'ask_size4': 98, 'ask_size5': 711, 'bid_order1': 3, 'bid_order2': 9, 'bid_order3': 4, 'bid_order4': 7, 'bid_order5': 3, 'ask_order1': 3, 'ask_order2': 4, 'ask_order3': 5, 'ask_order4': 1, 'ask_order5': 6, 'type': 'dp', 'symbol': 'BSE:SBIN-A'}\n",
      "[817.25, 817.2, 817.15, 817.1, 817.05, 817.6, 817.65, 817.7, 817.75, 817.8, 254, 550, 377, 661, 225, 210, 161, 1022, 98, 711, 3, 9, 4, 7, 3, 3, 4, 5, 1, 6, 1723120582.310709]\n",
      "Response: {'bid_price1': 1052.85, 'bid_price2': 1052.8, 'bid_price3': 1052.75, 'bid_price4': 1052.7, 'bid_price5': 1052.65, 'ask_price1': 1053.0, 'ask_price2': 1053.1, 'ask_price3': 1053.15, 'ask_price4': 1053.2, 'ask_price5': 1053.25, 'bid_size1': 28, 'bid_size2': 68, 'bid_size3': 68, 'bid_size4': 234, 'bid_size5': 386, 'ask_size1': 380, 'ask_size2': 1001, 'ask_size3': 167, 'ask_size4': 436, 'ask_size5': 306, 'bid_order1': 1, 'bid_order2': 3, 'bid_order3': 2, 'bid_order4': 6, 'bid_order5': 7, 'ask_order1': 5, 'ask_order2': 2, 'ask_order3': 1, 'ask_order4': 6, 'ask_order5': 10, 'type': 'dp', 'symbol': 'NSE:TATAMOTORS-EQ'}\n",
      "[1052.85, 1052.8, 1052.75, 1052.7, 1052.65, 1053.0, 1053.1, 1053.15, 1053.2, 1053.25, 28, 68, 68, 234, 386, 380, 1001, 167, 436, 306, 1, 3, 2, 6, 7, 5, 2, 1, 6, 10, 1723120582.696199]\n",
      "Response: {'bid_price1': 817.45, 'bid_price2': 817.25, 'bid_price3': 817.2, 'bid_price4': 817.15, 'bid_price5': 817.1, 'ask_price1': 817.5, 'ask_price2': 817.55, 'ask_price3': 817.6, 'ask_price4': 817.65, 'ask_price5': 817.7, 'bid_size1': 6, 'bid_size2': 228, 'bid_size3': 205, 'bid_size4': 317, 'bid_size5': 474, 'ask_size1': 5156, 'ask_size2': 5, 'ask_size3': 1139, 'ask_size4': 1909, 'ask_size5': 5313, 'bid_order1': 6, 'bid_order2': 1, 'bid_order3': 4, 'bid_order4': 6, 'bid_order5': 6, 'ask_order1': 19, 'ask_order2': 1, 'ask_order3': 7, 'ask_order4': 10, 'ask_order5': 25, 'type': 'dp', 'symbol': 'NSE:SBIN-EQ'}\n",
      "[817.45, 817.25, 817.2, 817.15, 817.1, 817.5, 817.55, 817.6, 817.65, 817.7, 6, 228, 205, 317, 474, 5156, 5, 1139, 1909, 5313, 6, 1, 4, 6, 6, 19, 1, 7, 10, 25, 1723120583.141095]\n",
      "Response: {'bid_price1': 817.25, 'bid_price2': 817.2, 'bid_price3': 817.15, 'bid_price4': 817.1, 'bid_price5': 817.05, 'ask_price1': 817.6, 'ask_price2': 817.65, 'ask_price3': 817.7, 'ask_price4': 817.75, 'ask_price5': 817.8, 'bid_size1': 277, 'bid_size2': 550, 'bid_size3': 377, 'bid_size4': 486, 'bid_size5': 225, 'ask_size1': 210, 'ask_size2': 911, 'ask_size3': 128, 'ask_size4': 98, 'ask_size5': 711, 'bid_order1': 3, 'bid_order2': 9, 'bid_order3': 4, 'bid_order4': 6, 'bid_order5': 3, 'ask_order1': 3, 'ask_order2': 5, 'ask_order3': 3, 'ask_order4': 1, 'ask_order5': 6, 'type': 'dp', 'symbol': 'BSE:SBIN-A'}\n",
      "[817.25, 817.2, 817.15, 817.1, 817.05, 817.6, 817.65, 817.7, 817.75, 817.8, 277, 550, 377, 486, 225, 210, 911, 128, 98, 711, 3, 9, 4, 6, 3, 3, 5, 3, 1, 6, 1723120583.144164]\n",
      "Response: {'bid_price1': 817.45, 'bid_price2': 817.25, 'bid_price3': 817.2, 'bid_price4': 817.15, 'bid_price5': 817.1, 'ask_price1': 817.5, 'ask_price2': 817.55, 'ask_price3': 817.6, 'ask_price4': 817.65, 'ask_price5': 817.7, 'bid_size1': 6, 'bid_size2': 228, 'bid_size3': 204, 'bid_size4': 317, 'bid_size5': 474, 'ask_size1': 5154, 'ask_size2': 5, 'ask_size3': 1139, 'ask_size4': 1909, 'ask_size5': 5313, 'bid_order1': 6, 'bid_order2': 1, 'bid_order3': 3, 'bid_order4': 6, 'bid_order5': 6, 'ask_order1': 19, 'ask_order2': 1, 'ask_order3': 7, 'ask_order4': 10, 'ask_order5': 25, 'type': 'dp', 'symbol': 'NSE:SBIN-EQ'}\n",
      "[817.45, 817.25, 817.2, 817.15, 817.1, 817.5, 817.55, 817.6, 817.65, 817.7, 6, 228, 204, 317, 474, 5154, 5, 1139, 1909, 5313, 6, 1, 3, 6, 6, 19, 1, 7, 10, 25, 1723120583.507544]\n",
      "Response: {'bid_price1': 1052.65, 'bid_price2': 1052.6, 'bid_price3': 1052.55, 'bid_price4': 1052.5, 'bid_price5': 1052.45, 'ask_price1': 1052.9, 'ask_price2': 1052.95, 'ask_price3': 1053.0, 'ask_price4': 1053.1, 'ask_price5': 1053.15, 'bid_size1': 68, 'bid_size2': 69, 'bid_size3': 588, 'bid_size4': 168, 'bid_size5': 163, 'ask_size1': 27, 'ask_size2': 213, 'ask_size3': 606, 'ask_size4': 1001, 'ask_size5': 262, 'bid_order1': 3, 'bid_order2': 3, 'bid_order3': 11, 'bid_order4': 4, 'bid_order5': 3, 'ask_order1': 1, 'ask_order2': 2, 'ask_order3': 7, 'ask_order4': 2, 'ask_order5': 2, 'type': 'dp', 'symbol': 'NSE:TATAMOTORS-EQ'}\n",
      "[1052.65, 1052.6, 1052.55, 1052.5, 1052.45, 1052.9, 1052.95, 1053.0, 1053.1, 1053.15, 68, 69, 588, 168, 163, 27, 213, 606, 1001, 262, 3, 3, 11, 4, 3, 1, 2, 7, 2, 2, 1723120584.228179]\n",
      "Response: {'bid_price1': 817.25, 'bid_price2': 817.2, 'bid_price3': 817.15, 'bid_price4': 817.1, 'bid_price5': 817.05, 'ask_price1': 817.6, 'ask_price2': 817.65, 'ask_price3': 817.7, 'ask_price4': 817.75, 'ask_price5': 817.8, 'bid_size1': 149, 'bid_size2': 311, 'bid_size3': 183, 'bid_size4': 403, 'bid_size5': 306, 'ask_size1': 330, 'ask_size2': 998, 'ask_size3': 234, 'ask_size4': 98, 'ask_size5': 1233, 'bid_order1': 2, 'bid_order2': 3, 'bid_order3': 2, 'bid_order4': 5, 'bid_order5': 4, 'ask_order1': 5, 'ask_order2': 6, 'ask_order3': 4, 'ask_order4': 1, 'ask_order5': 7, 'type': 'dp', 'symbol': 'BSE:SBIN-A'}\n",
      "[817.25, 817.2, 817.15, 817.1, 817.05, 817.6, 817.65, 817.7, 817.75, 817.8, 149, 311, 183, 403, 306, 330, 998, 234, 98, 1233, 2, 3, 2, 5, 4, 5, 6, 4, 1, 7, 1723120584.231631]\n",
      "Response: {'bid_price1': 817.2, 'bid_price2': 817.15, 'bid_price3': 817.1, 'bid_price4': 817.05, 'bid_price5': 817.0, 'ask_price1': 817.5, 'ask_price2': 817.55, 'ask_price3': 817.6, 'ask_price4': 817.65, 'ask_price5': 817.7, 'bid_size1': 5, 'bid_size2': 239, 'bid_size3': 479, 'bid_size4': 905, 'bid_size5': 365, 'ask_size1': 5424, 'ask_size2': 234, 'ask_size3': 1587, 'ask_size4': 1934, 'ask_size5': 3916, 'bid_order1': 1, 'bid_order2': 4, 'bid_order3': 10, 'bid_order4': 11, 'bid_order5': 7, 'ask_order1': 22, 'ask_order2': 5, 'ask_order3': 13, 'ask_order4': 11, 'ask_order5': 22, 'type': 'dp', 'symbol': 'NSE:SBIN-EQ'}\n",
      "[817.2, 817.15, 817.1, 817.05, 817.0, 817.5, 817.55, 817.6, 817.65, 817.7, 5, 239, 479, 905, 365, 5424, 234, 1587, 1934, 3916, 1, 4, 10, 11, 7, 22, 5, 13, 11, 22, 1723120584.262482]\n",
      "Response: {'bid_price1': 817.25, 'bid_price2': 817.2, 'bid_price3': 817.15, 'bid_price4': 817.1, 'bid_price5': 817.05, 'ask_price1': 817.6, 'ask_price2': 817.65, 'ask_price3': 817.7, 'ask_price4': 817.75, 'ask_price5': 817.8, 'bid_size1': 149, 'bid_size2': 311, 'bid_size3': 279, 'bid_size4': 307, 'bid_size5': 306, 'ask_size1': 261, 'ask_size2': 248, 'ask_size3': 984, 'ask_size4': 98, 'ask_size5': 711, 'bid_order1': 2, 'bid_order2': 3, 'bid_order3': 3, 'bid_order4': 4, 'bid_order5': 4, 'ask_order1': 4, 'ask_order2': 5, 'ask_order3': 5, 'ask_order4': 1, 'ask_order5': 6, 'type': 'dp', 'symbol': 'BSE:SBIN-A'}\n",
      "[817.25, 817.2, 817.15, 817.1, 817.05, 817.6, 817.65, 817.7, 817.75, 817.8, 149, 311, 279, 307, 306, 261, 248, 984, 98, 711, 2, 3, 3, 4, 4, 4, 5, 5, 1, 6, 1723120584.311523]\n",
      "Response: {'bid_price1': 1052.6, 'bid_price2': 1052.45, 'bid_price3': 1052.4, 'bid_price4': 1052.35, 'bid_price5': 1052.3, 'ask_price1': 1052.95, 'ask_price2': 1053.0, 'ask_price3': 1053.05, 'ask_price4': 1053.1, 'ask_price5': 1053.15, 'bid_size1': 35, 'bid_size2': 5, 'bid_size3': 808, 'bid_size4': 187, 'bid_size5': 467, 'ask_size1': 369, 'ask_size2': 606, 'ask_size3': 199, 'ask_size4': 1488, 'ask_size5': 351, 'bid_order1': 2, 'bid_order2': 1, 'bid_order3': 4, 'bid_order4': 2, 'bid_order5': 7, 'ask_order1': 5, 'ask_order2': 10, 'ask_order3': 4, 'ask_order4': 12, 'ask_order5': 6, 'type': 'dp', 'symbol': 'NSE:TATAMOTORS-EQ'}\n",
      "[1052.6, 1052.45, 1052.4, 1052.35, 1052.3, 1052.95, 1053.0, 1053.05, 1053.1, 1053.15, 35, 5, 808, 187, 467, 369, 606, 199, 1488, 351, 2, 1, 4, 2, 7, 5, 10, 4, 12, 6, 1723120584.835815]\n",
      "Response: {'bid_price1': 817.3, 'bid_price2': 817.25, 'bid_price3': 817.2, 'bid_price4': 817.15, 'bid_price5': 817.1, 'ask_price1': 817.6, 'ask_price2': 817.65, 'ask_price3': 817.7, 'ask_price4': 817.75, 'ask_price5': 817.8, 'bid_size1': 220, 'bid_size2': 456, 'bid_size3': 484, 'bid_size4': 633, 'bid_size5': 405, 'ask_size1': 200, 'ask_size2': 83, 'ask_size3': 984, 'ask_size4': 98, 'ask_size5': 711, 'bid_order1': 2, 'bid_order2': 5, 'bid_order3': 8, 'bid_order4': 6, 'bid_order5': 5, 'ask_order1': 3, 'ask_order2': 3, 'ask_order3': 5, 'ask_order4': 1, 'ask_order5': 6, 'type': 'dp', 'symbol': 'BSE:SBIN-A'}\n",
      "[817.3, 817.25, 817.2, 817.15, 817.1, 817.6, 817.65, 817.7, 817.75, 817.8, 220, 456, 484, 633, 405, 200, 83, 984, 98, 711, 2, 5, 8, 6, 5, 3, 3, 5, 1, 6, 1723120584.839865]\n",
      "Response: {'bid_price1': 817.45, 'bid_price2': 817.25, 'bid_price3': 817.2, 'bid_price4': 817.15, 'bid_price5': 817.1, 'ask_price1': 817.5, 'ask_price2': 817.55, 'ask_price3': 817.6, 'ask_price4': 817.65, 'ask_price5': 817.7, 'bid_size1': 17, 'bid_size2': 266, 'bid_size3': 380, 'bid_size4': 239, 'bid_size5': 488, 'ask_size1': 5089, 'ask_size2': 5, 'ask_size3': 492, 'ask_size4': 344, 'ask_size5': 3939, 'bid_order1': 3, 'bid_order2': 2, 'bid_order3': 4, 'bid_order4': 4, 'bid_order5': 9, 'ask_order1': 19, 'ask_order2': 1, 'ask_order3': 8, 'ask_order4': 8, 'ask_order5': 21, 'type': 'dp', 'symbol': 'NSE:SBIN-EQ'}\n",
      "[817.45, 817.25, 817.2, 817.15, 817.1, 817.5, 817.55, 817.6, 817.65, 817.7, 17, 266, 380, 239, 488, 5089, 5, 492, 344, 3939, 3, 2, 4, 4, 9, 19, 1, 8, 8, 21, 1723120585.547892]\n",
      "Response: {'bid_price1': 817.3, 'bid_price2': 817.25, 'bid_price3': 817.2, 'bid_price4': 817.15, 'bid_price5': 817.1, 'ask_price1': 817.6, 'ask_price2': 817.65, 'ask_price3': 817.7, 'ask_price4': 817.75, 'ask_price5': 817.8, 'bid_size1': 122, 'bid_size2': 277, 'bid_size3': 311, 'bid_size4': 454, 'bid_size5': 405, 'ask_size1': 200, 'ask_size2': 156, 'ask_size3': 984, 'ask_size4': 98, 'ask_size5': 711, 'bid_order1': 1, 'bid_order2': 3, 'bid_order3': 3, 'bid_order4': 4, 'bid_order5': 5, 'ask_order1': 3, 'ask_order2': 4, 'ask_order3': 5, 'ask_order4': 1, 'ask_order5': 6, 'type': 'dp', 'symbol': 'BSE:SBIN-A'}\n",
      "[817.3, 817.25, 817.2, 817.15, 817.1, 817.6, 817.65, 817.7, 817.75, 817.8, 122, 277, 311, 454, 405, 200, 156, 984, 98, 711, 1, 3, 3, 4, 5, 3, 4, 5, 1, 6, 1723120585.551527]\n",
      "Response: {'bid_price1': 1052.6, 'bid_price2': 1052.5, 'bid_price3': 1052.45, 'bid_price4': 1052.4, 'bid_price5': 1052.35, 'ask_price1': 1052.95, 'ask_price2': 1053.0, 'ask_price3': 1053.05, 'ask_price4': 1053.1, 'ask_price5': 1053.15, 'bid_size1': 44, 'bid_size2': 6, 'bid_size3': 97, 'bid_size4': 901, 'bid_size5': 114, 'ask_size1': 189, 'ask_size2': 585, 'ask_size3': 436, 'ask_size4': 1569, 'ask_size5': 295, 'bid_order1': 3, 'bid_order2': 1, 'bid_order3': 3, 'bid_order4': 5, 'bid_order5': 2, 'ask_order1': 5, 'ask_order2': 11, 'ask_order3': 6, 'ask_order4': 14, 'ask_order5': 3, 'type': 'dp', 'symbol': 'NSE:TATAMOTORS-EQ'}\n",
      "[1052.6, 1052.5, 1052.45, 1052.4, 1052.35, 1052.95, 1053.0, 1053.05, 1053.1, 1053.15, 44, 6, 97, 901, 114, 189, 585, 436, 1569, 295, 3, 1, 3, 5, 2, 5, 11, 6, 14, 3, 1723120585.912505]\n",
      "Response: {'bid_price1': 817.2, 'bid_price2': 817.15, 'bid_price3': 817.1, 'bid_price4': 817.05, 'bid_price5': 817.0, 'ask_price1': 817.5, 'ask_price2': 817.55, 'ask_price3': 817.6, 'ask_price4': 817.65, 'ask_price5': 817.7, 'bid_size1': 19, 'bid_size2': 296, 'bid_size3': 488, 'bid_size4': 862, 'bid_size5': 374, 'ask_size1': 5108, 'ask_size2': 27, 'ask_size3': 816, 'ask_size4': 442, 'ask_size5': 3737, 'bid_order1': 2, 'bid_order2': 6, 'bid_order3': 9, 'bid_order4': 10, 'bid_order5': 9, 'ask_order1': 20, 'ask_order2': 3, 'ask_order3': 11, 'ask_order4': 8, 'ask_order5': 19, 'type': 'dp', 'symbol': 'NSE:SBIN-EQ'}\n",
      "[817.2, 817.15, 817.1, 817.05, 817.0, 817.5, 817.55, 817.6, 817.65, 817.7, 19, 296, 488, 862, 374, 5108, 27, 816, 442, 3737, 2, 6, 9, 10, 9, 20, 3, 11, 8, 19, 1723120586.372462]\n",
      "Response: {'bid_price1': 1052.6, 'bid_price2': 1052.55, 'bid_price3': 1052.5, 'bid_price4': 1052.45, 'bid_price5': 1052.4, 'ask_price1': 1052.9, 'ask_price2': 1053.0, 'ask_price3': 1053.05, 'ask_price4': 1053.1, 'ask_price5': 1053.15, 'bid_size1': 141, 'bid_size2': 441, 'bid_size3': 156, 'bid_size4': 312, 'bid_size5': 879, 'ask_size1': 48, 'ask_size2': 2239, 'ask_size3': 240, 'ask_size4': 1087, 'ask_size5': 262, 'bid_order1': 5, 'bid_order2': 9, 'bid_order3': 3, 'bid_order4': 7, 'bid_order5': 5, 'ask_order1': 2, 'ask_order2': 11, 'ask_order3': 3, 'ask_order4': 4, 'ask_order5': 2, 'type': 'dp', 'symbol': 'NSE:TATAMOTORS-EQ'}\n",
      "[1052.6, 1052.55, 1052.5, 1052.45, 1052.4, 1052.9, 1053.0, 1053.05, 1053.1, 1053.15, 141, 441, 156, 312, 879, 48, 2239, 240, 1087, 262, 5, 9, 3, 7, 5, 2, 11, 3, 4, 2, 1723120587.072552]\n",
      "Response: {'bid_price1': 817.25, 'bid_price2': 817.2, 'bid_price3': 817.15, 'bid_price4': 817.1, 'bid_price5': 817.05, 'ask_price1': 817.6, 'ask_price2': 817.65, 'ask_price3': 817.7, 'ask_price4': 817.75, 'ask_price5': 817.8, 'bid_size1': 277, 'bid_size2': 346, 'bid_size3': 358, 'bid_size4': 405, 'bid_size5': 306, 'ask_size1': 328, 'ask_size2': 234, 'ask_size3': 984, 'ask_size4': 98, 'ask_size5': 711, 'bid_order1': 3, 'bid_order2': 3, 'bid_order3': 3, 'bid_order4': 5, 'bid_order5': 4, 'ask_order1': 5, 'ask_order2': 5, 'ask_order3': 5, 'ask_order4': 1, 'ask_order5': 6, 'type': 'dp', 'symbol': 'BSE:SBIN-A'}\n",
      "[817.25, 817.2, 817.15, 817.1, 817.05, 817.6, 817.65, 817.7, 817.75, 817.8, 277, 346, 358, 405, 306, 328, 234, 984, 98, 711, 3, 3, 3, 5, 4, 5, 5, 5, 1, 6, 1723120587.218937]\n",
      "Response: {'bid_price1': 817.2, 'bid_price2': 817.15, 'bid_price3': 817.1, 'bid_price4': 817.05, 'bid_price5': 817.0, 'ask_price1': 817.35, 'ask_price2': 817.5, 'ask_price3': 817.55, 'ask_price4': 817.6, 'ask_price5': 817.65, 'bid_size1': 244, 'bid_size2': 417, 'bid_size3': 637, 'bid_size4': 752, 'bid_size5': 523, 'ask_size1': 50, 'ask_size2': 4452, 'ask_size3': 5, 'ask_size4': 750, 'ask_size5': 277, 'bid_order1': 4, 'bid_order2': 6, 'bid_order3': 12, 'bid_order4': 12, 'bid_order5': 12, 'ask_order1': 1, 'ask_order2': 20, 'ask_order3': 1, 'ask_order4': 9, 'ask_order5': 7, 'type': 'dp', 'symbol': 'NSE:SBIN-EQ'}\n",
      "[817.2, 817.15, 817.1, 817.05, 817.0, 817.35, 817.5, 817.55, 817.6, 817.65, 244, 417, 637, 752, 523, 50, 4452, 5, 750, 277, 4, 6, 12, 12, 12, 1, 20, 1, 9, 7, 1723120587.500117]\n",
      "Response: {'bid_price1': 1052.7, 'bid_price2': 1052.55, 'bid_price3': 1052.5, 'bid_price4': 1052.45, 'bid_price5': 1052.4, 'ask_price1': 1053.0, 'ask_price2': 1053.05, 'ask_price3': 1053.1, 'ask_price4': 1053.15, 'ask_price5': 1053.2, 'bid_size1': 575, 'bid_size2': 263, 'bid_size3': 413, 'bid_size4': 507, 'bid_size5': 914, 'ask_size1': 1276, 'ask_size2': 42, 'ask_size3': 1001, 'ask_size4': 313, 'ask_size5': 688, 'bid_order1': 2, 'bid_order2': 4, 'bid_order3': 9, 'bid_order4': 8, 'bid_order5': 6, 'ask_order1': 11, 'ask_order2': 1, 'ask_order3': 2, 'ask_order4': 3, 'ask_order5': 10, 'type': 'dp', 'symbol': 'NSE:TATAMOTORS-EQ'}\n",
      "[1052.7, 1052.55, 1052.5, 1052.45, 1052.4, 1053.0, 1053.05, 1053.1, 1053.15, 1053.2, 575, 263, 413, 507, 914, 1276, 42, 1001, 313, 688, 2, 4, 9, 8, 6, 11, 1, 2, 3, 10, 1723120588.265793]\n",
      "Response: {'bid_price1': 817.25, 'bid_price2': 817.2, 'bid_price3': 817.15, 'bid_price4': 817.1, 'bid_price5': 817.05, 'ask_price1': 817.6, 'ask_price2': 817.65, 'ask_price3': 817.7, 'ask_price4': 817.75, 'ask_price5': 817.8, 'bid_size1': 161, 'bid_size2': 250, 'bid_size3': 454, 'bid_size4': 405, 'bid_size5': 306, 'ask_size1': 328, 'ask_size2': 234, 'ask_size3': 984, 'ask_size4': 98, 'ask_size5': 1257, 'bid_order1': 2, 'bid_order2': 2, 'bid_order3': 4, 'bid_order4': 5, 'bid_order5': 4, 'ask_order1': 5, 'ask_order2': 5, 'ask_order3': 5, 'ask_order4': 1, 'ask_order5': 8, 'type': 'dp', 'symbol': 'BSE:SBIN-A'}\n",
      "[817.25, 817.2, 817.15, 817.1, 817.05, 817.6, 817.65, 817.7, 817.75, 817.8, 161, 250, 454, 405, 306, 328, 234, 984, 98, 1257, 2, 2, 4, 5, 4, 5, 5, 5, 1, 8, 1723120588.385121]\n",
      "Response: {'bid_price1': 817.2, 'bid_price2': 817.15, 'bid_price3': 817.1, 'bid_price4': 817.05, 'bid_price5': 817.0, 'ask_price1': 817.45, 'ask_price2': 817.5, 'ask_price3': 817.55, 'ask_price4': 817.6, 'ask_price5': 817.65, 'bid_size1': 4, 'bid_size2': 406, 'bid_size3': 387, 'bid_size4': 545, 'bid_size5': 431, 'ask_size1': 61, 'ask_size2': 4376, 'ask_size3': 27, 'ask_size4': 905, 'ask_size5': 358, 'bid_order1': 1, 'bid_order2': 3, 'bid_order3': 8, 'bid_order4': 6, 'bid_order5': 11, 'ask_order1': 1, 'ask_order2': 21, 'ask_order3': 3, 'ask_order4': 13, 'ask_order5': 9, 'type': 'dp', 'symbol': 'NSE:SBIN-EQ'}\n",
      "[817.2, 817.15, 817.1, 817.05, 817.0, 817.45, 817.5, 817.55, 817.6, 817.65, 4, 406, 387, 545, 431, 61, 4376, 27, 905, 358, 1, 3, 8, 6, 11, 1, 21, 3, 13, 9, 1723120588.829175]\n",
      "Response: {'bid_price1': 817.25, 'bid_price2': 817.2, 'bid_price3': 817.15, 'bid_price4': 817.1, 'bid_price5': 817.05, 'ask_price1': 817.6, 'ask_price2': 817.65, 'ask_price3': 817.7, 'ask_price4': 817.75, 'ask_price5': 817.8, 'bid_size1': 151, 'bid_size2': 311, 'bid_size3': 454, 'bid_size4': 405, 'bid_size5': 306, 'ask_size1': 328, 'ask_size2': 161, 'ask_size3': 984, 'ask_size4': 98, 'ask_size5': 1257, 'bid_order1': 2, 'bid_order2': 3, 'bid_order3': 4, 'bid_order4': 5, 'bid_order5': 4, 'ask_order1': 5, 'ask_order2': 4, 'ask_order3': 5, 'ask_order4': 1, 'ask_order5': 8, 'type': 'dp', 'symbol': 'BSE:SBIN-A'}\n",
      "[817.25, 817.2, 817.15, 817.1, 817.05, 817.6, 817.65, 817.7, 817.75, 817.8, 151, 311, 454, 405, 306, 328, 161, 984, 98, 1257, 2, 3, 4, 5, 4, 5, 4, 5, 1, 8, 1723120588.830378]\n",
      "Response: {'bid_price1': 817.35, 'bid_price2': 817.2, 'bid_price3': 817.15, 'bid_price4': 817.1, 'bid_price5': 817.05, 'ask_price1': 817.45, 'ask_price2': 817.5, 'ask_price3': 817.55, 'ask_price4': 817.6, 'ask_price5': 817.65, 'bid_size1': 1, 'bid_size2': 4, 'bid_size3': 406, 'bid_size4': 509, 'bid_size5': 546, 'ask_size1': 61, 'ask_size2': 4376, 'ask_size3': 65, 'ask_size4': 905, 'ask_size5': 320, 'bid_order1': 1, 'bid_order2': 1, 'bid_order3': 3, 'bid_order4': 9, 'bid_order5': 7, 'ask_order1': 1, 'ask_order2': 21, 'ask_order3': 4, 'ask_order4': 13, 'ask_order5': 8, 'type': 'dp', 'symbol': 'NSE:SBIN-EQ'}\n",
      "[817.35, 817.2, 817.15, 817.1, 817.05, 817.45, 817.5, 817.55, 817.6, 817.65, 1, 4, 406, 509, 546, 61, 4376, 65, 905, 320, 1, 1, 3, 9, 7, 1, 21, 4, 13, 8, 1723120589.15168]\n",
      "Response: {'bid_price1': 1052.7, 'bid_price2': 1052.55, 'bid_price3': 1052.5, 'bid_price4': 1052.45, 'bid_price5': 1052.4, 'ask_price1': 1052.9, 'ask_price2': 1053.0, 'ask_price3': 1053.05, 'ask_price4': 1053.1, 'ask_price5': 1053.15, 'bid_size1': 346, 'bid_size2': 19, 'bid_size3': 221, 'bid_size4': 362, 'bid_size5': 893, 'ask_size1': 3, 'ask_size2': 1324, 'ask_size3': 220, 'ask_size4': 1439, 'ask_size5': 267, 'bid_order1': 2, 'bid_order2': 1, 'bid_order3': 5, 'bid_order4': 7, 'bid_order5': 5, 'ask_order1': 1, 'ask_order2': 13, 'ask_order3': 2, 'ask_order4': 10, 'ask_order5': 3, 'type': 'dp', 'symbol': 'NSE:TATAMOTORS-EQ'}\n",
      "[1052.7, 1052.55, 1052.5, 1052.45, 1052.4, 1052.9, 1053.0, 1053.05, 1053.1, 1053.15, 346, 19, 221, 362, 893, 3, 1324, 220, 1439, 267, 2, 1, 5, 7, 5, 1, 13, 2, 10, 3, 1723120589.471285]\n",
      "Response: {'bid_price1': 817.2, 'bid_price2': 817.15, 'bid_price3': 817.1, 'bid_price4': 817.05, 'bid_price5': 817.0, 'ask_price1': 817.6, 'ask_price2': 817.65, 'ask_price3': 817.7, 'ask_price4': 817.75, 'ask_price5': 817.8, 'bid_size1': 250, 'bid_size2': 311, 'bid_size3': 468, 'bid_size4': 306, 'bid_size5': 581, 'ask_size1': 328, 'ask_size2': 375, 'ask_size3': 984, 'ask_size4': 98, 'ask_size5': 1257, 'bid_order1': 2, 'bid_order2': 3, 'bid_order3': 5, 'bid_order4': 4, 'bid_order5': 8, 'ask_order1': 5, 'ask_order2': 6, 'ask_order3': 5, 'ask_order4': 1, 'ask_order5': 8, 'type': 'dp', 'symbol': 'BSE:SBIN-A'}\n",
      "[817.2, 817.15, 817.1, 817.05, 817.0, 817.6, 817.65, 817.7, 817.75, 817.8, 250, 311, 468, 306, 581, 328, 375, 984, 98, 1257, 2, 3, 5, 4, 8, 5, 6, 5, 1, 8, 1723120589.520408]\n",
      "Response: {'bid_price1': 817.15, 'bid_price2': 817.1, 'bid_price3': 817.05, 'bid_price4': 817.0, 'bid_price5': 816.95, 'ask_price1': 817.45, 'ask_price2': 817.5, 'ask_price3': 817.55, 'ask_price4': 817.6, 'ask_price5': 817.65, 'bid_size1': 135, 'bid_size2': 436, 'bid_size3': 705, 'bid_size4': 600, 'bid_size5': 1485, 'ask_size1': 97, 'ask_size2': 4686, 'ask_size3': 283, 'ask_size4': 802, 'ask_size5': 320, 'bid_order1': 1, 'bid_order2': 5, 'bid_order3': 8, 'bid_order4': 13, 'bid_order5': 10, 'ask_order1': 1, 'ask_order2': 25, 'ask_order3': 6, 'ask_order4': 12, 'ask_order5': 8, 'type': 'dp', 'symbol': 'NSE:SBIN-EQ'}\n",
      "[817.15, 817.1, 817.05, 817.0, 816.95, 817.45, 817.5, 817.55, 817.6, 817.65, 135, 436, 705, 600, 1485, 97, 4686, 283, 802, 320, 1, 5, 8, 13, 10, 1, 25, 6, 12, 8, 1723120590.057703]\n",
      "Response: {'bid_price1': 817.2, 'bid_price2': 817.15, 'bid_price3': 817.1, 'bid_price4': 817.05, 'bid_price5': 817.0, 'ask_price1': 817.6, 'ask_price2': 817.65, 'ask_price3': 817.7, 'ask_price4': 817.75, 'ask_price5': 817.8, 'bid_size1': 250, 'bid_size2': 407, 'bid_size3': 547, 'bid_size4': 306, 'bid_size5': 581, 'ask_size1': 328, 'ask_size2': 375, 'ask_size3': 984, 'ask_size4': 98, 'ask_size5': 1257, 'bid_order1': 2, 'bid_order2': 4, 'bid_order3': 5, 'bid_order4': 4, 'bid_order5': 8, 'ask_order1': 5, 'ask_order2': 6, 'ask_order3': 5, 'ask_order4': 1, 'ask_order5': 8, 'type': 'dp', 'symbol': 'BSE:SBIN-A'}\n",
      "[817.2, 817.15, 817.1, 817.05, 817.0, 817.6, 817.65, 817.7, 817.75, 817.8, 250, 407, 547, 306, 581, 328, 375, 984, 98, 1257, 2, 4, 5, 4, 8, 5, 6, 5, 1, 8, 1723120590.058979]\n",
      "Response: {'bid_price1': 817.15, 'bid_price2': 817.1, 'bid_price3': 817.05, 'bid_price4': 817.0, 'bid_price5': 816.95, 'ask_price1': 817.45, 'ask_price2': 817.5, 'ask_price3': 817.55, 'ask_price4': 817.6, 'ask_price5': 817.65, 'bid_size1': 2, 'bid_size2': 633, 'bid_size3': 738, 'bid_size4': 649, 'bid_size5': 1447, 'ask_size1': 176, 'ask_size2': 4667, 'ask_size3': 27, 'ask_size4': 1039, 'ask_size5': 358, 'bid_order1': 2, 'bid_order2': 8, 'bid_order3': 9, 'bid_order4': 15, 'bid_order5': 9, 'ask_order1': 2, 'ask_order2': 24, 'ask_order3': 3, 'ask_order4': 15, 'ask_order5': 9, 'type': 'dp', 'symbol': 'NSE:SBIN-EQ'}\n",
      "[817.15, 817.1, 817.05, 817.0, 816.95, 817.45, 817.5, 817.55, 817.6, 817.65, 2, 633, 738, 649, 1447, 176, 4667, 27, 1039, 358, 2, 8, 9, 15, 9, 2, 24, 3, 15, 9, 1723120590.763646]\n",
      "Response: {'bid_price1': 1052.7, 'bid_price2': 1052.65, 'bid_price3': 1052.55, 'bid_price4': 1052.5, 'bid_price5': 1052.45, 'ask_price1': 1053.0, 'ask_price2': 1053.05, 'ask_price3': 1053.1, 'ask_price4': 1053.15, 'ask_price5': 1053.2, 'bid_size1': 184, 'bid_size2': 19, 'bid_size3': 153, 'bid_size4': 221, 'bid_size5': 402, 'ask_size1': 1024, 'ask_size2': 220, 'ask_size3': 1307, 'ask_size4': 262, 'ask_size5': 1083, 'bid_order1': 2, 'bid_order2': 1, 'bid_order3': 3, 'bid_order4': 5, 'bid_order5': 8, 'ask_order1': 13, 'ask_order2': 2, 'ask_order3': 9, 'ask_order4': 2, 'ask_order5': 15, 'type': 'dp', 'symbol': 'NSE:TATAMOTORS-EQ'}\n",
      "[1052.7, 1052.65, 1052.55, 1052.5, 1052.45, 1053.0, 1053.05, 1053.1, 1053.15, 1053.2, 184, 19, 153, 221, 402, 1024, 220, 1307, 262, 1083, 2, 1, 3, 5, 8, 13, 2, 9, 2, 15, 1723120590.766977]\n",
      "Response: {'bid_price1': 817.2, 'bid_price2': 817.15, 'bid_price3': 817.1, 'bid_price4': 817.05, 'bid_price5': 817.0, 'ask_price1': 817.6, 'ask_price2': 817.65, 'ask_price3': 817.7, 'ask_price4': 817.75, 'ask_price5': 817.8, 'bid_size1': 122, 'bid_size2': 346, 'bid_size3': 449, 'bid_size4': 127, 'bid_size5': 483, 'ask_size1': 361, 'ask_size2': 252, 'ask_size3': 984, 'ask_size4': 98, 'ask_size5': 1257, 'bid_order1': 1, 'bid_order2': 3, 'bid_order3': 4, 'bid_order4': 2, 'bid_order5': 7, 'ask_order1': 6, 'ask_order2': 5, 'ask_order3': 5, 'ask_order4': 1, 'ask_order5': 8, 'type': 'dp', 'symbol': 'BSE:SBIN-A'}\n",
      "[817.2, 817.15, 817.1, 817.05, 817.0, 817.6, 817.65, 817.7, 817.75, 817.8, 122, 346, 449, 127, 483, 361, 252, 984, 98, 1257, 1, 3, 4, 2, 7, 6, 5, 5, 1, 8, 1723120590.90611]\n",
      "Response: {'bid_price1': 1052.15, 'bid_price2': 1052.1, 'bid_price3': 1052.05, 'bid_price4': 1052.0, 'bid_price5': 1051.95, 'ask_price1': 1052.65, 'ask_price2': 1052.7, 'ask_price3': 1052.75, 'ask_price4': 1052.8, 'ask_price5': 1052.85, 'bid_size1': 186, 'bid_size2': 224, 'bid_size3': 478, 'bid_size4': 2369, 'bid_size5': 459, 'ask_size1': 9298, 'ask_size2': 25, 'ask_size3': 373, 'ask_size4': 669, 'ask_size5': 616, 'bid_order1': 5, 'bid_order2': 6, 'bid_order3': 7, 'bid_order4': 12, 'bid_order5': 6, 'ask_order1': 4, 'ask_order2': 1, 'ask_order3': 3, 'ask_order4': 10, 'ask_order5': 9, 'type': 'dp', 'symbol': 'NSE:TATAMOTORS-EQ'}\n",
      "[1052.15, 1052.1, 1052.05, 1052.0, 1051.95, 1052.65, 1052.7, 1052.75, 1052.8, 1052.85, 186, 224, 478, 2369, 459, 9298, 25, 373, 669, 616, 5, 6, 7, 12, 6, 4, 1, 3, 10, 9, 1723120591.901608]\n",
      "Response: {'bid_price1': 817.1, 'bid_price2': 817.05, 'bid_price3': 817.0, 'bid_price4': 816.95, 'bid_price5': 816.9, 'ask_price1': 817.45, 'ask_price2': 817.5, 'ask_price3': 817.55, 'ask_price4': 817.6, 'ask_price5': 817.65, 'bid_size1': 332, 'bid_size2': 1044, 'bid_size3': 506, 'bid_size4': 1447, 'bid_size5': 765, 'ask_size1': 263, 'ask_size2': 4077, 'ask_size3': 70, 'ask_size4': 745, 'ask_size5': 1110, 'bid_order1': 6, 'bid_order2': 14, 'bid_order3': 13, 'bid_order4': 9, 'bid_order5': 12, 'ask_order1': 4, 'ask_order2': 22, 'ask_order3': 3, 'ask_order4': 11, 'ask_order5': 12, 'type': 'dp', 'symbol': 'NSE:SBIN-EQ'}\n",
      "[817.1, 817.05, 817.0, 816.95, 816.9, 817.45, 817.5, 817.55, 817.6, 817.65, 332, 1044, 506, 1447, 765, 263, 4077, 70, 745, 1110, 6, 14, 13, 9, 12, 4, 22, 3, 11, 12, 1723120591.91846]\n",
      "Response: {'bid_price1': 817.2, 'bid_price2': 817.15, 'bid_price3': 817.1, 'bid_price4': 817.05, 'bid_price5': 817.0, 'ask_price1': 817.6, 'ask_price2': 817.65, 'ask_price3': 817.7, 'ask_price4': 817.75, 'ask_price5': 817.8, 'bid_size1': 250, 'bid_size2': 250, 'bid_size3': 545, 'bid_size4': 127, 'bid_size5': 564, 'ask_size1': 361, 'ask_size2': 252, 'ask_size3': 984, 'ask_size4': 98, 'ask_size5': 1233, 'bid_order1': 2, 'bid_order2': 2, 'bid_order3': 5, 'bid_order4': 2, 'bid_order5': 8, 'ask_order1': 6, 'ask_order2': 5, 'ask_order3': 5, 'ask_order4': 1, 'ask_order5': 7, 'type': 'dp', 'symbol': 'BSE:SBIN-A'}\n",
      "[817.2, 817.15, 817.1, 817.05, 817.0, 817.6, 817.65, 817.7, 817.75, 817.8, 250, 250, 545, 127, 564, 361, 252, 984, 98, 1233, 2, 2, 5, 2, 8, 6, 5, 5, 1, 7, 1723120592.082341]\n",
      "Response: {'bid_price1': 817.2, 'bid_price2': 817.15, 'bid_price3': 817.1, 'bid_price4': 817.05, 'bid_price5': 817.0, 'ask_price1': 817.6, 'ask_price2': 817.65, 'ask_price3': 817.7, 'ask_price4': 817.75, 'ask_price5': 817.8, 'bid_size1': 250, 'bid_size2': 346, 'bid_size3': 449, 'bid_size4': 127, 'bid_size5': 564, 'ask_size1': 361, 'ask_size2': 252, 'ask_size3': 1136, 'ask_size4': 98, 'ask_size5': 1233, 'bid_order1': 2, 'bid_order2': 3, 'bid_order3': 4, 'bid_order4': 2, 'bid_order5': 8, 'ask_order1': 6, 'ask_order2': 5, 'ask_order3': 7, 'ask_order4': 1, 'ask_order5': 7, 'type': 'dp', 'symbol': 'BSE:SBIN-A'}\n",
      "[817.2, 817.15, 817.1, 817.05, 817.0, 817.6, 817.65, 817.7, 817.75, 817.8, 250, 346, 449, 127, 564, 361, 252, 1136, 98, 1233, 2, 3, 4, 2, 8, 6, 5, 7, 1, 7, 1723120592.427665]\n",
      "Response: {'bid_price1': 817.1, 'bid_price2': 817.05, 'bid_price3': 817.0, 'bid_price4': 816.95, 'bid_price5': 816.9, 'ask_price1': 817.4, 'ask_price2': 817.45, 'ask_price3': 817.5, 'ask_price4': 817.55, 'ask_price5': 817.6, 'bid_size1': 52, 'bid_size2': 399, 'bid_size3': 463, 'bid_size4': 1290, 'bid_size5': 905, 'ask_size1': 36, 'ask_size2': 266, 'ask_size3': 4450, 'ask_size4': 70, 'ask_size5': 802, 'bid_order1': 2, 'bid_order2': 5, 'bid_order3': 12, 'bid_order4': 8, 'bid_order5': 14, 'ask_order1': 1, 'ask_order2': 7, 'ask_order3': 27, 'ask_order4': 3, 'ask_order5': 12, 'type': 'dp', 'symbol': 'NSE:SBIN-EQ'}\n",
      "[817.1, 817.05, 817.0, 816.95, 816.9, 817.4, 817.45, 817.5, 817.55, 817.6, 52, 399, 463, 1290, 905, 36, 266, 4450, 70, 802, 2, 5, 12, 8, 14, 1, 7, 27, 3, 12, 1723120592.669548]\n",
      "Response: {'bid_price1': 1052.9, 'bid_price2': 1052.75, 'bid_price3': 1052.7, 'bid_price4': 1052.65, 'bid_price5': 1052.6, 'ask_price1': 1053.0, 'ask_price2': 1053.05, 'ask_price3': 1053.1, 'ask_price4': 1053.15, 'ask_price5': 1053.2, 'bid_size1': 899, 'bid_size2': 420, 'bid_size3': 228, 'bid_size4': 164, 'bid_size5': 145, 'ask_size1': 1093, 'ask_size2': 166, 'ask_size3': 1051, 'ask_size4': 210, 'ask_size5': 362, 'bid_order1': 2, 'bid_order2': 3, 'bid_order3': 3, 'bid_order4': 5, 'bid_order5': 3, 'ask_order1': 19, 'ask_order2': 1, 'ask_order3': 3, 'ask_order4': 2, 'ask_order5': 5, 'type': 'dp', 'symbol': 'NSE:TATAMOTORS-EQ'}\n",
      "[1052.9, 1052.75, 1052.7, 1052.65, 1052.6, 1053.0, 1053.05, 1053.1, 1053.15, 1053.2, 899, 420, 228, 164, 145, 1093, 166, 1051, 210, 362, 2, 3, 3, 5, 3, 19, 1, 3, 2, 5, 1723120592.67093]\n",
      "Response: {'bid_price1': 817.1, 'bid_price2': 817.05, 'bid_price3': 817.0, 'bid_price4': 816.95, 'bid_price5': 816.9, 'ask_price1': 817.4, 'ask_price2': 817.45, 'ask_price3': 817.5, 'ask_price4': 817.55, 'ask_price5': 817.6, 'bid_size1': 52, 'bid_size2': 399, 'bid_size3': 463, 'bid_size4': 1290, 'bid_size5': 905, 'ask_size1': 35, 'ask_size2': 266, 'ask_size3': 4450, 'ask_size4': 70, 'ask_size5': 802, 'bid_order1': 2, 'bid_order2': 5, 'bid_order3': 12, 'bid_order4': 8, 'bid_order5': 14, 'ask_order1': 1, 'ask_order2': 7, 'ask_order3': 27, 'ask_order4': 3, 'ask_order5': 12, 'type': 'dp', 'symbol': 'NSE:SBIN-EQ'}\n",
      "[817.1, 817.05, 817.0, 816.95, 816.9, 817.4, 817.45, 817.5, 817.55, 817.6, 52, 399, 463, 1290, 905, 35, 266, 4450, 70, 802, 2, 5, 12, 8, 14, 1, 7, 27, 3, 12, 1723120593.139617]\n",
      "Response: {'bid_price1': 817.15, 'bid_price2': 817.1, 'bid_price3': 817.05, 'bid_price4': 817.0, 'bid_price5': 816.95, 'ask_price1': 817.6, 'ask_price2': 817.65, 'ask_price3': 817.7, 'ask_price4': 817.75, 'ask_price5': 817.8, 'bid_size1': 250, 'bid_size2': 402, 'bid_size3': 223, 'bid_size4': 564, 'bid_size5': 246, 'ask_size1': 361, 'ask_size2': 1032, 'ask_size3': 386, 'ask_size4': 98, 'ask_size5': 1233, 'bid_order1': 2, 'bid_order2': 4, 'bid_order3': 3, 'bid_order4': 8, 'bid_order5': 5, 'ask_order1': 6, 'ask_order2': 7, 'ask_order3': 6, 'ask_order4': 1, 'ask_order5': 7, 'type': 'dp', 'symbol': 'BSE:SBIN-A'}\n",
      "[817.15, 817.1, 817.05, 817.0, 816.95, 817.6, 817.65, 817.7, 817.75, 817.8, 250, 402, 223, 564, 246, 361, 1032, 386, 98, 1233, 2, 4, 3, 8, 5, 6, 7, 6, 1, 7, 1723120593.225022]\n",
      "Response: {'bid_price1': 1052.95, 'bid_price2': 1052.9, 'bid_price3': 1052.7, 'bid_price4': 1052.6, 'bid_price5': 1052.55, 'ask_price1': 1053.0, 'ask_price2': 1053.05, 'ask_price3': 1053.1, 'ask_price4': 1053.15, 'ask_price5': 1053.2, 'bid_size1': 45, 'bid_size2': 877, 'bid_size3': 94, 'bid_size4': 94, 'bid_size5': 270, 'ask_size1': 3078, 'ask_size2': 24, 'ask_size3': 1165, 'ask_size4': 41, 'ask_size5': 766, 'bid_order1': 1, 'bid_order2': 1, 'bid_order3': 1, 'bid_order4': 2, 'bid_order5': 4, 'ask_order1': 11, 'ask_order2': 1, 'ask_order3': 5, 'ask_order4': 1, 'ask_order5': 10, 'type': 'dp', 'symbol': 'NSE:TATAMOTORS-EQ'}\n",
      "[1052.95, 1052.9, 1052.7, 1052.6, 1052.55, 1053.0, 1053.05, 1053.1, 1053.15, 1053.2, 45, 877, 94, 94, 270, 3078, 24, 1165, 41, 766, 1, 1, 1, 2, 4, 11, 1, 5, 1, 10, 1723120593.744654]\n",
      "Response: {'bid_price1': 817.15, 'bid_price2': 817.1, 'bid_price3': 817.05, 'bid_price4': 817.0, 'bid_price5': 816.95, 'ask_price1': 817.6, 'ask_price2': 817.65, 'ask_price3': 817.7, 'ask_price4': 817.75, 'ask_price5': 817.8, 'bid_size1': 250, 'bid_size2': 498, 'bid_size3': 127, 'bid_size4': 566, 'bid_size5': 246, 'ask_size1': 361, 'ask_size2': 1032, 'ask_size3': 386, 'ask_size4': 98, 'ask_size5': 1233, 'bid_order1': 2, 'bid_order2': 5, 'bid_order3': 2, 'bid_order4': 9, 'bid_order5': 5, 'ask_order1': 6, 'ask_order2': 7, 'ask_order3': 6, 'ask_order4': 1, 'ask_order5': 7, 'type': 'dp', 'symbol': 'BSE:SBIN-A'}\n",
      "[817.15, 817.1, 817.05, 817.0, 816.95, 817.6, 817.65, 817.7, 817.75, 817.8, 250, 498, 127, 566, 246, 361, 1032, 386, 98, 1233, 2, 5, 2, 9, 5, 6, 7, 6, 1, 7, 1723120593.748379]\n",
      "Response: {'bid_price1': 817.4, 'bid_price2': 817.25, 'bid_price3': 817.1, 'bid_price4': 817.05, 'bid_price5': 817.0, 'ask_price1': 817.45, 'ask_price2': 817.5, 'ask_price3': 817.55, 'ask_price4': 817.6, 'ask_price5': 817.65, 'bid_size1': 1, 'bid_size2': 6, 'bid_size3': 275, 'bid_size4': 978, 'bid_size5': 597, 'ask_size1': 368, 'ask_size2': 3973, 'ask_size3': 288, 'ask_size4': 743, 'ask_size5': 3378, 'bid_order1': 1, 'bid_order2': 1, 'bid_order3': 5, 'bid_order4': 8, 'bid_order5': 14, 'ask_order1': 8, 'ask_order2': 23, 'ask_order3': 5, 'ask_order4': 11, 'ask_order5': 16, 'type': 'dp', 'symbol': 'NSE:SBIN-EQ'}\n",
      "[817.4, 817.25, 817.1, 817.05, 817.0, 817.45, 817.5, 817.55, 817.6, 817.65, 1, 6, 275, 978, 597, 368, 3973, 288, 743, 3378, 1, 1, 5, 8, 14, 8, 23, 5, 11, 16, 1723120593.876141]\n",
      "Response: {'bid_price1': 1052.9, 'bid_price2': 1052.8, 'bid_price3': 1052.7, 'bid_price4': 1052.65, 'bid_price5': 1052.6, 'ask_price1': 1053.0, 'ask_price2': 1053.05, 'ask_price3': 1053.1, 'ask_price4': 1053.15, 'ask_price5': 1053.2, 'bid_size1': 299, 'bid_size2': 1, 'bid_size3': 94, 'bid_size4': 17, 'bid_size5': 94, 'ask_size1': 2279, 'ask_size2': 24, 'ask_size3': 1210, 'ask_size4': 160, 'ask_size5': 692, 'bid_order1': 1, 'bid_order2': 1, 'bid_order3': 1, 'bid_order4': 1, 'bid_order5': 2, 'ask_order1': 3, 'ask_order2': 1, 'ask_order3': 6, 'ask_order4': 3, 'ask_order5': 8, 'type': 'dp', 'symbol': 'NSE:TATAMOTORS-EQ'}\n",
      "[1052.9, 1052.8, 1052.7, 1052.65, 1052.6, 1053.0, 1053.05, 1053.1, 1053.15, 1053.2, 299, 1, 94, 17, 94, 2279, 24, 1210, 160, 692, 1, 1, 1, 1, 2, 3, 1, 6, 3, 8, 1723120594.271775]\n",
      "Response: {'bid_price1': 817.2, 'bid_price2': 817.15, 'bid_price3': 817.1, 'bid_price4': 817.05, 'bid_price5': 817.0, 'ask_price1': 817.6, 'ask_price2': 817.65, 'ask_price3': 817.7, 'ask_price4': 817.75, 'ask_price5': 817.8, 'bid_size1': 183, 'bid_size2': 122, 'bid_size3': 501, 'bid_size4': 306, 'bid_size5': 583, 'ask_size1': 465, 'ask_size2': 366, 'ask_size3': 1136, 'ask_size4': 179, 'ask_size5': 1273, 'bid_order1': 2, 'bid_order2': 1, 'bid_order3': 6, 'bid_order4': 4, 'bid_order5': 9, 'ask_order1': 7, 'ask_order2': 6, 'ask_order3': 7, 'ask_order4': 2, 'ask_order5': 9, 'type': 'dp', 'symbol': 'BSE:SBIN-A'}\n",
      "[817.2, 817.15, 817.1, 817.05, 817.0, 817.6, 817.65, 817.7, 817.75, 817.8, 183, 122, 501, 306, 583, 465, 366, 1136, 179, 1273, 2, 1, 6, 4, 9, 7, 6, 7, 2, 9, 1723120594.50679]\n",
      "Response: {'bid_price1': 817.3, 'bid_price2': 817.25, 'bid_price3': 817.1, 'bid_price4': 817.05, 'bid_price5': 817.0, 'ask_price1': 817.4, 'ask_price2': 817.45, 'ask_price3': 817.5, 'ask_price4': 817.55, 'ask_price5': 817.6, 'bid_size1': 1, 'bid_size2': 3, 'bid_size3': 150, 'bid_size4': 466, 'bid_size5': 542, 'ask_size1': 904, 'ask_size2': 333, 'ask_size3': 4074, 'ask_size4': 252, 'ask_size5': 815, 'bid_order1': 1, 'bid_order2': 1, 'bid_order3': 2, 'bid_order4': 6, 'bid_order5': 12, 'ask_order1': 3, 'ask_order2': 9, 'ask_order3': 25, 'ask_order4': 5, 'ask_order5': 12, 'type': 'dp', 'symbol': 'NSE:SBIN-EQ'}\n",
      "[817.3, 817.25, 817.1, 817.05, 817.0, 817.4, 817.45, 817.5, 817.55, 817.6, 1, 3, 150, 466, 542, 904, 333, 4074, 252, 815, 1, 1, 2, 6, 12, 3, 9, 25, 5, 12, 1723120595.071253]\n",
      "Response: {'bid_price1': 1052.8, 'bid_price2': 1052.65, 'bid_price3': 1052.6, 'bid_price4': 1052.55, 'bid_price5': 1052.5, 'ask_price1': 1052.9, 'ask_price2': 1053.0, 'ask_price3': 1053.05, 'ask_price4': 1053.1, 'ask_price5': 1053.15, 'bid_size1': 1, 'bid_size2': 21, 'bid_size3': 188, 'bid_size4': 392, 'bid_size5': 287, 'ask_size1': 2, 'ask_size2': 177, 'ask_size3': 24, 'ask_size4': 1051, 'ask_size5': 76, 'bid_order1': 1, 'bid_order2': 2, 'bid_order3': 4, 'bid_order4': 6, 'bid_order5': 6, 'ask_order1': 1, 'ask_order2': 3, 'ask_order3': 1, 'ask_order4': 3, 'ask_order5': 2, 'type': 'dp', 'symbol': 'NSE:TATAMOTORS-EQ'}\n",
      "[1052.8, 1052.65, 1052.6, 1052.55, 1052.5, 1052.9, 1053.0, 1053.05, 1053.1, 1053.15, 1, 21, 188, 392, 287, 2, 177, 24, 1051, 76, 1, 2, 4, 6, 6, 1, 3, 1, 3, 2, 1723120595.894491]\n",
      "Response: {'bid_price1': 817.1, 'bid_price2': 817.05, 'bid_price3': 817.0, 'bid_price4': 816.95, 'bid_price5': 816.9, 'ask_price1': 817.6, 'ask_price2': 817.65, 'ask_price3': 817.7, 'ask_price4': 817.75, 'ask_price5': 817.8, 'bid_size1': 155, 'bid_size2': 223, 'bid_size3': 365, 'bid_size4': 142, 'bid_size5': 428, 'ask_size1': 611, 'ask_size2': 1116, 'ask_size3': 386, 'ask_size4': 179, 'ask_size5': 1273, 'bid_order1': 2, 'bid_order2': 3, 'bid_order3': 5, 'bid_order4': 4, 'bid_order5': 4, 'ask_order1': 8, 'ask_order2': 7, 'ask_order3': 6, 'ask_order4': 2, 'ask_order5': 9, 'type': 'dp', 'symbol': 'BSE:SBIN-A'}\n",
      "[817.1, 817.05, 817.0, 816.95, 816.9, 817.6, 817.65, 817.7, 817.75, 817.8, 155, 223, 365, 142, 428, 611, 1116, 386, 179, 1273, 2, 3, 5, 4, 4, 8, 7, 6, 2, 9, 1723120595.895785]\n",
      "Response: {'bid_price1': 817.05, 'bid_price2': 817.0, 'bid_price3': 816.95, 'bid_price4': 816.9, 'bid_price5': 816.85, 'ask_price1': 817.4, 'ask_price2': 817.45, 'ask_price3': 817.5, 'ask_price4': 817.55, 'ask_price5': 817.6, 'bid_size1': 358, 'bid_size2': 567, 'bid_size3': 1011, 'bid_size4': 1476, 'bid_size5': 642, 'ask_size1': 938, 'ask_size2': 397, 'ask_size3': 4306, 'ask_size4': 16, 'ask_size5': 2684, 'bid_order1': 6, 'bid_order2': 14, 'bid_order3': 13, 'bid_order4': 13, 'bid_order5': 5, 'ask_order1': 5, 'ask_order2': 10, 'ask_order3': 27, 'ask_order4': 2, 'ask_order5': 19, 'type': 'dp', 'symbol': 'NSE:SBIN-EQ'}\n",
      "[817.05, 817.0, 816.95, 816.9, 816.85, 817.4, 817.45, 817.5, 817.55, 817.6, 358, 567, 1011, 1476, 642, 938, 397, 4306, 16, 2684, 6, 14, 13, 13, 5, 5, 10, 27, 2, 19, 1723120595.916673]\n",
      "Response: {'bid_price1': 817.1, 'bid_price2': 817.05, 'bid_price3': 817.0, 'bid_price4': 816.95, 'bid_price5': 816.9, 'ask_price1': 817.6, 'ask_price2': 817.65, 'ask_price3': 817.7, 'ask_price4': 817.75, 'ask_price5': 817.8, 'bid_size1': 251, 'bid_size2': 127, 'bid_size3': 365, 'bid_size4': 292, 'bid_size5': 428, 'ask_size1': 561, 'ask_size2': 1116, 'ask_size3': 386, 'ask_size4': 179, 'ask_size5': 1273, 'bid_order1': 3, 'bid_order2': 2, 'bid_order3': 5, 'bid_order4': 5, 'bid_order5': 4, 'ask_order1': 8, 'ask_order2': 7, 'ask_order3': 6, 'ask_order4': 2, 'ask_order5': 9, 'type': 'dp', 'symbol': 'BSE:SBIN-A'}\n",
      "[817.1, 817.05, 817.0, 816.95, 816.9, 817.6, 817.65, 817.7, 817.75, 817.8, 251, 127, 365, 292, 428, 561, 1116, 386, 179, 1273, 3, 2, 5, 5, 4, 8, 7, 6, 2, 9, 1723120596.075872]\n",
      "Response: {'bid_price1': 817.05, 'bid_price2': 817.0, 'bid_price3': 816.95, 'bid_price4': 816.9, 'bid_price5': 816.85, 'ask_price1': 817.4, 'ask_price2': 817.45, 'ask_price3': 817.5, 'ask_price4': 817.55, 'ask_price5': 817.6, 'bid_size1': 300, 'bid_size2': 558, 'bid_size3': 1047, 'bid_size4': 1476, 'bid_size5': 606, 'ask_size1': 937, 'ask_size2': 399, 'ask_size3': 4306, 'ask_size4': 234, 'ask_size5': 2466, 'bid_order1': 6, 'bid_order2': 14, 'bid_order3': 14, 'bid_order4': 13, 'bid_order5': 4, 'ask_order1': 5, 'ask_order2': 11, 'ask_order3': 27, 'ask_order4': 4, 'ask_order5': 17, 'type': 'dp', 'symbol': 'NSE:SBIN-EQ'}\n",
      "[817.05, 817.0, 816.95, 816.9, 816.85, 817.4, 817.45, 817.5, 817.55, 817.6, 300, 558, 1047, 1476, 606, 937, 399, 4306, 234, 2466, 6, 14, 14, 13, 4, 5, 11, 27, 4, 17, 1723120596.510553]\n",
      "Response: {'bid_price1': 1052.85, 'bid_price2': 1052.65, 'bid_price3': 1052.6, 'bid_price4': 1052.55, 'bid_price5': 1052.5, 'ask_price1': 1053.0, 'ask_price2': 1053.05, 'ask_price3': 1053.1, 'ask_price4': 1053.15, 'ask_price5': 1053.2, 'bid_size1': 23, 'bid_size2': 51, 'bid_size3': 147, 'bid_size4': 224, 'bid_size5': 297, 'ask_size1': 71, 'ask_size2': 24, 'ask_size3': 1096, 'ask_size4': 176, 'ask_size5': 727, 'bid_order1': 1, 'bid_order2': 1, 'bid_order3': 3, 'bid_order4': 5, 'bid_order5': 5, 'ask_order1': 3, 'ask_order2': 1, 'ask_order3': 4, 'ask_order4': 1, 'ask_order5': 9, 'type': 'dp', 'symbol': 'NSE:TATAMOTORS-EQ'}\n",
      "[1052.85, 1052.65, 1052.6, 1052.55, 1052.5, 1053.0, 1053.05, 1053.1, 1053.15, 1053.2, 23, 51, 147, 224, 297, 71, 24, 1096, 176, 727, 1, 1, 3, 5, 5, 3, 1, 4, 1, 9, 1723120596.514447]\n",
      "Response: {'bid_price1': 817.05, 'bid_price2': 817.0, 'bid_price3': 816.95, 'bid_price4': 816.9, 'bid_price5': 816.85, 'ask_price1': 817.3, 'ask_price2': 817.35, 'ask_price3': 817.4, 'ask_price4': 817.45, 'ask_price5': 817.5, 'bid_size1': 230, 'bid_size2': 533, 'bid_size3': 953, 'bid_size4': 1337, 'bid_size5': 579, 'ask_size1': 738, 'ask_size2': 36, 'ask_size3': 189, 'ask_size4': 557, 'ask_size5': 4347, 'bid_order1': 5, 'bid_order2': 13, 'bid_order3': 12, 'bid_order4': 12, 'bid_order5': 4, 'ask_order1': 1, 'ask_order2': 1, 'ask_order3': 5, 'ask_order4': 12, 'ask_order5': 29, 'type': 'dp', 'symbol': 'NSE:SBIN-EQ'}\n",
      "[817.05, 817.0, 816.95, 816.9, 816.85, 817.3, 817.35, 817.4, 817.45, 817.5, 230, 533, 953, 1337, 579, 738, 36, 189, 557, 4347, 5, 13, 12, 12, 4, 1, 1, 5, 12, 29, 1723120596.671259]\n",
      "Response: {'bid_price1': 817.05, 'bid_price2': 817.0, 'bid_price3': 816.95, 'bid_price4': 816.9, 'bid_price5': 816.85, 'ask_price1': 817.5, 'ask_price2': 817.55, 'ask_price3': 817.6, 'ask_price4': 817.65, 'ask_price5': 817.7, 'bid_size1': 346, 'bid_size2': 318, 'bid_size3': 292, 'bid_size4': 428, 'bid_size5': 240, 'ask_size1': 220, 'ask_size2': 176, 'ask_size3': 1338, 'ask_size4': 336, 'ask_size5': 426, 'bid_order1': 3, 'bid_order2': 5, 'bid_order3': 5, 'bid_order4': 4, 'bid_order5': 3, 'ask_order1': 2, 'ask_order2': 2, 'ask_order3': 10, 'ask_order4': 6, 'ask_order5': 8, 'type': 'dp', 'symbol': 'BSE:SBIN-A'}\n",
      "[817.05, 817.0, 816.95, 816.9, 816.85, 817.5, 817.55, 817.6, 817.65, 817.7, 346, 318, 292, 428, 240, 220, 176, 1338, 336, 426, 3, 5, 5, 4, 3, 2, 2, 10, 6, 8, 1723120597.123471]\n",
      "Response: {'bid_price1': 1053.0, 'bid_price2': 1052.85, 'bid_price3': 1052.7, 'bid_price4': 1052.65, 'bid_price5': 1052.6, 'ask_price1': 1053.1, 'ask_price2': 1053.2, 'ask_price3': 1053.25, 'ask_price4': 1053.3, 'ask_price5': 1053.35, 'bid_size1': 299, 'bid_size2': 40, 'bid_size3': 188, 'bid_size4': 136, 'bid_size5': 217, 'ask_size1': 714, 'ask_size2': 411, 'ask_size3': 245, 'ask_size4': 110, 'ask_size5': 529, 'bid_order1': 1, 'bid_order2': 1, 'bid_order3': 2, 'bid_order4': 3, 'bid_order5': 5, 'ask_order1': 2, 'ask_order2': 6, 'ask_order3': 11, 'ask_order4': 6, 'ask_order5': 5, 'type': 'dp', 'symbol': 'NSE:TATAMOTORS-EQ'}\n",
      "[1053.0, 1052.85, 1052.7, 1052.65, 1052.6, 1053.1, 1053.2, 1053.25, 1053.3, 1053.35, 299, 40, 188, 136, 217, 714, 411, 245, 110, 529, 1, 1, 2, 3, 5, 2, 6, 11, 6, 5, 1723120597.12494]\n",
      "Response: {'bid_price1': 817.05, 'bid_price2': 817.0, 'bid_price3': 816.95, 'bid_price4': 816.9, 'bid_price5': 816.85, 'ask_price1': 817.5, 'ask_price2': 817.55, 'ask_price3': 817.6, 'ask_price4': 817.65, 'ask_price5': 817.7, 'bid_size1': 346, 'bid_size2': 318, 'bid_size3': 292, 'bid_size4': 428, 'bid_size5': 240, 'ask_size1': 248, 'ask_size2': 264, 'ask_size3': 1338, 'ask_size4': 336, 'ask_size5': 426, 'bid_order1': 3, 'bid_order2': 5, 'bid_order3': 5, 'bid_order4': 4, 'bid_order5': 3, 'ask_order1': 3, 'ask_order2': 3, 'ask_order3': 10, 'ask_order4': 6, 'ask_order5': 8, 'type': 'dp', 'symbol': 'BSE:SBIN-A'}\n",
      "[817.05, 817.0, 816.95, 816.9, 816.85, 817.5, 817.55, 817.6, 817.65, 817.7, 346, 318, 292, 428, 240, 248, 264, 1338, 336, 426, 3, 5, 5, 4, 3, 3, 3, 10, 6, 8, 1723120597.431592]\n",
      "Response: {'bid_price1': 817.05, 'bid_price2': 817.0, 'bid_price3': 816.95, 'bid_price4': 816.9, 'bid_price5': 816.85, 'ask_price1': 817.3, 'ask_price2': 817.35, 'ask_price3': 817.4, 'ask_price4': 817.45, 'ask_price5': 817.5, 'bid_size1': 46, 'bid_size2': 533, 'bid_size3': 788, 'bid_size4': 1466, 'bid_size5': 597, 'ask_size1': 737, 'ask_size2': 54, 'ask_size3': 189, 'ask_size4': 539, 'ask_size5': 4347, 'bid_order1': 3, 'bid_order2': 13, 'bid_order3': 9, 'bid_order4': 14, 'bid_order5': 4, 'ask_order1': 1, 'ask_order2': 2, 'ask_order3': 5, 'ask_order4': 11, 'ask_order5': 29, 'type': 'dp', 'symbol': 'NSE:SBIN-EQ'}\n",
      "[817.05, 817.0, 816.95, 816.9, 816.85, 817.3, 817.35, 817.4, 817.45, 817.5, 46, 533, 788, 1466, 597, 737, 54, 189, 539, 4347, 3, 13, 9, 14, 4, 1, 2, 5, 11, 29, 1723120597.47035]\n",
      "Response: {'type': 'unsub', 'code': 200, 'message': 'Unsubscribed', 's': 'ok'}\n",
      "processes closed!\n",
      "\n",
      "\n",
      "\n",
      "\n",
      "\n",
      "\n",
      "\n"
     ]
    }
   ],
   "source": [
    "collect('secrets.txt','test',stonks=['NSE:SBIN-EQ','BSE:SBIN-A','NSE:TATAMOTORS-EQ'],wait_time=20,save_format=Save.hdf5)"
   ]
  },
  {
   "cell_type": "code",
   "execution_count": 2,
   "metadata": {},
   "outputs": [
    {
     "name": "stdout",
     "output_type": "stream",
     "text": [
      "yeassss\n",
      "shucks login issue occured, we prolly got detected: \n",
      " It looks like you are trying to call a SeleniumBase method\n",
      " from outside the scope of your test class's `self` object,\n",
      " which is initialized by calling BaseCase's setUp() method.\n",
      " The `self` object is where all test variables are defined.\n",
      " If you created a custom setUp() method (that overrided the\n",
      " the default one), make sure to call super().setUp() in it.\n",
      " When using page objects, be sure to pass the `self` object\n",
      " from your test class into your page object methods so that\n",
      " they can call BaseCase class methods with all the required\n",
      " variables, which are initialized during the setUp() method\n",
      " that runs automatically before all tests called by pytest.\n",
      "mode 0 used up\n",
      "yeassss\n",
      "auth code failed to be received BaseCase.open() got an unexpected keyword argument 'undetectable'\n",
      "mode 1 undetectable=true gone\n"
     ]
    }
   ],
   "source": [
    "access_token = data.accesstoken('secrets.txt','real')"
   ]
  },
  {
   "cell_type": "markdown",
   "metadata": {},
   "source": [
    "access_token"
   ]
  },
  {
   "cell_type": "code",
   "execution_count": 23,
   "metadata": {},
   "outputs": [
    {
     "data": {
      "text/plain": [
       "'eyJ0eXAiOiJKV1QiLCJhbGciOiJIUzI1NiJ9.eyJpc3MiOiJhcGkuZnllcnMuaW4iLCJpYXQiOjE3MjMwOTg4MTMsImV4cCI6MTcyMzE2MzQzMywibmJmIjoxNzIzMDk4ODEzLCJhdWQiOlsieDowIiwieDoxIiwieDoyIiwiZDoxIiwiZDoyIiwieDoxIiwieDowIl0sInN1YiI6ImFjY2Vzc190b2tlbiIsImF0X2hhc2giOiJnQUFBQUFCbXRHYTlRRThHTVhrNzI4bVp6eUh0Rmw0Nk91WldXUW9USkg2RGpQR09OZkZwZ1NPV2R1dHVJWUd5WUlOc2pnSTNRNklFODRWaXdybHVKaVF2aE9JRWZsV3YyZmQ0aHBWMFpESHY1R20xZWhjRF9PTT0iLCJkaXNwbGF5X25hbWUiOiJNQUxMRVBBTExJIEdBSlVMQSBHVVJVIFNBSSBQUkFTQUQiLCJvbXMiOiJLMSIsImhzbV9rZXkiOiJjY2Q4NDkwZGNkYTc2OTU0Njk3YmE4Y2JkN2YxMGI5MWNjMTU1YmI2ODA5OGRkZjUxYjk0NTg5ZiIsImZ5X2lkIjoiWU0wODkyNyIsImFwcFR5cGUiOjEwMCwicG9hX2ZsYWciOiJOIn0._8DbsZOdEZrkVzJ1NFk4R-De0enIlNKXx-S8cskIOw4'"
      ]
     },
     "execution_count": 23,
     "metadata": {},
     "output_type": "execute_result"
    }
   ],
   "source": [
    "access_token "
   ]
  },
  {
   "cell_type": "code",
   "execution_count": null,
   "metadata": {},
   "outputs": [],
   "source": [
    "data.connect(access_token=access_token,\n",
    "             stonks=['NSE:SBIN-EQ','BSE:SBIN-A','NSE:TATAMOTORS-EQ'],\n",
    "             wait_time=5,\n",
    "             save_format=Save.mdf5,\n",
    "             dir=r'/Users/gurusai/programming/STONKS/data_retreival_v2/data')"
   ]
  },
  {
   "cell_type": "code",
   "execution_count": 1,
   "metadata": {},
   "outputs": [],
   "source": [
    "from wbsoc import Depth\n",
    "import h5py as h\n",
    "import Save\n",
    "access_token = 'eyJ0eXAiOiJKV1QiLCJhbGciOiJIUzI1NiJ9.eyJpc3MiOiJhcGkuZnllcnMuaW4iLCJpYXQiOjE3MjMwOTg4MTMsImV4cCI6MTcyMzE2MzQzMywibmJmIjoxNzIzMDk4ODEzLCJhdWQiOlsieDowIiwieDoxIiwieDoyIiwiZDoxIiwiZDoyIiwieDoxIiwieDowIl0sInN1YiI6ImFjY2Vzc190b2tlbiIsImF0X2hhc2giOiJnQUFBQUFCbXRHYTlRRThHTVhrNzI4bVp6eUh0Rmw0Nk91WldXUW9USkg2RGpQR09OZkZwZ1NPV2R1dHVJWUd5WUlOc2pnSTNRNklFODRWaXdybHVKaVF2aE9JRWZsV3YyZmQ0aHBWMFpESHY1R20xZWhjRF9PTT0iLCJkaXNwbGF5X25hbWUiOiJNQUxMRVBBTExJIEdBSlVMQSBHVVJVIFNBSSBQUkFTQUQiLCJvbXMiOiJLMSIsImhzbV9rZXkiOiJjY2Q4NDkwZGNkYTc2OTU0Njk3YmE4Y2JkN2YxMGI5MWNjMTU1YmI2ODA5OGRkZjUxYjk0NTg5ZiIsImZ5X2lkIjoiWU0wODkyNyIsImFwcFR5cGUiOjEwMCwicG9hX2ZsYWciOiJOIn0._8DbsZOdEZrkVzJ1NFk4R-De0enIlNKXx-S8cskIOw4'"
   ]
  },
  {
   "cell_type": "code",
   "execution_count": 4,
   "metadata": {},
   "outputs": [],
   "source": [
    "obj = Depth(access_token=access_token,\n",
    "            stonks=['NSE:SBIN-EQ','BSE:SBIN-A','NSE:TATAMOTORS-EQ'],\n",
    "            directory=r'/Users/gurusai/programming/STONKS/data_retreival_v2/data',\n",
    "            save_mode=Save.hdf5)"
   ]
  },
  {
   "cell_type": "code",
   "execution_count": 15,
   "metadata": {},
   "outputs": [
    {
     "name": "stdout",
     "output_type": "stream",
     "text": [
      "[[8.]]\n",
      "<KeysViewHDF5 ['SBIN', 'TATAMOTORS', 'master']>\n",
      "(0, 31)\n"
     ]
    }
   ],
   "source": [
    "with h.File('data/2024-08.h5','a') as f:\n",
    "    print(f['master'][:])\n",
    "    print(f.keys())\n",
    "    print(f['SBIN/1/BSE/Depth'].shape)"
   ]
  },
  {
   "cell_type": "code",
   "execution_count": 26,
   "metadata": {},
   "outputs": [
    {
     "name": "stdout",
     "output_type": "stream",
     "text": [
      "Response: {'type': 'cn', 'code': 200, 'message': 'Authentication done', 's': 'ok'}\n",
      "Response: {'type': 'ful', 'code': 200, 'message': 'Full Mode On', 's': 'ok'}\n",
      "connection opened\n"
     ]
    },
    {
     "name": "stdout",
     "output_type": "stream",
     "text": [
      "Response: {'type': 'sub', 'code': 200, 'message': 'Subscribed', 's': 'ok'}\n",
      "Response: {'bid_price1': 814.0, 'bid_price2': 813.95, 'bid_price3': 813.9, 'bid_price4': 813.85, 'bid_price5': 813.8, 'ask_price1': 814.25, 'ask_price2': 814.3, 'ask_price3': 814.35, 'ask_price4': 814.4, 'ask_price5': 814.45, 'bid_size1': 569, 'bid_size2': 157, 'bid_size3': 160, 'bid_size4': 334, 'bid_size5': 657, 'ask_size1': 62, 'ask_size2': 518, 'ask_size3': 4203, 'ask_size4': 2303, 'ask_size5': 2170, 'bid_order1': 6, 'bid_order2': 5, 'bid_order3': 9, 'bid_order4': 5, 'bid_order5': 11, 'ask_order1': 1, 'ask_order2': 6, 'ask_order3': 9, 'ask_order4': 12, 'ask_order5': 12, 'type': 'dp', 'symbol': 'NSE:SBIN-EQ'}\n",
      "Error: KeyError: The key \"Unable to open object (object 'master' doesn't exist)\" is missing in the response.\n",
      "Response: {'bid_price1': 814.0, 'bid_price2': 813.95, 'bid_price3': 813.9, 'bid_price4': 813.85, 'bid_price5': 813.8, 'ask_price1': 814.25, 'ask_price2': 814.3, 'ask_price3': 814.35, 'ask_price4': 814.4, 'ask_price5': 814.45, 'bid_size1': 1073, 'bid_size2': 120, 'bid_size3': 106, 'bid_size4': 307, 'bid_size5': 281, 'ask_size1': 125, 'ask_size2': 663, 'ask_size3': 385, 'ask_size4': 455, 'ask_size5': 434, 'bid_order1': 13, 'bid_order2': 1, 'bid_order3': 3, 'bid_order4': 2, 'bid_order5': 3, 'ask_order1': 1, 'ask_order2': 6, 'ask_order3': 5, 'ask_order4': 5, 'ask_order5': 8, 'type': 'dp', 'symbol': 'BSE:SBIN-A'}\n",
      "Error: KeyError: The key \"Unable to open object (object 'master' doesn't exist)\" is missing in the response.\n",
      "Response: {'bid_price1': 1045.5, 'bid_price2': 1045.45, 'bid_price3': 1045.3, 'bid_price4': 1045.25, 'bid_price5': 1045.2, 'ask_price1': 1045.6, 'ask_price2': 1045.85, 'ask_price3': 1045.9, 'ask_price4': 1045.95, 'ask_price5': 1046.0, 'bid_size1': 622, 'bid_size2': 52, 'bid_size3': 345, 'bid_size4': 1471, 'bid_size5': 333, 'ask_size1': 2, 'ask_size2': 106, 'ask_size3': 100, 'ask_size4': 554, 'ask_size5': 188, 'bid_order1': 8, 'bid_order2': 2, 'bid_order3': 6, 'bid_order4': 7, 'bid_order5': 7, 'ask_order1': 1, 'ask_order2': 3, 'ask_order3': 2, 'ask_order4': 8, 'ask_order5': 4, 'type': 'dp', 'symbol': 'NSE:TATAMOTORS-EQ'}\n",
      "Error: KeyError: The key \"Unable to open object (object 'master' doesn't exist)\" is missing in the response.\n",
      "Response: {'bid_price1': 814.0, 'bid_price2': 813.95, 'bid_price3': 813.9, 'bid_price4': 813.85, 'bid_price5': 813.8, 'ask_price1': 814.25, 'ask_price2': 814.3, 'ask_price3': 814.35, 'ask_price4': 814.4, 'ask_price5': 814.45, 'bid_size1': 569, 'bid_size2': 157, 'bid_size3': 160, 'bid_size4': 289, 'bid_size5': 657, 'ask_size1': 62, 'ask_size2': 518, 'ask_size3': 4203, 'ask_size4': 2326, 'ask_size5': 2170, 'bid_order1': 6, 'bid_order2': 5, 'bid_order3': 9, 'bid_order4': 4, 'bid_order5': 11, 'ask_order1': 1, 'ask_order2': 6, 'ask_order3': 9, 'ask_order4': 13, 'ask_order5': 12, 'type': 'dp', 'symbol': 'NSE:SBIN-EQ'}\n",
      "Error: KeyError: The key \"Unable to open object (object 'master' doesn't exist)\" is missing in the response.\n",
      "Response: {'bid_price1': 814.0, 'bid_price2': 813.95, 'bid_price3': 813.9, 'bid_price4': 813.85, 'bid_price5': 813.8, 'ask_price1': 814.25, 'ask_price2': 814.3, 'ask_price3': 814.35, 'ask_price4': 814.4, 'ask_price5': 814.45, 'bid_size1': 1073, 'bid_size2': 127, 'bid_size3': 99, 'bid_size4': 307, 'bid_size5': 281, 'ask_size1': 125, 'ask_size2': 663, 'ask_size3': 385, 'ask_size4': 455, 'ask_size5': 434, 'bid_order1': 13, 'bid_order2': 2, 'bid_order3': 2, 'bid_order4': 2, 'bid_order5': 3, 'ask_order1': 1, 'ask_order2': 6, 'ask_order3': 5, 'ask_order4': 5, 'ask_order5': 8, 'type': 'dp', 'symbol': 'BSE:SBIN-A'}\n",
      "Error: KeyError: The key \"Unable to open object (object 'master' doesn't exist)\" is missing in the response.\n",
      "Response: {'bid_price1': 1045.2, 'bid_price2': 1045.15, 'bid_price3': 1045.1, 'bid_price4': 1045.05, 'bid_price5': 1045.0, 'ask_price1': 1045.3, 'ask_price2': 1045.35, 'ask_price3': 1045.5, 'ask_price4': 1045.55, 'ask_price5': 1045.6, 'bid_size1': 26, 'bid_size2': 524, 'bid_size3': 1858, 'bid_size4': 830, 'bid_size5': 5899, 'ask_size1': 8, 'ask_size2': 80, 'ask_size3': 82, 'ask_size4': 94, 'ask_size5': 114, 'bid_order1': 2, 'bid_order2': 4, 'bid_order3': 5, 'bid_order4': 5, 'bid_order5': 34, 'ask_order1': 1, 'ask_order2': 3, 'ask_order3': 2, 'ask_order4': 2, 'ask_order5': 2, 'type': 'dp', 'symbol': 'NSE:TATAMOTORS-EQ'}\n",
      "Error: KeyError: The key \"Unable to open object (object 'master' doesn't exist)\" is missing in the response.\n",
      "Response: {'bid_price1': 814.0, 'bid_price2': 813.95, 'bid_price3': 813.9, 'bid_price4': 813.85, 'bid_price5': 813.8, 'ask_price1': 814.25, 'ask_price2': 814.3, 'ask_price3': 814.35, 'ask_price4': 814.4, 'ask_price5': 814.45, 'bid_size1': 1073, 'bid_size2': 127, 'bid_size3': 99, 'bid_size4': 98, 'bid_size5': 281, 'ask_size1': 65, 'ask_size2': 471, 'ask_size3': 213, 'ask_size4': 647, 'ask_size5': 434, 'bid_order1': 13, 'bid_order2': 2, 'bid_order3': 2, 'bid_order4': 1, 'bid_order5': 3, 'ask_order1': 1, 'ask_order2': 5, 'ask_order3': 4, 'ask_order4': 6, 'ask_order5': 8, 'type': 'dp', 'symbol': 'BSE:SBIN-A'}\n",
      "Error: KeyError: The key \"Unable to open object (object 'master' doesn't exist)\" is missing in the response.\n",
      "Response: {'bid_price1': 814.0, 'bid_price2': 813.95, 'bid_price3': 813.9, 'bid_price4': 813.85, 'bid_price5': 813.8, 'ask_price1': 814.1, 'ask_price2': 814.15, 'ask_price3': 814.2, 'ask_price4': 814.25, 'ask_price5': 814.3, 'bid_size1': 257, 'bid_size2': 36, 'bid_size3': 20, 'bid_size4': 289, 'bid_size5': 657, 'ask_size1': 13, 'ask_size2': 62, 'ask_size3': 62, 'ask_size4': 89, 'ask_size5': 3154, 'bid_order1': 4, 'bid_order2': 3, 'bid_order3': 6, 'bid_order4': 4, 'bid_order5': 11, 'ask_order1': 1, 'ask_order2': 1, 'ask_order3': 1, 'ask_order4': 2, 'ask_order5': 9, 'type': 'dp', 'symbol': 'NSE:SBIN-EQ'}\n",
      "Error: KeyError: The key \"Unable to open object (object 'master' doesn't exist)\" is missing in the response.\n",
      "Response: {'bid_price1': 814.0, 'bid_price2': 813.95, 'bid_price3': 813.9, 'bid_price4': 813.85, 'bid_price5': 813.8, 'ask_price1': 814.25, 'ask_price2': 814.3, 'ask_price3': 814.35, 'ask_price4': 814.4, 'ask_price5': 814.45, 'bid_size1': 1073, 'bid_size2': 120, 'bid_size3': 99, 'bid_size4': 105, 'bid_size5': 281, 'ask_size1': 65, 'ask_size2': 663, 'ask_size3': 213, 'ask_size4': 455, 'ask_size5': 434, 'bid_order1': 13, 'bid_order2': 1, 'bid_order3': 2, 'bid_order4': 2, 'bid_order5': 3, 'ask_order1': 1, 'ask_order2': 6, 'ask_order3': 4, 'ask_order4': 5, 'ask_order5': 8, 'type': 'dp', 'symbol': 'BSE:SBIN-A'}\n",
      "Error: KeyError: The key \"Unable to open object (object 'master' doesn't exist)\" is missing in the response.\n",
      "Response: {'bid_price1': 814.0, 'bid_price2': 813.95, 'bid_price3': 813.9, 'bid_price4': 813.85, 'bid_price5': 813.8, 'ask_price1': 814.3, 'ask_price2': 814.35, 'ask_price3': 814.4, 'ask_price4': 814.45, 'ask_price5': 814.5, 'bid_size1': 1080, 'bid_size2': 120, 'bid_size3': 99, 'bid_size4': 461, 'bid_size5': 281, 'ask_size1': 376, 'ask_size2': 131, 'ask_size3': 455, 'ask_size4': 626, 'ask_size5': 599, 'bid_order1': 14, 'bid_order2': 1, 'bid_order3': 2, 'bid_order4': 4, 'bid_order5': 3, 'ask_order1': 4, 'ask_order2': 3, 'ask_order3': 5, 'ask_order4': 9, 'ask_order5': 6, 'type': 'dp', 'symbol': 'BSE:SBIN-A'}\n",
      "Error: KeyError: The key \"Unable to open object (object 'master' doesn't exist)\" is missing in the response.\n",
      "Response: {'bid_price1': 1045.25, 'bid_price2': 1045.2, 'bid_price3': 1045.15, 'bid_price4': 1045.1, 'bid_price5': 1045.05, 'ask_price1': 1045.65, 'ask_price2': 1045.7, 'ask_price3': 1045.75, 'ask_price4': 1045.8, 'ask_price5': 1045.85, 'bid_size1': 180, 'bid_size2': 302, 'bid_size3': 791, 'bid_size4': 615, 'bid_size5': 1804, 'ask_size1': 24, 'ask_size2': 69, 'ask_size3': 232, 'ask_size4': 457, 'ask_size5': 634, 'bid_order1': 1, 'bid_order2': 5, 'bid_order3': 13, 'bid_order4': 8, 'bid_order5': 12, 'ask_order1': 1, 'ask_order2': 3, 'ask_order3': 7, 'ask_order4': 8, 'ask_order5': 10, 'type': 'dp', 'symbol': 'NSE:TATAMOTORS-EQ'}\n",
      "Error: KeyError: The key \"Unable to open object (object 'master' doesn't exist)\" is missing in the response.\n",
      "Response: {'bid_price1': 814.05, 'bid_price2': 814.0, 'bid_price3': 813.95, 'bid_price4': 813.9, 'bid_price5': 813.85, 'ask_price1': 814.25, 'ask_price2': 814.3, 'ask_price3': 814.35, 'ask_price4': 814.4, 'ask_price5': 814.45, 'bid_size1': 699, 'bid_size2': 493, 'bid_size3': 128, 'bid_size4': 509, 'bid_size5': 366, 'ask_size1': 33, 'ask_size2': 3099, 'ask_size3': 3131, 'ask_size4': 1266, 'ask_size5': 1597, 'bid_order1': 1, 'bid_order2': 5, 'bid_order3': 5, 'bid_order4': 11, 'bid_order5': 5, 'ask_order1': 1, 'ask_order2': 9, 'ask_order3': 7, 'ask_order4': 8, 'ask_order5': 11, 'type': 'dp', 'symbol': 'NSE:SBIN-EQ'}\n",
      "Error: KeyError: The key \"Unable to open object (object 'master' doesn't exist)\" is missing in the response.\n",
      "Response: {'bid_price1': 814.15, 'bid_price2': 814.05, 'bid_price3': 814.0, 'bid_price4': 813.95, 'bid_price5': 813.9, 'ask_price1': 814.3, 'ask_price2': 814.35, 'ask_price3': 814.4, 'ask_price4': 814.45, 'ask_price5': 814.5, 'bid_size1': 1, 'bid_size2': 699, 'bid_size3': 493, 'bid_size4': 70, 'bid_size5': 510, 'ask_size1': 207, 'ask_size2': 5034, 'ask_size3': 2016, 'ask_size4': 2062, 'ask_size5': 1361, 'bid_order1': 1, 'bid_order2': 1, 'bid_order3': 5, 'bid_order4': 4, 'bid_order5': 12, 'ask_order1': 4, 'ask_order2': 9, 'ask_order3': 9, 'ask_order4': 11, 'ask_order5': 8, 'type': 'dp', 'symbol': 'NSE:SBIN-EQ'}\n",
      "Error: KeyError: The key \"Unable to open object (object 'master' doesn't exist)\" is missing in the response.\n",
      "Response: {'bid_price1': 814.05, 'bid_price2': 814.0, 'bid_price3': 813.95, 'bid_price4': 813.9, 'bid_price5': 813.85, 'ask_price1': 814.35, 'ask_price2': 814.4, 'ask_price3': 814.45, 'ask_price4': 814.5, 'ask_price5': 814.55, 'bid_size1': 7, 'bid_size2': 1134, 'bid_size3': 149, 'bid_size4': 221, 'bid_size5': 461, 'ask_size1': 161, 'ask_size2': 386, 'ask_size3': 357, 'ask_size4': 511, 'ask_size5': 385, 'bid_order1': 1, 'bid_order2': 14, 'bid_order3': 2, 'bid_order4': 3, 'bid_order5': 4, 'ask_order1': 3, 'ask_order2': 3, 'ask_order3': 7, 'ask_order4': 5, 'ask_order5': 5, 'type': 'dp', 'symbol': 'BSE:SBIN-A'}\n",
      "Error: KeyError: The key \"Unable to open object (object 'master' doesn't exist)\" is missing in the response.\n",
      "Response: {'bid_price1': 1045.3, 'bid_price2': 1045.25, 'bid_price3': 1045.2, 'bid_price4': 1045.15, 'bid_price5': 1045.1, 'ask_price1': 1045.6, 'ask_price2': 1045.75, 'ask_price3': 1045.8, 'ask_price4': 1045.85, 'ask_price5': 1045.9, 'bid_size1': 224, 'bid_size2': 336, 'bid_size3': 340, 'bid_size4': 848, 'bid_size5': 641, 'ask_size1': 1, 'ask_size2': 129, 'ask_size3': 321, 'ask_size4': 600, 'ask_size5': 163, 'bid_order1': 4, 'bid_order2': 5, 'bid_order3': 4, 'bid_order4': 12, 'bid_order5': 7, 'ask_order1': 1, 'ask_order2': 4, 'ask_order3': 6, 'ask_order4': 8, 'ask_order5': 4, 'type': 'dp', 'symbol': 'NSE:TATAMOTORS-EQ'}\n",
      "Error: KeyError: The key \"Unable to open object (object 'master' doesn't exist)\" is missing in the response.\n",
      "Response: {'bid_price1': 814.05, 'bid_price2': 814.0, 'bid_price3': 813.95, 'bid_price4': 813.9, 'bid_price5': 813.85, 'ask_price1': 814.35, 'ask_price2': 814.4, 'ask_price3': 814.45, 'ask_price4': 814.5, 'ask_price5': 814.55, 'bid_size1': 7, 'bid_size2': 1262, 'bid_size3': 149, 'bid_size4': 221, 'bid_size5': 461, 'ask_size1': 33, 'ask_size2': 386, 'ask_size3': 357, 'ask_size4': 511, 'ask_size5': 385, 'bid_order1': 1, 'bid_order2': 15, 'bid_order3': 2, 'bid_order4': 3, 'bid_order5': 4, 'ask_order1': 2, 'ask_order2': 3, 'ask_order3': 7, 'ask_order4': 5, 'ask_order5': 5, 'type': 'dp', 'symbol': 'BSE:SBIN-A'}\n",
      "Error: KeyError: The key \"Unable to open object (object 'master' doesn't exist)\" is missing in the response.\n",
      "Response: {'bid_price1': 814.2, 'bid_price2': 814.15, 'bid_price3': 814.05, 'bid_price4': 814.0, 'bid_price5': 813.95, 'ask_price1': 814.25, 'ask_price2': 814.3, 'ask_price3': 814.35, 'ask_price4': 814.4, 'ask_price5': 814.45, 'bid_size1': 8, 'bid_size2': 3, 'bid_size3': 699, 'bid_size4': 559, 'bid_size5': 173, 'ask_size1': 67, 'ask_size2': 50, 'ask_size3': 5084, 'ask_size4': 1894, 'ask_size5': 1267, 'bid_order1': 1, 'bid_order2': 3, 'bid_order3': 1, 'bid_order4': 6, 'bid_order5': 6, 'ask_order1': 1, 'ask_order2': 1, 'ask_order3': 10, 'ask_order4': 6, 'ask_order5': 9, 'type': 'dp', 'symbol': 'NSE:SBIN-EQ'}\n",
      "Error: KeyError: The key \"Unable to open object (object 'master' doesn't exist)\" is missing in the response.\n",
      "Response: {'bid_price1': 814.0, 'bid_price2': 813.95, 'bid_price3': 813.9, 'bid_price4': 813.85, 'bid_price5': 813.8, 'ask_price1': 814.35, 'ask_price2': 814.4, 'ask_price3': 814.45, 'ask_price4': 814.5, 'ask_price5': 814.55, 'bid_size1': 1262, 'bid_size2': 284, 'bid_size3': 221, 'bid_size4': 461, 'bid_size5': 281, 'ask_size1': 33, 'ask_size2': 386, 'ask_size3': 357, 'ask_size4': 511, 'ask_size5': 385, 'bid_order1': 15, 'bid_order2': 4, 'bid_order3': 3, 'bid_order4': 4, 'bid_order5': 3, 'ask_order1': 2, 'ask_order2': 3, 'ask_order3': 7, 'ask_order4': 5, 'ask_order5': 5, 'type': 'dp', 'symbol': 'BSE:SBIN-A'}\n",
      "Error: KeyError: The key \"Unable to open object (object 'master' doesn't exist)\" is missing in the response.\n",
      "Response: {'bid_price1': 1045.3, 'bid_price2': 1045.25, 'bid_price3': 1045.2, 'bid_price4': 1045.15, 'bid_price5': 1045.1, 'ask_price1': 1045.65, 'ask_price2': 1045.7, 'ask_price3': 1045.75, 'ask_price4': 1045.8, 'ask_price5': 1045.85, 'bid_size1': 50, 'bid_size2': 53, 'bid_size3': 67, 'bid_size4': 784, 'bid_size5': 1620, 'ask_size1': 50, 'ask_size2': 69, 'ask_size3': 342, 'ask_size4': 535, 'ask_size5': 602, 'bid_order1': 2, 'bid_order2': 2, 'bid_order3': 2, 'bid_order4': 11, 'bid_order5': 9, 'ask_order1': 1, 'ask_order2': 3, 'ask_order3': 7, 'ask_order4': 10, 'ask_order5': 9, 'type': 'dp', 'symbol': 'NSE:TATAMOTORS-EQ'}\n",
      "Error: KeyError: The key \"Unable to open object (object 'master' doesn't exist)\" is missing in the response.\n",
      "Response: {'bid_price1': 814.15, 'bid_price2': 814.05, 'bid_price3': 814.0, 'bid_price4': 813.95, 'bid_price5': 813.9, 'ask_price1': 814.25, 'ask_price2': 814.3, 'ask_price3': 814.35, 'ask_price4': 814.4, 'ask_price5': 814.45, 'bid_size1': 1, 'bid_size2': 699, 'bid_size3': 559, 'bid_size4': 173, 'bid_size5': 533, 'ask_size1': 66, 'ask_size2': 159, 'ask_size3': 4975, 'ask_size4': 1952, 'ask_size5': 1267, 'bid_order1': 1, 'bid_order2': 1, 'bid_order3': 6, 'bid_order4': 6, 'bid_order5': 10, 'ask_order1': 1, 'ask_order2': 2, 'ask_order3': 9, 'ask_order4': 7, 'ask_order5': 9, 'type': 'dp', 'symbol': 'NSE:SBIN-EQ'}\n",
      "Error: KeyError: The key \"Unable to open object (object 'master' doesn't exist)\" is missing in the response.\n",
      "Response: {'bid_price1': 1045.45, 'bid_price2': 1045.4, 'bid_price3': 1045.35, 'bid_price4': 1045.3, 'bid_price5': 1045.25, 'ask_price1': 1045.9, 'ask_price2': 1045.95, 'ask_price3': 1046.0, 'ask_price4': 1046.05, 'ask_price5': 1046.1, 'bid_size1': 132, 'bid_size2': 321, 'bid_size3': 516, 'bid_size4': 1780, 'bid_size5': 625, 'ask_size1': 57, 'ask_size2': 177, 'ask_size3': 289, 'ask_size4': 462, 'ask_size5': 179, 'bid_order1': 5, 'bid_order2': 3, 'bid_order3': 12, 'bid_order4': 16, 'bid_order5': 10, 'ask_order1': 1, 'ask_order2': 2, 'ask_order3': 6, 'ask_order4': 5, 'ask_order5': 4, 'type': 'dp', 'symbol': 'NSE:TATAMOTORS-EQ'}\n",
      "Error: KeyError: The key \"Unable to open object (object 'master' doesn't exist)\" is missing in the response.\n",
      "Response: {'bid_price1': 814.0, 'bid_price2': 813.95, 'bid_price3': 813.9, 'bid_price4': 813.85, 'bid_price5': 813.8, 'ask_price1': 814.35, 'ask_price2': 814.4, 'ask_price3': 814.45, 'ask_price4': 814.5, 'ask_price5': 814.55, 'bid_size1': 1141, 'bid_size2': 149, 'bid_size3': 221, 'bid_size4': 461, 'bid_size5': 281, 'ask_size1': 106, 'ask_size2': 322, 'ask_size3': 549, 'ask_size4': 511, 'ask_size5': 385, 'bid_order1': 15, 'bid_order2': 2, 'bid_order3': 3, 'bid_order4': 4, 'bid_order5': 3, 'ask_order1': 3, 'ask_order2': 3, 'ask_order3': 8, 'ask_order4': 5, 'ask_order5': 5, 'type': 'dp', 'symbol': 'BSE:SBIN-A'}\n",
      "Error: KeyError: The key \"Unable to open object (object 'master' doesn't exist)\" is missing in the response.\n",
      "Response: {'bid_price1': 814.05, 'bid_price2': 814.0, 'bid_price3': 813.95, 'bid_price4': 813.9, 'bid_price5': 813.85, 'ask_price1': 814.3, 'ask_price2': 814.35, 'ask_price3': 814.4, 'ask_price4': 814.45, 'ask_price5': 814.5, 'bid_size1': 697, 'bid_size2': 584, 'bid_size3': 355, 'bid_size4': 384, 'bid_size5': 998, 'ask_size1': 345, 'ask_size2': 1527, 'ask_size3': 3206, 'ask_size4': 1770, 'ask_size5': 1747, 'bid_order1': 4, 'bid_order2': 7, 'bid_order3': 9, 'bid_order4': 11, 'bid_order5': 5, 'ask_order1': 2, 'ask_order2': 4, 'ask_order3': 10, 'ask_order4': 6, 'ask_order5': 7, 'type': 'dp', 'symbol': 'NSE:SBIN-EQ'}\n",
      "Error: KeyError: The key \"Unable to open object (object 'master' doesn't exist)\" is missing in the response.\n",
      "Response: {'bid_price1': 1045.55, 'bid_price2': 1045.5, 'bid_price3': 1045.45, 'bid_price4': 1045.4, 'bid_price5': 1045.35, 'ask_price1': 1045.95, 'ask_price2': 1046.0, 'ask_price3': 1046.05, 'ask_price4': 1046.1, 'ask_price5': 1046.15, 'bid_size1': 186, 'bid_size2': 609, 'bid_size3': 572, 'bid_size4': 326, 'bid_size5': 1521, 'ask_size1': 7, 'ask_size2': 313, 'ask_size3': 280, 'ask_size4': 41, 'ask_size5': 294, 'bid_order1': 6, 'bid_order2': 10, 'bid_order3': 8, 'bid_order4': 4, 'bid_order5': 13, 'ask_order1': 1, 'ask_order2': 7, 'ask_order3': 3, 'ask_order4': 1, 'ask_order5': 5, 'type': 'dp', 'symbol': 'NSE:TATAMOTORS-EQ'}\n",
      "Error: KeyError: The key \"Unable to open object (object 'master' doesn't exist)\" is missing in the response.\n",
      "Response: {'bid_price1': 814.0, 'bid_price2': 813.95, 'bid_price3': 813.9, 'bid_price4': 813.85, 'bid_price5': 813.8, 'ask_price1': 814.3, 'ask_price2': 814.35, 'ask_price3': 814.4, 'ask_price4': 814.45, 'ask_price5': 814.5, 'bid_size1': 1141, 'bid_size2': 325, 'bid_size3': 221, 'bid_size4': 203, 'bid_size5': 281, 'ask_size1': 98, 'ask_size2': 199, 'ask_size3': 653, 'ask_size4': 357, 'ask_size5': 511, 'bid_order1': 15, 'bid_order2': 3, 'bid_order3': 3, 'bid_order4': 3, 'bid_order5': 3, 'ask_order1': 1, 'ask_order2': 3, 'ask_order3': 6, 'ask_order4': 7, 'ask_order5': 5, 'type': 'dp', 'symbol': 'BSE:SBIN-A'}\n",
      "Error: KeyError: The key \"Unable to open object (object 'master' doesn't exist)\" is missing in the response.\n",
      "Response: {'bid_price1': 814.05, 'bid_price2': 814.0, 'bid_price3': 813.95, 'bid_price4': 813.9, 'bid_price5': 813.85, 'ask_price1': 814.15, 'ask_price2': 814.3, 'ask_price3': 814.35, 'ask_price4': 814.4, 'ask_price5': 814.45, 'bid_size1': 634, 'bid_size2': 559, 'bid_size3': 330, 'bid_size4': 373, 'bid_size5': 998, 'ask_size1': 15, 'ask_size2': 345, 'ask_size3': 1527, 'ask_size4': 3206, 'ask_size5': 1770, 'bid_order1': 3, 'bid_order2': 6, 'bid_order3': 8, 'bid_order4': 10, 'bid_order5': 5, 'ask_order1': 1, 'ask_order2': 2, 'ask_order3': 4, 'ask_order4': 10, 'ask_order5': 6, 'type': 'dp', 'symbol': 'NSE:SBIN-EQ'}\n",
      "Error: KeyError: The key \"Unable to open object (object 'master' doesn't exist)\" is missing in the response.\n",
      "Response: {'bid_price1': 1045.55, 'bid_price2': 1045.5, 'bid_price3': 1045.45, 'bid_price4': 1045.4, 'bid_price5': 1045.35, 'ask_price1': 1045.95, 'ask_price2': 1046.0, 'ask_price3': 1046.05, 'ask_price4': 1046.1, 'ask_price5': 1046.15, 'bid_size1': 57, 'bid_size2': 233, 'bid_size3': 361, 'bid_size4': 146, 'bid_size5': 1617, 'ask_size1': 79, 'ask_size2': 266, 'ask_size3': 302, 'ask_size4': 406, 'ask_size5': 373, 'bid_order1': 1, 'bid_order2': 6, 'bid_order3': 6, 'bid_order4': 2, 'bid_order5': 14, 'ask_order1': 3, 'ask_order2': 7, 'ask_order3': 5, 'ask_order4': 6, 'ask_order5': 7, 'type': 'dp', 'symbol': 'NSE:TATAMOTORS-EQ'}\n",
      "Error: KeyError: The key \"Unable to open object (object 'master' doesn't exist)\" is missing in the response.\n",
      "Response: {'bid_price1': 814.0, 'bid_price2': 813.95, 'bid_price3': 813.9, 'bid_price4': 813.85, 'bid_price5': 813.8, 'ask_price1': 814.3, 'ask_price2': 814.35, 'ask_price3': 814.4, 'ask_price4': 814.45, 'ask_price5': 814.5, 'bid_size1': 1141, 'bid_size2': 248, 'bid_size3': 221, 'bid_size4': 203, 'bid_size5': 281, 'ask_size1': 98, 'ask_size2': 199, 'ask_size3': 653, 'ask_size4': 357, 'ask_size5': 511, 'bid_order1': 15, 'bid_order2': 2, 'bid_order3': 3, 'bid_order4': 3, 'bid_order5': 3, 'ask_order1': 1, 'ask_order2': 3, 'ask_order3': 6, 'ask_order4': 7, 'ask_order5': 5, 'type': 'dp', 'symbol': 'BSE:SBIN-A'}\n",
      "Error: KeyError: The key \"Unable to open object (object 'master' doesn't exist)\" is missing in the response.\n",
      "Response: {'bid_price1': 814.05, 'bid_price2': 814.0, 'bid_price3': 813.95, 'bid_price4': 813.9, 'bid_price5': 813.85, 'ask_price1': 814.35, 'ask_price2': 814.4, 'ask_price3': 814.45, 'ask_price4': 814.5, 'ask_price5': 814.55, 'bid_size1': 654, 'bid_size2': 1189, 'bid_size3': 366, 'bid_size4': 618, 'bid_size5': 998, 'ask_size1': 59, 'ask_size2': 636, 'ask_size3': 4344, 'ask_size4': 1818, 'ask_size5': 1666, 'bid_order1': 5, 'bid_order2': 9, 'bid_order3': 11, 'bid_order4': 10, 'bid_order5': 5, 'ask_order1': 1, 'ask_order2': 7, 'ask_order3': 11, 'ask_order4': 5, 'ask_order5': 5, 'type': 'dp', 'symbol': 'NSE:SBIN-EQ'}\n",
      "Error: KeyError: The key \"Unable to open object (object 'master' doesn't exist)\" is missing in the response.\n",
      "Response: {'bid_price1': 814.05, 'bid_price2': 814.0, 'bid_price3': 813.95, 'bid_price4': 813.9, 'bid_price5': 813.85, 'ask_price1': 814.4, 'ask_price2': 814.45, 'ask_price3': 814.5, 'ask_price4': 814.55, 'ask_price5': 814.6, 'bid_size1': 634, 'bid_size2': 1189, 'bid_size3': 322, 'bid_size4': 629, 'bid_size5': 1042, 'ask_size1': 595, 'ask_size2': 4344, 'ask_size3': 1818, 'ask_size4': 1666, 'ask_size5': 2252, 'bid_order1': 5, 'bid_order2': 9, 'bid_order3': 10, 'bid_order4': 11, 'bid_order5': 6, 'ask_order1': 6, 'ask_order2': 11, 'ask_order3': 5, 'ask_order4': 5, 'ask_order5': 10, 'type': 'dp', 'symbol': 'NSE:SBIN-EQ'}\n",
      "Error: KeyError: The key \"Unable to open object (object 'master' doesn't exist)\" is missing in the response.\n",
      "Response: {'bid_price1': 814.05, 'bid_price2': 814.0, 'bid_price3': 813.95, 'bid_price4': 813.9, 'bid_price5': 813.85, 'ask_price1': 814.4, 'ask_price2': 814.45, 'ask_price3': 814.5, 'ask_price4': 814.55, 'ask_price5': 814.6, 'bid_size1': 128, 'bid_size2': 1269, 'bid_size3': 202, 'bid_size4': 221, 'bid_size5': 426, 'ask_size1': 194, 'ask_size2': 373, 'ask_size3': 511, 'ask_size4': 154, 'ask_size5': 430, 'bid_order1': 1, 'bid_order2': 16, 'bid_order3': 3, 'bid_order4': 3, 'bid_order5': 4, 'ask_order1': 2, 'ask_order2': 3, 'ask_order3': 5, 'ask_order4': 2, 'ask_order5': 5, 'type': 'dp', 'symbol': 'BSE:SBIN-A'}\n",
      "Error: KeyError: The key \"Unable to open object (object 'master' doesn't exist)\" is missing in the response.\n",
      "Response: {'bid_price1': 1045.55, 'bid_price2': 1045.5, 'bid_price3': 1045.45, 'bid_price4': 1045.4, 'bid_price5': 1045.35, 'ask_price1': 1045.9, 'ask_price2': 1045.95, 'ask_price3': 1046.0, 'ask_price4': 1046.05, 'ask_price5': 1046.1, 'bid_size1': 220, 'bid_size2': 615, 'bid_size3': 609, 'bid_size4': 1429, 'bid_size5': 464, 'ask_size1': 8, 'ask_size2': 4, 'ask_size3': 242, 'ask_size4': 114, 'ask_size5': 48, 'bid_order1': 7, 'bid_order2': 13, 'bid_order3': 10, 'bid_order4': 5, 'bid_order5': 11, 'ask_order1': 1, 'ask_order2': 1, 'ask_order3': 6, 'ask_order4': 2, 'ask_order5': 1, 'type': 'dp', 'symbol': 'NSE:TATAMOTORS-EQ'}\n",
      "Error: KeyError: The key \"Unable to open object (object 'master' doesn't exist)\" is missing in the response.\n",
      "Response: {'bid_price1': 814.05, 'bid_price2': 814.0, 'bid_price3': 813.95, 'bid_price4': 813.9, 'bid_price5': 813.85, 'ask_price1': 814.25, 'ask_price2': 814.35, 'ask_price3': 814.4, 'ask_price4': 814.45, 'ask_price5': 814.5, 'bid_size1': 434, 'bid_size2': 960, 'bid_size3': 349, 'bid_size4': 577, 'bid_size5': 973, 'ask_size1': 9, 'ask_size2': 92, 'ask_size3': 3136, 'ask_size4': 3254, 'ask_size5': 1332, 'bid_order1': 2, 'bid_order2': 8, 'bid_order3': 9, 'bid_order4': 9, 'bid_order5': 4, 'ask_order1': 1, 'ask_order2': 3, 'ask_order3': 8, 'ask_order4': 10, 'ask_order5': 7, 'type': 'dp', 'symbol': 'NSE:SBIN-EQ'}\n",
      "Error: KeyError: The key \"Unable to open object (object 'master' doesn't exist)\" is missing in the response.\n",
      "Response: {'bid_price1': 814.0, 'bid_price2': 813.95, 'bid_price3': 813.9, 'bid_price4': 813.85, 'bid_price5': 813.8, 'ask_price1': 814.35, 'ask_price2': 814.4, 'ask_price3': 814.45, 'ask_price4': 814.5, 'ask_price5': 814.55, 'bid_size1': 1080, 'bid_size2': 252, 'bid_size3': 221, 'bid_size4': 446, 'bid_size5': 281, 'ask_size1': 148, 'ask_size2': 558, 'ask_size3': 279, 'ask_size4': 516, 'ask_size5': 364, 'bid_order1': 14, 'bid_order2': 3, 'bid_order3': 3, 'bid_order4': 4, 'bid_order5': 3, 'ask_order1': 2, 'ask_order2': 4, 'ask_order3': 3, 'ask_order4': 6, 'ask_order5': 6, 'type': 'dp', 'symbol': 'BSE:SBIN-A'}\n",
      "Error: KeyError: The key \"Unable to open object (object 'master' doesn't exist)\" is missing in the response.\n",
      "Response: {'type': 'unsub', 'code': 200, 'message': 'Unsubscribed', 's': 'ok'}\n",
      "Response: {'bid_price1': 814.1, 'bid_price2': 814.05, 'bid_price3': 814.0, 'bid_price4': 813.95, 'bid_price5': 813.9, 'ask_price1': 814.25, 'ask_price2': 814.35, 'ask_price3': 814.4, 'ask_price4': 814.45, 'ask_price5': 814.5, 'bid_size1': 236, 'bid_size2': 434, 'bid_size3': 771, 'bid_size4': 349, 'bid_size5': 588, 'ask_size1': 9, 'ask_size2': 34, 'ask_size3': 438, 'ask_size4': 5202, 'ask_size5': 2061, 'bid_order1': 1, 'bid_order2': 2, 'bid_order3': 9, 'bid_order4': 9, 'bid_order5': 10, 'ask_order1': 1, 'ask_order2': 2, 'ask_order3': 4, 'ask_order4': 13, 'ask_order5': 9, 'type': 'dp', 'symbol': 'NSE:SBIN-EQ'}\n",
      "Response: {'bid_price1': 814.05, 'bid_price2': 814.0, 'bid_price3': 813.95, 'bid_price4': 813.9, 'bid_price5': 813.85, 'ask_price1': 814.35, 'ask_price2': 814.4, 'ask_price3': 814.45, 'ask_price4': 814.5, 'ask_price5': 814.55, 'bid_size1': 7, 'bid_size2': 1201, 'bid_size3': 329, 'bid_size4': 221, 'bid_size5': 446, 'ask_size1': 148, 'ask_size2': 366, 'ask_size3': 471, 'ask_size4': 528, 'ask_size5': 364, 'bid_order1': 1, 'bid_order2': 14, 'bid_order3': 4, 'bid_order4': 3, 'bid_order5': 4, 'ask_order1': 2, 'ask_order2': 3, 'ask_order3': 4, 'ask_order4': 7, 'ask_order5': 6, 'type': 'dp', 'symbol': 'BSE:SBIN-A'}\n",
      "Response: {'bid_price1': 814.1, 'bid_price2': 814.05, 'bid_price3': 814.0, 'bid_price4': 813.95, 'bid_price5': 813.9, 'ask_price1': 814.25, 'ask_price2': 814.35, 'ask_price3': 814.4, 'ask_price4': 814.45, 'ask_price5': 814.5, 'bid_size1': 1, 'bid_size2': 434, 'bid_size3': 969, 'bid_size4': 209, 'bid_size5': 533, 'ask_size1': 9, 'ask_size2': 5262, 'ask_size3': 1982, 'ask_size4': 1038, 'ask_size5': 887, 'bid_order1': 1, 'bid_order2': 2, 'bid_order3': 8, 'bid_order4': 6, 'bid_order5': 8, 'ask_order1': 1, 'ask_order2': 12, 'ask_order3': 7, 'ask_order4': 7, 'ask_order5': 7, 'type': 'dp', 'symbol': 'NSE:SBIN-EQ'}\n",
      "Response: {'bid_price1': 814.0, 'bid_price2': 813.95, 'bid_price3': 813.9, 'bid_price4': 813.85, 'bid_price5': 813.8, 'ask_price1': 814.35, 'ask_price2': 814.4, 'ask_price3': 814.45, 'ask_price4': 814.5, 'ask_price5': 814.55, 'bid_size1': 1201, 'bid_size2': 336, 'bid_size3': 221, 'bid_size4': 446, 'bid_size5': 281, 'ask_size1': 148, 'ask_size2': 558, 'ask_size3': 279, 'ask_size4': 528, 'ask_size5': 364, 'bid_order1': 14, 'bid_order2': 5, 'bid_order3': 3, 'bid_order4': 4, 'bid_order5': 3, 'ask_order1': 2, 'ask_order2': 4, 'ask_order3': 3, 'ask_order4': 7, 'ask_order5': 6, 'type': 'dp', 'symbol': 'BSE:SBIN-A'}\n",
      "Response: {'bid_price1': 1045.5, 'bid_price2': 1045.45, 'bid_price3': 1045.35, 'bid_price4': 1045.3, 'bid_price5': 1045.25, 'ask_price1': 1045.6, 'ask_price2': 1045.85, 'ask_price3': 1045.9, 'ask_price4': 1045.95, 'ask_price5': 1046.0, 'bid_size1': 1, 'bid_size2': 163, 'bid_size3': 31, 'bid_size4': 310, 'bid_size5': 1392, 'ask_size1': 57, 'ask_size2': 273, 'ask_size3': 119, 'ask_size4': 439, 'ask_size5': 364, 'bid_order1': 1, 'bid_order2': 2, 'bid_order3': 3, 'bid_order4': 6, 'bid_order5': 5, 'ask_order1': 3, 'ask_order2': 2, 'ask_order3': 3, 'ask_order4': 10, 'ask_order5': 8, 'type': 'dp', 'symbol': 'NSE:TATAMOTORS-EQ'}\n",
      "Response: {'bid_price1': 814.05, 'bid_price2': 814.0, 'bid_price3': 813.95, 'bid_price4': 813.9, 'bid_price5': 813.85, 'ask_price1': 814.25, 'ask_price2': 814.3, 'ask_price3': 814.35, 'ask_price4': 814.4, 'ask_price5': 814.45, 'bid_size1': 434, 'bid_size2': 1032, 'bid_size3': 312, 'bid_size4': 469, 'bid_size5': 982, 'ask_size1': 22, 'ask_size2': 107, 'ask_size3': 1558, 'ask_size4': 3777, 'ask_size5': 1810, 'bid_order1': 2, 'bid_order2': 9, 'bid_order3': 8, 'bid_order4': 8, 'bid_order5': 4, 'ask_order1': 1, 'ask_order2': 1, 'ask_order3': 5, 'ask_order4': 8, 'ask_order5': 9, 'type': 'dp', 'symbol': 'NSE:SBIN-EQ'}\n",
      "Response: {'bid_price1': 814.0, 'bid_price2': 813.95, 'bid_price3': 813.9, 'bid_price4': 813.85, 'bid_price5': 813.8, 'ask_price1': 814.35, 'ask_price2': 814.4, 'ask_price3': 814.45, 'ask_price4': 814.5, 'ask_price5': 814.55, 'bid_size1': 1073, 'bid_size2': 259, 'bid_size3': 221, 'bid_size4': 446, 'bid_size5': 281, 'ask_size1': 148, 'ask_size2': 558, 'ask_size3': 279, 'ask_size4': 528, 'ask_size5': 364, 'bid_order1': 13, 'bid_order2': 4, 'bid_order3': 3, 'bid_order4': 4, 'bid_order5': 3, 'ask_order1': 2, 'ask_order2': 4, 'ask_order3': 3, 'ask_order4': 7, 'ask_order5': 6, 'type': 'dp', 'symbol': 'BSE:SBIN-A'}\n",
      "Response: {'bid_price1': 814.05, 'bid_price2': 814.0, 'bid_price3': 813.95, 'bid_price4': 813.9, 'bid_price5': 813.85, 'ask_price1': 814.3, 'ask_price2': 814.35, 'ask_price3': 814.4, 'ask_price4': 814.45, 'ask_price5': 814.5, 'bid_size1': 260, 'bid_size2': 969, 'bid_size3': 36, 'bid_size4': 305, 'bid_size5': 1059, 'ask_size1': 591, 'ask_size2': 5028, 'ask_size3': 1960, 'ask_size4': 1205, 'ask_size5': 1027, 'bid_order1': 2, 'bid_order2': 8, 'bid_order3': 3, 'bid_order4': 4, 'bid_order5': 6, 'ask_order1': 6, 'ask_order2': 11, 'ask_order3': 8, 'ask_order4': 9, 'ask_order5': 10, 'type': 'dp', 'symbol': 'NSE:SBIN-EQ'}\n",
      "Response: {'bid_price1': 814.0, 'bid_price2': 813.95, 'bid_price3': 813.9, 'bid_price4': 813.85, 'bid_price5': 813.8, 'ask_price1': 814.3, 'ask_price2': 814.35, 'ask_price3': 814.4, 'ask_price4': 814.45, 'ask_price5': 814.5, 'bid_size1': 1073, 'bid_size2': 120, 'bid_size3': 106, 'bid_size4': 398, 'bid_size5': 281, 'ask_size1': 150, 'ask_size2': 276, 'ask_size3': 558, 'ask_size4': 279, 'ask_size5': 511, 'bid_order1': 13, 'bid_order2': 1, 'bid_order3': 3, 'bid_order4': 3, 'bid_order5': 3, 'ask_order1': 2, 'ask_order2': 3, 'ask_order3': 4, 'ask_order4': 3, 'ask_order5': 5, 'type': 'dp', 'symbol': 'BSE:SBIN-A'}\n",
      "Response: {'bid_price1': 1045.5, 'bid_price2': 1045.45, 'bid_price3': 1045.35, 'bid_price4': 1045.3, 'bid_price5': 1045.25, 'ask_price1': 1045.8, 'ask_price2': 1045.85, 'ask_price3': 1045.9, 'ask_price4': 1045.95, 'ask_price5': 1046.0, 'bid_size1': 128, 'bid_size2': 136, 'bid_size3': 230, 'bid_size4': 1281, 'bid_size5': 292, 'ask_size1': 10, 'ask_size2': 270, 'ask_size3': 114, 'ask_size4': 270, 'ask_size5': 405, 'bid_order1': 1, 'bid_order2': 1, 'bid_order3': 4, 'bid_order4': 5, 'bid_order5': 3, 'ask_order1': 1, 'ask_order2': 4, 'ask_order3': 2, 'ask_order4': 10, 'ask_order5': 9, 'type': 'dp', 'symbol': 'NSE:TATAMOTORS-EQ'}\n",
      "Response: {'bid_price1': 814.05, 'bid_price2': 814.0, 'bid_price3': 813.95, 'bid_price4': 813.9, 'bid_price5': 813.85, 'ask_price1': 814.2, 'ask_price2': 814.3, 'ask_price3': 814.35, 'ask_price4': 814.4, 'ask_price5': 814.45, 'bid_size1': 260, 'bid_size2': 969, 'bid_size3': 36, 'bid_size4': 305, 'bid_size5': 1059, 'ask_size1': 108, 'ask_size2': 827, 'ask_size3': 5028, 'ask_size4': 1960, 'ask_size5': 1205, 'bid_order1': 2, 'bid_order2': 8, 'bid_order3': 3, 'bid_order4': 4, 'bid_order5': 6, 'ask_order1': 1, 'ask_order2': 7, 'ask_order3': 11, 'ask_order4': 8, 'ask_order5': 9, 'type': 'dp', 'symbol': 'NSE:SBIN-EQ'}\n",
      "Response: {'bid_price1': 814.0, 'bid_price2': 813.95, 'bid_price3': 813.9, 'bid_price4': 813.85, 'bid_price5': 813.8, 'ask_price1': 814.3, 'ask_price2': 814.35, 'ask_price3': 814.4, 'ask_price4': 814.45, 'ask_price5': 814.5, 'bid_size1': 973, 'bid_size2': 120, 'bid_size3': 106, 'bid_size4': 398, 'bid_size5': 281, 'ask_size1': 274, 'ask_size2': 473, 'ask_size3': 366, 'ask_size4': 372, 'ask_size5': 511, 'bid_order1': 13, 'bid_order2': 1, 'bid_order3': 3, 'bid_order4': 3, 'bid_order5': 3, 'ask_order1': 3, 'ask_order2': 5, 'ask_order3': 3, 'ask_order4': 5, 'ask_order5': 5, 'type': 'dp', 'symbol': 'BSE:SBIN-A'}\n",
      "Response: {'bid_price1': 1045.45, 'bid_price2': 1045.35, 'bid_price3': 1045.15, 'bid_price4': 1045.1, 'bid_price5': 1045.05, 'ask_price1': 1045.5, 'ask_price2': 1045.55, 'ask_price3': 1045.6, 'ask_price4': 1045.65, 'ask_price5': 1045.7, 'bid_size1': 162, 'bid_size2': 2, 'bid_size3': 173, 'bid_size4': 20, 'bid_size5': 508, 'ask_size1': 95, 'ask_size2': 56, 'ask_size3': 170, 'ask_size4': 366, 'ask_size5': 335, 'bid_order1': 1, 'bid_order2': 1, 'bid_order3': 1, 'bid_order4': 1, 'bid_order5': 6, 'ask_order1': 5, 'ask_order2': 1, 'ask_order3': 3, 'ask_order4': 4, 'ask_order5': 6, 'type': 'dp', 'symbol': 'NSE:TATAMOTORS-EQ'}\n",
      "Response: {'bid_price1': 1045.45, 'bid_price2': 1045.35, 'bid_price3': 1045.15, 'bid_price4': 1045.1, 'bid_price5': 1045.05, 'ask_price1': 1045.5, 'ask_price2': 1045.6, 'ask_price3': 1045.65, 'ask_price4': 1045.7, 'ask_price5': 1045.75, 'bid_size1': 162, 'bid_size2': 2, 'bid_size3': 313, 'bid_size4': 146, 'bid_size5': 632, 'ask_size1': 19, 'ask_size2': 85, 'ask_size3': 41, 'ask_size4': 306, 'ask_size5': 134, 'bid_order1': 1, 'bid_order2': 1, 'bid_order3': 3, 'bid_order4': 3, 'bid_order5': 8, 'ask_order1': 3, 'ask_order2': 3, 'ask_order3': 1, 'ask_order4': 4, 'ask_order5': 4, 'type': 'dp', 'symbol': 'NSE:TATAMOTORS-EQ'}\n",
      "Response: {'bid_price1': 813.7, 'bid_price2': 813.65, 'bid_price3': 813.6, 'bid_price4': 813.55, 'bid_price5': 813.5, 'ask_price1': 813.95, 'ask_price2': 814.0, 'ask_price3': 814.05, 'ask_price4': 814.1, 'ask_price5': 814.15, 'bid_size1': 823, 'bid_size2': 1028, 'bid_size3': 2314, 'bid_size4': 1390, 'bid_size5': 3981, 'ask_size1': 87, 'ask_size2': 66, 'ask_size3': 788, 'ask_size4': 257, 'ask_size5': 4400, 'bid_order1': 7, 'bid_order2': 9, 'bid_order3': 19, 'bid_order4': 12, 'bid_order5': 27, 'ask_order1': 2, 'ask_order2': 2, 'ask_order3': 4, 'ask_order4': 4, 'ask_order5': 11, 'type': 'dp', 'symbol': 'NSE:SBIN-EQ'}\n",
      "Response: {'bid_price1': 813.7, 'bid_price2': 813.6, 'bid_price3': 813.5, 'bid_price4': 813.45, 'bid_price5': 813.4, 'ask_price1': 813.95, 'ask_price2': 814.0, 'ask_price3': 814.05, 'ask_price4': 814.1, 'ask_price5': 814.15, 'bid_size1': 65, 'bid_size2': 1, 'bid_size3': 221, 'bid_size4': 740, 'bid_size5': 356, 'ask_size1': 192, 'ask_size2': 324, 'ask_size3': 283, 'ask_size4': 629, 'ask_size5': 655, 'bid_order1': 1, 'bid_order2': 1, 'bid_order3': 3, 'bid_order4': 4, 'bid_order5': 6, 'ask_order1': 1, 'ask_order2': 4, 'ask_order3': 4, 'ask_order4': 7, 'ask_order5': 7, 'type': 'dp', 'symbol': 'BSE:SBIN-A'}\n",
      "Response: {'bid_price1': 1045.45, 'bid_price2': 1045.4, 'bid_price3': 1045.35, 'bid_price4': 1045.2, 'bid_price5': 1045.15, 'ask_price1': 1045.5, 'ask_price2': 1045.6, 'ask_price3': 1045.7, 'ask_price4': 1045.75, 'ask_price5': 1045.8, 'bid_size1': 121, 'bid_size2': 48, 'bid_size3': 56, 'bid_size4': 280, 'bid_size5': 457, 'ask_size1': 25, 'ask_size2': 24, 'ask_size3': 50, 'ask_size4': 31, 'ask_size5': 138, 'bid_order1': 1, 'bid_order2': 1, 'bid_order3': 1, 'bid_order4': 2, 'bid_order5': 6, 'ask_order1': 2, 'ask_order2': 2, 'ask_order3': 1, 'ask_order4': 1, 'ask_order5': 3, 'type': 'dp', 'symbol': 'NSE:TATAMOTORS-EQ'}\n",
      "Response: {'bid_price1': 813.7, 'bid_price2': 813.65, 'bid_price3': 813.6, 'bid_price4': 813.55, 'bid_price5': 813.5, 'ask_price1': 813.9, 'ask_price2': 814.0, 'ask_price3': 814.05, 'ask_price4': 814.1, 'ask_price5': 814.15, 'bid_size1': 402, 'bid_size2': 110, 'bid_size3': 1624, 'bid_size4': 1135, 'bid_size5': 4020, 'ask_size1': 240, 'ask_size2': 321, 'ask_size3': 5892, 'ask_size4': 2294, 'ask_size5': 1019, 'bid_order1': 2, 'bid_order2': 5, 'bid_order3': 13, 'bid_order4': 9, 'bid_order5': 27, 'ask_order1': 3, 'ask_order2': 5, 'ask_order3': 16, 'ask_order4': 11, 'ask_order5': 5, 'type': 'dp', 'symbol': 'NSE:SBIN-EQ'}\n",
      "Response: {'bid_price1': 813.7, 'bid_price2': 813.6, 'bid_price3': 813.55, 'bid_price4': 813.5, 'bid_price5': 813.45, 'ask_price1': 813.95, 'ask_price2': 814.0, 'ask_price3': 814.05, 'ask_price4': 814.1, 'ask_price5': 814.15, 'bid_size1': 65, 'bid_size2': 1, 'bid_size3': 7, 'bid_size4': 221, 'bid_size5': 655, 'ask_size1': 192, 'ask_size2': 324, 'ask_size3': 231, 'ask_size4': 638, 'ask_size5': 655, 'bid_order1': 1, 'bid_order2': 1, 'bid_order3': 1, 'bid_order4': 3, 'bid_order5': 3, 'ask_order1': 1, 'ask_order2': 4, 'ask_order3': 3, 'ask_order4': 10, 'ask_order5': 7, 'type': 'dp', 'symbol': 'BSE:SBIN-A'}\n",
      "Response: {'bid_price1': 1045.6, 'bid_price2': 1045.5, 'bid_price3': 1045.45, 'bid_price4': 1045.35, 'bid_price5': 1045.3, 'ask_price1': 1045.8, 'ask_price2': 1045.85, 'ask_price3': 1045.95, 'ask_price4': 1046.0, 'ask_price5': 1046.05, 'bid_size1': 3, 'bid_size2': 64, 'bid_size3': 133, 'bid_size4': 313, 'bid_size5': 138, 'ask_size1': 60, 'ask_size2': 163, 'ask_size3': 557, 'ask_size4': 1275, 'ask_size5': 570, 'bid_order1': 1, 'bid_order2': 1, 'bid_order3': 1, 'bid_order4': 3, 'bid_order5': 3, 'ask_order1': 2, 'ask_order2': 1, 'ask_order3': 11, 'ask_order4': 12, 'ask_order5': 7, 'type': 'dp', 'symbol': 'NSE:TATAMOTORS-EQ'}\n",
      "Response: {'bid_price1': 813.8, 'bid_price2': 813.65, 'bid_price3': 813.6, 'bid_price4': 813.55, 'bid_price5': 813.5, 'ask_price1': 813.9, 'ask_price2': 814.0, 'ask_price3': 814.05, 'ask_price4': 814.1, 'ask_price5': 814.15, 'bid_size1': 100, 'bid_size2': 104, 'bid_size3': 2053, 'bid_size4': 1129, 'bid_size5': 4219, 'ask_size1': 167, 'ask_size2': 340, 'ask_size3': 5965, 'ask_size4': 2143, 'ask_size5': 990, 'bid_order1': 1, 'bid_order2': 3, 'bid_order3': 17, 'bid_order4': 8, 'bid_order5': 30, 'ask_order1': 1, 'ask_order2': 7, 'ask_order3': 17, 'ask_order4': 9, 'ask_order5': 5, 'type': 'dp', 'symbol': 'NSE:SBIN-EQ'}\n",
      "Response: {'bid_price1': 813.7, 'bid_price2': 813.6, 'bid_price3': 813.55, 'bid_price4': 813.5, 'bid_price5': 813.45, 'ask_price1': 814.0, 'ask_price2': 814.05, 'ask_price3': 814.1, 'ask_price4': 814.15, 'ask_price5': 814.2, 'bid_size1': 65, 'bid_size2': 1, 'bid_size3': 7, 'bid_size4': 221, 'bid_size5': 365, 'ask_size1': 516, 'ask_size2': 315, 'ask_size3': 638, 'ask_size4': 655, 'ask_size5': 313, 'bid_order1': 1, 'bid_order2': 1, 'bid_order3': 1, 'bid_order4': 3, 'bid_order5': 2, 'ask_order1': 5, 'ask_order2': 4, 'ask_order3': 10, 'ask_order4': 7, 'ask_order5': 3, 'type': 'dp', 'symbol': 'BSE:SBIN-A'}\n",
      "Response: {'bid_price1': 813.8, 'bid_price2': 813.65, 'bid_price3': 813.6, 'bid_price4': 813.55, 'bid_price5': 813.5, 'ask_price1': 813.85, 'ask_price2': 813.9, 'ask_price3': 814.0, 'ask_price4': 814.05, 'ask_price5': 814.1, 'bid_size1': 362, 'bid_size2': 520, 'bid_size3': 2023, 'bid_size4': 1145, 'bid_size5': 4269, 'ask_size1': 232, 'ask_size2': 51, 'ask_size3': 50, 'ask_size4': 776, 'ask_size5': 392, 'bid_order1': 1, 'bid_order2': 7, 'bid_order3': 16, 'bid_order4': 8, 'bid_order5': 31, 'ask_order1': 6, 'ask_order2': 2, 'ask_order3': 3, 'ask_order4': 3, 'ask_order5': 3, 'type': 'dp', 'symbol': 'NSE:SBIN-EQ'}\n",
      "Response: {'bid_price1': 1045.5, 'bid_price2': 1045.45, 'bid_price3': 1045.4, 'bid_price4': 1045.35, 'bid_price5': 1045.3, 'ask_price1': 1045.9, 'ask_price2': 1045.95, 'ask_price3': 1046.0, 'ask_price4': 1046.05, 'ask_price5': 1046.1, 'bid_size1': 105, 'bid_size2': 403, 'bid_size3': 131, 'bid_size4': 621, 'bid_size5': 1676, 'ask_size1': 59, 'ask_size2': 49, 'ask_size3': 1167, 'ask_size4': 452, 'ask_size5': 297, 'bid_order1': 4, 'bid_order2': 8, 'bid_order3': 3, 'bid_order4': 11, 'bid_order5': 12, 'ask_order1': 2, 'ask_order2': 3, 'ask_order3': 9, 'ask_order4': 5, 'ask_order5': 6, 'type': 'dp', 'symbol': 'NSE:TATAMOTORS-EQ'}\n",
      "Response: {'bid_price1': 813.8, 'bid_price2': 813.7, 'bid_price3': 813.65, 'bid_price4': 813.6, 'bid_price5': 813.55, 'ask_price1': 813.85, 'ask_price2': 813.9, 'ask_price3': 814.0, 'ask_price4': 814.05, 'ask_price5': 814.1, 'bid_size1': 362, 'bid_size2': 103, 'bid_size3': 1330, 'bid_size4': 2096, 'bid_size5': 629, 'ask_size1': 231, 'ask_size2': 51, 'ask_size3': 50, 'ask_size4': 711, 'ask_size5': 348, 'bid_order1': 1, 'bid_order2': 3, 'bid_order3': 8, 'bid_order4': 17, 'bid_order5': 8, 'ask_order1': 6, 'ask_order2': 2, 'ask_order3': 3, 'ask_order4': 3, 'ask_order5': 2, 'type': 'dp', 'symbol': 'NSE:SBIN-EQ'}\n",
      "Response: {'bid_price1': 813.7, 'bid_price2': 813.6, 'bid_price3': 813.55, 'bid_price4': 813.5, 'bid_price5': 813.45, 'ask_price1': 814.0, 'ask_price2': 814.05, 'ask_price3': 814.1, 'ask_price4': 814.15, 'ask_price5': 814.2, 'bid_size1': 65, 'bid_size2': 338, 'bid_size3': 7, 'bid_size4': 302, 'bid_size5': 635, 'ask_size1': 496, 'ask_size2': 187, 'ask_size3': 498, 'ask_size4': 814, 'ask_size5': 313, 'bid_order1': 1, 'bid_order2': 5, 'bid_order3': 1, 'bid_order4': 4, 'bid_order5': 3, 'ask_order1': 6, 'ask_order2': 3, 'ask_order3': 8, 'ask_order4': 7, 'ask_order5': 3, 'type': 'dp', 'symbol': 'BSE:SBIN-A'}\n",
      "Response: {'bid_price1': 813.7, 'bid_price2': 813.65, 'bid_price3': 813.6, 'bid_price4': 813.55, 'bid_price5': 813.5, 'ask_price1': 814.0, 'ask_price2': 814.05, 'ask_price3': 814.1, 'ask_price4': 814.15, 'ask_price5': 814.2, 'bid_size1': 193, 'bid_size2': 40, 'bid_size3': 338, 'bid_size4': 28, 'bid_size5': 302, 'ask_size1': 435, 'ask_size2': 187, 'ask_size3': 498, 'ask_size4': 641, 'ask_size5': 374, 'bid_order1': 2, 'bid_order2': 2, 'bid_order3': 5, 'bid_order4': 1, 'bid_order5': 4, 'ask_order1': 5, 'ask_order2': 3, 'ask_order3': 8, 'ask_order4': 6, 'ask_order5': 4, 'type': 'dp', 'symbol': 'BSE:SBIN-A'}\n",
      "Response: {'bid_price1': 1045.5, 'bid_price2': 1045.45, 'bid_price3': 1045.4, 'bid_price4': 1045.35, 'bid_price5': 1045.3, 'ask_price1': 1045.9, 'ask_price2': 1045.95, 'ask_price3': 1046.0, 'ask_price4': 1046.05, 'ask_price5': 1046.1, 'bid_size1': 138, 'bid_size2': 385, 'bid_size3': 157, 'bid_size4': 526, 'bid_size5': 603, 'ask_size1': 49, 'ask_size2': 44, 'ask_size3': 1192, 'ask_size4': 595, 'ask_size5': 334, 'bid_order1': 7, 'bid_order2': 7, 'bid_order3': 4, 'bid_order4': 6, 'bid_order5': 11, 'ask_order1': 1, 'ask_order2': 3, 'ask_order3': 11, 'ask_order4': 6, 'ask_order5': 6, 'type': 'dp', 'symbol': 'NSE:TATAMOTORS-EQ'}\n",
      "Response: {'bid_price1': 813.8, 'bid_price2': 813.75, 'bid_price3': 813.7, 'bid_price4': 813.65, 'bid_price5': 813.6, 'ask_price1': 813.9, 'ask_price2': 814.0, 'ask_price3': 814.05, 'ask_price4': 814.1, 'ask_price5': 814.15, 'bid_size1': 404, 'bid_size2': 897, 'bid_size3': 422, 'bid_size4': 420, 'bid_size5': 2229, 'ask_size1': 8, 'ask_size2': 50, 'ask_size3': 667, 'ask_size4': 226, 'ask_size5': 25, 'bid_order1': 6, 'bid_order2': 5, 'bid_order3': 5, 'bid_order4': 8, 'bid_order5': 20, 'ask_order1': 1, 'ask_order2': 3, 'ask_order3': 2, 'ask_order4': 1, 'ask_order5': 1, 'type': 'dp', 'symbol': 'NSE:SBIN-EQ'}\n",
      "Response: {'bid_price1': 1045.5, 'bid_price2': 1045.45, 'bid_price3': 1045.4, 'bid_price4': 1045.35, 'bid_price5': 1045.3, 'ask_price1': 1045.9, 'ask_price2': 1045.95, 'ask_price3': 1046.0, 'ask_price4': 1046.05, 'ask_price5': 1046.1, 'bid_size1': 148, 'bid_size2': 372, 'bid_size3': 157, 'bid_size4': 526, 'bid_size5': 603, 'ask_size1': 49, 'ask_size2': 44, 'ask_size3': 1192, 'ask_size4': 595, 'ask_size5': 334, 'bid_order1': 8, 'bid_order2': 6, 'bid_order3': 4, 'bid_order4': 6, 'bid_order5': 11, 'ask_order1': 1, 'ask_order2': 3, 'ask_order3': 11, 'ask_order4': 6, 'ask_order5': 6, 'type': 'dp', 'symbol': 'NSE:TATAMOTORS-EQ'}\n",
      "Response: {'bid_price1': 813.75, 'bid_price2': 813.7, 'bid_price3': 813.65, 'bid_price4': 813.6, 'bid_price5': 813.55, 'ask_price1': 814.1, 'ask_price2': 814.15, 'ask_price3': 814.2, 'ask_price4': 814.25, 'ask_price5': 814.3, 'bid_size1': 135, 'bid_size2': 193, 'bid_size3': 576, 'bid_size4': 553, 'bid_size5': 126, 'ask_size1': 131, 'ask_size2': 301, 'ask_size3': 281, 'ask_size4': 220, 'ask_size5': 521, 'bid_order1': 2, 'bid_order2': 2, 'bid_order3': 5, 'bid_order4': 7, 'bid_order5': 2, 'ask_order1': 4, 'ask_order2': 3, 'ask_order3': 3, 'ask_order4': 2, 'ask_order5': 5, 'type': 'dp', 'symbol': 'BSE:SBIN-A'}\n",
      "Response: {'bid_price1': 1045.6, 'bid_price2': 1045.55, 'bid_price3': 1045.5, 'bid_price4': 1045.45, 'bid_price5': 1045.4, 'ask_price1': 1045.95, 'ask_price2': 1046.0, 'ask_price3': 1046.05, 'ask_price4': 1046.1, 'ask_price5': 1046.15, 'bid_size1': 82, 'bid_size2': 188, 'bid_size3': 470, 'bid_size4': 604, 'bid_size5': 131, 'ask_size1': 4, 'ask_size2': 1185, 'ask_size3': 500, 'ask_size4': 122, 'ask_size5': 387, 'bid_order1': 2, 'bid_order2': 6, 'bid_order3': 9, 'bid_order4': 8, 'bid_order5': 3, 'ask_order1': 1, 'ask_order2': 9, 'ask_order3': 5, 'ask_order4': 3, 'ask_order5': 4, 'type': 'dp', 'symbol': 'NSE:TATAMOTORS-EQ'}\n",
      "Response: {'bid_price1': 813.85, 'bid_price2': 813.8, 'bid_price3': 813.75, 'bid_price4': 813.7, 'bid_price5': 813.65, 'ask_price1': 814.05, 'ask_price2': 814.2, 'ask_price3': 814.25, 'ask_price4': 814.3, 'ask_price5': 814.35, 'bid_size1': 834, 'bid_size2': 507, 'bid_size3': 193, 'bid_size4': 744, 'bid_size5': 488, 'ask_size1': 569, 'ask_size2': 658, 'ask_size3': 32, 'ask_size4': 571, 'ask_size5': 2287, 'bid_order1': 2, 'bid_order2': 10, 'bid_order3': 4, 'bid_order4': 8, 'bid_order5': 9, 'ask_order1': 2, 'ask_order2': 5, 'ask_order3': 2, 'ask_order4': 5, 'ask_order5': 8, 'type': 'dp', 'symbol': 'NSE:SBIN-EQ'}\n",
      "Response: {'bid_price1': 813.75, 'bid_price2': 813.7, 'bid_price3': 813.65, 'bid_price4': 813.6, 'bid_price5': 813.55, 'ask_price1': 814.0, 'ask_price2': 814.1, 'ask_price3': 814.15, 'ask_price4': 814.2, 'ask_price5': 814.25, 'bid_size1': 135, 'bid_size2': 193, 'bid_size3': 453, 'bid_size4': 553, 'bid_size5': 126, 'ask_size1': 200, 'ask_size2': 121, 'ask_size3': 220, 'ask_size4': 473, 'ask_size5': 220, 'bid_order1': 2, 'bid_order2': 2, 'bid_order3': 4, 'bid_order4': 7, 'bid_order5': 2, 'ask_order1': 1, 'ask_order2': 1, 'ask_order3': 2, 'ask_order4': 4, 'ask_order5': 2, 'type': 'dp', 'symbol': 'BSE:SBIN-A'}\n",
      "Response: {'bid_price1': 1045.6, 'bid_price2': 1045.55, 'bid_price3': 1045.5, 'bid_price4': 1045.45, 'bid_price5': 1045.4, 'ask_price1': 1045.95, 'ask_price2': 1046.0, 'ask_price3': 1046.05, 'ask_price4': 1046.1, 'ask_price5': 1046.15, 'bid_size1': 95, 'bid_size2': 175, 'bid_size3': 487, 'bid_size4': 604, 'bid_size5': 276, 'ask_size1': 4, 'ask_size2': 1185, 'ask_size3': 450, 'ask_size4': 122, 'ask_size5': 387, 'bid_order1': 3, 'bid_order2': 5, 'bid_order3': 10, 'bid_order4': 8, 'bid_order5': 6, 'ask_order1': 1, 'ask_order2': 9, 'ask_order3': 4, 'ask_order4': 3, 'ask_order5': 4, 'type': 'dp', 'symbol': 'NSE:TATAMOTORS-EQ'}\n",
      "Response: {'bid_price1': 1045.55, 'bid_price2': 1045.5, 'bid_price3': 1045.45, 'bid_price4': 1045.4, 'bid_price5': 1045.35, 'ask_price1': 1045.85, 'ask_price2': 1045.9, 'ask_price3': 1045.95, 'ask_price4': 1046.0, 'ask_price5': 1046.05, 'bid_size1': 2, 'bid_size2': 8, 'bid_size3': 383, 'bid_size4': 53, 'bid_size5': 310, 'ask_size1': 6, 'ask_size2': 48, 'ask_size3': 190, 'ask_size4': 1181, 'ask_size5': 756, 'bid_order1': 1, 'bid_order2': 2, 'bid_order3': 5, 'bid_order4': 3, 'bid_order5': 4, 'ask_order1': 1, 'ask_order2': 1, 'ask_order3': 7, 'ask_order4': 11, 'ask_order5': 10, 'type': 'dp', 'symbol': 'NSE:TATAMOTORS-EQ'}\n",
      "Response: {'bid_price1': 813.8, 'bid_price2': 813.7, 'bid_price3': 813.65, 'bid_price4': 813.6, 'bid_price5': 813.55, 'ask_price1': 813.95, 'ask_price2': 814.0, 'ask_price3': 814.05, 'ask_price4': 814.1, 'ask_price5': 814.15, 'bid_size1': 16, 'bid_size2': 48, 'bid_size3': 109, 'bid_size4': 1915, 'bid_size5': 1108, 'ask_size1': 340, 'ask_size2': 175, 'ask_size3': 704, 'ask_size4': 293, 'ask_size5': 4535, 'bid_order1': 2, 'bid_order2': 1, 'bid_order3': 2, 'bid_order4': 15, 'bid_order5': 8, 'ask_order1': 6, 'ask_order2': 2, 'ask_order3': 3, 'ask_order4': 3, 'ask_order5': 10, 'type': 'dp', 'symbol': 'NSE:SBIN-EQ'}\n",
      "Response: {'bid_price1': 813.7, 'bid_price2': 813.65, 'bid_price3': 813.6, 'bid_price4': 813.55, 'bid_price5': 813.5, 'ask_price1': 814.0, 'ask_price2': 814.1, 'ask_price3': 814.15, 'ask_price4': 814.2, 'ask_price5': 814.25, 'bid_size1': 23, 'bid_size2': 33, 'bid_size3': 194, 'bid_size4': 35, 'bid_size5': 221, 'ask_size1': 255, 'ask_size2': 442, 'ask_size3': 393, 'ask_size4': 426, 'ask_size5': 220, 'bid_order1': 1, 'bid_order2': 1, 'bid_order3': 3, 'bid_order4': 2, 'bid_order5': 3, 'ask_order1': 2, 'ask_order2': 3, 'ask_order3': 3, 'ask_order4': 4, 'ask_order5': 2, 'type': 'dp', 'symbol': 'BSE:SBIN-A'}\n"
     ]
    }
   ],
   "source": [
    "obj.connect()"
   ]
  },
  {
   "cell_type": "code",
   "execution_count": 27,
   "metadata": {},
   "outputs": [],
   "source": [
    "obj.subscribe()"
   ]
  },
  {
   "cell_type": "code",
   "execution_count": 29,
   "metadata": {},
   "outputs": [],
   "source": [
    "obj.unsubscribe()"
   ]
  },
  {
   "cell_type": "code",
   "execution_count": 5,
   "metadata": {},
   "outputs": [],
   "source": [
    "sample = {'bid_price1': 814.0, 'bid_price2': 813.95, 'bid_price3': 813.9, 'bid_price4': 813.85, 'bid_price5': 813.8, 'ask_price1': 814.25, 'ask_price2': 814.3, 'ask_price3': 814.35, 'ask_price4': 814.4, 'ask_price5': 814.45, 'bid_size1': 569, 'bid_size2': 157, 'bid_size3': 160, 'bid_size4': 334, 'bid_size5': 657, 'ask_size1': 62, 'ask_size2': 518, 'ask_size3': 4203, 'ask_size4': 2303, 'ask_size5': 2170, 'bid_order1': 6, 'bid_order2': 5, 'bid_order3': 9, 'bid_order4': 5, 'bid_order5': 11, 'ask_order1': 1, 'ask_order2': 6, 'ask_order3': 9, 'ask_order4': 12, 'ask_order5': 12, 'type': 'dp', 'symbol': 'NSE:SBIN-EQ'}\n"
   ]
  },
  {
   "cell_type": "code",
   "execution_count": 6,
   "metadata": {},
   "outputs": [
    {
     "ename": "KeyError",
     "evalue": "\"Unable to open object (object 'DepthUpdate' doesn't exist)\"",
     "output_type": "error",
     "traceback": [
      "\u001b[0;31m---------------------------------------------------------------------------\u001b[0m",
      "\u001b[0;31mKeyError\u001b[0m                                  Traceback (most recent call last)",
      "Cell \u001b[0;32mIn[6], line 1\u001b[0m\n\u001b[0;32m----> 1\u001b[0m \u001b[43mobj\u001b[49m\u001b[38;5;241;43m.\u001b[39;49m\u001b[43msave_mode\u001b[49m\u001b[38;5;241;43m.\u001b[39;49m\u001b[43msave_files\u001b[49m\u001b[43m(\u001b[49m\u001b[43msample\u001b[49m\u001b[43m)\u001b[49m\n",
      "File \u001b[0;32m~/programming/STONKS/data_retreival_v2/Save.py:125\u001b[0m, in \u001b[0;36mhdf5.save_files\u001b[0;34m(self, message)\u001b[0m\n\u001b[1;32m    123\u001b[0m \u001b[38;5;28;01mwith\u001b[39;00m h\u001b[38;5;241m.\u001b[39mFile(file_name,\u001b[38;5;124m'\u001b[39m\u001b[38;5;124ma\u001b[39m\u001b[38;5;124m'\u001b[39m) \u001b[38;5;28;01mas\u001b[39;00m f:\n\u001b[1;32m    124\u001b[0m     data \u001b[38;5;241m=\u001b[39m [message[key] \u001b[38;5;28;01mfor\u001b[39;00m key \u001b[38;5;129;01min\u001b[39;00m message]\u001b[38;5;241m+\u001b[39m [india_epoch]\n\u001b[0;32m--> 125\u001b[0m     \u001b[38;5;28mself\u001b[39m\u001b[38;5;241m.\u001b[39mappend(data,\u001b[43mf\u001b[49m\u001b[43m[\u001b[49m\u001b[38;5;124;43mf\u001b[39;49m\u001b[38;5;124;43m'\u001b[39;49m\u001b[38;5;132;43;01m{\u001b[39;49;00m\u001b[43mticker\u001b[49m\u001b[38;5;132;43;01m}\u001b[39;49;00m\u001b[38;5;124;43m/\u001b[39;49m\u001b[38;5;132;43;01m{\u001b[39;49;00m\u001b[43mf\u001b[49m\u001b[43m[\u001b[49m\u001b[38;5;124;43m\"\u001b[39;49m\u001b[38;5;124;43mmaster\u001b[39;49m\u001b[38;5;124;43m\"\u001b[39;49m\u001b[43m]\u001b[49m\u001b[38;5;241;43m.\u001b[39;49m\u001b[43mshape\u001b[49m\u001b[43m[\u001b[49m\u001b[38;5;241;43m0\u001b[39;49m\u001b[43m]\u001b[49m\u001b[38;5;132;43;01m}\u001b[39;49;00m\u001b[38;5;124;43m/\u001b[39;49m\u001b[38;5;132;43;01m{\u001b[39;49;00m\u001b[43mexchange\u001b[49m\u001b[38;5;132;43;01m}\u001b[39;49;00m\u001b[38;5;124;43m/\u001b[39;49m\u001b[38;5;132;43;01m{\u001b[39;49;00m\u001b[38;5;28;43mself\u001b[39;49m\u001b[38;5;241;43m.\u001b[39;49m\u001b[43mdata_type\u001b[49m\u001b[38;5;132;43;01m}\u001b[39;49;00m\u001b[38;5;124;43m'\u001b[39;49m\u001b[43m]\u001b[49m)\n",
      "File \u001b[0;32mh5py/_objects.pyx:54\u001b[0m, in \u001b[0;36mh5py._objects.with_phil.wrapper\u001b[0;34m()\u001b[0m\n",
      "File \u001b[0;32mh5py/_objects.pyx:55\u001b[0m, in \u001b[0;36mh5py._objects.with_phil.wrapper\u001b[0;34m()\u001b[0m\n",
      "File \u001b[0;32m~/programming/STONKS/data_retreival_v2/fyers_data_retreivalv2/lib/python3.12/site-packages/h5py/_hl/group.py:357\u001b[0m, in \u001b[0;36mGroup.__getitem__\u001b[0;34m(self, name)\u001b[0m\n\u001b[1;32m    355\u001b[0m         \u001b[38;5;28;01mraise\u001b[39;00m \u001b[38;5;167;01mValueError\u001b[39;00m(\u001b[38;5;124m\"\u001b[39m\u001b[38;5;124mInvalid HDF5 object reference\u001b[39m\u001b[38;5;124m\"\u001b[39m)\n\u001b[1;32m    356\u001b[0m \u001b[38;5;28;01melif\u001b[39;00m \u001b[38;5;28misinstance\u001b[39m(name, (\u001b[38;5;28mbytes\u001b[39m, \u001b[38;5;28mstr\u001b[39m)):\n\u001b[0;32m--> 357\u001b[0m     oid \u001b[38;5;241m=\u001b[39m \u001b[43mh5o\u001b[49m\u001b[38;5;241;43m.\u001b[39;49m\u001b[43mopen\u001b[49m\u001b[43m(\u001b[49m\u001b[38;5;28;43mself\u001b[39;49m\u001b[38;5;241;43m.\u001b[39;49m\u001b[43mid\u001b[49m\u001b[43m,\u001b[49m\u001b[43m \u001b[49m\u001b[38;5;28;43mself\u001b[39;49m\u001b[38;5;241;43m.\u001b[39;49m\u001b[43m_e\u001b[49m\u001b[43m(\u001b[49m\u001b[43mname\u001b[49m\u001b[43m)\u001b[49m\u001b[43m,\u001b[49m\u001b[43m \u001b[49m\u001b[43mlapl\u001b[49m\u001b[38;5;241;43m=\u001b[39;49m\u001b[38;5;28;43mself\u001b[39;49m\u001b[38;5;241;43m.\u001b[39;49m\u001b[43m_lapl\u001b[49m\u001b[43m)\u001b[49m\n\u001b[1;32m    358\u001b[0m \u001b[38;5;28;01melse\u001b[39;00m:\n\u001b[1;32m    359\u001b[0m     \u001b[38;5;28;01mraise\u001b[39;00m \u001b[38;5;167;01mTypeError\u001b[39;00m(\u001b[38;5;124m\"\u001b[39m\u001b[38;5;124mAccessing a group is done with bytes or str, \u001b[39m\u001b[38;5;124m\"\u001b[39m\n\u001b[1;32m    360\u001b[0m                     \u001b[38;5;124m\"\u001b[39m\u001b[38;5;124mnot \u001b[39m\u001b[38;5;132;01m{}\u001b[39;00m\u001b[38;5;124m\"\u001b[39m\u001b[38;5;241m.\u001b[39mformat(\u001b[38;5;28mtype\u001b[39m(name)))\n",
      "File \u001b[0;32mh5py/_objects.pyx:54\u001b[0m, in \u001b[0;36mh5py._objects.with_phil.wrapper\u001b[0;34m()\u001b[0m\n",
      "File \u001b[0;32mh5py/_objects.pyx:55\u001b[0m, in \u001b[0;36mh5py._objects.with_phil.wrapper\u001b[0;34m()\u001b[0m\n",
      "File \u001b[0;32mh5py/h5o.pyx:241\u001b[0m, in \u001b[0;36mh5py.h5o.open\u001b[0;34m()\u001b[0m\n",
      "\u001b[0;31mKeyError\u001b[0m: \"Unable to open object (object 'DepthUpdate' doesn't exist)\""
     ]
    }
   ],
   "source": [
    "obj.save_mode.save_files(sample)"
   ]
  },
  {
   "cell_type": "code",
   "execution_count": 8,
   "metadata": {},
   "outputs": [
    {
     "name": "stdout",
     "output_type": "stream",
     "text": [
      "[814.0, 813.95, 813.9, 813.85, 813.8, 814.25, 814.3, 814.35, 814.4, 814.45, 569, 157, 160, 334, 657, 62, 518, 4203, 2303, 2170, 6, 5, 9, 5, 11, 1, 6, 9, 12, 12, 114]\n"
     ]
    }
   ],
   "source": [
    "print([sample[key] for key in sample]+[114])"
   ]
  },
  {
   "cell_type": "code",
   "execution_count": 14,
   "metadata": {},
   "outputs": [
    {
     "name": "stdout",
     "output_type": "stream",
     "text": [
      "[814.0, 813.95, 813.9, 813.85, 813.8, 814.25, 814.3, 814.35, 814.4, 814.45, 569, 157, 160, 334, 657, 62, 518, 4203, 2303, 2170, 6, 5, 9, 5, 11, 1, 6, 9, 12, 12, 1723120413.624259]\n"
     ]
    }
   ],
   "source": [
    "from wbsoc import Depth\n",
    "import h5py as h\n",
    "import Save\n",
    "access_token = 'eyJ0eXAiOiJKV1QiLCJhbGciOiJIUzI1NiJ9.eyJpc3MiOiJhcGkuZnllcnMuaW4iLCJpYXQiOjE3MjMwOTg4MTMsImV4cCI6MTcyMzE2MzQzMywibmJmIjoxNzIzMDk4ODEzLCJhdWQiOlsieDowIiwieDoxIiwieDoyIiwiZDoxIiwiZDoyIiwieDoxIiwieDowIl0sInN1YiI6ImFjY2Vzc190b2tlbiIsImF0X2hhc2giOiJnQUFBQUFCbXRHYTlRRThHTVhrNzI4bVp6eUh0Rmw0Nk91WldXUW9USkg2RGpQR09OZkZwZ1NPV2R1dHVJWUd5WUlOc2pnSTNRNklFODRWaXdybHVKaVF2aE9JRWZsV3YyZmQ0aHBWMFpESHY1R20xZWhjRF9PTT0iLCJkaXNwbGF5X25hbWUiOiJNQUxMRVBBTExJIEdBSlVMQSBHVVJVIFNBSSBQUkFTQUQiLCJvbXMiOiJLMSIsImhzbV9rZXkiOiJjY2Q4NDkwZGNkYTc2OTU0Njk3YmE4Y2JkN2YxMGI5MWNjMTU1YmI2ODA5OGRkZjUxYjk0NTg5ZiIsImZ5X2lkIjoiWU0wODkyNyIsImFwcFR5cGUiOjEwMCwicG9hX2ZsYWciOiJOIn0._8DbsZOdEZrkVzJ1NFk4R-De0enIlNKXx-S8cskIOw4'\n",
    "obj = Depth(access_token=access_token,\n",
    "            stonks=['NSE:SBIN-EQ','BSE:SBIN-A','NSE:TATAMOTORS-EQ'],\n",
    "            directory=r'/Users/gurusai/programming/STONKS/data_retreival_v2/data',\n",
    "            save_mode=Save.hdf5)\n",
    "sample = {'bid_price1': 814.0, 'bid_price2': 813.95, 'bid_price3': 813.9, 'bid_price4': 813.85, 'bid_price5': 813.8, 'ask_price1': 814.25, 'ask_price2': 814.3, 'ask_price3': 814.35, 'ask_price4': 814.4, 'ask_price5': 814.45, 'bid_size1': 569, 'bid_size2': 157, 'bid_size3': 160, 'bid_size4': 334, 'bid_size5': 657, 'ask_size1': 62, 'ask_size2': 518, 'ask_size3': 4203, 'ask_size4': 2303, 'ask_size5': 2170, 'bid_order1': 6, 'bid_order2': 5, 'bid_order3': 9, 'bid_order4': 5, 'bid_order5': 11, 'ask_order1': 1, 'ask_order2': 6, 'ask_order3': 9, 'ask_order4': 12, 'ask_order5': 12, 'type': 'dp', 'symbol': 'NSE:SBIN-EQ'}\n",
    "obj.save_mode.save_files(sample)"
   ]
  },
  {
   "cell_type": "code",
   "execution_count": 15,
   "metadata": {},
   "outputs": [
    {
     "name": "stdout",
     "output_type": "stream",
     "text": [
      "[[8.1400000e+02 8.1395001e+02 8.1390002e+02 8.1384998e+02 8.1379999e+02\n",
      "  8.1425000e+02 8.1429999e+02 8.1434998e+02 8.1440002e+02 8.1445001e+02\n",
      "  5.6900000e+02 1.5700000e+02 1.6000000e+02 3.3400000e+02 6.5700000e+02\n",
      "  6.2000000e+01 5.1800000e+02 4.2030000e+03 2.3030000e+03 2.1700000e+03\n",
      "  6.0000000e+00 5.0000000e+00 9.0000000e+00 5.0000000e+00 1.1000000e+01\n",
      "  1.0000000e+00 6.0000000e+00 9.0000000e+00 1.2000000e+01 1.2000000e+01\n",
      "  1.7231199e+09]\n",
      " [8.1400000e+02 8.1395001e+02 8.1390002e+02 8.1384998e+02 8.1379999e+02\n",
      "  8.1425000e+02 8.1429999e+02 8.1434998e+02 8.1440002e+02 8.1445001e+02\n",
      "  5.6900000e+02 1.5700000e+02 1.6000000e+02 3.3400000e+02 6.5700000e+02\n",
      "  6.2000000e+01 5.1800000e+02 4.2030000e+03 2.3030000e+03 2.1700000e+03\n",
      "  6.0000000e+00 5.0000000e+00 9.0000000e+00 5.0000000e+00 1.1000000e+01\n",
      "  1.0000000e+00 6.0000000e+00 9.0000000e+00 1.2000000e+01 1.2000000e+01\n",
      "  1.7231204e+09]\n",
      " [8.1400000e+02 8.1395001e+02 8.1390002e+02 8.1384998e+02 8.1379999e+02\n",
      "  8.1425000e+02 8.1429999e+02 8.1434998e+02 8.1440002e+02 8.1445001e+02\n",
      "  5.6900000e+02 1.5700000e+02 1.6000000e+02 3.3400000e+02 6.5700000e+02\n",
      "  6.2000000e+01 5.1800000e+02 4.2030000e+03 2.3030000e+03 2.1700000e+03\n",
      "  6.0000000e+00 5.0000000e+00 9.0000000e+00 5.0000000e+00 1.1000000e+01\n",
      "  1.0000000e+00 6.0000000e+00 9.0000000e+00 1.2000000e+01 1.2000000e+01\n",
      "  1.7231204e+09]]\n"
     ]
    }
   ],
   "source": [
    "with h.File('data/2024-08.h5','a') as f:\n",
    "    print(f['SBIN/1/NSE/Depth'][:])"
   ]
  },
  {
   "cell_type": "code",
   "execution_count": 3,
   "metadata": {},
   "outputs": [
    {
     "data": {
      "text/plain": [
       "31"
      ]
     },
     "execution_count": 3,
     "metadata": {},
     "output_type": "execute_result"
    }
   ],
   "source": [
    "len([814.0, 813.95, 813.9, 813.85, 813.8, 814.25, 814.3, 814.35, 814.4, 814.45, 569, 157, 160, 334, 657, 62, 518, 4203, 2303, 2170, 6, 5, 9, 5, 11, 1, 6, 9, 12, 12, 1723119897.089995]\n",
    ")"
   ]
  },
  {
   "cell_type": "code",
   "execution_count": 4,
   "metadata": {},
   "outputs": [],
   "source": [
    "with h.File('trial.h5','a') as f:\n",
    "    f.create_dataset('lalala',shape=(0,31),maxshape=(None,31))"
   ]
  },
  {
   "cell_type": "code",
   "execution_count": 9,
   "metadata": {},
   "outputs": [],
   "source": [
    "with h.File('trial.h5','a') as f:\n",
    "    df = f['lalala']\n",
    "    df.resize((df.shape[0]+1,df.shape[1]))\n",
    "    df[-1] = [814.0, 813.95, 813.9, 813.85, 813.8, 814.25, 814.3, 814.35, 814.4, 814.45, 569, 157, 160, 334, 657, 62, 518, 4203, 2303, 2170, 6, 5, 9, 5, 11, 1, 6, 9, 12, 12, 1723119897.089995]\n"
   ]
  },
  {
   "cell_type": "code",
   "execution_count": 20,
   "metadata": {},
   "outputs": [
    {
     "name": "stdout",
     "output_type": "stream",
     "text": [
      "[[8.1700000e+02 8.1695001e+02 8.1690002e+02 8.1684998e+02 8.1679999e+02\n",
      "  8.1734998e+02 8.1740002e+02 8.1745001e+02 8.1750000e+02 8.1754999e+02\n",
      "  2.1000000e+02 7.2600000e+02 5.8600000e+02 7.6800000e+02 1.3010000e+03\n",
      "  2.3200000e+02 4.1900000e+02 1.0450000e+03 6.3940000e+03 2.0640000e+03\n",
      "  4.0000000e+00 8.0000000e+00 1.0000000e+01 1.1000000e+01 1.2000000e+01\n",
      "  4.0000000e+00 5.0000000e+00 8.0000000e+00 2.8000000e+01 7.0000000e+00\n",
      "  1.7231206e+09]\n",
      " [8.1725000e+02 8.1720001e+02 8.1715002e+02 8.1709998e+02 8.1704999e+02\n",
      "  8.1745001e+02 8.1750000e+02 8.1754999e+02 8.1759998e+02 8.1765002e+02\n",
      "  1.0000000e+00 1.7100000e+02 2.3500000e+02 5.9200000e+02 1.1430000e+03\n",
      "  8.2300000e+02 5.9360000e+03 1.2580000e+03 4.9490000e+03 2.4940000e+03\n",
      "  1.0000000e+00 1.0000000e+00 5.0000000e+00 5.0000000e+00 7.0000000e+00\n",
      "  6.0000000e+00 2.3000000e+01 4.0000000e+00 2.2000000e+01 1.3000000e+01\n",
      "  1.7231206e+09]\n",
      " [8.1734998e+02 8.1725000e+02 8.1720001e+02 8.1715002e+02 8.1709998e+02\n",
      "  8.1745001e+02 8.1750000e+02 8.1754999e+02 8.1759998e+02 8.1765002e+02\n",
      "  1.0000000e+00 3.0000000e+00 1.7100000e+02 2.3500000e+02 5.9200000e+02\n",
      "  8.2300000e+02 5.8490000e+03 1.3450000e+03 4.9490000e+03 2.4940000e+03\n",
      "  1.0000000e+00 3.0000000e+00 1.0000000e+00 5.0000000e+00 5.0000000e+00\n",
      "  6.0000000e+00 2.2000000e+01 5.0000000e+00 2.2000000e+01 1.3000000e+01\n",
      "  1.7231206e+09]\n",
      " [8.1734998e+02 8.1725000e+02 8.1720001e+02 8.1715002e+02 8.1709998e+02\n",
      "  8.1745001e+02 8.1750000e+02 8.1754999e+02 8.1759998e+02 8.1765002e+02\n",
      "  1.0000000e+00 1.3000000e+01 1.7100000e+02 2.3500000e+02 6.2400000e+02\n",
      "  6.8600000e+02 5.8490000e+03 1.6470000e+03 4.1990000e+03 3.2440000e+03\n",
      "  1.0000000e+00 4.0000000e+00 1.0000000e+00 5.0000000e+00 7.0000000e+00\n",
      "  3.0000000e+00 2.2000000e+01 5.0000000e+00 2.1000000e+01 1.4000000e+01\n",
      "  1.7231206e+09]\n",
      " [8.1734998e+02 8.1725000e+02 8.1720001e+02 8.1715002e+02 8.1709998e+02\n",
      "  8.1745001e+02 8.1750000e+02 8.1754999e+02 8.1759998e+02 8.1765002e+02\n",
      "  1.0000000e+00 3.4000000e+01 1.7200000e+02 2.7700000e+02 4.2100000e+02\n",
      "  6.8500000e+02 4.9840000e+03 1.3600000e+02 3.5350000e+03 3.5830000e+03\n",
      "  1.0000000e+00 5.0000000e+00 2.0000000e+00 6.0000000e+00 4.0000000e+00\n",
      "  3.0000000e+00 1.9000000e+01 3.0000000e+00 1.3000000e+01 1.9000000e+01\n",
      "  1.7231206e+09]\n",
      " [8.1725000e+02 8.1720001e+02 8.1715002e+02 8.1709998e+02 8.1704999e+02\n",
      "  8.1745001e+02 8.1750000e+02 8.1754999e+02 8.1759998e+02 8.1765002e+02\n",
      "  1.1000000e+01 1.0000000e+00 4.0000000e+00 2.8400000e+02 5.6900000e+02\n",
      "  1.8000000e+01 4.9890000e+03 9.6000000e+01 1.6360000e+03 2.4840000e+03\n",
      "  2.0000000e+00 1.0000000e+00 4.0000000e+00 4.0000000e+00 6.0000000e+00\n",
      "  2.0000000e+00 2.0000000e+01 5.0000000e+00 1.2000000e+01 1.3000000e+01\n",
      "  1.7231206e+09]\n",
      " [8.1740002e+02 8.1725000e+02 8.1720001e+02 8.1715002e+02 8.1709998e+02\n",
      "  8.1745001e+02 8.1750000e+02 8.1754999e+02 8.1759998e+02 8.1765002e+02\n",
      "  1.0000000e+00 1.1000000e+01 1.0000000e+00 2.4100000e+02 5.1800000e+02\n",
      "  1.7000000e+01 5.5140000e+03 6.0000000e+01 1.6560000e+03 2.0360000e+03\n",
      "  1.0000000e+00 2.0000000e+00 1.0000000e+00 5.0000000e+00 5.0000000e+00\n",
      "  2.0000000e+00 2.1000000e+01 2.0000000e+00 1.2000000e+01 1.2000000e+01\n",
      "  1.7231206e+09]\n",
      " [8.1745001e+02 8.1740002e+02 8.1729999e+02 8.1725000e+02 8.1720001e+02\n",
      "  8.1750000e+02 8.1754999e+02 8.1759998e+02 8.1765002e+02 8.1770001e+02\n",
      "  3.0000000e+00 1.0000000e+00 1.9000000e+01 2.7600000e+02 1.2800000e+02\n",
      "  5.2530000e+03 5.0000000e+00 1.1050000e+03 2.6500000e+02 3.6560000e+03\n",
      "  3.0000000e+00 1.0000000e+00 1.0000000e+00 3.0000000e+00 3.0000000e+00\n",
      "  2.0000000e+01 1.0000000e+00 6.0000000e+00 5.0000000e+00 2.0000000e+01\n",
      "  1.7231206e+09]\n",
      " [8.1745001e+02 8.1729999e+02 8.1725000e+02 8.1720001e+02 8.1715002e+02\n",
      "  8.1750000e+02 8.1754999e+02 8.1759998e+02 8.1765002e+02 8.1770001e+02\n",
      "  4.0000000e+00 1.9000000e+01 2.7600000e+02 4.9300000e+02 5.3800000e+02\n",
      "  5.1950000e+03 5.0000000e+00 3.5500000e+02 2.6500000e+02 4.4060000e+03\n",
      "  4.0000000e+00 1.0000000e+00 3.0000000e+00 6.0000000e+00 5.0000000e+00\n",
      "  1.9000000e+01 1.0000000e+00 5.0000000e+00 5.0000000e+00 2.1000000e+01\n",
      "  1.7231206e+09]\n",
      " [8.1745001e+02 8.1725000e+02 8.1720001e+02 8.1715002e+02 8.1709998e+02\n",
      "  8.1750000e+02 8.1754999e+02 8.1759998e+02 8.1765002e+02 8.1770001e+02\n",
      "  6.0000000e+00 2.2800000e+02 2.0500000e+02 3.1700000e+02 4.7400000e+02\n",
      "  5.1560000e+03 5.0000000e+00 1.1390000e+03 1.9090000e+03 5.3130000e+03\n",
      "  6.0000000e+00 1.0000000e+00 4.0000000e+00 6.0000000e+00 6.0000000e+00\n",
      "  1.9000000e+01 1.0000000e+00 7.0000000e+00 1.0000000e+01 2.5000000e+01\n",
      "  1.7231206e+09]\n",
      " [8.1745001e+02 8.1725000e+02 8.1720001e+02 8.1715002e+02 8.1709998e+02\n",
      "  8.1750000e+02 8.1754999e+02 8.1759998e+02 8.1765002e+02 8.1770001e+02\n",
      "  6.0000000e+00 2.2800000e+02 2.0400000e+02 3.1700000e+02 4.7400000e+02\n",
      "  5.1540000e+03 5.0000000e+00 1.1390000e+03 1.9090000e+03 5.3130000e+03\n",
      "  6.0000000e+00 1.0000000e+00 3.0000000e+00 6.0000000e+00 6.0000000e+00\n",
      "  1.9000000e+01 1.0000000e+00 7.0000000e+00 1.0000000e+01 2.5000000e+01\n",
      "  1.7231206e+09]\n",
      " [8.1720001e+02 8.1715002e+02 8.1709998e+02 8.1704999e+02 8.1700000e+02\n",
      "  8.1750000e+02 8.1754999e+02 8.1759998e+02 8.1765002e+02 8.1770001e+02\n",
      "  5.0000000e+00 2.3900000e+02 4.7900000e+02 9.0500000e+02 3.6500000e+02\n",
      "  5.4240000e+03 2.3400000e+02 1.5870000e+03 1.9340000e+03 3.9160000e+03\n",
      "  1.0000000e+00 4.0000000e+00 1.0000000e+01 1.1000000e+01 7.0000000e+00\n",
      "  2.2000000e+01 5.0000000e+00 1.3000000e+01 1.1000000e+01 2.2000000e+01\n",
      "  1.7231206e+09]\n",
      " [8.1745001e+02 8.1725000e+02 8.1720001e+02 8.1715002e+02 8.1709998e+02\n",
      "  8.1750000e+02 8.1754999e+02 8.1759998e+02 8.1765002e+02 8.1770001e+02\n",
      "  1.7000000e+01 2.6600000e+02 3.8000000e+02 2.3900000e+02 4.8800000e+02\n",
      "  5.0890000e+03 5.0000000e+00 4.9200000e+02 3.4400000e+02 3.9390000e+03\n",
      "  3.0000000e+00 2.0000000e+00 4.0000000e+00 4.0000000e+00 9.0000000e+00\n",
      "  1.9000000e+01 1.0000000e+00 8.0000000e+00 8.0000000e+00 2.1000000e+01\n",
      "  1.7231206e+09]\n",
      " [8.1720001e+02 8.1715002e+02 8.1709998e+02 8.1704999e+02 8.1700000e+02\n",
      "  8.1750000e+02 8.1754999e+02 8.1759998e+02 8.1765002e+02 8.1770001e+02\n",
      "  1.9000000e+01 2.9600000e+02 4.8800000e+02 8.6200000e+02 3.7400000e+02\n",
      "  5.1080000e+03 2.7000000e+01 8.1600000e+02 4.4200000e+02 3.7370000e+03\n",
      "  2.0000000e+00 6.0000000e+00 9.0000000e+00 1.0000000e+01 9.0000000e+00\n",
      "  2.0000000e+01 3.0000000e+00 1.1000000e+01 8.0000000e+00 1.9000000e+01\n",
      "  1.7231206e+09]\n",
      " [8.1720001e+02 8.1715002e+02 8.1709998e+02 8.1704999e+02 8.1700000e+02\n",
      "  8.1734998e+02 8.1750000e+02 8.1754999e+02 8.1759998e+02 8.1765002e+02\n",
      "  2.4400000e+02 4.1700000e+02 6.3700000e+02 7.5200000e+02 5.2300000e+02\n",
      "  5.0000000e+01 4.4520000e+03 5.0000000e+00 7.5000000e+02 2.7700000e+02\n",
      "  4.0000000e+00 6.0000000e+00 1.2000000e+01 1.2000000e+01 1.2000000e+01\n",
      "  1.0000000e+00 2.0000000e+01 1.0000000e+00 9.0000000e+00 7.0000000e+00\n",
      "  1.7231206e+09]\n",
      " [8.1720001e+02 8.1715002e+02 8.1709998e+02 8.1704999e+02 8.1700000e+02\n",
      "  8.1745001e+02 8.1750000e+02 8.1754999e+02 8.1759998e+02 8.1765002e+02\n",
      "  4.0000000e+00 4.0600000e+02 3.8700000e+02 5.4500000e+02 4.3100000e+02\n",
      "  6.1000000e+01 4.3760000e+03 2.7000000e+01 9.0500000e+02 3.5800000e+02\n",
      "  1.0000000e+00 3.0000000e+00 8.0000000e+00 6.0000000e+00 1.1000000e+01\n",
      "  1.0000000e+00 2.1000000e+01 3.0000000e+00 1.3000000e+01 9.0000000e+00\n",
      "  1.7231206e+09]\n",
      " [8.1734998e+02 8.1720001e+02 8.1715002e+02 8.1709998e+02 8.1704999e+02\n",
      "  8.1745001e+02 8.1750000e+02 8.1754999e+02 8.1759998e+02 8.1765002e+02\n",
      "  1.0000000e+00 4.0000000e+00 4.0600000e+02 5.0900000e+02 5.4600000e+02\n",
      "  6.1000000e+01 4.3760000e+03 6.5000000e+01 9.0500000e+02 3.2000000e+02\n",
      "  1.0000000e+00 1.0000000e+00 3.0000000e+00 9.0000000e+00 7.0000000e+00\n",
      "  1.0000000e+00 2.1000000e+01 4.0000000e+00 1.3000000e+01 8.0000000e+00\n",
      "  1.7231206e+09]\n",
      " [8.1715002e+02 8.1709998e+02 8.1704999e+02 8.1700000e+02 8.1695001e+02\n",
      "  8.1745001e+02 8.1750000e+02 8.1754999e+02 8.1759998e+02 8.1765002e+02\n",
      "  1.3500000e+02 4.3600000e+02 7.0500000e+02 6.0000000e+02 1.4850000e+03\n",
      "  9.7000000e+01 4.6860000e+03 2.8300000e+02 8.0200000e+02 3.2000000e+02\n",
      "  1.0000000e+00 5.0000000e+00 8.0000000e+00 1.3000000e+01 1.0000000e+01\n",
      "  1.0000000e+00 2.5000000e+01 6.0000000e+00 1.2000000e+01 8.0000000e+00\n",
      "  1.7231206e+09]\n",
      " [8.1715002e+02 8.1709998e+02 8.1704999e+02 8.1700000e+02 8.1695001e+02\n",
      "  8.1745001e+02 8.1750000e+02 8.1754999e+02 8.1759998e+02 8.1765002e+02\n",
      "  2.0000000e+00 6.3300000e+02 7.3800000e+02 6.4900000e+02 1.4470000e+03\n",
      "  1.7600000e+02 4.6670000e+03 2.7000000e+01 1.0390000e+03 3.5800000e+02\n",
      "  2.0000000e+00 8.0000000e+00 9.0000000e+00 1.5000000e+01 9.0000000e+00\n",
      "  2.0000000e+00 2.4000000e+01 3.0000000e+00 1.5000000e+01 9.0000000e+00\n",
      "  1.7231206e+09]\n",
      " [8.1709998e+02 8.1704999e+02 8.1700000e+02 8.1695001e+02 8.1690002e+02\n",
      "  8.1745001e+02 8.1750000e+02 8.1754999e+02 8.1759998e+02 8.1765002e+02\n",
      "  3.3200000e+02 1.0440000e+03 5.0600000e+02 1.4470000e+03 7.6500000e+02\n",
      "  2.6300000e+02 4.0770000e+03 7.0000000e+01 7.4500000e+02 1.1100000e+03\n",
      "  6.0000000e+00 1.4000000e+01 1.3000000e+01 9.0000000e+00 1.2000000e+01\n",
      "  4.0000000e+00 2.2000000e+01 3.0000000e+00 1.1000000e+01 1.2000000e+01\n",
      "  1.7231206e+09]\n",
      " [8.1709998e+02 8.1704999e+02 8.1700000e+02 8.1695001e+02 8.1690002e+02\n",
      "  8.1740002e+02 8.1745001e+02 8.1750000e+02 8.1754999e+02 8.1759998e+02\n",
      "  5.2000000e+01 3.9900000e+02 4.6300000e+02 1.2900000e+03 9.0500000e+02\n",
      "  3.6000000e+01 2.6600000e+02 4.4500000e+03 7.0000000e+01 8.0200000e+02\n",
      "  2.0000000e+00 5.0000000e+00 1.2000000e+01 8.0000000e+00 1.4000000e+01\n",
      "  1.0000000e+00 7.0000000e+00 2.7000000e+01 3.0000000e+00 1.2000000e+01\n",
      "  1.7231206e+09]\n",
      " [8.1709998e+02 8.1704999e+02 8.1700000e+02 8.1695001e+02 8.1690002e+02\n",
      "  8.1740002e+02 8.1745001e+02 8.1750000e+02 8.1754999e+02 8.1759998e+02\n",
      "  5.2000000e+01 3.9900000e+02 4.6300000e+02 1.2900000e+03 9.0500000e+02\n",
      "  3.5000000e+01 2.6600000e+02 4.4500000e+03 7.0000000e+01 8.0200000e+02\n",
      "  2.0000000e+00 5.0000000e+00 1.2000000e+01 8.0000000e+00 1.4000000e+01\n",
      "  1.0000000e+00 7.0000000e+00 2.7000000e+01 3.0000000e+00 1.2000000e+01\n",
      "  1.7231206e+09]\n",
      " [8.1740002e+02 8.1725000e+02 8.1709998e+02 8.1704999e+02 8.1700000e+02\n",
      "  8.1745001e+02 8.1750000e+02 8.1754999e+02 8.1759998e+02 8.1765002e+02\n",
      "  1.0000000e+00 6.0000000e+00 2.7500000e+02 9.7800000e+02 5.9700000e+02\n",
      "  3.6800000e+02 3.9730000e+03 2.8800000e+02 7.4300000e+02 3.3780000e+03\n",
      "  1.0000000e+00 1.0000000e+00 5.0000000e+00 8.0000000e+00 1.4000000e+01\n",
      "  8.0000000e+00 2.3000000e+01 5.0000000e+00 1.1000000e+01 1.6000000e+01\n",
      "  1.7231206e+09]\n",
      " [8.1729999e+02 8.1725000e+02 8.1709998e+02 8.1704999e+02 8.1700000e+02\n",
      "  8.1740002e+02 8.1745001e+02 8.1750000e+02 8.1754999e+02 8.1759998e+02\n",
      "  1.0000000e+00 3.0000000e+00 1.5000000e+02 4.6600000e+02 5.4200000e+02\n",
      "  9.0400000e+02 3.3300000e+02 4.0740000e+03 2.5200000e+02 8.1500000e+02\n",
      "  1.0000000e+00 1.0000000e+00 2.0000000e+00 6.0000000e+00 1.2000000e+01\n",
      "  3.0000000e+00 9.0000000e+00 2.5000000e+01 5.0000000e+00 1.2000000e+01\n",
      "  1.7231206e+09]\n",
      " [8.1704999e+02 8.1700000e+02 8.1695001e+02 8.1690002e+02 8.1684998e+02\n",
      "  8.1740002e+02 8.1745001e+02 8.1750000e+02 8.1754999e+02 8.1759998e+02\n",
      "  3.5800000e+02 5.6700000e+02 1.0110000e+03 1.4760000e+03 6.4200000e+02\n",
      "  9.3800000e+02 3.9700000e+02 4.3060000e+03 1.6000000e+01 2.6840000e+03\n",
      "  6.0000000e+00 1.4000000e+01 1.3000000e+01 1.3000000e+01 5.0000000e+00\n",
      "  5.0000000e+00 1.0000000e+01 2.7000000e+01 2.0000000e+00 1.9000000e+01\n",
      "  1.7231206e+09]\n",
      " [8.1704999e+02 8.1700000e+02 8.1695001e+02 8.1690002e+02 8.1684998e+02\n",
      "  8.1740002e+02 8.1745001e+02 8.1750000e+02 8.1754999e+02 8.1759998e+02\n",
      "  3.0000000e+02 5.5800000e+02 1.0470000e+03 1.4760000e+03 6.0600000e+02\n",
      "  9.3700000e+02 3.9900000e+02 4.3060000e+03 2.3400000e+02 2.4660000e+03\n",
      "  6.0000000e+00 1.4000000e+01 1.4000000e+01 1.3000000e+01 4.0000000e+00\n",
      "  5.0000000e+00 1.1000000e+01 2.7000000e+01 4.0000000e+00 1.7000000e+01\n",
      "  1.7231206e+09]\n",
      " [8.1704999e+02 8.1700000e+02 8.1695001e+02 8.1690002e+02 8.1684998e+02\n",
      "  8.1729999e+02 8.1734998e+02 8.1740002e+02 8.1745001e+02 8.1750000e+02\n",
      "  2.3000000e+02 5.3300000e+02 9.5300000e+02 1.3370000e+03 5.7900000e+02\n",
      "  7.3800000e+02 3.6000000e+01 1.8900000e+02 5.5700000e+02 4.3470000e+03\n",
      "  5.0000000e+00 1.3000000e+01 1.2000000e+01 1.2000000e+01 4.0000000e+00\n",
      "  1.0000000e+00 1.0000000e+00 5.0000000e+00 1.2000000e+01 2.9000000e+01\n",
      "  1.7231206e+09]\n",
      " [8.1704999e+02 8.1700000e+02 8.1695001e+02 8.1690002e+02 8.1684998e+02\n",
      "  8.1729999e+02 8.1734998e+02 8.1740002e+02 8.1745001e+02 8.1750000e+02\n",
      "  4.6000000e+01 5.3300000e+02 7.8800000e+02 1.4660000e+03 5.9700000e+02\n",
      "  7.3700000e+02 5.4000000e+01 1.8900000e+02 5.3900000e+02 4.3470000e+03\n",
      "  3.0000000e+00 1.3000000e+01 9.0000000e+00 1.4000000e+01 4.0000000e+00\n",
      "  1.0000000e+00 2.0000000e+00 5.0000000e+00 1.1000000e+01 2.9000000e+01\n",
      "  1.7231206e+09]]\n"
     ]
    }
   ],
   "source": [
    "with h.File('data/2024-08.h5','a') as f:\n",
    "    print(f['SBIN/1/NSE/Depth'][:])"
   ]
  },
  {
   "cell_type": "code",
   "execution_count": 4,
   "metadata": {},
   "outputs": [
    {
     "name": "stdout",
     "output_type": "stream",
     "text": [
      "it worked!!\n"
     ]
    }
   ],
   "source": [
    "from seleniumbase import Driver\n",
    "\n",
    "driver = Driver(uc=True)\n",
    "url = \"https://gitlab.com/users/sign_in\"\n",
    "driver.uc_open_with_reconnect(url, 4)\n",
    "print('it worked!!')\n",
    "driver.quit()"
   ]
  },
  {
   "cell_type": "code",
   "execution_count": 5,
   "metadata": {},
   "outputs": [
    {
     "name": "stdout",
     "output_type": "stream",
     "text": [
      "==================== {  File \"<frozen runpy>:198:SB} starts ====================\n",
      "Traceback (most recent call last):\n",
      "  File \"/Users/gurusai/programming/STONKS/data_retreival_v2/fyers_data_retreivalv2/lib/python3.12/site-packages/seleniumbase/plugins/sb_manager.py\", line 964, in SB\n",
      "    yield sb\n",
      "  File \"/var/folders/v8/1wyl6_ks02s620m7tv5drmch0000gn/T/ipykernel_32962/3028056060.py\", line 6, in <module>\n",
      "    sb.uc_gui_handle_captcha()\n",
      "    ^^^^^^^^^^^^^^^^^^^^^^^^\n",
      "AttributeError: 'BaseCase' object has no attribute 'uc_gui_handle_captcha'\n",
      "=============== {  File \"<frozen runpy>:198:SB} failed in 3.20s ================\n"
     ]
    }
   ],
   "source": [
    "from seleniumbase import SB\n",
    "\n",
    "with SB(uc=True, test=True) as sb:\n",
    "    url = \"https://seleniumbase.io/apps/turnstile\"\n",
    "    sb.uc_open_with_reconnect(url, reconnect_time=2)\n",
    "    sb.uc_gui_handle_captcha()\n",
    "    sb.assert_element(\"img#captcha-success\", timeout=3)\n",
    "    sb.set_messenger_theme(location=\"top_left\")\n",
    "    sb.post_message(\"SeleniumBase wasn't detected\", duration=3)"
   ]
  },
  {
   "cell_type": "code",
   "execution_count": 5,
   "metadata": {},
   "outputs": [
    {
     "name": "stdout",
     "output_type": "stream",
     "text": [
      "Requirement already satisfied: seleniumbase in ./fyers_data_retreivalv2/lib/python3.12/site-packages (4.28.5)\n",
      "Collecting seleniumbase\n",
      "  Downloading seleniumbase-4.29.8-py3-none-any.whl.metadata (85 kB)\n",
      "\u001b[2K     \u001b[90m━━━━━━━━━━━━━━━━━━━━━━━━━━━━━━━━━━━━━━━━\u001b[0m \u001b[32m85.8/85.8 kB\u001b[0m \u001b[31m1.3 MB/s\u001b[0m eta \u001b[36m0:00:00\u001b[0mta \u001b[36m0:00:01\u001b[0m\n",
      "\u001b[?25hCollecting attrs>=24.2.0 (from seleniumbase)\n",
      "  Downloading attrs-24.2.0-py3-none-any.whl.metadata (11 kB)\n",
      "Requirement already satisfied: certifi>=2024.7.4 in ./fyers_data_retreivalv2/lib/python3.12/site-packages (from seleniumbase) (2024.7.4)\n",
      "Requirement already satisfied: exceptiongroup>=1.2.2 in ./fyers_data_retreivalv2/lib/python3.12/site-packages (from seleniumbase) (1.2.2)\n",
      "Requirement already satisfied: parse>=1.20.2 in ./fyers_data_retreivalv2/lib/python3.12/site-packages (from seleniumbase) (1.20.2)\n",
      "Requirement already satisfied: parse-type>=0.6.2 in ./fyers_data_retreivalv2/lib/python3.12/site-packages (from seleniumbase) (0.6.2)\n",
      "Requirement already satisfied: six==1.16.0 in ./fyers_data_retreivalv2/lib/python3.12/site-packages (from seleniumbase) (1.16.0)\n",
      "Requirement already satisfied: idna==3.7 in ./fyers_data_retreivalv2/lib/python3.12/site-packages (from seleniumbase) (3.7)\n",
      "Requirement already satisfied: chardet==5.2.0 in ./fyers_data_retreivalv2/lib/python3.12/site-packages (from seleniumbase) (5.2.0)\n",
      "Requirement already satisfied: charset-normalizer==3.3.2 in ./fyers_data_retreivalv2/lib/python3.12/site-packages (from seleniumbase) (3.3.2)\n",
      "Requirement already satisfied: requests==2.31.0 in ./fyers_data_retreivalv2/lib/python3.12/site-packages (from seleniumbase) (2.31.0)\n",
      "Collecting pynose==1.5.2 (from seleniumbase)\n",
      "  Downloading pynose-1.5.2-py3-none-any.whl.metadata (19 kB)\n",
      "Requirement already satisfied: sniffio==1.3.1 in ./fyers_data_retreivalv2/lib/python3.12/site-packages (from seleniumbase) (1.3.1)\n",
      "Requirement already satisfied: h11==0.14.0 in ./fyers_data_retreivalv2/lib/python3.12/site-packages (from seleniumbase) (0.14.0)\n",
      "Requirement already satisfied: outcome==1.3.0.post0 in ./fyers_data_retreivalv2/lib/python3.12/site-packages (from seleniumbase) (1.3.0.post0)\n",
      "Requirement already satisfied: trio-websocket==0.11.1 in ./fyers_data_retreivalv2/lib/python3.12/site-packages (from seleniumbase) (0.11.1)\n",
      "Requirement already satisfied: wsproto==1.2.0 in ./fyers_data_retreivalv2/lib/python3.12/site-packages (from seleniumbase) (1.2.0)\n",
      "Requirement already satisfied: cssselect==1.2.0 in ./fyers_data_retreivalv2/lib/python3.12/site-packages (from seleniumbase) (1.2.0)\n",
      "Requirement already satisfied: sortedcontainers==2.4.0 in ./fyers_data_retreivalv2/lib/python3.12/site-packages (from seleniumbase) (2.4.0)\n",
      "Requirement already satisfied: fasteners==0.19 in ./fyers_data_retreivalv2/lib/python3.12/site-packages (from seleniumbase) (0.19)\n",
      "Requirement already satisfied: iniconfig==2.0.0 in ./fyers_data_retreivalv2/lib/python3.12/site-packages (from seleniumbase) (2.0.0)\n",
      "Requirement already satisfied: py==1.11.0 in ./fyers_data_retreivalv2/lib/python3.12/site-packages (from seleniumbase) (1.11.0)\n",
      "Requirement already satisfied: pytest-html==2.0.1 in ./fyers_data_retreivalv2/lib/python3.12/site-packages (from seleniumbase) (2.0.1)\n",
      "Requirement already satisfied: pytest-ordering==0.6 in ./fyers_data_retreivalv2/lib/python3.12/site-packages (from seleniumbase) (0.6)\n",
      "Requirement already satisfied: parameterized==0.9.0 in ./fyers_data_retreivalv2/lib/python3.12/site-packages (from seleniumbase) (0.9.0)\n",
      "Requirement already satisfied: sbvirtualdisplay==1.3.0 in ./fyers_data_retreivalv2/lib/python3.12/site-packages (from seleniumbase) (1.3.0)\n",
      "Requirement already satisfied: behave==1.2.6 in ./fyers_data_retreivalv2/lib/python3.12/site-packages (from seleniumbase) (1.2.6)\n",
      "Requirement already satisfied: beautifulsoup4==4.12.3 in ./fyers_data_retreivalv2/lib/python3.12/site-packages (from seleniumbase) (4.12.3)\n",
      "Collecting tabcompleter==1.3.3 (from seleniumbase)\n",
      "  Downloading tabcompleter-1.3.3-py3-none-any.whl.metadata (3.7 kB)\n",
      "Collecting pdbp==1.5.3 (from seleniumbase)\n",
      "  Downloading pdbp-1.5.3-py3-none-any.whl.metadata (7.0 kB)\n",
      "Requirement already satisfied: colorama==0.4.6 in ./fyers_data_retreivalv2/lib/python3.12/site-packages (from seleniumbase) (0.4.6)\n",
      "Requirement already satisfied: pyotp==2.9.0 in ./fyers_data_retreivalv2/lib/python3.12/site-packages (from seleniumbase) (2.9.0)\n",
      "Requirement already satisfied: mdurl==0.1.2 in ./fyers_data_retreivalv2/lib/python3.12/site-packages (from seleniumbase) (0.1.2)\n",
      "Requirement already satisfied: rich==13.7.1 in ./fyers_data_retreivalv2/lib/python3.12/site-packages (from seleniumbase) (13.7.1)\n",
      "Requirement already satisfied: setuptools>=70.2.0 in ./fyers_data_retreivalv2/lib/python3.12/site-packages (from seleniumbase) (70.3.0)\n",
      "Requirement already satisfied: urllib3<2.3.0,>=1.26.19 in ./fyers_data_retreivalv2/lib/python3.12/site-packages (from seleniumbase) (2.2.2)\n",
      "Requirement already satisfied: pip>=24.1.2 in ./fyers_data_retreivalv2/lib/python3.12/site-packages (from seleniumbase) (24.1.2)\n",
      "Requirement already satisfied: packaging>=24.1 in ./fyers_data_retreivalv2/lib/python3.12/site-packages (from seleniumbase) (24.1)\n",
      "Collecting wheel>=0.44.0 (from seleniumbase)\n",
      "  Downloading wheel-0.44.0-py3-none-any.whl.metadata (2.3 kB)\n",
      "Requirement already satisfied: filelock>=3.15.4 in ./fyers_data_retreivalv2/lib/python3.12/site-packages (from seleniumbase) (3.15.4)\n",
      "Requirement already satisfied: platformdirs>=4.2.2 in ./fyers_data_retreivalv2/lib/python3.12/site-packages (from seleniumbase) (4.2.2)\n",
      "Requirement already satisfied: typing-extensions>=4.12.2 in ./fyers_data_retreivalv2/lib/python3.12/site-packages (from seleniumbase) (4.12.2)\n",
      "Collecting pyyaml>=6.0.2 (from seleniumbase)\n",
      "  Downloading PyYAML-6.0.2-cp312-cp312-macosx_11_0_arm64.whl.metadata (2.1 kB)\n",
      "Collecting trio==0.26.1 (from seleniumbase)\n",
      "  Downloading trio-0.26.1-py3-none-any.whl.metadata (8.6 kB)\n",
      "Requirement already satisfied: websocket-client==1.8.0 in ./fyers_data_retreivalv2/lib/python3.12/site-packages (from seleniumbase) (1.8.0)\n",
      "Collecting selenium==4.23.1 (from seleniumbase)\n",
      "  Downloading selenium-4.23.1-py3-none-any.whl.metadata (7.1 kB)\n",
      "Requirement already satisfied: execnet==2.1.1 in ./fyers_data_retreivalv2/lib/python3.12/site-packages (from seleniumbase) (2.1.1)\n",
      "Requirement already satisfied: pluggy==1.5.0 in ./fyers_data_retreivalv2/lib/python3.12/site-packages (from seleniumbase) (1.5.0)\n",
      "Collecting pytest==8.3.2 (from seleniumbase)\n",
      "  Downloading pytest-8.3.2-py3-none-any.whl.metadata (7.5 kB)\n",
      "Requirement already satisfied: pytest-metadata==3.1.1 in ./fyers_data_retreivalv2/lib/python3.12/site-packages (from seleniumbase) (3.1.1)\n",
      "Requirement already satisfied: pytest-rerunfailures==14.0 in ./fyers_data_retreivalv2/lib/python3.12/site-packages (from seleniumbase) (14.0)\n",
      "Requirement already satisfied: pytest-xdist==3.6.1 in ./fyers_data_retreivalv2/lib/python3.12/site-packages (from seleniumbase) (3.6.1)\n",
      "Requirement already satisfied: soupsieve==2.5 in ./fyers_data_retreivalv2/lib/python3.12/site-packages (from seleniumbase) (2.5)\n",
      "Requirement already satisfied: pygments==2.18.0 in ./fyers_data_retreivalv2/lib/python3.12/site-packages (from seleniumbase) (2.18.0)\n",
      "Requirement already satisfied: markdown-it-py==3.0.0 in ./fyers_data_retreivalv2/lib/python3.12/site-packages (from seleniumbase) (3.0.0)\n",
      "Requirement already satisfied: pysocks!=1.5.7,<2.0,>=1.5.6 in ./fyers_data_retreivalv2/lib/python3.12/site-packages (from urllib3[socks]<3,>=1.26->selenium==4.23.1->seleniumbase) (1.7.1)\n",
      "Downloading seleniumbase-4.29.8-py3-none-any.whl (562 kB)\n",
      "\u001b[2K   \u001b[90m━━━━━━━━━━━━━━━━━━━━━━━━━━━━━━━━━━━━━━━━\u001b[0m \u001b[32m562.7/562.7 kB\u001b[0m \u001b[31m2.2 MB/s\u001b[0m eta \u001b[36m0:00:00\u001b[0ma \u001b[36m0:00:01\u001b[0m\n",
      "\u001b[?25hDownloading pdbp-1.5.3-py3-none-any.whl (21 kB)\n",
      "Downloading pynose-1.5.2-py3-none-any.whl (130 kB)\n",
      "\u001b[2K   \u001b[90m━━━━━━━━━━━━━━━━━━━━━━━━━━━━━━━━━━━━━━━━\u001b[0m \u001b[32m130.3/130.3 kB\u001b[0m \u001b[31m2.8 MB/s\u001b[0m eta \u001b[36m0:00:00\u001b[0mta \u001b[36m0:00:01\u001b[0m\n",
      "\u001b[?25hDownloading pytest-8.3.2-py3-none-any.whl (341 kB)\n",
      "\u001b[2K   \u001b[90m━━━━━━━━━━━━━━━━━━━━━━━━━━━━━━━━━━━━━━━━\u001b[0m \u001b[32m341.8/341.8 kB\u001b[0m \u001b[31m2.7 MB/s\u001b[0m eta \u001b[36m0:00:00\u001b[0ma \u001b[36m0:00:01\u001b[0m\n",
      "\u001b[?25hDownloading selenium-4.23.1-py3-none-any.whl (9.4 MB)\n",
      "\u001b[2K   \u001b[90m━━━━━━━━━━━━━━━━━━━━━━━━━━━━━━━━━━━━━━━━\u001b[0m \u001b[32m9.4/9.4 MB\u001b[0m \u001b[31m2.6 MB/s\u001b[0m eta \u001b[36m0:00:00\u001b[0m00:01\u001b[0m00:01\u001b[0m\n",
      "\u001b[?25hDownloading tabcompleter-1.3.3-py3-none-any.whl (6.7 kB)\n",
      "Downloading trio-0.26.1-py3-none-any.whl (475 kB)\n",
      "\u001b[2K   \u001b[90m━━━━━━━━━━━━━━━━━━━━━━━━━━━━━━━━━━━━━━━━\u001b[0m \u001b[32m475.7/475.7 kB\u001b[0m \u001b[31m3.0 MB/s\u001b[0m eta \u001b[36m0:00:00\u001b[0ma \u001b[36m0:00:01\u001b[0m\n",
      "\u001b[?25hDownloading attrs-24.2.0-py3-none-any.whl (63 kB)\n",
      "\u001b[2K   \u001b[90m━━━━━━━━━━━━━━━━━━━━━━━━━━━━━━━━━━━━━━━━\u001b[0m \u001b[32m63.0/63.0 kB\u001b[0m \u001b[31m3.0 MB/s\u001b[0m eta \u001b[36m0:00:00\u001b[0m\n",
      "\u001b[?25hDownloading PyYAML-6.0.2-cp312-cp312-macosx_11_0_arm64.whl (173 kB)\n",
      "\u001b[2K   \u001b[90m━━━━━━━━━━━━━━━━━━━━━━━━━━━━━━━━━━━━━━━━\u001b[0m \u001b[32m173.3/173.3 kB\u001b[0m \u001b[31m3.1 MB/s\u001b[0m eta \u001b[36m0:00:00\u001b[0ma \u001b[36m0:00:01\u001b[0m\n",
      "\u001b[?25hDownloading wheel-0.44.0-py3-none-any.whl (67 kB)\n",
      "\u001b[2K   \u001b[90m━━━━━━━━━━━━━━━━━━━━━━━━━━━━━━━━━━━━━━━━\u001b[0m \u001b[32m67.1/67.1 kB\u001b[0m \u001b[31m4.6 MB/s\u001b[0m eta \u001b[36m0:00:00\u001b[0m\n",
      "\u001b[?25hInstalling collected packages: wheel, tabcompleter, pyyaml, pytest, pynose, attrs, pdbp, trio, selenium, seleniumbase\n",
      "  Attempting uninstall: wheel\n",
      "    Found existing installation: wheel 0.43.0\n",
      "    Uninstalling wheel-0.43.0:\n",
      "      Successfully uninstalled wheel-0.43.0\n",
      "  Attempting uninstall: tabcompleter\n",
      "    Found existing installation: tabcompleter 1.3.0\n",
      "    Uninstalling tabcompleter-1.3.0:\n",
      "      Successfully uninstalled tabcompleter-1.3.0\n",
      "  Attempting uninstall: pyyaml\n",
      "    Found existing installation: PyYAML 6.0.1\n",
      "    Uninstalling PyYAML-6.0.1:\n",
      "      Successfully uninstalled PyYAML-6.0.1\n",
      "  Attempting uninstall: pytest\n",
      "    Found existing installation: pytest 8.2.1\n",
      "    Uninstalling pytest-8.2.1:\n",
      "      Successfully uninstalled pytest-8.2.1\n",
      "  Attempting uninstall: pynose\n",
      "    Found existing installation: pynose 1.5.1\n",
      "    Uninstalling pynose-1.5.1:\n",
      "      Successfully uninstalled pynose-1.5.1\n",
      "  Attempting uninstall: attrs\n",
      "    Found existing installation: attrs 23.2.0\n",
      "    Uninstalling attrs-23.2.0:\n",
      "      Successfully uninstalled attrs-23.2.0\n",
      "  Attempting uninstall: pdbp\n",
      "    Found existing installation: pdbp 1.5.1\n",
      "    Uninstalling pdbp-1.5.1:\n",
      "      Successfully uninstalled pdbp-1.5.1\n",
      "  Attempting uninstall: trio\n",
      "    Found existing installation: trio 0.26.0\n",
      "    Uninstalling trio-0.26.0:\n",
      "      Successfully uninstalled trio-0.26.0\n",
      "  Attempting uninstall: selenium\n",
      "    Found existing installation: selenium 4.22.0\n",
      "    Uninstalling selenium-4.22.0:\n",
      "      Successfully uninstalled selenium-4.22.0\n",
      "  Attempting uninstall: seleniumbase\n",
      "    Found existing installation: seleniumbase 4.28.5\n",
      "    Uninstalling seleniumbase-4.28.5:\n",
      "      Successfully uninstalled seleniumbase-4.28.5\n",
      "\u001b[31mERROR: pip's dependency resolver does not currently take into account all the packages that are installed. This behaviour is the source of the following dependency conflicts.\n",
      "fyers-apiv3 3.1.2 requires websocket-client==1.6.1, but you have websocket-client 1.8.0 which is incompatible.\u001b[0m\u001b[31m\n",
      "\u001b[0mSuccessfully installed attrs-24.2.0 pdbp-1.5.3 pynose-1.5.2 pytest-8.3.2 pyyaml-6.0.2 selenium-4.23.1 seleniumbase-4.29.8 tabcompleter-1.3.3 trio-0.26.1 wheel-0.44.0\n",
      "\n",
      "\u001b[1m[\u001b[0m\u001b[34;49mnotice\u001b[0m\u001b[1;39;49m]\u001b[0m\u001b[39;49m A new release of pip is available: \u001b[0m\u001b[31;49m24.1.2\u001b[0m\u001b[39;49m -> \u001b[0m\u001b[32;49m24.2\u001b[0m\n",
      "\u001b[1m[\u001b[0m\u001b[34;49mnotice\u001b[0m\u001b[1;39;49m]\u001b[0m\u001b[39;49m To update, run: \u001b[0m\u001b[32;49mpip install --upgrade pip\u001b[0m\n",
      "Note: you may need to restart the kernel to use updated packages.\n"
     ]
    }
   ],
   "source": [
    "%pip install --upgrade seleniumbase"
   ]
  },
  {
   "cell_type": "code",
   "execution_count": 3,
   "metadata": {},
   "outputs": [],
   "source": [
    "from gen_token import Login"
   ]
  },
  {
   "cell_type": "code",
   "execution_count": 9,
   "metadata": {},
   "outputs": [],
   "source": [
    "client_id='7QYRMB1P75-100'\n",
    "secret_key='ZOO1C73JLJ'\n",
    "redirect_uri='https://www.google.com/'"
   ]
  },
  {
   "cell_type": "code",
   "execution_count": 10,
   "metadata": {},
   "outputs": [],
   "source": [
    "token = Login(client_id=client_id,secret_key=secret_key,redirect_uri=redirect_uri)._generate_response_url()"
   ]
  },
  {
   "cell_type": "code",
   "execution_count": 11,
   "metadata": {},
   "outputs": [
    {
     "data": {
      "text/plain": [
       "'https://api-t1.fyers.in/api/v3/generate-authcode?client_id=7QYRMB1P75-100&redirect_uri=https%3A%2F%2Fwww.google.com%2F&response_type=code&state=None'"
      ]
     },
     "execution_count": 11,
     "metadata": {},
     "output_type": "execute_result"
    }
   ],
   "source": [
    "token"
   ]
  },
  {
   "cell_type": "code",
   "execution_count": 9,
   "metadata": {},
   "outputs": [],
   "source": [
    "from seleniumbase import BaseCase\n",
    "import pyotp\n",
    "import time\n",
    "\n",
    "class MyTest(BaseCase):\n",
    "    def __init__(self, *args, **kwargs):\n",
    "        super().__init__(*args, **kwargs)\n",
    "        # Add any custom initialization here\n",
    "        self.TOTPseckey = \"your_totp_secret_key\"\n",
    "        self.four_digit_key = \"your_four_digit_key\"\n",
    "        self.phoneno = \"your_phone_number\"\n",
    "        self.responseurl = \"your_response_url\"\n",
    "        self.auth_code = None\n",
    "\n",
    "    def _login_and_get_auth(self, response, driver_mode=0):\n",
    "        \"\"\"Automatically gets auth_code from response URL.\"\"\"\n",
    "\n",
    "        if not self.TOTPseckey:\n",
    "            raise KeyError('TOTPseckey not provided')\n",
    "        if not self.four_digit_key:\n",
    "            raise KeyError('four digit key not provided')\n",
    "        if not self.phoneno:\n",
    "            raise KeyError('phoneno not provided')\n",
    "\n",
    "        if driver_mode == 0:\n",
    "            self.open(response)\n",
    "        elif driver_mode == 1:\n",
    "            from undetected_chromedriver.v2 import Chrome, ChromeOptions\n",
    "            options = ChromeOptions()\n",
    "            options.add_argument('--headless')  # Optional: run in headless mode\n",
    "            self.driver = Chrome(options=options)\n",
    "            self.driver.get(response)\n",
    "        \n",
    "        try:\n",
    "            # Your automation logic here\n",
    "            phno = self.find_element(By.XPATH, '/html/body/section[1]/div[3]/div[3]/form/div[1]/div/input')\n",
    "            phno.click()\n",
    "            phno.send_keys(self.phoneno)\n",
    "\n",
    "            self.find_element(By.XPATH, '/html/body/section[1]/div[3]/div[3]/form/button').click()\n",
    "\n",
    "            otp = pyotp.TOTP(self.TOTPseckey).now()\n",
    "            for i in range(1, 7):\n",
    "                self.find_element(By.XPATH, f'/html/body/section[6]/div[3]/div[3]/form/div[3]/input[{i}]').send_keys(otp[i - 1])\n",
    "\n",
    "            self.find_element(By.XPATH, '/html/body/section[6]/div[3]/div[3]/form/button').click()\n",
    "\n",
    "            for i in range(1, 5):\n",
    "                self.find_element(By.XPATH, f'/html/body/section[8]/div[3]/div[3]/form/div[2]/input[{i}]').send_keys(self.four_digit_key[i - 1])\n",
    "            self.find_element(By.XPATH, '/html/body/section[8]/div[3]/div[3]/form/button').click()\n",
    "\n",
    "            try:\n",
    "                self.find_element(By.XPATH, '/html/body/div/div/div/div/div/div[3]/div/div[3]/label').click()\n",
    "                self.find_element(By.XPATH, '/html/body/div/div/div/div/div/div[4]/div/a[2]/span').click()\n",
    "            except Exception:\n",
    "                print('No need to validate :)')\n",
    "\n",
    "            url = self.current_url\n",
    "            return url.split('&')[2].split('=')[1]\n",
    "        \n",
    "        finally:\n",
    "            if driver_mode == 1:\n",
    "                self.driver.quit()\n",
    "\n",
    "    def get_access_token(self):\n",
    "        if not self.responseurl:\n",
    "            # Generate response URL if not done manually\n",
    "            self.responseurl = self._generate_response_url()\n",
    "        \n",
    "        if not self.auth_code:\n",
    "            try:\n",
    "                self.auth_code = self._login_and_get_auth(self.responseurl)\n",
    "                print('auth_code obtained!')\n",
    "            except Exception as e:\n",
    "                print(f'Shucks, login issue occurred: {e}')\n",
    "                print('Mode 0 used up')\n",
    "                try:\n",
    "                    self.auth_code = self._login_and_get_auth(self.responseurl, driver_mode=1)\n",
    "                    print('auth_code obtained!')\n",
    "                except Exception as e:\n",
    "                    print(f'Auth code failed to be received: {e}')\n",
    "                    print('Mode 1 undetectable=true gone')\n",
    "                    raise NotImplementedError('SeleniumBase might be failing, look for alternatives')\n"
   ]
  },
  {
   "cell_type": "code",
   "execution_count": 10,
   "metadata": {},
   "outputs": [],
   "source": [
    "def get_creds(file_loc,data_type):\n",
    "    \"\"\" \n",
    "    returns credentials stored in the specified file_loc\n",
    "    args:\n",
    "        file_loc: location of file\n",
    "        data_type: (specified in secrets.txt)\n",
    "    \"\"\"\n",
    "    creds = {}\n",
    "    with open(file_loc,'r') as f:\n",
    "        txt = f.readlines()\n",
    "        for i in range(len(txt)):\n",
    "            if data_type in txt[i]:\n",
    "                creds['TOTPseckey'] = txt[i+1].split('=')[1].strip(\"\\n,\")\n",
    "                creds['key'] = txt[i+2].split('=')[1].strip(\"\\n,\")\n",
    "                creds['phoneno'] = txt[i+3].split('=')[1].strip(\"\\n,\")\n",
    "                creds['client_id'] = txt[i+4].split('=')[1].strip(\"\\n,\")\n",
    "                creds['secret_key'] = txt[i+5].split('=')[1].strip(\"\\n,\")\n",
    "                creds['redirect_uri'] = txt[i+6].split('=')[1].strip(\"\\n,\")  \n",
    "    return creds\n",
    "class AutoLogin(Login):\n",
    "    def __init__(self,file_loc,data_type):\n",
    "        creds = get_creds(file_loc=file_loc,data_type=data_type)\n",
    "        super().__init__(client_id=creds['client_id'],\n",
    "                         secret_key=creds['secret_key'],\n",
    "                         redirect_uri=creds['redirect_uri'],\n",
    "                         key=creds['key'],\n",
    "                         phoneno=creds['phoneno'],\n",
    "                         TOTPseckey=creds['TOTPseckey'])"
   ]
  },
  {
   "cell_type": "code",
   "execution_count": 1,
   "metadata": {},
   "outputs": [],
   "source": [
    "from gen_token import AutoLogin\n",
    "auth = AutoLogin('secrets.txt','test')"
   ]
  },
  {
   "cell_type": "code",
   "execution_count": 2,
   "metadata": {},
   "outputs": [
    {
     "name": "stdout",
     "output_type": "stream",
     "text": [
      "yeassss\n",
      "shucks login issue occured, we prolly got detected: Message: element not interactable\n",
      "  (Session info: chrome=127.0.6533.99)\n",
      "Stacktrace:\n",
      "0   uc_driver                           0x0000000100579848 uc_driver + 5179464\n",
      "1   uc_driver                           0x000000010057127a uc_driver + 5145210\n",
      "2   uc_driver                           0x00000001000e80e1 uc_driver + 389345\n",
      "3   uc_driver                           0x000000010012e598 uc_driver + 677272\n",
      "4   uc_driver                           0x000000010012c9fa uc_driver + 670202\n",
      "5   uc_driver                           0x00000001001567b2 uc_driver + 841650\n",
      "6   uc_driver                           0x0000000100128e58 uc_driver + 654936\n",
      "7   uc_driver                           0x000000010015696e uc_driver + 842094\n",
      "8   uc_driver                           0x0000000100173b9b uc_driver + 961435\n",
      "9   uc_driver                           0x0000000100156553 uc_driver + 841043\n",
      "10  uc_driver                           0x00000001001277f6 uc_driver + 649206\n",
      "11  uc_driver                           0x000000010012805e uc_driver + 651358\n",
      "12  uc_driver                           0x000000010053cab0 uc_driver + 4930224\n",
      "13  uc_driver                           0x00000001005419c6 uc_driver + 4950470\n",
      "14  uc_driver                           0x0000000100542095 uc_driver + 4952213\n",
      "15  uc_driver                           0x000000010051ee79 uc_driver + 4808313\n",
      "16  uc_driver                           0x0000000100542389 uc_driver + 4952969\n",
      "17  uc_driver                           0x00000001005107d4 uc_driver + 4749268\n",
      "18  uc_driver                           0x0000000100561558 uc_driver + 5080408\n",
      "19  uc_driver                           0x0000000100561717 uc_driver + 5080855\n",
      "20  uc_driver                           0x0000000100570e5e uc_driver + 5144158\n",
      "21  libsystem_pthread.dylib             0x00007ff800a7418b _pthread_start + 99\n",
      "22  libsystem_pthread.dylib             0x00007ff800a6fae3 thread_start + 15\n",
      "\n",
      "mode 0 used up\n",
      "yeassss\n",
      "auth code failed to be received Message: element not interactable\n",
      "  (Session info: chrome=127.0.6533.99)\n",
      "Stacktrace:\n",
      "0   uc_driver                           0x000000010532d848 uc_driver + 5179464\n",
      "1   uc_driver                           0x000000010532527a uc_driver + 5145210\n",
      "2   uc_driver                           0x0000000104e9c0e1 uc_driver + 389345\n",
      "3   uc_driver                           0x0000000104ee2598 uc_driver + 677272\n",
      "4   uc_driver                           0x0000000104ee09fa uc_driver + 670202\n",
      "5   uc_driver                           0x0000000104f0a7b2 uc_driver + 841650\n",
      "6   uc_driver                           0x0000000104edce58 uc_driver + 654936\n",
      "7   uc_driver                           0x0000000104f0a96e uc_driver + 842094\n",
      "8   uc_driver                           0x0000000104f27b9b uc_driver + 961435\n",
      "9   uc_driver                           0x0000000104f0a553 uc_driver + 841043\n",
      "10  uc_driver                           0x0000000104edb7f6 uc_driver + 649206\n",
      "11  uc_driver                           0x0000000104edc05e uc_driver + 651358\n",
      "12  uc_driver                           0x00000001052f0ab0 uc_driver + 4930224\n",
      "13  uc_driver                           0x00000001052f59c6 uc_driver + 4950470\n",
      "14  uc_driver                           0x00000001052f6095 uc_driver + 4952213\n",
      "15  uc_driver                           0x00000001052d2e79 uc_driver + 4808313\n",
      "16  uc_driver                           0x00000001052f6389 uc_driver + 4952969\n",
      "17  uc_driver                           0x00000001052c47d4 uc_driver + 4749268\n",
      "18  uc_driver                           0x0000000105315558 uc_driver + 5080408\n",
      "19  uc_driver                           0x0000000105315717 uc_driver + 5080855\n",
      "20  uc_driver                           0x0000000105324e5e uc_driver + 5144158\n",
      "21  libsystem_pthread.dylib             0x00007ff800a7418b _pthread_start + 99\n",
      "22  libsystem_pthread.dylib             0x00007ff800a6fae3 thread_start + 15\n",
      "\n",
      "mode 1 undetectable=true gone\n"
     ]
    },
    {
     "data": {
      "text/plain": [
       "NotImplementedError('bro SeleniumBase might be failing you look for alternatives')"
      ]
     },
     "execution_count": 2,
     "metadata": {},
     "output_type": "execute_result"
    }
   ],
   "source": [
    "auth.get_access_token()"
   ]
  },
  {
   "cell_type": "code",
   "execution_count": 9,
   "metadata": {},
   "outputs": [],
   "source": [
    "import webbrowser as w\n",
    "from gen_token import AutoLogin"
   ]
  },
  {
   "cell_type": "code",
   "execution_count": 6,
   "metadata": {},
   "outputs": [],
   "source": [
    "auth = AutoLogin('secrets.txt','test')"
   ]
  },
  {
   "cell_type": "code",
   "execution_count": 7,
   "metadata": {},
   "outputs": [],
   "source": [
    "url = auth._generate_response_url()"
   ]
  },
  {
   "cell_type": "code",
   "execution_count": 8,
   "metadata": {},
   "outputs": [
    {
     "data": {
      "text/plain": [
       "'https://api-t1.fyers.in/api/v3/generate-authcode?client_id=7QYRMB1P75-100&redirect_uri=https%3A%2F%2Fwww.google.com%2F&response_type=code&state=None'"
      ]
     },
     "execution_count": 8,
     "metadata": {},
     "output_type": "execute_result"
    }
   ],
   "source": [
    "url"
   ]
  },
  {
   "cell_type": "code",
   "execution_count": 11,
   "metadata": {},
   "outputs": [
    {
     "data": {
      "text/plain": [
       "True"
      ]
     },
     "execution_count": 11,
     "metadata": {},
     "output_type": "execute_result"
    }
   ],
   "source": [
    "w.open_new(url)"
   ]
  },
  {
   "cell_type": "code",
   "execution_count": 15,
   "metadata": {},
   "outputs": [
    {
     "name": "stdout",
     "output_type": "stream",
     "text": [
      "\u001b[31mERROR: Could not find a version that satisfies the requirement undetected_chromedriver-v2 (from versions: none)\u001b[0m\u001b[31m\n",
      "\u001b[0m\u001b[31mERROR: No matching distribution found for undetected_chromedriver-v2\u001b[0m\u001b[31m\n",
      "\u001b[0m\n",
      "\u001b[1m[\u001b[0m\u001b[34;49mnotice\u001b[0m\u001b[1;39;49m]\u001b[0m\u001b[39;49m A new release of pip is available: \u001b[0m\u001b[31;49m24.1.2\u001b[0m\u001b[39;49m -> \u001b[0m\u001b[32;49m24.2\u001b[0m\n",
      "\u001b[1m[\u001b[0m\u001b[34;49mnotice\u001b[0m\u001b[1;39;49m]\u001b[0m\u001b[39;49m To update, run: \u001b[0m\u001b[32;49mpip install --upgrade pip\u001b[0m\n",
      "Note: you may need to restart the kernel to use updated packages.\n"
     ]
    }
   ],
   "source": [
    "%pip install undetected_chromedriver-v2"
   ]
  },
  {
   "cell_type": "code",
   "execution_count": 17,
   "metadata": {},
   "outputs": [
    {
     "ename": "AttributeError",
     "evalue": "'Chrome' object has no attribute 'open'",
     "output_type": "error",
     "traceback": [
      "\u001b[0;31m---------------------------------------------------------------------------\u001b[0m",
      "\u001b[0;31mAttributeError\u001b[0m                            Traceback (most recent call last)",
      "Cell \u001b[0;32mIn[17], line 8\u001b[0m\n\u001b[1;32m      5\u001b[0m options\u001b[38;5;241m.\u001b[39madd_argument(\u001b[38;5;124m\"\u001b[39m\u001b[38;5;124m--headless\u001b[39m\u001b[38;5;124m\"\u001b[39m)  \u001b[38;5;66;03m# Optional: run in headless mode\u001b[39;00m\n\u001b[1;32m      7\u001b[0m driver \u001b[38;5;241m=\u001b[39m Chrome(options\u001b[38;5;241m=\u001b[39moptions)\n\u001b[0;32m----> 8\u001b[0m \u001b[43mdriver\u001b[49m\u001b[38;5;241;43m.\u001b[39;49m\u001b[43mopen\u001b[49m(url)  \u001b[38;5;66;03m# Replace with your URL\u001b[39;00m\n",
      "File \u001b[0;32m~/programming/STONKS/data_retreival_v2/fyers_data_retreivalv2/lib/python3.12/site-packages/undetected_chromedriver/__init__.py:806\u001b[0m, in \u001b[0;36mChrome.__getattribute__\u001b[0;34m(self, item)\u001b[0m\n\u001b[1;32m    804\u001b[0m \u001b[38;5;28;01mdef\u001b[39;00m \u001b[38;5;21m__getattribute__\u001b[39m(\u001b[38;5;28mself\u001b[39m, item):\n\u001b[1;32m    805\u001b[0m     \u001b[38;5;28;01mif\u001b[39;00m \u001b[38;5;129;01mnot\u001b[39;00m \u001b[38;5;28msuper\u001b[39m()\u001b[38;5;241m.\u001b[39m\u001b[38;5;21m__getattribute__\u001b[39m(\u001b[38;5;124m\"\u001b[39m\u001b[38;5;124mdebug\u001b[39m\u001b[38;5;124m\"\u001b[39m):\n\u001b[0;32m--> 806\u001b[0m         \u001b[38;5;28;01mreturn\u001b[39;00m \u001b[38;5;28;43msuper\u001b[39;49m\u001b[43m(\u001b[49m\u001b[43m)\u001b[49m\u001b[38;5;241;43m.\u001b[39;49m\u001b[38;5;21;43m__getattribute__\u001b[39;49m\u001b[43m(\u001b[49m\u001b[43mitem\u001b[49m\u001b[43m)\u001b[49m\n\u001b[1;32m    807\u001b[0m     \u001b[38;5;28;01melse\u001b[39;00m:\n\u001b[1;32m    808\u001b[0m         \u001b[38;5;28;01mimport\u001b[39;00m \u001b[38;5;21;01minspect\u001b[39;00m\n",
      "\u001b[0;31mAttributeError\u001b[0m: 'Chrome' object has no attribute 'open'"
     ]
    }
   ],
   "source": [
    "from selenium import webdriver\n",
    "from undetected_chromedriver import Chrome, ChromeOptions\n",
    "\n",
    "options = ChromeOptions()\n",
    "options.add_argument(\"--headless\")  # Optional: run in headless mode\n",
    "\n",
    "driver = Chrome(options=options)\n",
    "driver.  # Replace with your URL"
   ]
  },
  {
   "cell_type": "code",
   "execution_count": 29,
   "metadata": {},
   "outputs": [],
   "source": [
    "import seleniumbase as sb\n",
    "import time"
   ]
  },
  {
   "cell_type": "code",
   "execution_count": 20,
   "metadata": {},
   "outputs": [],
   "source": [
    "drive = sb.Driver(uc=True)  # Initialize BaseCase\n",
    "time.sleep(2)\n",
    "drive.get('https://pixelscan.net/')"
   ]
  },
  {
   "cell_type": "code",
   "execution_count": 28,
   "metadata": {},
   "outputs": [],
   "source": [
    "from selenium import webdriver\n",
    "\n",
    "# Example for Chrome\n",
    "driver = webdriver.Chrome()\n",
    "driver.get(url)"
   ]
  },
  {
   "cell_type": "code",
   "execution_count": 7,
   "metadata": {},
   "outputs": [],
   "source": [
    "from gen_token import AutoLogin\n",
    "import seleniumbase as sb\n",
    "import time"
   ]
  },
  {
   "cell_type": "code",
   "execution_count": 2,
   "metadata": {},
   "outputs": [],
   "source": [
    "auth = AutoLogin('secrets.txt','test')"
   ]
  },
  {
   "cell_type": "code",
   "execution_count": 3,
   "metadata": {},
   "outputs": [
    {
     "data": {
      "text/plain": [
       "'https://api-t1.fyers.in/api/v3/generate-authcode?client_id=7QYRMB1P75-100&redirect_uri=https%3A%2F%2Fwww.google.com%2F&response_type=code&state=None'"
      ]
     },
     "execution_count": 3,
     "metadata": {},
     "output_type": "execute_result"
    }
   ],
   "source": [
    "auth._generate_response_url()"
   ]
  },
  {
   "cell_type": "code",
   "execution_count": 4,
   "metadata": {},
   "outputs": [],
   "source": [
    "url = 'https://api-t1.fyers.in/api/v3/generate-authcode?client_id=7QYRMB1P75-100&redirect_uri=https%3A%2F%2Fwww.google.com%2F&response_type=code&state=None'"
   ]
  },
  {
   "cell_type": "code",
   "execution_count": 16,
   "metadata": {},
   "outputs": [],
   "source": [
    "drive = sb.Driver(uc=True)  # Initialize BaseCase\n",
    "time.sleep(2)\n",
    "drive.open('https://fyers.in/?gad_source=1&gclid=Cj0KCQjwwuG1BhCnARIsAFWBUC397R8ygKmyr6_LzNY42-EFptURqLOGXo2bgiMuF3mQ2g2N5PQVCOMaAhQgEALw_wcB')\n",
    "cookies = drive.get_cookies()"
   ]
  },
  {
   "cell_type": "code",
   "execution_count": 17,
   "metadata": {},
   "outputs": [
    {
     "data": {
      "text/plain": [
       "[{'domain': '.fyers.in',\n",
       "  'expiry': 1723371178,\n",
       "  'httpOnly': False,\n",
       "  'name': 'WZRK_S_RK8-4RR-9Z7Z',\n",
       "  'path': '/',\n",
       "  'sameSite': 'Lax',\n",
       "  'secure': False,\n",
       "  'value': '%7B%22p%22%3A1%2C%22s%22%3A1723369979%2C%22t%22%3A1723369978%7D'},\n",
       " {'domain': '.fyers.in',\n",
       "  'expiry': 1757929977,\n",
       "  'httpOnly': False,\n",
       "  'name': '_ga_BWQ41HY801',\n",
       "  'path': '/',\n",
       "  'sameSite': 'Lax',\n",
       "  'secure': False,\n",
       "  'value': 'GS1.2.1723369977.1.0.1723369977.0.0.0'},\n",
       " {'domain': '.fyers.in',\n",
       "  'expiry': 1754905976,\n",
       "  'httpOnly': False,\n",
       "  'name': 'WZRK_G',\n",
       "  'path': '/',\n",
       "  'sameSite': 'Lax',\n",
       "  'secure': False,\n",
       "  'value': 'a1a81073827e4f1fbc2536af4339e4c2'},\n",
       " {'domain': '.fyers.in',\n",
       "  'expiry': 1731145976,\n",
       "  'httpOnly': False,\n",
       "  'name': '_fbp',\n",
       "  'path': '/',\n",
       "  'sameSite': 'Lax',\n",
       "  'secure': False,\n",
       "  'value': 'fb.1.1723369976461.466179703405125166'},\n",
       " {'domain': '.fyers.in',\n",
       "  'expiry': 1731145976,\n",
       "  'httpOnly': False,\n",
       "  'name': '_gcl_gs',\n",
       "  'path': '/',\n",
       "  'sameSite': 'Lax',\n",
       "  'secure': False,\n",
       "  'value': '2.1.k1$i1723369963'},\n",
       " {'domain': '.fyers.in',\n",
       "  'expiry': 1723370036,\n",
       "  'httpOnly': False,\n",
       "  'name': '_gat_gtag_UA_70168752_15',\n",
       "  'path': '/',\n",
       "  'sameSite': 'Lax',\n",
       "  'secure': False,\n",
       "  'value': '1'},\n",
       " {'domain': '.fyers.in',\n",
       "  'expiry': 1731145976,\n",
       "  'httpOnly': False,\n",
       "  'name': '_gac_UA-70168752-15',\n",
       "  'path': '/',\n",
       "  'sameSite': 'Lax',\n",
       "  'secure': False,\n",
       "  'value': '1.1723369976.Cj0KCQjwwuG1BhCnARIsAFWBUC397R8ygKmyr6_LzNY42-EFptURqLOGXo2bgiMuF3mQ2g2N5PQVCOMaAhQgEALw_wcB'},\n",
       " {'domain': '.fyers.in',\n",
       "  'expiry': 1723370036,\n",
       "  'httpOnly': False,\n",
       "  'name': '_gat',\n",
       "  'path': '/',\n",
       "  'sameSite': 'Lax',\n",
       "  'secure': False,\n",
       "  'value': '1'},\n",
       " {'domain': '.fyers.in',\n",
       "  'expiry': 1757929976,\n",
       "  'httpOnly': False,\n",
       "  'name': '_ga_2ZNTHNJKD0',\n",
       "  'path': '/',\n",
       "  'sameSite': 'Lax',\n",
       "  'secure': False,\n",
       "  'value': 'GS1.1.1723369976.1.0.1723369976.60.0.0'},\n",
       " {'domain': '.fyers.in',\n",
       "  'expiry': 1731145976,\n",
       "  'httpOnly': False,\n",
       "  'name': '_gac_UA-70168752-1',\n",
       "  'path': '/',\n",
       "  'sameSite': 'Lax',\n",
       "  'secure': False,\n",
       "  'value': '1.1723369976.Cj0KCQjwwuG1BhCnARIsAFWBUC397R8ygKmyr6_LzNY42-EFptURqLOGXo2bgiMuF3mQ2g2N5PQVCOMaAhQgEALw_wcB'},\n",
       " {'domain': '.fyers.in',\n",
       "  'expiry': 1757929976,\n",
       "  'httpOnly': False,\n",
       "  'name': '_ga',\n",
       "  'path': '/',\n",
       "  'sameSite': 'Lax',\n",
       "  'secure': False,\n",
       "  'value': 'GA1.1.517259711.1723369976'},\n",
       " {'domain': '.fyers.in',\n",
       "  'expiry': 1723456376,\n",
       "  'httpOnly': False,\n",
       "  'name': '_gid',\n",
       "  'path': '/',\n",
       "  'sameSite': 'Lax',\n",
       "  'secure': False,\n",
       "  'value': 'GA1.2.327521844.1723369976'},\n",
       " {'domain': '.fyers.in',\n",
       "  'expiry': 1723371763,\n",
       "  'httpOnly': True,\n",
       "  'name': '__cf_bm',\n",
       "  'path': '/',\n",
       "  'sameSite': 'None',\n",
       "  'secure': True,\n",
       "  'value': '66dt7PnJ6xo.Vi.fqTxm0SCfov_VFB127uqzI4WLLRU-1723369964-1.0.1.1-ElSmS0qL.2dNzCbDldZAzVpFTtO0oj3.Ybqz5NH3cusbr6JHrKMkBUU6ToS2PDvMR3xQ1oxWzOeal1CXC1q8fQ'},\n",
       " {'domain': '.fyers.in',\n",
       "  'expiry': 1731145976,\n",
       "  'httpOnly': False,\n",
       "  'name': '_gcl_aw',\n",
       "  'path': '/',\n",
       "  'sameSite': 'Lax',\n",
       "  'secure': False,\n",
       "  'value': 'GCL.1723369976.Cj0KCQjwwuG1BhCnARIsAFWBUC397R8ygKmyr6_LzNY42-EFptURqLOGXo2bgiMuF3mQ2g2N5PQVCOMaAhQgEALw_wcB'},\n",
       " {'domain': '.fyers.in',\n",
       "  'expiry': 1731145974,\n",
       "  'httpOnly': False,\n",
       "  'name': '_gcl_au',\n",
       "  'path': '/',\n",
       "  'sameSite': 'Lax',\n",
       "  'secure': False,\n",
       "  'value': '1.1.1312031546.1723369974'},\n",
       " {'domain': '.fyers.in',\n",
       "  'httpOnly': True,\n",
       "  'name': '_cfuvid',\n",
       "  'path': '/',\n",
       "  'sameSite': 'None',\n",
       "  'secure': True,\n",
       "  'value': 'nMxYBzsN0L7EEbsqBZioicNPLaFkbCf.fniQ9fONVdM-1723369964567-0.0.1.1-604800000'}]"
      ]
     },
     "execution_count": 17,
     "metadata": {},
     "output_type": "execute_result"
    }
   ],
   "source": [
    "cookies"
   ]
  },
  {
   "cell_type": "code",
   "execution_count": 12,
   "metadata": {},
   "outputs": [],
   "source": [
    "import pyotp"
   ]
  },
  {
   "cell_type": "code",
   "execution_count": 15,
   "metadata": {},
   "outputs": [
    {
     "data": {
      "text/plain": [
       "'901012'"
      ]
     },
     "execution_count": 15,
     "metadata": {},
     "output_type": "execute_result"
    }
   ],
   "source": [
    "pyotp.TOTP('J7FQH2SSSFM73FCKJBPADBZ7OFB6BNES').now()"
   ]
  },
  {
   "cell_type": "code",
   "execution_count": 17,
   "metadata": {},
   "outputs": [],
   "source": [
    "import seleniumbase as sb\n",
    "import time\n",
    "from selenium.webdriver.common.by import By\n",
    "from selenium.webdriver.common.keys import Keys\n",
    "import pyotp\n",
    "from gen_token import AutoLogin\n",
    "\n",
    "log = AutoLogin('secrets.txt','test')\n",
    "url = log._generate_response_url()\n",
    "\n",
    "drive = sb.Driver(uc=True,incognito=True)  # Initialize BaseCase\n",
    "#time.sleep(2)\n",
    "drive.uc_open_with_reconnect(url,reconnect_time=5)\n",
    "\n",
    "phno = drive.find_element(By.XPATH,'/html/body/section[1]/div[3]/div[3]/form/div[1]/div/input')\n",
    "drive.uc_click('/html/body/section[1]/div[3]/div[3]/form/div[1]/div/input',By.XPATH)\n",
    "#sending phone number details\n",
    "phno.send_keys('7013036199')\n",
    "\n",
    "#click continue \n",
    "drive.uc_click('/html/body/section[1]/div[3]/div[3]/form/button',By.XPATH)\n",
    "time.sleep(2) #to allow the webpage to load\n",
    "\n",
    "#TOTP section\n",
    "otp = pyotp.TOTP('J7FQH2SSSFM73FCKJBPADBZ7OFB6BNES').now()\n",
    "for i in range(1,7):\n",
    "    drive.find_element(By.XPATH,f'/html/body/section[6]/div[3]/div[3]/form/div[3]/input[{i}]').send_keys(otp[i-1])\n",
    "\n",
    "#pressing continue\n",
    "drive.uc_click('/html/body/section[6]/div[3]/div[3]/form/button',By.XPATH)\n",
    "\n",
    "time.sleep(1)\n",
    "# PIN section\n",
    "for i in range(1,5):\n",
    "    drive.find_element(By.XPATH,f'/html/body/section[8]/div[3]/div[3]/form/div[2]/input[{i}]').send_keys('7845'[i-1])\n",
    "drive.uc_click('/html/body/section[8]/div[3]/div[3]/form/button',By.XPATH)\n"
   ]
  },
  {
   "cell_type": "code",
   "execution_count": 6,
   "metadata": {},
   "outputs": [],
   "source": [
    "log = AutoLogin('secrets.txt','test')"
   ]
  },
  {
   "cell_type": "code",
   "execution_count": 7,
   "metadata": {},
   "outputs": [
    {
     "data": {
      "text/plain": [
       "'https://api-t1.fyers.in/api/v3/generate-authcode?client_id=7QYRMB1P75-100&redirect_uri=https%3A%2F%2Fwww.google.com%2F&response_type=code&state=None'"
      ]
     },
     "execution_count": 7,
     "metadata": {},
     "output_type": "execute_result"
    }
   ],
   "source": [
    "url = log._generate_response_url()"
   ]
  },
  {
   "cell_type": "code",
   "execution_count": 8,
   "metadata": {},
   "outputs": [],
   "source": [
    "url = 'https://api-t1.fyers.in/api/v3/generate-authcode?client_id=7QYRMB1P75-100&redirect_uri=https%3A%2F%2Fwww.google.com%2F&response_type=code&state=None'"
   ]
  },
  {
   "cell_type": "code",
   "execution_count": 9,
   "metadata": {},
   "outputs": [],
   "source": [
    "drive = sb.Driver(uc=True,incognito=True)  # Initialize BaseCase\n",
    "#time.sleep(2)\n",
    "drive.uc_open_with_reconnect(url,reconnect_time=5)"
   ]
  },
  {
   "cell_type": "code",
   "execution_count": 8,
   "metadata": {},
   "outputs": [],
   "source": [
    "phno = drive.find_element(By.XPATH,'/html/body/section[1]/div[3]/div[3]/form/div[1]/div/input')\n",
    "drive.uc_click('/html/body/section[1]/div[3]/div[3]/form/div[1]/div/input',By.XPATH)\n",
    "#sending phone number details\n",
    "phno.send_keys('7013036199')"
   ]
  },
  {
   "cell_type": "code",
   "execution_count": 9,
   "metadata": {},
   "outputs": [],
   "source": [
    "drive.find_element(By.XPATH,'/html/body/section[1]/div[3]/div[3]/form/button').click()"
   ]
  },
  {
   "cell_type": "code",
   "execution_count": 11,
   "metadata": {},
   "outputs": [],
   "source": [
    "otp = pyotp.TOTP('J7FQH2SSSFM73FCKJBPADBZ7OFB6BNES').now()\n",
    "for i in range(1,7):\n",
    "    drive.find_element(By.XPATH,f'/html/body/section[6]/div[3]/div[3]/form/div[3]/input[{i}]').send_keys(otp[i-1])\n",
    "\n",
    "#pressing continue\n",
    "drive.find_element(By.XPATH,'/html/body/section[6]/div[3]/div[3]/form/button').click()"
   ]
  },
  {
   "cell_type": "code",
   "execution_count": 12,
   "metadata": {},
   "outputs": [],
   "source": [
    "for i in range(1,5):\n",
    "    drive.find_element(By.XPATH,f'/html/body/section[8]/div[3]/div[3]/form/div[2]/input[{i}]').send_keys('7845'[i-1])\n",
    "drive.find_element(By.XPATH,'/html/body/section[8]/div[3]/div[3]/form/button').click()"
   ]
  },
  {
   "cell_type": "code",
   "execution_count": 1,
   "metadata": {},
   "outputs": [],
   "source": [
    "import data"
   ]
  },
  {
   "cell_type": "code",
   "execution_count": 2,
   "metadata": {},
   "outputs": [
    {
     "name": "stdout",
     "output_type": "stream",
     "text": [
      "yeassss\n",
      "shucks login issue occured, we prolly got detected: Message: element not interactable\n",
      "  (Session info: chrome=127.0.6533.100)\n",
      "Stacktrace:\n",
      "0   uc_driver                           0x00000001030dc848 uc_driver + 5179464\n",
      "1   uc_driver                           0x00000001030d427a uc_driver + 5145210\n",
      "2   uc_driver                           0x0000000102c4b0e1 uc_driver + 389345\n",
      "3   uc_driver                           0x0000000102c91598 uc_driver + 677272\n",
      "4   uc_driver                           0x0000000102c8f9fa uc_driver + 670202\n",
      "5   uc_driver                           0x0000000102cb97b2 uc_driver + 841650\n",
      "6   uc_driver                           0x0000000102c8be58 uc_driver + 654936\n",
      "7   uc_driver                           0x0000000102cb996e uc_driver + 842094\n",
      "8   uc_driver                           0x0000000102cd6b9b uc_driver + 961435\n",
      "9   uc_driver                           0x0000000102cb9553 uc_driver + 841043\n",
      "10  uc_driver                           0x0000000102c8a7f6 uc_driver + 649206\n",
      "11  uc_driver                           0x0000000102c8b05e uc_driver + 651358\n",
      "12  uc_driver                           0x000000010309fab0 uc_driver + 4930224\n",
      "13  uc_driver                           0x00000001030a49c6 uc_driver + 4950470\n",
      "14  uc_driver                           0x00000001030a5095 uc_driver + 4952213\n",
      "15  uc_driver                           0x0000000103081e79 uc_driver + 4808313\n",
      "16  uc_driver                           0x00000001030a5389 uc_driver + 4952969\n",
      "17  uc_driver                           0x00000001030737d4 uc_driver + 4749268\n",
      "18  uc_driver                           0x00000001030c4558 uc_driver + 5080408\n",
      "19  uc_driver                           0x00000001030c4717 uc_driver + 5080855\n",
      "20  uc_driver                           0x00000001030d3e5e uc_driver + 5144158\n",
      "21  libsystem_pthread.dylib             0x00007ff800a7418b _pthread_start + 99\n",
      "22  libsystem_pthread.dylib             0x00007ff800a6fae3 thread_start + 15\n",
      "\n",
      "mode 0 used up\n",
      "yeassss\n",
      "auth code failed to be received Message: element not interactable\n",
      "  (Session info: chrome=127.0.6533.100)\n",
      "Stacktrace:\n",
      "0   uc_driver                           0x00000001032b0848 uc_driver + 5179464\n",
      "1   uc_driver                           0x00000001032a827a uc_driver + 5145210\n",
      "2   uc_driver                           0x0000000102e1f0e1 uc_driver + 389345\n",
      "3   uc_driver                           0x0000000102e65598 uc_driver + 677272\n",
      "4   uc_driver                           0x0000000102e639fa uc_driver + 670202\n",
      "5   uc_driver                           0x0000000102e8d7b2 uc_driver + 841650\n",
      "6   uc_driver                           0x0000000102e5fe58 uc_driver + 654936\n",
      "7   uc_driver                           0x0000000102e8d96e uc_driver + 842094\n",
      "8   uc_driver                           0x0000000102eaab9b uc_driver + 961435\n",
      "9   uc_driver                           0x0000000102e8d553 uc_driver + 841043\n",
      "10  uc_driver                           0x0000000102e5e7f6 uc_driver + 649206\n",
      "11  uc_driver                           0x0000000102e5f05e uc_driver + 651358\n",
      "12  uc_driver                           0x0000000103273ab0 uc_driver + 4930224\n",
      "13  uc_driver                           0x00000001032789c6 uc_driver + 4950470\n",
      "14  uc_driver                           0x0000000103279095 uc_driver + 4952213\n",
      "15  uc_driver                           0x0000000103255e79 uc_driver + 4808313\n",
      "16  uc_driver                           0x0000000103279389 uc_driver + 4952969\n",
      "17  uc_driver                           0x00000001032477d4 uc_driver + 4749268\n",
      "18  uc_driver                           0x0000000103298558 uc_driver + 5080408\n",
      "19  uc_driver                           0x0000000103298717 uc_driver + 5080855\n",
      "20  uc_driver                           0x00000001032a7e5e uc_driver + 5144158\n",
      "21  libsystem_pthread.dylib             0x00007ff800a7418b _pthread_start + 99\n",
      "22  libsystem_pthread.dylib             0x00007ff800a6fae3 thread_start + 15\n",
      "\n",
      "mode 1 undetectable=true gone\n"
     ]
    }
   ],
   "source": [
    "access_token = data.accesstoken('secrets.txt','test')"
   ]
  },
  {
   "cell_type": "code",
   "execution_count": 1,
   "metadata": {},
   "outputs": [],
   "source": [
    "from data import accesstoken"
   ]
  },
  {
   "cell_type": "code",
   "execution_count": 2,
   "metadata": {},
   "outputs": [
    {
     "name": "stdout",
     "output_type": "stream",
     "text": [
      "no neeed to validate :)\n",
      "auth_code obtained!\n",
      "200\n",
      "********************************************************************************\n",
      "success\n"
     ]
    }
   ],
   "source": [
    "access_token = accesstoken('secrets.txt','test')"
   ]
  },
  {
   "cell_type": "code",
   "execution_count": 16,
   "metadata": {},
   "outputs": [
    {
     "data": {
      "text/plain": [
       "'eyJ0eXAiOiJKV1QiLCJhbGciOiJIUzI1NiJ9.eyJpc3MiOiJhcGkuZnllcnMuaW4iLCJpYXQiOjE3MjM2NjQwNDIsImV4cCI6MTcyMzY4MTgwMiwibmJmIjoxNzIzNjY0MDQyLCJhdWQiOlsieDowIiwieDoxIiwieDoyIiwiZDoxIiwiZDoyIiwieDoxIiwieDowIl0sInN1YiI6ImFjY2Vzc190b2tlbiIsImF0X2hhc2giOiJnQUFBQUFCbXZRYXFyQUZGYTFUR0J4ejk0Yk9JT1piVUhwRzFELWFxd1IzOU43cXhHTHYzVHVVdV9tT2dIdjQwVVpmc0RheTNBcU82aEc5eWd2SUxQcWRmUlNtZ2NOeFFPTktqTFlncElaN0ZZdU9vWVNJSEFfQT0iLCJkaXNwbGF5X25hbWUiOiJNQUxMRVBBTExJIEdBSlVMQSBHVVJVIFNBSSBQUkFTQUQiLCJvbXMiOiJLMSIsImhzbV9rZXkiOiI2NjBiMzRjOGM5MGIwYjI3MzVmMDI5MzIzMTE2ZDc1NzRhZmEwMzlkNGY1NTI4NzU1ZDBlNGM4MiIsImZ5X2lkIjoiWU0wODkyNyIsImFwcFR5cGUiOjEwMCwicG9hX2ZsYWciOiJOIn0.u1in8eBkjGouQo4b4stSvZFneb4pXMJXeJJ1wcfsXq0'"
      ]
     },
     "execution_count": 16,
     "metadata": {},
     "output_type": "execute_result"
    }
   ],
   "source": [
    "access_token"
   ]
  },
  {
   "cell_type": "code",
   "execution_count": 12,
   "metadata": {},
   "outputs": [],
   "source": [
    "from wbsoc import Depth\n",
    "import Save"
   ]
  },
  {
   "cell_type": "code",
   "execution_count": 13,
   "metadata": {},
   "outputs": [
    {
     "name": "stdout",
     "output_type": "stream",
     "text": [
      "SBIN/1/NSE/Depth\n",
      "SBIN/1/BSE/Depth\n",
      "TATAMOTORS/1/NSE/Depth\n"
     ]
    }
   ],
   "source": [
    "test = Depth('lalal',['NSE:SBIN-EQ','BSE:SBIN-A','NSE:TATAMOTORS-EQ'],directory='./data',save_mode=Save.hdf5)"
   ]
  },
  {
   "cell_type": "code",
   "execution_count": 3,
   "metadata": {},
   "outputs": [],
   "source": [
    "import h5py as h"
   ]
  },
  {
   "cell_type": "code",
   "execution_count": 4,
   "metadata": {},
   "outputs": [
    {
     "name": "stdout",
     "output_type": "stream",
     "text": [
      "['bid_price1' 'bid_price2' 'bid_price3' 'bid_price4' 'bid_price5'\n",
      " 'bid_size1' 'bid_size2' 'bid_size3' 'bid_size4' 'bid_size5' 'bid_order1'\n",
      " 'bid_order2' 'bid_order3' 'bid_order4' 'bid_order5' 'ask_price1'\n",
      " 'ask_price2' 'ask_price3' 'ask_price4' 'ask_price5' 'ask_size1'\n",
      " 'ask_size2' 'ask_size3' 'ask_size4' 'ask_size5' 'ask_order1' 'ask_order2'\n",
      " 'ask_order3' 'ask_order4' 'ask_order5' 'time']\n",
      "[[15.]]\n"
     ]
    }
   ],
   "source": [
    "with h.File('./data/2024-08.h5','a') as f:\n",
    "    print(f['SBIN/1/NSE/Depth'].attrs['columns'])\n",
    "    print(f['master'][:])"
   ]
  },
  {
   "cell_type": "code",
   "execution_count": 5,
   "metadata": {},
   "outputs": [
    {
     "name": "stdout",
     "output_type": "stream",
     "text": [
      "<KeysViewHDF5 ['cols']>\n"
     ]
    }
   ],
   "source": [
    "with h.File('test.h5','a') as f:\n",
    "    f.create_dataset('hellos',shape=(1,1))\n",
    "    f['hellos'].attrs['cols'] = [1,2,3,4,5]\n",
    "    print(f['hellos'].attrs.keys())"
   ]
  },
  {
   "cell_type": "code",
   "execution_count": 17,
   "metadata": {},
   "outputs": [
    {
     "name": "stdout",
     "output_type": "stream",
     "text": [
      "[850.55, 850.5, 850.45, 850.4, 850.35, 850.95, 851.0, 851.05, 851.1, 851.15, 450, 681, 449, 940, 854, 403, 1077, 981, 549, 1024, 4, 5, 4, 14, 9, 6, 13, 6, 10, 9, 1723687310.678548]\n",
      "saved to:SBIN/1/NSE/Depth\n"
     ]
    }
   ],
   "source": [
    "test.save_mode.save_files({'bid_price1': 850.55, 'bid_price2': 850.5, 'bid_price3': 850.45, 'bid_price4': 850.4, 'bid_price5': 850.35, 'ask_price1': 850.95, 'ask_price2': 851.0, 'ask_price3': 851.05, 'ask_price4': 851.1, 'ask_price5': 851.15, 'bid_size1': 450, 'bid_size2': 681, 'bid_size3': 449, 'bid_size4': 940, 'bid_size5': 854, 'ask_size1': 403, 'ask_size2': 1077, 'ask_size3': 981, 'ask_size4': 549, 'ask_size5': 1024, 'bid_order1': 4, 'bid_order2': 5, 'bid_order3': 4, 'bid_order4': 14, 'bid_order5': 9, 'ask_order1': 6, 'ask_order2': 13, 'ask_order3': 6, 'ask_order4': 10, 'ask_order5': 9, 'type': 'dp', 'symbol': 'NSE:SBIN-EQ'})"
   ]
  },
  {
   "cell_type": "code",
   "execution_count": 8,
   "metadata": {},
   "outputs": [
    {
     "name": "stdout",
     "output_type": "stream",
     "text": [
      "[[8.5054999e+02 8.5050000e+02 8.5045001e+02 8.5040002e+02 8.5034998e+02\n",
      "  8.5095001e+02 8.5100000e+02 8.5104999e+02 8.5109998e+02 8.5115002e+02\n",
      "  4.5000000e+02 6.8100000e+02 4.4900000e+02 9.4000000e+02 8.5400000e+02\n",
      "  4.0300000e+02 1.0770000e+03 9.8100000e+02 5.4900000e+02 1.0240000e+03\n",
      "  4.0000000e+00 5.0000000e+00 4.0000000e+00 1.4000000e+01 9.0000000e+00\n",
      "  6.0000000e+00 1.3000000e+01 6.0000000e+00 1.0000000e+01 9.0000000e+00\n",
      "  1.7236852e+09]\n",
      " [8.5054999e+02 8.5050000e+02 8.5045001e+02 8.5040002e+02 8.5034998e+02\n",
      "  8.5095001e+02 8.5100000e+02 8.5104999e+02 8.5109998e+02 8.5115002e+02\n",
      "  4.5000000e+02 6.8100000e+02 4.4900000e+02 9.4000000e+02 8.5400000e+02\n",
      "  4.0300000e+02 1.0770000e+03 9.8100000e+02 5.4900000e+02 1.0240000e+03\n",
      "  4.0000000e+00 5.0000000e+00 4.0000000e+00 1.4000000e+01 9.0000000e+00\n",
      "  6.0000000e+00 1.3000000e+01 6.0000000e+00 1.0000000e+01 9.0000000e+00\n",
      "  1.7236852e+09]]\n"
     ]
    }
   ],
   "source": [
    "import pandas as pd\n",
    "with h.File('./data/2024-08.h5','a') as f:\n",
    "    print(f['SBIN/1/NSE/Depth'][:])\n",
    "    df = pd.DataFrame(data = f['SBIN/1/NSE/Depth'],columns = f['SBIN/1/NSE/Depth'].attrs['columns'])"
   ]
  },
  {
   "cell_type": "code",
   "execution_count": 10,
   "metadata": {},
   "outputs": [
    {
     "data": {
      "text/plain": [
       "30"
      ]
     },
     "execution_count": 10,
     "metadata": {},
     "output_type": "execute_result"
    }
   ],
   "source": [
    "len(['bid_price1','bid_price2', 'bid_price3' ,'bid_price4','bid_price5',\n",
    " 'bid_size1', 'bid_size2' ,'bid_size3' ,'bid_size4' ,'bid_size5', 'bid_order1',\n",
    " 'bid_order2', 'bid_order3', 'bid_order4', 'bid_order5' ,'ask_price1',\n",
    " 'ask_price2', 'ask_price3' ,'ask_price4', 'ask_price5' ,'ask_size1',\n",
    " 'ask_size2' ,'ask_size3', 'ask_size4' ,'ask_size5', 'ask_order1' ,'ask_order2',\n",
    " 'ask_order3' ,'ask_order4' ,'ask_order5'])"
   ]
  },
  {
   "cell_type": "code",
   "execution_count": 9,
   "metadata": {},
   "outputs": [
    {
     "data": {
      "text/html": [
       "<div>\n",
       "<style scoped>\n",
       "    .dataframe tbody tr th:only-of-type {\n",
       "        vertical-align: middle;\n",
       "    }\n",
       "\n",
       "    .dataframe tbody tr th {\n",
       "        vertical-align: top;\n",
       "    }\n",
       "\n",
       "    .dataframe thead th {\n",
       "        text-align: right;\n",
       "    }\n",
       "</style>\n",
       "<table border=\"1\" class=\"dataframe\">\n",
       "  <thead>\n",
       "    <tr style=\"text-align: right;\">\n",
       "      <th></th>\n",
       "      <th>bid_price1</th>\n",
       "      <th>bid_price2</th>\n",
       "      <th>bid_price3</th>\n",
       "      <th>bid_price4</th>\n",
       "      <th>bid_price5</th>\n",
       "      <th>bid_size1</th>\n",
       "      <th>bid_size2</th>\n",
       "      <th>bid_size3</th>\n",
       "      <th>bid_size4</th>\n",
       "      <th>bid_size5</th>\n",
       "      <th>...</th>\n",
       "      <th>ask_size2</th>\n",
       "      <th>ask_size3</th>\n",
       "      <th>ask_size4</th>\n",
       "      <th>ask_size5</th>\n",
       "      <th>ask_order1</th>\n",
       "      <th>ask_order2</th>\n",
       "      <th>ask_order3</th>\n",
       "      <th>ask_order4</th>\n",
       "      <th>ask_order5</th>\n",
       "      <th>time</th>\n",
       "    </tr>\n",
       "  </thead>\n",
       "  <tbody>\n",
       "    <tr>\n",
       "      <th>0</th>\n",
       "      <td>850.549988</td>\n",
       "      <td>850.5</td>\n",
       "      <td>850.450012</td>\n",
       "      <td>850.400024</td>\n",
       "      <td>850.349976</td>\n",
       "      <td>850.950012</td>\n",
       "      <td>851.0</td>\n",
       "      <td>851.049988</td>\n",
       "      <td>851.099976</td>\n",
       "      <td>851.150024</td>\n",
       "      <td>...</td>\n",
       "      <td>5.0</td>\n",
       "      <td>4.0</td>\n",
       "      <td>14.0</td>\n",
       "      <td>9.0</td>\n",
       "      <td>6.0</td>\n",
       "      <td>13.0</td>\n",
       "      <td>6.0</td>\n",
       "      <td>10.0</td>\n",
       "      <td>9.0</td>\n",
       "      <td>1.723685e+09</td>\n",
       "    </tr>\n",
       "    <tr>\n",
       "      <th>1</th>\n",
       "      <td>850.549988</td>\n",
       "      <td>850.5</td>\n",
       "      <td>850.450012</td>\n",
       "      <td>850.400024</td>\n",
       "      <td>850.349976</td>\n",
       "      <td>850.950012</td>\n",
       "      <td>851.0</td>\n",
       "      <td>851.049988</td>\n",
       "      <td>851.099976</td>\n",
       "      <td>851.150024</td>\n",
       "      <td>...</td>\n",
       "      <td>5.0</td>\n",
       "      <td>4.0</td>\n",
       "      <td>14.0</td>\n",
       "      <td>9.0</td>\n",
       "      <td>6.0</td>\n",
       "      <td>13.0</td>\n",
       "      <td>6.0</td>\n",
       "      <td>10.0</td>\n",
       "      <td>9.0</td>\n",
       "      <td>1.723685e+09</td>\n",
       "    </tr>\n",
       "  </tbody>\n",
       "</table>\n",
       "<p>2 rows × 31 columns</p>\n",
       "</div>"
      ],
      "text/plain": [
       "   bid_price1  bid_price2  bid_price3  bid_price4  bid_price5   bid_size1  \\\n",
       "0  850.549988       850.5  850.450012  850.400024  850.349976  850.950012   \n",
       "1  850.549988       850.5  850.450012  850.400024  850.349976  850.950012   \n",
       "\n",
       "   bid_size2   bid_size3   bid_size4   bid_size5  ...  ask_size2  ask_size3  \\\n",
       "0      851.0  851.049988  851.099976  851.150024  ...        5.0        4.0   \n",
       "1      851.0  851.049988  851.099976  851.150024  ...        5.0        4.0   \n",
       "\n",
       "   ask_size4  ask_size5  ask_order1  ask_order2  ask_order3  ask_order4  \\\n",
       "0       14.0        9.0         6.0        13.0         6.0        10.0   \n",
       "1       14.0        9.0         6.0        13.0         6.0        10.0   \n",
       "\n",
       "   ask_order5          time  \n",
       "0         9.0  1.723685e+09  \n",
       "1         9.0  1.723685e+09  \n",
       "\n",
       "[2 rows x 31 columns]"
      ]
     },
     "execution_count": 9,
     "metadata": {},
     "output_type": "execute_result"
    }
   ],
   "source": [
    "df"
   ]
  },
  {
   "cell_type": "markdown",
   "metadata": {},
   "source": [
    "# CHECK THIS DAY AFTER TOMORROW"
   ]
  },
  {
   "cell_type": "code",
   "execution_count": 1,
   "metadata": {},
   "outputs": [],
   "source": [
    "import data\n",
    "import Save"
   ]
  },
  {
   "cell_type": "code",
   "execution_count": 8,
   "metadata": {},
   "outputs": [
    {
     "name": "stdout",
     "output_type": "stream",
     "text": [
      "no neeed to validate :)\n",
      "auth_code obtained!\n",
      "200\n",
      "********************************************************************************\n",
      "success\n"
     ]
    }
   ],
   "source": [
    "access_token = data.accesstoken('secrets.txt','test')"
   ]
  },
  {
   "cell_type": "code",
   "execution_count": 11,
   "metadata": {},
   "outputs": [
    {
     "name": "stdout",
     "output_type": "stream",
     "text": [
      "processes initiated!\n",
      "\n",
      "\n",
      "\n",
      "\n",
      "\n",
      "\n",
      "\n"
     ]
    },
    {
     "name": "stderr",
     "output_type": "stream",
     "text": [
      "Process Process-8:\n",
      "Traceback (most recent call last):\n",
      "  File \"/opt/anaconda3/lib/python3.12/multiprocessing/process.py\", line 314, in _bootstrap\n",
      "    self.run()\n",
      "  File \"/opt/anaconda3/lib/python3.12/multiprocessing/process.py\", line 108, in run\n",
      "    self._target(*self._args, **self._kwargs)\n",
      "  File \"/Users/gurusai/programming/STONKS/data_retreival_v2/wbsoc.py\", line 103, in collect\n",
      "    symbol = Data_class(auth,stonks,save_mode=save_mode,directory=dir)\n",
      "             ^^^^^^^^^^^^^^^^^^^^^^^^^^^^^^^^^^^^^^^^^^^^^^^^^^^^^^^^^\n",
      "  File \"/Users/gurusai/programming/STONKS/data_retreival_v2/wbsoc.py\", line 99, in __init__\n",
      "    self.save_mode.initialise()\n",
      "  File \"/Users/gurusai/programming/STONKS/data_retreival_v2/Save.py\", line 98, in initialise\n",
      "    with h.File(file_name,'a') as f:\n",
      "         ^^^^^^^^^^^^^^^^^^^^^\n",
      "  File \"/Users/gurusai/programming/STONKS/data_retreival_v2/fyers_data_retreivalv2/lib/python3.12/site-packages/h5py/_hl/files.py\", line 562, in __init__\n",
      "    fid = make_fid(name, mode, userblock_size, fapl, fcpl, swmr=swmr)\n",
      "          ^^^^^^^^^^^^^^^^^^^^^^^^^^^^^^^^^^^^^^^^^^^^^^^^^^^^^^^^^^^\n",
      "  File \"/Users/gurusai/programming/STONKS/data_retreival_v2/fyers_data_retreivalv2/lib/python3.12/site-packages/h5py/_hl/files.py\", line 247, in make_fid\n",
      "    fid = h5f.open(name, h5f.ACC_RDWR, fapl=fapl)\n",
      "          ^^^^^^^^^^^^^^^^^^^^^^^^^^^^^^^^^^^^^^^\n",
      "  File \"h5py/_objects.pyx\", line 54, in h5py._objects.with_phil.wrapper\n",
      "  File \"h5py/_objects.pyx\", line 55, in h5py._objects.with_phil.wrapper\n",
      "  File \"h5py/h5f.pyx\", line 102, in h5py.h5f.open\n",
      "BlockingIOError: [Errno 35] Unable to open file (unable to lock file, errno = 35, error message = 'Resource temporarily unavailable')\n"
     ]
    },
    {
     "name": "stdout",
     "output_type": "stream",
     "text": [
      "Response: {'type': 'cn', 'code': 200, 'message': 'Authentication done', 's': 'ok'}\n",
      "connection opened\n",
      "Response: {'type': 'ful', 'code': 200, 'message': 'Full Mode On', 's': 'ok'}\n",
      "Response: {'type': 'sub', 'code': 200, 'message': 'Subscribed', 's': 'ok'}\n",
      "Response: {'bid_price1': 813.0, 'bid_price2': 812.95, 'bid_price3': 812.9, 'bid_price4': 812.85, 'bid_price5': 812.8, 'ask_price1': 813.05, 'ask_price2': 813.1, 'ask_price3': 813.15, 'ask_price4': 813.25, 'ask_price5': 813.3, 'bid_size1': 19046, 'bid_size2': 429, 'bid_size3': 531, 'bid_size4': 1761, 'bid_size5': 4196, 'ask_size1': 19, 'ask_size2': 1, 'ask_size3': 239, 'ask_size4': 1023, 'ask_size5': 1190, 'bid_order1': 39, 'bid_order2': 5, 'bid_order3': 7, 'bid_order4': 7, 'bid_order5': 18, 'ask_order1': 1, 'ask_order2': 1, 'ask_order3': 4, 'ask_order4': 7, 'ask_order5': 5, 'type': 'dp', 'symbol': 'NSE:SBIN-EQ'}\n",
      "[813.0, 812.95, 812.9, 812.85, 812.8, 813.05, 813.1, 813.15, 813.25, 813.3, 19046, 429, 531, 1761, 4196, 19, 1, 239, 1023, 1190, 39, 5, 7, 7, 18, 1, 1, 4, 7, 5, 1723817898.237738]\n",
      "saved to:SBIN/1/NSE/Depth\n",
      "Response: {'bid_price1': 812.85, 'bid_price2': 812.8, 'bid_price3': 812.75, 'bid_price4': 812.7, 'bid_price5': 812.65, 'ask_price1': 813.0, 'ask_price2': 813.05, 'ask_price3': 813.2, 'ask_price4': 813.25, 'ask_price5': 813.3, 'bid_size1': 2, 'bid_size2': 1, 'bid_size3': 2, 'bid_size4': 149, 'bid_size5': 225, 'ask_size1': 7, 'ask_size2': 336, 'ask_size3': 319, 'ask_size4': 164, 'ask_size5': 395, 'bid_order1': 1, 'bid_order2': 1, 'bid_order3': 1, 'bid_order4': 3, 'bid_order5': 6, 'ask_order1': 1, 'ask_order2': 2, 'ask_order3': 4, 'ask_order4': 3, 'ask_order5': 9, 'type': 'dp', 'symbol': 'BSE:SBIN-A'}\n",
      "[812.85, 812.8, 812.75, 812.7, 812.65, 813.0, 813.05, 813.2, 813.25, 813.3, 2, 1, 2, 149, 225, 7, 336, 319, 164, 395, 1, 1, 1, 3, 6, 1, 2, 4, 3, 9, 1723817898.24295]\n",
      "saved to:SBIN/1/BSE/Depth\n",
      "Response: {'bid_price1': 1088.95, 'bid_price2': 1088.9, 'bid_price3': 1088.85, 'bid_price4': 1088.8, 'bid_price5': 1088.75, 'ask_price1': 1089.0, 'ask_price2': 1089.1, 'ask_price3': 1089.15, 'ask_price4': 1089.2, 'ask_price5': 1089.25, 'bid_size1': 102, 'bid_size2': 137, 'bid_size3': 110, 'bid_size4': 158, 'bid_size5': 925, 'ask_size1': 810, 'ask_size2': 509, 'ask_size3': 44, 'ask_size4': 539, 'ask_size5': 180, 'bid_order1': 7, 'bid_order2': 4, 'bid_order3': 5, 'bid_order4': 4, 'bid_order5': 8, 'ask_order1': 8, 'ask_order2': 4, 'ask_order3': 1, 'ask_order4': 4, 'ask_order5': 2, 'type': 'dp', 'symbol': 'NSE:TATAMOTORS-EQ'}\n",
      "[1088.95, 1088.9, 1088.85, 1088.8, 1088.75, 1089.0, 1089.1, 1089.15, 1089.2, 1089.25, 102, 137, 110, 158, 925, 810, 509, 44, 539, 180, 7, 4, 5, 4, 8, 8, 4, 1, 4, 2, 1723817898.24464]\n",
      "saved to:TATAMOTORS/1/NSE/Depth\n",
      "Response: {'bid_price1': 813.1, 'bid_price2': 813.0, 'bid_price3': 812.95, 'bid_price4': 812.9, 'bid_price5': 812.85, 'ask_price1': 813.15, 'ask_price2': 813.25, 'ask_price3': 813.3, 'ask_price4': 813.35, 'ask_price5': 813.4, 'bid_size1': 65, 'bid_size2': 19344, 'bid_size3': 1417, 'bid_size4': 1247, 'bid_size5': 1695, 'ask_size1': 239, 'ask_size2': 156, 'ask_size3': 117, 'ask_size4': 938, 'ask_size5': 643, 'bid_order1': 4, 'bid_order2': 41, 'bid_order3': 11, 'bid_order4': 10, 'bid_order5': 8, 'ask_order1': 4, 'ask_order2': 2, 'ask_order3': 1, 'ask_order4': 7, 'ask_order5': 5, 'type': 'dp', 'symbol': 'NSE:SBIN-EQ'}\n",
      "[813.1, 813.0, 812.95, 812.9, 812.85, 813.15, 813.25, 813.3, 813.35, 813.4, 65, 19344, 1417, 1247, 1695, 239, 156, 117, 938, 643, 4, 41, 11, 10, 8, 4, 2, 1, 7, 5, 1723817898.419459]\n",
      "saved to:SBIN/1/NSE/Depth\n",
      "Response: {'bid_price1': 1088.95, 'bid_price2': 1088.9, 'bid_price3': 1088.85, 'bid_price4': 1088.8, 'bid_price5': 1088.75, 'ask_price1': 1089.0, 'ask_price2': 1089.1, 'ask_price3': 1089.15, 'ask_price4': 1089.2, 'ask_price5': 1089.25, 'bid_size1': 102, 'bid_size2': 137, 'bid_size3': 110, 'bid_size4': 158, 'bid_size5': 753, 'ask_size1': 815, 'ask_size2': 509, 'ask_size3': 44, 'ask_size4': 539, 'ask_size5': 180, 'bid_order1': 8, 'bid_order2': 4, 'bid_order3': 5, 'bid_order4': 4, 'bid_order5': 7, 'ask_order1': 9, 'ask_order2': 4, 'ask_order3': 1, 'ask_order4': 4, 'ask_order5': 2, 'type': 'dp', 'symbol': 'NSE:TATAMOTORS-EQ'}\n",
      "[1088.95, 1088.9, 1088.85, 1088.8, 1088.75, 1089.0, 1089.1, 1089.15, 1089.2, 1089.25, 102, 137, 110, 158, 753, 815, 509, 44, 539, 180, 8, 4, 5, 4, 7, 9, 4, 1, 4, 2, 1723817898.420689]\n",
      "saved to:TATAMOTORS/1/NSE/Depth\n",
      "Response: {'bid_price1': 813.1, 'bid_price2': 813.0, 'bid_price3': 812.95, 'bid_price4': 812.9, 'bid_price5': 812.85, 'ask_price1': 813.15, 'ask_price2': 813.25, 'ask_price3': 813.3, 'ask_price4': 813.35, 'ask_price5': 813.4, 'bid_size1': 65, 'bid_size2': 19474, 'bid_size3': 1287, 'bid_size4': 1556, 'bid_size5': 1695, 'ask_size1': 238, 'ask_size2': 156, 'ask_size3': 117, 'ask_size4': 938, 'ask_size5': 643, 'bid_order1': 4, 'bid_order2': 42, 'bid_order3': 10, 'bid_order4': 11, 'bid_order5': 8, 'ask_order1': 4, 'ask_order2': 2, 'ask_order3': 1, 'ask_order4': 7, 'ask_order5': 5, 'type': 'dp', 'symbol': 'NSE:SBIN-EQ'}\n",
      "[813.1, 813.0, 812.95, 812.9, 812.85, 813.15, 813.25, 813.3, 813.35, 813.4, 65, 19474, 1287, 1556, 1695, 238, 156, 117, 938, 643, 4, 42, 10, 11, 8, 4, 2, 1, 7, 5, 1723817898.961744]\n",
      "saved to:SBIN/1/NSE/Depth\n",
      "Response: {'bid_price1': 1088.95, 'bid_price2': 1088.9, 'bid_price3': 1088.85, 'bid_price4': 1088.8, 'bid_price5': 1088.75, 'ask_price1': 1089.0, 'ask_price2': 1089.1, 'ask_price3': 1089.15, 'ask_price4': 1089.2, 'ask_price5': 1089.25, 'bid_size1': 102, 'bid_size2': 137, 'bid_size3': 110, 'bid_size4': 158, 'bid_size5': 753, 'ask_size1': 799, 'ask_size2': 509, 'ask_size3': 44, 'ask_size4': 539, 'ask_size5': 180, 'bid_order1': 8, 'bid_order2': 4, 'bid_order3': 5, 'bid_order4': 4, 'bid_order5': 7, 'ask_order1': 9, 'ask_order2': 4, 'ask_order3': 1, 'ask_order4': 4, 'ask_order5': 2, 'type': 'dp', 'symbol': 'NSE:TATAMOTORS-EQ'}\n",
      "[1088.95, 1088.9, 1088.85, 1088.8, 1088.75, 1089.0, 1089.1, 1089.15, 1089.2, 1089.25, 102, 137, 110, 158, 753, 799, 509, 44, 539, 180, 8, 4, 5, 4, 7, 9, 4, 1, 4, 2, 1723817898.963662]\n",
      "saved to:TATAMOTORS/1/NSE/Depth\n",
      "Response: {'bid_price1': 812.85, 'bid_price2': 812.8, 'bid_price3': 812.75, 'bid_price4': 812.7, 'bid_price5': 812.65, 'ask_price1': 813.0, 'ask_price2': 813.1, 'ask_price3': 813.2, 'ask_price4': 813.25, 'ask_price5': 813.3, 'bid_size1': 2, 'bid_size2': 178, 'bid_size3': 23, 'bid_size4': 820, 'bid_size5': 1160, 'ask_size1': 7, 'ask_size2': 336, 'ask_size3': 122, 'ask_size4': 164, 'ask_size5': 523, 'bid_order1': 1, 'bid_order2': 3, 'bid_order3': 2, 'bid_order4': 6, 'bid_order5': 7, 'ask_order1': 1, 'ask_order2': 2, 'ask_order3': 2, 'ask_order4': 3, 'ask_order5': 7, 'type': 'dp', 'symbol': 'BSE:SBIN-A'}\n",
      "[812.85, 812.8, 812.75, 812.7, 812.65, 813.0, 813.1, 813.2, 813.25, 813.3, 2, 178, 23, 820, 1160, 7, 336, 122, 164, 523, 1, 3, 2, 6, 7, 1, 2, 2, 3, 7, 1723817899.022052]\n",
      "saved to:SBIN/1/BSE/Depth\n",
      "Response: {'bid_price1': 812.85, 'bid_price2': 812.8, 'bid_price3': 812.75, 'bid_price4': 812.7, 'bid_price5': 812.65, 'ask_price1': 813.0, 'ask_price2': 813.1, 'ask_price3': 813.2, 'ask_price4': 813.25, 'ask_price5': 813.3, 'bid_size1': 2, 'bid_size2': 178, 'bid_size3': 23, 'bid_size4': 295, 'bid_size5': 650, 'ask_size1': 7, 'ask_size2': 336, 'ask_size3': 314, 'ask_size4': 164, 'ask_size5': 336, 'bid_order1': 1, 'bid_order2': 3, 'bid_order3': 2, 'bid_order4': 4, 'bid_order5': 6, 'ask_order1': 1, 'ask_order2': 2, 'ask_order3': 3, 'ask_order4': 3, 'ask_order5': 7, 'type': 'dp', 'symbol': 'BSE:SBIN-A'}\n",
      "[812.85, 812.8, 812.75, 812.7, 812.65, 813.0, 813.1, 813.2, 813.25, 813.3, 2, 178, 23, 295, 650, 7, 336, 314, 164, 336, 1, 3, 2, 4, 6, 1, 2, 3, 3, 7, 1723817899.543892]\n",
      "saved to:SBIN/1/BSE/Depth\n",
      "Response: {'bid_price1': 813.0, 'bid_price2': 812.95, 'bid_price3': 812.9, 'bid_price4': 812.85, 'bid_price5': 812.8, 'ask_price1': 813.15, 'ask_price2': 813.25, 'ask_price3': 813.3, 'ask_price4': 813.35, 'ask_price5': 813.4, 'bid_size1': 18979, 'bid_size2': 1359, 'bid_size3': 1719, 'bid_size4': 1695, 'bid_size5': 4514, 'ask_size1': 217, 'ask_size2': 405, 'ask_size3': 479, 'ask_size4': 1053, 'ask_size5': 613, 'bid_order1': 40, 'bid_order2': 10, 'bid_order3': 13, 'bid_order4': 8, 'bid_order5': 21, 'ask_order1': 4, 'ask_order2': 3, 'ask_order3': 3, 'ask_order4': 7, 'ask_order5': 3, 'type': 'dp', 'symbol': 'NSE:SBIN-EQ'}\n",
      "[813.0, 812.95, 812.9, 812.85, 812.8, 813.15, 813.25, 813.3, 813.35, 813.4, 18979, 1359, 1719, 1695, 4514, 217, 405, 479, 1053, 613, 40, 10, 13, 8, 21, 4, 3, 3, 7, 3, 1723817899.60706]\n",
      "saved to:SBIN/1/NSE/Depth\n",
      "Response: {'bid_price1': 1088.95, 'bid_price2': 1088.9, 'bid_price3': 1088.85, 'bid_price4': 1088.8, 'bid_price5': 1088.75, 'ask_price1': 1089.0, 'ask_price2': 1089.1, 'ask_price3': 1089.15, 'ask_price4': 1089.2, 'ask_price5': 1089.25, 'bid_size1': 229, 'bid_size2': 137, 'bid_size3': 110, 'bid_size4': 117, 'bid_size5': 927, 'ask_size1': 751, 'ask_size2': 509, 'ask_size3': 44, 'ask_size4': 539, 'ask_size5': 180, 'bid_order1': 8, 'bid_order2': 4, 'bid_order3': 5, 'bid_order4': 3, 'bid_order5': 8, 'ask_order1': 9, 'ask_order2': 4, 'ask_order3': 1, 'ask_order4': 4, 'ask_order5': 2, 'type': 'dp', 'symbol': 'NSE:TATAMOTORS-EQ'}\n",
      "[1088.95, 1088.9, 1088.85, 1088.8, 1088.75, 1089.0, 1089.1, 1089.15, 1089.2, 1089.25, 229, 137, 110, 117, 927, 751, 509, 44, 539, 180, 8, 4, 5, 3, 8, 9, 4, 1, 4, 2, 1723817899.608104]\n",
      "saved to:TATAMOTORS/1/NSE/Depth\n",
      "Response: {'bid_price1': 813.0, 'bid_price2': 812.95, 'bid_price3': 812.9, 'bid_price4': 812.85, 'bid_price5': 812.8, 'ask_price1': 813.15, 'ask_price2': 813.25, 'ask_price3': 813.3, 'ask_price4': 813.35, 'ask_price5': 813.4, 'bid_size1': 18979, 'bid_size2': 1359, 'bid_size3': 1719, 'bid_size4': 1637, 'bid_size5': 4453, 'ask_size1': 217, 'ask_size2': 903, 'ask_size3': 479, 'ask_size4': 1053, 'ask_size5': 613, 'bid_order1': 40, 'bid_order2': 10, 'bid_order3': 13, 'bid_order4': 7, 'bid_order5': 20, 'ask_order1': 4, 'ask_order2': 4, 'ask_order3': 3, 'ask_order4': 7, 'ask_order5': 3, 'type': 'dp', 'symbol': 'NSE:SBIN-EQ'}\n",
      "[813.0, 812.95, 812.9, 812.85, 812.8, 813.15, 813.25, 813.3, 813.35, 813.4, 18979, 1359, 1719, 1637, 4453, 217, 903, 479, 1053, 613, 40, 10, 13, 7, 20, 4, 4, 3, 7, 3, 1723817900.023173]\n",
      "saved to:SBIN/1/NSE/Depth\n",
      "Response: {'bid_price1': 812.8, 'bid_price2': 812.75, 'bid_price3': 812.7, 'bid_price4': 812.65, 'bid_price5': 812.6, 'ask_price1': 813.0, 'ask_price2': 813.15, 'ask_price3': 813.2, 'ask_price4': 813.25, 'ask_price5': 813.3, 'bid_size1': 49, 'bid_size2': 127, 'bid_size3': 149, 'bid_size4': 893, 'bid_size5': 2646, 'ask_size1': 7, 'ask_size2': 336, 'ask_size3': 314, 'ask_size4': 164, 'ask_size5': 369, 'bid_order1': 1, 'bid_order2': 2, 'bid_order3': 3, 'bid_order4': 8, 'bid_order5': 11, 'ask_order1': 1, 'ask_order2': 2, 'ask_order3': 3, 'ask_order4': 3, 'ask_order5': 8, 'type': 'dp', 'symbol': 'BSE:SBIN-A'}\n",
      "[812.8, 812.75, 812.7, 812.65, 812.6, 813.0, 813.15, 813.2, 813.25, 813.3, 49, 127, 149, 893, 2646, 7, 336, 314, 164, 369, 1, 2, 3, 8, 11, 1, 2, 3, 3, 8, 1723817900.338595]\n",
      "saved to:SBIN/1/BSE/Depth\n",
      "Response: {'bid_price1': 1088.95, 'bid_price2': 1088.9, 'bid_price3': 1088.85, 'bid_price4': 1088.8, 'bid_price5': 1088.75, 'ask_price1': 1089.0, 'ask_price2': 1089.1, 'ask_price3': 1089.15, 'ask_price4': 1089.2, 'ask_price5': 1089.25, 'bid_size1': 250, 'bid_size2': 137, 'bid_size3': 110, 'bid_size4': 133, 'bid_size5': 927, 'ask_size1': 724, 'ask_size2': 509, 'ask_size3': 544, 'ask_size4': 539, 'ask_size5': 180, 'bid_order1': 11, 'bid_order2': 4, 'bid_order3': 5, 'bid_order4': 4, 'bid_order5': 8, 'ask_order1': 9, 'ask_order2': 4, 'ask_order3': 2, 'ask_order4': 4, 'ask_order5': 2, 'type': 'dp', 'symbol': 'NSE:TATAMOTORS-EQ'}\n",
      "[1088.95, 1088.9, 1088.85, 1088.8, 1088.75, 1089.0, 1089.1, 1089.15, 1089.2, 1089.25, 250, 137, 110, 133, 927, 724, 509, 544, 539, 180, 11, 4, 5, 4, 8, 9, 4, 2, 4, 2, 1723817900.339487]\n",
      "saved to:TATAMOTORS/1/NSE/Depth\n",
      "Response: {'bid_price1': 813.0, 'bid_price2': 812.95, 'bid_price3': 812.9, 'bid_price4': 812.85, 'bid_price5': 812.8, 'ask_price1': 813.05, 'ask_price2': 813.15, 'ask_price3': 813.25, 'ask_price4': 813.3, 'ask_price5': 813.35, 'bid_size1': 18983, 'bid_size2': 488, 'bid_size3': 1530, 'bid_size4': 1961, 'bid_size5': 4798, 'ask_size1': 1, 'ask_size2': 216, 'ask_size3': 772, 'ask_size4': 854, 'ask_size5': 1548, 'bid_order1': 41, 'bid_order2': 6, 'bid_order3': 12, 'bid_order4': 10, 'bid_order5': 21, 'ask_order1': 1, 'ask_order2': 4, 'ask_order3': 6, 'ask_order4': 4, 'ask_order5': 11, 'type': 'dp', 'symbol': 'NSE:SBIN-EQ'}\n",
      "[813.0, 812.95, 812.9, 812.85, 812.8, 813.05, 813.15, 813.25, 813.3, 813.35, 18983, 488, 1530, 1961, 4798, 1, 216, 772, 854, 1548, 41, 6, 12, 10, 21, 1, 4, 6, 4, 11, 1723817900.944555]\n",
      "saved to:SBIN/1/NSE/Depth\n",
      "Response: {'bid_price1': 812.75, 'bid_price2': 812.7, 'bid_price3': 812.65, 'bid_price4': 812.6, 'bid_price5': 812.55, 'ask_price1': 813.0, 'ask_price2': 813.2, 'ask_price3': 813.25, 'ask_price4': 813.3, 'ask_price5': 813.35, 'bid_size1': 127, 'bid_size2': 277, 'bid_size3': 371, 'bid_size4': 2038, 'bid_size5': 1155, 'ask_size1': 7, 'ask_size2': 650, 'ask_size3': 164, 'ask_size4': 369, 'ask_size5': 782, 'bid_order1': 2, 'bid_order2': 4, 'bid_order3': 7, 'bid_order4': 9, 'bid_order5': 4, 'ask_order1': 1, 'ask_order2': 5, 'ask_order3': 3, 'ask_order4': 8, 'ask_order5': 4, 'type': 'dp', 'symbol': 'BSE:SBIN-A'}\n",
      "[812.75, 812.7, 812.65, 812.6, 812.55, 813.0, 813.2, 813.25, 813.3, 813.35, 127, 277, 371, 2038, 1155, 7, 650, 164, 369, 782, 2, 4, 7, 9, 4, 1, 5, 3, 8, 4, 1723817900.946413]\n",
      "saved to:SBIN/1/BSE/Depth\n",
      "Response: {'bid_price1': 1088.95, 'bid_price2': 1088.9, 'bid_price3': 1088.85, 'bid_price4': 1088.8, 'bid_price5': 1088.75, 'ask_price1': 1089.0, 'ask_price2': 1089.1, 'ask_price3': 1089.15, 'ask_price4': 1089.2, 'ask_price5': 1089.25, 'bid_size1': 250, 'bid_size2': 137, 'bid_size3': 110, 'bid_size4': 117, 'bid_size5': 927, 'ask_size1': 724, 'ask_size2': 509, 'ask_size3': 544, 'ask_size4': 539, 'ask_size5': 180, 'bid_order1': 11, 'bid_order2': 4, 'bid_order3': 5, 'bid_order4': 3, 'bid_order5': 8, 'ask_order1': 9, 'ask_order2': 4, 'ask_order3': 2, 'ask_order4': 4, 'ask_order5': 2, 'type': 'dp', 'symbol': 'NSE:TATAMOTORS-EQ'}\n",
      "[1088.95, 1088.9, 1088.85, 1088.8, 1088.75, 1089.0, 1089.1, 1089.15, 1089.2, 1089.25, 250, 137, 110, 117, 927, 724, 509, 544, 539, 180, 11, 4, 5, 3, 8, 9, 4, 2, 4, 2, 1723817900.94729]\n",
      "saved to:TATAMOTORS/1/NSE/Depth\n",
      "Response: {'bid_price1': 1088.95, 'bid_price2': 1088.9, 'bid_price3': 1088.85, 'bid_price4': 1088.8, 'bid_price5': 1088.75, 'ask_price1': 1089.0, 'ask_price2': 1089.1, 'ask_price3': 1089.15, 'ask_price4': 1089.2, 'ask_price5': 1089.25, 'bid_size1': 249, 'bid_size2': 137, 'bid_size3': 110, 'bid_size4': 158, 'bid_size5': 927, 'ask_size1': 718, 'ask_size2': 509, 'ask_size3': 546, 'ask_size4': 539, 'ask_size5': 180, 'bid_order1': 11, 'bid_order2': 4, 'bid_order3': 5, 'bid_order4': 4, 'bid_order5': 8, 'ask_order1': 8, 'ask_order2': 4, 'ask_order3': 3, 'ask_order4': 4, 'ask_order5': 2, 'type': 'dp', 'symbol': 'NSE:TATAMOTORS-EQ'}\n",
      "[1088.95, 1088.9, 1088.85, 1088.8, 1088.75, 1089.0, 1089.1, 1089.15, 1089.2, 1089.25, 249, 137, 110, 158, 927, 718, 509, 546, 539, 180, 11, 4, 5, 4, 8, 8, 4, 3, 4, 2, 1723817901.338621]\n",
      "saved to:TATAMOTORS/1/NSE/Depth\n",
      "Response: {'bid_price1': 812.75, 'bid_price2': 812.7, 'bid_price3': 812.65, 'bid_price4': 812.6, 'bid_price5': 812.55, 'ask_price1': 813.0, 'ask_price2': 813.2, 'ask_price3': 813.25, 'ask_price4': 813.3, 'ask_price5': 813.35, 'bid_size1': 127, 'bid_size2': 277, 'bid_size3': 371, 'bid_size4': 2136, 'bid_size5': 1155, 'ask_size1': 7, 'ask_size2': 650, 'ask_size3': 164, 'ask_size4': 369, 'ask_size5': 782, 'bid_order1': 2, 'bid_order2': 4, 'bid_order3': 7, 'bid_order4': 10, 'bid_order5': 4, 'ask_order1': 1, 'ask_order2': 5, 'ask_order3': 3, 'ask_order4': 8, 'ask_order5': 4, 'type': 'dp', 'symbol': 'BSE:SBIN-A'}\n",
      "[812.75, 812.7, 812.65, 812.6, 812.55, 813.0, 813.2, 813.25, 813.3, 813.35, 127, 277, 371, 2136, 1155, 7, 650, 164, 369, 782, 2, 4, 7, 10, 4, 1, 5, 3, 8, 4, 1723817901.512333]\n",
      "saved to:SBIN/1/BSE/Depth\n",
      "Response: {'bid_price1': 812.75, 'bid_price2': 812.7, 'bid_price3': 812.65, 'bid_price4': 812.6, 'bid_price5': 812.55, 'ask_price1': 813.0, 'ask_price2': 813.15, 'ask_price3': 813.2, 'ask_price4': 813.25, 'ask_price5': 813.3, 'bid_size1': 127, 'bid_size2': 277, 'bid_size3': 371, 'bid_size4': 2038, 'bid_size5': 1155, 'ask_size1': 7, 'ask_size2': 336, 'ask_size3': 314, 'ask_size4': 164, 'ask_size5': 369, 'bid_order1': 2, 'bid_order2': 4, 'bid_order3': 7, 'bid_order4': 9, 'bid_order5': 4, 'ask_order1': 1, 'ask_order2': 2, 'ask_order3': 3, 'ask_order4': 3, 'ask_order5': 8, 'type': 'dp', 'symbol': 'BSE:SBIN-A'}\n",
      "[812.75, 812.7, 812.65, 812.6, 812.55, 813.0, 813.15, 813.2, 813.25, 813.3, 127, 277, 371, 2038, 1155, 7, 336, 314, 164, 369, 2, 4, 7, 9, 4, 1, 2, 3, 3, 8, 1723817901.981919]\n",
      "saved to:SBIN/1/BSE/Depth\n",
      "Response: {'bid_price1': 813.0, 'bid_price2': 812.95, 'bid_price3': 812.9, 'bid_price4': 812.85, 'bid_price5': 812.8, 'ask_price1': 813.15, 'ask_price2': 813.25, 'ask_price3': 813.3, 'ask_price4': 813.35, 'ask_price5': 813.4, 'bid_size1': 18908, 'bid_size2': 488, 'bid_size3': 1454, 'bid_size4': 2037, 'bid_size5': 4798, 'ask_size1': 201, 'ask_size2': 540, 'ask_size3': 854, 'ask_size4': 1592, 'ask_size5': 643, 'bid_order1': 41, 'bid_order2': 6, 'bid_order3': 11, 'bid_order4': 11, 'bid_order5': 21, 'ask_order1': 3, 'ask_order2': 5, 'ask_order3': 4, 'ask_order4': 12, 'ask_order5': 4, 'type': 'dp', 'symbol': 'NSE:SBIN-EQ'}\n",
      "[813.0, 812.95, 812.9, 812.85, 812.8, 813.15, 813.25, 813.3, 813.35, 813.4, 18908, 488, 1454, 2037, 4798, 201, 540, 854, 1592, 643, 41, 6, 11, 11, 21, 3, 5, 4, 12, 4, 1723817902.052181]\n",
      "saved to:SBIN/1/NSE/Depth\n",
      "Response: {'bid_price1': 813.0, 'bid_price2': 812.95, 'bid_price3': 812.9, 'bid_price4': 812.85, 'bid_price5': 812.8, 'ask_price1': 813.15, 'ask_price2': 813.25, 'ask_price3': 813.3, 'ask_price4': 813.35, 'ask_price5': 813.4, 'bid_size1': 18908, 'bid_size2': 488, 'bid_size3': 1454, 'bid_size4': 2037, 'bid_size5': 4798, 'ask_size1': 198, 'ask_size2': 540, 'ask_size3': 854, 'ask_size4': 1592, 'ask_size5': 643, 'bid_order1': 41, 'bid_order2': 6, 'bid_order3': 11, 'bid_order4': 11, 'bid_order5': 21, 'ask_order1': 3, 'ask_order2': 5, 'ask_order3': 4, 'ask_order4': 12, 'ask_order5': 4, 'type': 'dp', 'symbol': 'NSE:SBIN-EQ'}\n",
      "[813.0, 812.95, 812.9, 812.85, 812.8, 813.15, 813.25, 813.3, 813.35, 813.4, 18908, 488, 1454, 2037, 4798, 198, 540, 854, 1592, 643, 41, 6, 11, 11, 21, 3, 5, 4, 12, 4, 1723817902.648138]\n",
      "saved to:SBIN/1/NSE/Depth\n",
      "Response: {'bid_price1': 1088.95, 'bid_price2': 1088.9, 'bid_price3': 1088.85, 'bid_price4': 1088.8, 'bid_price5': 1088.75, 'ask_price1': 1089.0, 'ask_price2': 1089.1, 'ask_price3': 1089.15, 'ask_price4': 1089.2, 'ask_price5': 1089.25, 'bid_size1': 239, 'bid_size2': 137, 'bid_size3': 110, 'bid_size4': 158, 'bid_size5': 927, 'ask_size1': 680, 'ask_size2': 511, 'ask_size3': 546, 'ask_size4': 539, 'ask_size5': 180, 'bid_order1': 10, 'bid_order2': 4, 'bid_order3': 5, 'bid_order4': 4, 'bid_order5': 8, 'ask_order1': 8, 'ask_order2': 5, 'ask_order3': 3, 'ask_order4': 4, 'ask_order5': 2, 'type': 'dp', 'symbol': 'NSE:TATAMOTORS-EQ'}\n",
      "[1088.95, 1088.9, 1088.85, 1088.8, 1088.75, 1089.0, 1089.1, 1089.15, 1089.2, 1089.25, 239, 137, 110, 158, 927, 680, 511, 546, 539, 180, 10, 4, 5, 4, 8, 8, 5, 3, 4, 2, 1723817902.650211]\n",
      "saved to:TATAMOTORS/1/NSE/Depth\n",
      "Response: {'bid_price1': 812.75, 'bid_price2': 812.7, 'bid_price3': 812.65, 'bid_price4': 812.6, 'bid_price5': 812.55, 'ask_price1': 813.0, 'ask_price2': 813.2, 'ask_price3': 813.25, 'ask_price4': 813.3, 'ask_price5': 813.35, 'bid_size1': 127, 'bid_size2': 799, 'bid_size3': 1306, 'bid_size4': 2753, 'bid_size5': 523, 'ask_size1': 7, 'ask_size2': 122, 'ask_size3': 356, 'ask_size4': 705, 'ask_size5': 782, 'bid_order1': 2, 'bid_order2': 5, 'bid_order3': 8, 'bid_order4': 11, 'bid_order5': 2, 'ask_order1': 1, 'ask_order2': 2, 'ask_order3': 4, 'ask_order4': 10, 'ask_order5': 4, 'type': 'dp', 'symbol': 'BSE:SBIN-A'}\n",
      "[812.75, 812.7, 812.65, 812.6, 812.55, 813.0, 813.2, 813.25, 813.3, 813.35, 127, 799, 1306, 2753, 523, 7, 122, 356, 705, 782, 2, 5, 8, 11, 2, 1, 2, 4, 10, 4, 1723817902.70991]\n",
      "saved to:SBIN/1/BSE/Depth\n",
      "Response: {'bid_price1': 813.0, 'bid_price2': 812.95, 'bid_price3': 812.9, 'bid_price4': 812.85, 'bid_price5': 812.8, 'ask_price1': 813.05, 'ask_price2': 813.15, 'ask_price3': 813.2, 'ask_price4': 813.25, 'ask_price5': 813.3, 'bid_size1': 18449, 'bid_size2': 733, 'bid_size3': 1714, 'bid_size4': 1777, 'bid_size5': 4842, 'ask_size1': 5, 'ask_size2': 174, 'ask_size3': 25, 'ask_size4': 540, 'ask_size5': 609, 'bid_order1': 42, 'bid_order2': 7, 'bid_order3': 12, 'bid_order4': 10, 'bid_order5': 22, 'ask_order1': 1, 'ask_order2': 3, 'ask_order3': 1, 'ask_order4': 5, 'ask_order5': 3, 'type': 'dp', 'symbol': 'NSE:SBIN-EQ'}\n",
      "[813.0, 812.95, 812.9, 812.85, 812.8, 813.05, 813.15, 813.2, 813.25, 813.3, 18449, 733, 1714, 1777, 4842, 5, 174, 25, 540, 609, 42, 7, 12, 10, 22, 1, 3, 1, 5, 3, 1723817902.821884]\n",
      "saved to:SBIN/1/NSE/Depth\n",
      "Response: {'bid_price1': 1088.95, 'bid_price2': 1088.9, 'bid_price3': 1088.85, 'bid_price4': 1088.8, 'bid_price5': 1088.75, 'ask_price1': 1089.0, 'ask_price2': 1089.1, 'ask_price3': 1089.15, 'ask_price4': 1089.2, 'ask_price5': 1089.25, 'bid_size1': 239, 'bid_size2': 137, 'bid_size3': 110, 'bid_size4': 158, 'bid_size5': 927, 'ask_size1': 679, 'ask_size2': 511, 'ask_size3': 546, 'ask_size4': 539, 'ask_size5': 180, 'bid_order1': 10, 'bid_order2': 4, 'bid_order3': 5, 'bid_order4': 4, 'bid_order5': 8, 'ask_order1': 8, 'ask_order2': 5, 'ask_order3': 3, 'ask_order4': 4, 'ask_order5': 2, 'type': 'dp', 'symbol': 'NSE:TATAMOTORS-EQ'}\n",
      "[1088.95, 1088.9, 1088.85, 1088.8, 1088.75, 1089.0, 1089.1, 1089.15, 1089.2, 1089.25, 239, 137, 110, 158, 927, 679, 511, 546, 539, 180, 10, 4, 5, 4, 8, 8, 5, 3, 4, 2, 1723817902.824276]\n",
      "saved to:TATAMOTORS/1/NSE/Depth\n",
      "Response: {'bid_price1': 812.75, 'bid_price2': 812.7, 'bid_price3': 812.65, 'bid_price4': 812.6, 'bid_price5': 812.55, 'ask_price1': 813.2, 'ask_price2': 813.25, 'ask_price3': 813.3, 'ask_price4': 813.35, 'ask_price5': 813.4, 'bid_size1': 127, 'bid_size2': 277, 'bid_size3': 796, 'bid_size4': 2646, 'bid_size5': 1188, 'ask_size1': 457, 'ask_size2': 164, 'ask_size3': 369, 'ask_size4': 782, 'ask_size5': 350, 'bid_order1': 2, 'bid_order2': 4, 'bid_order3': 7, 'bid_order4': 11, 'bid_order5': 4, 'ask_order1': 4, 'ask_order2': 3, 'ask_order3': 8, 'ask_order4': 4, 'ask_order5': 4, 'type': 'dp', 'symbol': 'BSE:SBIN-A'}\n",
      "[812.75, 812.7, 812.65, 812.6, 812.55, 813.2, 813.25, 813.3, 813.35, 813.4, 127, 277, 796, 2646, 1188, 457, 164, 369, 782, 350, 2, 4, 7, 11, 4, 4, 3, 8, 4, 4, 1723817903.117526]\n",
      "saved to:SBIN/1/BSE/Depth\n",
      "Response: {'bid_price1': 813.0, 'bid_price2': 812.95, 'bid_price3': 812.9, 'bid_price4': 812.85, 'bid_price5': 812.8, 'ask_price1': 813.15, 'ask_price2': 813.2, 'ask_price3': 813.25, 'ask_price4': 813.3, 'ask_price5': 813.35, 'bid_size1': 18459, 'bid_size2': 733, 'bid_size3': 1714, 'bid_size4': 1834, 'bid_size5': 4903, 'ask_size1': 169, 'ask_size2': 25, 'ask_size3': 540, 'ask_size4': 609, 'ask_size5': 1517, 'bid_order1': 43, 'bid_order2': 7, 'bid_order3': 12, 'bid_order4': 11, 'bid_order5': 23, 'ask_order1': 3, 'ask_order2': 1, 'ask_order3': 5, 'ask_order4': 3, 'ask_order5': 9, 'type': 'dp', 'symbol': 'NSE:SBIN-EQ'}\n",
      "[813.0, 812.95, 812.9, 812.85, 812.8, 813.15, 813.2, 813.25, 813.3, 813.35, 18459, 733, 1714, 1834, 4903, 169, 25, 540, 609, 1517, 43, 7, 12, 11, 23, 3, 1, 5, 3, 9, 1723817903.262769]\n",
      "saved to:SBIN/1/NSE/Depth\n",
      "Response: {'bid_price1': 1088.95, 'bid_price2': 1088.9, 'bid_price3': 1088.85, 'bid_price4': 1088.8, 'bid_price5': 1088.75, 'ask_price1': 1089.0, 'ask_price2': 1089.1, 'ask_price3': 1089.15, 'ask_price4': 1089.2, 'ask_price5': 1089.25, 'bid_size1': 221, 'bid_size2': 139, 'bid_size3': 110, 'bid_size4': 158, 'bid_size5': 927, 'ask_size1': 673, 'ask_size2': 511, 'ask_size3': 546, 'ask_size4': 539, 'ask_size5': 180, 'bid_order1': 10, 'bid_order2': 5, 'bid_order3': 5, 'bid_order4': 4, 'bid_order5': 8, 'ask_order1': 9, 'ask_order2': 5, 'ask_order3': 3, 'ask_order4': 4, 'ask_order5': 2, 'type': 'dp', 'symbol': 'NSE:TATAMOTORS-EQ'}\n",
      "[1088.95, 1088.9, 1088.85, 1088.8, 1088.75, 1089.0, 1089.1, 1089.15, 1089.2, 1089.25, 221, 139, 110, 158, 927, 673, 511, 546, 539, 180, 10, 5, 5, 4, 8, 9, 5, 3, 4, 2, 1723817903.877368]\n",
      "saved to:TATAMOTORS/1/NSE/Depth\n",
      "Response: {'bid_price1': 812.75, 'bid_price2': 812.7, 'bid_price3': 812.65, 'bid_price4': 812.6, 'bid_price5': 812.55, 'ask_price1': 813.2, 'ask_price2': 813.25, 'ask_price3': 813.3, 'ask_price4': 813.35, 'ask_price5': 813.4, 'bid_size1': 127, 'bid_size2': 277, 'bid_size3': 796, 'bid_size4': 2548, 'bid_size5': 1188, 'ask_size1': 457, 'ask_size2': 356, 'ask_size3': 369, 'ask_size4': 782, 'ask_size5': 350, 'bid_order1': 2, 'bid_order2': 4, 'bid_order3': 7, 'bid_order4': 10, 'bid_order5': 4, 'ask_order1': 4, 'ask_order2': 4, 'ask_order3': 8, 'ask_order4': 4, 'ask_order5': 4, 'type': 'dp', 'symbol': 'BSE:SBIN-A'}\n",
      "[812.75, 812.7, 812.65, 812.6, 812.55, 813.2, 813.25, 813.3, 813.35, 813.4, 127, 277, 796, 2548, 1188, 457, 356, 369, 782, 350, 2, 4, 7, 10, 4, 4, 4, 8, 4, 4, 1723817903.908215]\n",
      "saved to:SBIN/1/BSE/Depth\n",
      "Response: {'bid_price1': 813.0, 'bid_price2': 812.95, 'bid_price3': 812.9, 'bid_price4': 812.85, 'bid_price5': 812.8, 'ask_price1': 813.15, 'ask_price2': 813.2, 'ask_price3': 813.25, 'ask_price4': 813.3, 'ask_price5': 813.35, 'bid_size1': 18425, 'bid_size2': 733, 'bid_size3': 1627, 'bid_size4': 1921, 'bid_size5': 4903, 'ask_size1': 168, 'ask_size2': 25, 'ask_size3': 540, 'ask_size4': 609, 'ask_size5': 1517, 'bid_order1': 43, 'bid_order2': 7, 'bid_order3': 11, 'bid_order4': 12, 'bid_order5': 23, 'ask_order1': 3, 'ask_order2': 1, 'ask_order3': 5, 'ask_order4': 3, 'ask_order5': 9, 'type': 'dp', 'symbol': 'NSE:SBIN-EQ'}\n",
      "[813.0, 812.95, 812.9, 812.85, 812.8, 813.15, 813.2, 813.25, 813.3, 813.35, 18425, 733, 1627, 1921, 4903, 168, 25, 540, 609, 1517, 43, 7, 11, 12, 23, 3, 1, 5, 3, 9, 1723817904.036976]\n",
      "saved to:SBIN/1/NSE/Depth\n",
      "Response: {'bid_price1': 1088.95, 'bid_price2': 1088.9, 'bid_price3': 1088.85, 'bid_price4': 1088.8, 'bid_price5': 1088.75, 'ask_price1': 1089.0, 'ask_price2': 1089.1, 'ask_price3': 1089.15, 'ask_price4': 1089.2, 'ask_price5': 1089.25, 'bid_size1': 196, 'bid_size2': 139, 'bid_size3': 110, 'bid_size4': 158, 'bid_size5': 927, 'ask_size1': 673, 'ask_size2': 511, 'ask_size3': 546, 'ask_size4': 539, 'ask_size5': 180, 'bid_order1': 10, 'bid_order2': 5, 'bid_order3': 5, 'bid_order4': 4, 'bid_order5': 8, 'ask_order1': 9, 'ask_order2': 5, 'ask_order3': 3, 'ask_order4': 4, 'ask_order5': 2, 'type': 'dp', 'symbol': 'NSE:TATAMOTORS-EQ'}\n",
      "[1088.95, 1088.9, 1088.85, 1088.8, 1088.75, 1089.0, 1089.1, 1089.15, 1089.2, 1089.25, 196, 139, 110, 158, 927, 673, 511, 546, 539, 180, 10, 5, 5, 4, 8, 9, 5, 3, 4, 2, 1723817904.039016]\n",
      "saved to:TATAMOTORS/1/NSE/Depth\n",
      "Response: {'bid_price1': 1088.95, 'bid_price2': 1088.9, 'bid_price3': 1088.85, 'bid_price4': 1088.8, 'bid_price5': 1088.75, 'ask_price1': 1089.0, 'ask_price2': 1089.1, 'ask_price3': 1089.15, 'ask_price4': 1089.2, 'ask_price5': 1089.25, 'bid_size1': 147, 'bid_size2': 139, 'bid_size3': 110, 'bid_size4': 174, 'bid_size5': 927, 'ask_size1': 525, 'ask_size2': 511, 'ask_size3': 546, 'ask_size4': 539, 'ask_size5': 180, 'bid_order1': 10, 'bid_order2': 5, 'bid_order3': 5, 'bid_order4': 5, 'bid_order5': 8, 'ask_order1': 9, 'ask_order2': 5, 'ask_order3': 3, 'ask_order4': 4, 'ask_order5': 2, 'type': 'dp', 'symbol': 'NSE:TATAMOTORS-EQ'}\n",
      "[1088.95, 1088.9, 1088.85, 1088.8, 1088.75, 1089.0, 1089.1, 1089.15, 1089.2, 1089.25, 147, 139, 110, 174, 927, 525, 511, 546, 539, 180, 10, 5, 5, 5, 8, 9, 5, 3, 4, 2, 1723817904.543075]\n",
      "saved to:TATAMOTORS/1/NSE/Depth\n",
      "Response: {'bid_price1': 813.05, 'bid_price2': 813.0, 'bid_price3': 812.95, 'bid_price4': 812.9, 'bid_price5': 812.85, 'ask_price1': 813.15, 'ask_price2': 813.2, 'ask_price3': 813.25, 'ask_price4': 813.3, 'ask_price5': 813.35, 'bid_size1': 17, 'bid_size2': 18758, 'bid_size3': 1045, 'bid_size4': 1627, 'bid_size5': 1912, 'ask_size1': 157, 'ask_size2': 25, 'ask_size3': 156, 'ask_size4': 507, 'ask_size5': 1294, 'bid_order1': 1, 'bid_order2': 45, 'bid_order3': 10, 'bid_order4': 11, 'bid_order5': 11, 'ask_order1': 3, 'ask_order2': 1, 'ask_order3': 2, 'ask_order4': 3, 'ask_order5': 6, 'type': 'dp', 'symbol': 'NSE:SBIN-EQ'}\n",
      "[813.05, 813.0, 812.95, 812.9, 812.85, 813.15, 813.2, 813.25, 813.3, 813.35, 17, 18758, 1045, 1627, 1912, 157, 25, 156, 507, 1294, 1, 45, 10, 11, 11, 3, 1, 2, 3, 6, 1723817904.938226]\n",
      "saved to:SBIN/1/NSE/Depth\n",
      "Response: {'bid_price1': 812.75, 'bid_price2': 812.7, 'bid_price3': 812.65, 'bid_price4': 812.6, 'bid_price5': 812.55, 'ask_price1': 813.2, 'ask_price2': 813.25, 'ask_price3': 813.3, 'ask_price4': 813.35, 'ask_price5': 813.4, 'bid_size1': 379, 'bid_size2': 799, 'bid_size3': 1307, 'bid_size4': 2655, 'bid_size5': 534, 'ask_size1': 121, 'ask_size2': 356, 'ask_size3': 336, 'ask_size4': 950, 'ask_size5': 518, 'bid_order1': 5, 'bid_order2': 5, 'bid_order3': 9, 'bid_order4': 10, 'bid_order5': 6, 'ask_order1': 2, 'ask_order2': 4, 'ask_order3': 7, 'ask_order4': 5, 'ask_order5': 5, 'type': 'dp', 'symbol': 'BSE:SBIN-A'}\n",
      "[812.75, 812.7, 812.65, 812.6, 812.55, 813.2, 813.25, 813.3, 813.35, 813.4, 379, 799, 1307, 2655, 534, 121, 356, 336, 950, 518, 5, 5, 9, 10, 6, 2, 4, 7, 5, 5, 1723817905.111838]\n",
      "saved to:SBIN/1/BSE/Depth\n",
      "Response: {'bid_price1': 813.05, 'bid_price2': 813.0, 'bid_price3': 812.95, 'bid_price4': 812.9, 'bid_price5': 812.85, 'ask_price1': 813.15, 'ask_price2': 813.2, 'ask_price3': 813.25, 'ask_price4': 813.3, 'ask_price5': 813.35, 'bid_size1': 14, 'bid_size2': 18834, 'bid_size3': 1045, 'bid_size4': 1627, 'bid_size5': 1942, 'ask_size1': 157, 'ask_size2': 25, 'ask_size3': 156, 'ask_size4': 507, 'ask_size5': 1303, 'bid_order1': 1, 'bid_order2': 46, 'bid_order3': 10, 'bid_order4': 11, 'bid_order5': 12, 'ask_order1': 3, 'ask_order2': 1, 'ask_order3': 2, 'ask_order4': 3, 'ask_order5': 7, 'type': 'dp', 'symbol': 'NSE:SBIN-EQ'}\n",
      "[813.05, 813.0, 812.95, 812.9, 812.85, 813.15, 813.2, 813.25, 813.3, 813.35, 14, 18834, 1045, 1627, 1942, 157, 25, 156, 507, 1303, 1, 46, 10, 11, 12, 3, 1, 2, 3, 7, 1723817905.231211]\n",
      "saved to:SBIN/1/NSE/Depth\n",
      "Response: {'bid_price1': 812.75, 'bid_price2': 812.7, 'bid_price3': 812.65, 'bid_price4': 812.6, 'bid_price5': 812.55, 'ask_price1': 813.2, 'ask_price2': 813.25, 'ask_price3': 813.3, 'ask_price4': 813.35, 'ask_price5': 813.4, 'bid_size1': 379, 'bid_size2': 799, 'bid_size3': 1307, 'bid_size4': 2655, 'bid_size5': 534, 'ask_size1': 121, 'ask_size2': 356, 'ask_size3': 336, 'ask_size4': 1118, 'ask_size5': 350, 'bid_order1': 5, 'bid_order2': 5, 'bid_order3': 9, 'bid_order4': 10, 'bid_order5': 6, 'ask_order1': 2, 'ask_order2': 4, 'ask_order3': 7, 'ask_order4': 6, 'ask_order5': 4, 'type': 'dp', 'symbol': 'BSE:SBIN-A'}\n",
      "[812.75, 812.7, 812.65, 812.6, 812.55, 813.2, 813.25, 813.3, 813.35, 813.4, 379, 799, 1307, 2655, 534, 121, 356, 336, 1118, 350, 5, 5, 9, 10, 6, 2, 4, 7, 6, 4, 1723817905.424474]\n",
      "saved to:SBIN/1/BSE/Depth\n",
      "Response: {'bid_price1': 1089.0, 'bid_price2': 1088.95, 'bid_price3': 1088.9, 'bid_price4': 1088.85, 'bid_price5': 1088.8, 'ask_price1': 1089.1, 'ask_price2': 1089.15, 'ask_price3': 1089.2, 'ask_price4': 1089.25, 'ask_price5': 1089.3, 'bid_size1': 4, 'bid_size2': 331, 'bid_size3': 294, 'bid_size4': 782, 'bid_size5': 411, 'ask_size1': 496, 'ask_size2': 546, 'ask_size3': 539, 'ask_size4': 3, 'ask_size5': 240, 'bid_order1': 1, 'bid_order2': 10, 'bid_order3': 7, 'bid_order4': 9, 'bid_order5': 9, 'ask_order1': 5, 'ask_order2': 3, 'ask_order3': 4, 'ask_order4': 1, 'ask_order5': 6, 'type': 'dp', 'symbol': 'NSE:TATAMOTORS-EQ'}\n",
      "[1089.0, 1088.95, 1088.9, 1088.85, 1088.8, 1089.1, 1089.15, 1089.2, 1089.25, 1089.3, 4, 331, 294, 782, 411, 496, 546, 539, 3, 240, 1, 10, 7, 9, 9, 5, 3, 4, 1, 6, 1723817905.736962]\n",
      "saved to:TATAMOTORS/1/NSE/Depth\n",
      "Response: {'bid_price1': 813.05, 'bid_price2': 813.0, 'bid_price3': 812.95, 'bid_price4': 812.9, 'bid_price5': 812.85, 'ask_price1': 813.15, 'ask_price2': 813.2, 'ask_price3': 813.25, 'ask_price4': 813.3, 'ask_price5': 813.35, 'bid_size1': 13, 'bid_size2': 19079, 'bid_size3': 1175, 'bid_size4': 1357, 'bid_size5': 1942, 'ask_size1': 155, 'ask_size2': 25, 'ask_size3': 156, 'ask_size4': 507, 'ask_size5': 1294, 'bid_order1': 1, 'bid_order2': 47, 'bid_order3': 11, 'bid_order4': 9, 'bid_order5': 12, 'ask_order1': 3, 'ask_order2': 1, 'ask_order3': 2, 'ask_order4': 3, 'ask_order5': 6, 'type': 'dp', 'symbol': 'NSE:SBIN-EQ'}\n",
      "[813.05, 813.0, 812.95, 812.9, 812.85, 813.15, 813.2, 813.25, 813.3, 813.35, 13, 19079, 1175, 1357, 1942, 155, 25, 156, 507, 1294, 1, 47, 11, 9, 12, 3, 1, 2, 3, 6, 1723817906.027001]\n",
      "saved to:SBIN/1/NSE/Depth\n",
      "Response: {'bid_price1': 812.75, 'bid_price2': 812.7, 'bid_price3': 812.65, 'bid_price4': 812.6, 'bid_price5': 812.55, 'ask_price1': 813.15, 'ask_price2': 813.2, 'ask_price3': 813.25, 'ask_price4': 813.3, 'ask_price5': 813.35, 'bid_size1': 322, 'bid_size2': 277, 'bid_size3': 288, 'bid_size4': 1504, 'bid_size5': 99, 'ask_size1': 168, 'ask_size2': 288, 'ask_size3': 356, 'ask_size4': 336, 'ask_size5': 782, 'bid_order1': 4, 'bid_order2': 4, 'bid_order3': 7, 'bid_order4': 8, 'bid_order5': 1, 'ask_order1': 1, 'ask_order2': 3, 'ask_order3': 4, 'ask_order4': 7, 'ask_order5': 4, 'type': 'dp', 'symbol': 'BSE:SBIN-A'}\n",
      "[812.75, 812.7, 812.65, 812.6, 812.55, 813.15, 813.2, 813.25, 813.3, 813.35, 322, 277, 288, 1504, 99, 168, 288, 356, 336, 782, 4, 4, 7, 8, 1, 1, 3, 4, 7, 4, 1723817906.213907]\n",
      "saved to:SBIN/1/BSE/Depth\n",
      "Response: {'bid_price1': 813.1, 'bid_price2': 813.05, 'bid_price3': 813.0, 'bid_price4': 812.95, 'bid_price5': 812.9, 'ask_price1': 813.15, 'ask_price2': 813.2, 'ask_price3': 813.25, 'ask_price4': 813.3, 'ask_price5': 813.35, 'bid_size1': 13, 'bid_size2': 273, 'bid_size3': 18834, 'bid_size4': 1175, 'bid_size5': 1357, 'ask_size1': 184, 'ask_size2': 25, 'ask_size3': 156, 'ask_size4': 507, 'ask_size5': 1250, 'bid_order1': 1, 'bid_order2': 2, 'bid_order3': 46, 'bid_order4': 11, 'bid_order5': 9, 'ask_order1': 4, 'ask_order2': 1, 'ask_order3': 2, 'ask_order4': 3, 'ask_order5': 5, 'type': 'dp', 'symbol': 'NSE:SBIN-EQ'}\n",
      "[813.1, 813.05, 813.0, 812.95, 812.9, 813.15, 813.2, 813.25, 813.3, 813.35, 13, 273, 18834, 1175, 1357, 184, 25, 156, 507, 1250, 1, 2, 46, 11, 9, 4, 1, 2, 3, 5, 1723817906.440686]\n",
      "saved to:SBIN/1/NSE/Depth\n",
      "Response: {'bid_price1': 812.75, 'bid_price2': 812.7, 'bid_price3': 812.65, 'bid_price4': 812.6, 'bid_price5': 812.55, 'ask_price1': 813.15, 'ask_price2': 813.2, 'ask_price3': 813.25, 'ask_price4': 813.3, 'ask_price5': 813.35, 'bid_size1': 322, 'bid_size2': 277, 'bid_size3': 274, 'bid_size4': 2051, 'bid_size5': 1131, 'ask_size1': 168, 'ask_size2': 480, 'ask_size3': 164, 'ask_size4': 369, 'ask_size5': 782, 'bid_order1': 4, 'bid_order2': 4, 'bid_order3': 6, 'bid_order4': 10, 'bid_order5': 3, 'ask_order1': 1, 'ask_order2': 4, 'ask_order3': 3, 'ask_order4': 8, 'ask_order5': 4, 'type': 'dp', 'symbol': 'BSE:SBIN-A'}\n",
      "[812.75, 812.7, 812.65, 812.6, 812.55, 813.15, 813.2, 813.25, 813.3, 813.35, 322, 277, 274, 2051, 1131, 168, 480, 164, 369, 782, 4, 4, 6, 10, 3, 1, 4, 3, 8, 4, 1723817906.719391]\n",
      "saved to:SBIN/1/BSE/Depth\n",
      "Response: {'bid_price1': 1089.0, 'bid_price2': 1088.95, 'bid_price3': 1088.9, 'bid_price4': 1088.85, 'bid_price5': 1088.8, 'ask_price1': 1089.1, 'ask_price2': 1089.15, 'ask_price3': 1089.2, 'ask_price4': 1089.25, 'ask_price5': 1089.3, 'bid_size1': 603, 'bid_size2': 933, 'bid_size3': 319, 'bid_size4': 482, 'bid_size5': 322, 'ask_size1': 364, 'ask_size2': 552, 'ask_size3': 539, 'ask_size4': 3, 'ask_size5': 240, 'bid_order1': 3, 'bid_order2': 14, 'bid_order3': 9, 'bid_order4': 9, 'bid_order5': 8, 'ask_order1': 6, 'ask_order2': 4, 'ask_order3': 4, 'ask_order4': 1, 'ask_order5': 6, 'type': 'dp', 'symbol': 'NSE:TATAMOTORS-EQ'}\n",
      "[1089.0, 1088.95, 1088.9, 1088.85, 1088.8, 1089.1, 1089.15, 1089.2, 1089.25, 1089.3, 603, 933, 319, 482, 322, 364, 552, 539, 3, 240, 3, 14, 9, 9, 8, 6, 4, 4, 1, 6, 1723817906.832027]\n",
      "saved to:TATAMOTORS/1/NSE/Depth\n",
      "Response: {'bid_price1': 1089.0, 'bid_price2': 1088.95, 'bid_price3': 1088.9, 'bid_price4': 1088.85, 'bid_price5': 1088.8, 'ask_price1': 1089.1, 'ask_price2': 1089.15, 'ask_price3': 1089.2, 'ask_price4': 1089.25, 'ask_price5': 1089.3, 'bid_size1': 599, 'bid_size2': 933, 'bid_size3': 303, 'bid_size4': 482, 'bid_size5': 322, 'ask_size1': 364, 'ask_size2': 552, 'ask_size3': 539, 'ask_size4': 3, 'ask_size5': 240, 'bid_order1': 3, 'bid_order2': 14, 'bid_order3': 8, 'bid_order4': 9, 'bid_order5': 8, 'ask_order1': 6, 'ask_order2': 4, 'ask_order3': 4, 'ask_order4': 1, 'ask_order5': 6, 'type': 'dp', 'symbol': 'NSE:TATAMOTORS-EQ'}\n",
      "[1089.0, 1088.95, 1088.9, 1088.85, 1088.8, 1089.1, 1089.15, 1089.2, 1089.25, 1089.3, 599, 933, 303, 482, 322, 364, 552, 539, 3, 240, 3, 14, 8, 9, 8, 6, 4, 4, 1, 6, 1723817907.261751]\n",
      "saved to:TATAMOTORS/1/NSE/Depth\n",
      "Response: {'bid_price1': 813.05, 'bid_price2': 813.0, 'bid_price3': 812.95, 'bid_price4': 812.9, 'bid_price5': 812.85, 'ask_price1': 813.15, 'ask_price2': 813.2, 'ask_price3': 813.25, 'ask_price4': 813.3, 'ask_price5': 813.35, 'bid_size1': 22, 'bid_size2': 18855, 'bid_size3': 742, 'bid_size4': 1227, 'bid_size5': 2202, 'ask_size1': 2165, 'ask_size2': 25, 'ask_size3': 156, 'ask_size4': 754, 'ask_size5': 1237, 'bid_order1': 1, 'bid_order2': 48, 'bid_order3': 8, 'bid_order4': 9, 'bid_order5': 13, 'ask_order1': 6, 'ask_order2': 1, 'ask_order3': 2, 'ask_order4': 4, 'ask_order5': 6, 'type': 'dp', 'symbol': 'NSE:SBIN-EQ'}\n",
      "[813.05, 813.0, 812.95, 812.9, 812.85, 813.15, 813.2, 813.25, 813.3, 813.35, 22, 18855, 742, 1227, 2202, 2165, 25, 156, 754, 1237, 1, 48, 8, 9, 13, 6, 1, 2, 4, 6, 1723817907.326546]\n",
      "saved to:SBIN/1/NSE/Depth\n",
      "Response: {'bid_price1': 812.75, 'bid_price2': 812.7, 'bid_price3': 812.65, 'bid_price4': 812.6, 'bid_price5': 812.55, 'ask_price1': 813.2, 'ask_price2': 813.25, 'ask_price3': 813.3, 'ask_price4': 813.35, 'ask_price5': 813.4, 'bid_size1': 396, 'bid_size2': 799, 'bid_size3': 1306, 'bid_size4': 2655, 'bid_size5': 509, 'ask_size1': 120, 'ask_size2': 356, 'ask_size3': 705, 'ask_size4': 782, 'ask_size5': 374, 'bid_order1': 5, 'bid_order2': 5, 'bid_order3': 8, 'bid_order4': 10, 'bid_order5': 6, 'ask_order1': 2, 'ask_order2': 4, 'ask_order3': 10, 'ask_order4': 4, 'ask_order5': 5, 'type': 'dp', 'symbol': 'BSE:SBIN-A'}\n",
      "[812.75, 812.7, 812.65, 812.6, 812.55, 813.2, 813.25, 813.3, 813.35, 813.4, 396, 799, 1306, 2655, 509, 120, 356, 705, 782, 374, 5, 5, 8, 10, 6, 2, 4, 10, 4, 5, 1723817907.531935]\n",
      "saved to:SBIN/1/BSE/Depth\n",
      "Response: {'bid_price1': 813.05, 'bid_price2': 813.0, 'bid_price3': 812.95, 'bid_price4': 812.9, 'bid_price5': 812.85, 'ask_price1': 813.15, 'ask_price2': 813.2, 'ask_price3': 813.25, 'ask_price4': 813.3, 'ask_price5': 813.35, 'bid_size1': 5, 'bid_size2': 18855, 'bid_size3': 742, 'bid_size4': 1227, 'bid_size5': 2202, 'ask_size1': 2165, 'ask_size2': 25, 'ask_size3': 156, 'ask_size4': 754, 'ask_size5': 1237, 'bid_order1': 1, 'bid_order2': 48, 'bid_order3': 8, 'bid_order4': 9, 'bid_order5': 13, 'ask_order1': 6, 'ask_order2': 1, 'ask_order3': 2, 'ask_order4': 4, 'ask_order5': 6, 'type': 'dp', 'symbol': 'NSE:SBIN-EQ'}\n",
      "[813.05, 813.0, 812.95, 812.9, 812.85, 813.15, 813.2, 813.25, 813.3, 813.35, 5, 18855, 742, 1227, 2202, 2165, 25, 156, 754, 1237, 1, 48, 8, 9, 13, 6, 1, 2, 4, 6, 1723817907.616757]\n",
      "saved to:SBIN/1/NSE/Depth\n",
      "Response: {'bid_price1': 1089.0, 'bid_price2': 1088.95, 'bid_price3': 1088.9, 'bid_price4': 1088.85, 'bid_price5': 1088.8, 'ask_price1': 1089.1, 'ask_price2': 1089.15, 'ask_price3': 1089.2, 'ask_price4': 1089.3, 'ask_price5': 1089.35, 'bid_size1': 636, 'bid_size2': 878, 'bid_size3': 309, 'bid_size4': 482, 'bid_size5': 322, 'ask_size1': 351, 'ask_size2': 552, 'ask_size3': 539, 'ask_size4': 240, 'ask_size5': 309, 'bid_order1': 10, 'bid_order2': 10, 'bid_order3': 9, 'bid_order4': 9, 'bid_order5': 8, 'ask_order1': 6, 'ask_order2': 4, 'ask_order3': 4, 'ask_order4': 6, 'ask_order5': 4, 'type': 'dp', 'symbol': 'NSE:TATAMOTORS-EQ'}\n",
      "[1089.0, 1088.95, 1088.9, 1088.85, 1088.8, 1089.1, 1089.15, 1089.2, 1089.3, 1089.35, 636, 878, 309, 482, 322, 351, 552, 539, 240, 309, 10, 10, 9, 9, 8, 6, 4, 4, 6, 4, 1723817908.134816]\n",
      "saved to:TATAMOTORS/1/NSE/Depth\n",
      "Response: {'bid_price1': 812.75, 'bid_price2': 812.7, 'bid_price3': 812.65, 'bid_price4': 812.6, 'bid_price5': 812.55, 'ask_price1': 813.2, 'ask_price2': 813.25, 'ask_price3': 813.3, 'ask_price4': 813.35, 'ask_price5': 813.4, 'bid_size1': 396, 'bid_size2': 277, 'bid_size3': 796, 'bid_size4': 2646, 'bid_size5': 1164, 'ask_size1': 120, 'ask_size2': 500, 'ask_size3': 369, 'ask_size4': 782, 'ask_size5': 350, 'bid_order1': 5, 'bid_order2': 4, 'bid_order3': 7, 'bid_order4': 11, 'bid_order5': 3, 'ask_order1': 2, 'ask_order2': 5, 'ask_order3': 8, 'ask_order4': 4, 'ask_order5': 4, 'type': 'dp', 'symbol': 'BSE:SBIN-A'}\n",
      "[812.75, 812.7, 812.65, 812.6, 812.55, 813.2, 813.25, 813.3, 813.35, 813.4, 396, 277, 796, 2646, 1164, 120, 500, 369, 782, 350, 5, 4, 7, 11, 3, 2, 5, 8, 4, 4, 1723817908.319443]\n",
      "saved to:SBIN/1/BSE/Depth\n",
      "Response: {'bid_price1': 813.05, 'bid_price2': 813.0, 'bid_price3': 812.95, 'bid_price4': 812.9, 'bid_price5': 812.85, 'ask_price1': 813.15, 'ask_price2': 813.2, 'ask_price3': 813.25, 'ask_price4': 813.3, 'ask_price5': 813.35, 'bid_size1': 159, 'bid_size2': 18903, 'bid_size3': 791, 'bid_size4': 1227, 'bid_size5': 2135, 'ask_size1': 2008, 'ask_size2': 25, 'ask_size3': 286, 'ask_size4': 624, 'ask_size5': 1237, 'bid_order1': 1, 'bid_order2': 48, 'bid_order3': 8, 'bid_order4': 9, 'bid_order5': 13, 'ask_order1': 4, 'ask_order2': 1, 'ask_order3': 3, 'ask_order4': 3, 'ask_order5': 6, 'type': 'dp', 'symbol': 'NSE:SBIN-EQ'}\n",
      "[813.05, 813.0, 812.95, 812.9, 812.85, 813.15, 813.2, 813.25, 813.3, 813.35, 159, 18903, 791, 1227, 2135, 2008, 25, 286, 624, 1237, 1, 48, 8, 9, 13, 4, 1, 3, 3, 6, 1723817908.554279]\n",
      "saved to:SBIN/1/NSE/Depth\n",
      "Response: {'bid_price1': 812.75, 'bid_price2': 812.7, 'bid_price3': 812.65, 'bid_price4': 812.6, 'bid_price5': 812.55, 'ask_price1': 813.2, 'ask_price2': 813.25, 'ask_price3': 813.3, 'ask_price4': 813.35, 'ask_price5': 813.4, 'bid_size1': 396, 'bid_size2': 799, 'bid_size3': 1416, 'bid_size4': 2655, 'bid_size5': 828, 'ask_size1': 120, 'ask_size2': 356, 'ask_size3': 705, 'ask_size4': 782, 'ask_size5': 350, 'bid_order1': 5, 'bid_order2': 5, 'bid_order3': 10, 'bid_order4': 10, 'bid_order5': 7, 'ask_order1': 2, 'ask_order2': 4, 'ask_order3': 10, 'ask_order4': 4, 'ask_order5': 4, 'type': 'dp', 'symbol': 'BSE:SBIN-A'}\n",
      "[812.75, 812.7, 812.65, 812.6, 812.55, 813.2, 813.25, 813.3, 813.35, 813.4, 396, 799, 1416, 2655, 828, 120, 356, 705, 782, 350, 5, 5, 10, 10, 7, 2, 4, 10, 4, 4, 1723817908.726932]\n",
      "saved to:SBIN/1/BSE/Depth\n",
      "Response: {'bid_price1': 813.05, 'bid_price2': 813.0, 'bid_price3': 812.95, 'bid_price4': 812.9, 'bid_price5': 812.85, 'ask_price1': 813.15, 'ask_price2': 813.2, 'ask_price3': 813.25, 'ask_price4': 813.3, 'ask_price5': 813.35, 'bid_size1': 136, 'bid_size2': 18903, 'bid_size3': 1036, 'bid_size4': 1227, 'bid_size5': 2135, 'ask_size1': 2008, 'ask_size2': 25, 'ask_size3': 286, 'ask_size4': 624, 'ask_size5': 1237, 'bid_order1': 1, 'bid_order2': 48, 'bid_order3': 9, 'bid_order4': 9, 'bid_order5': 13, 'ask_order1': 4, 'ask_order2': 1, 'ask_order3': 3, 'ask_order4': 3, 'ask_order5': 6, 'type': 'dp', 'symbol': 'NSE:SBIN-EQ'}\n",
      "[813.05, 813.0, 812.95, 812.9, 812.85, 813.15, 813.2, 813.25, 813.3, 813.35, 136, 18903, 1036, 1227, 2135, 2008, 25, 286, 624, 1237, 1, 48, 9, 9, 13, 4, 1, 3, 3, 6, 1723817909.384154]\n",
      "saved to:SBIN/1/NSE/Depth\n",
      "Response: {'bid_price1': 1089.0, 'bid_price2': 1088.95, 'bid_price3': 1088.9, 'bid_price4': 1088.85, 'bid_price5': 1088.8, 'ask_price1': 1089.1, 'ask_price2': 1089.15, 'ask_price3': 1089.2, 'ask_price4': 1089.3, 'ask_price5': 1089.35, 'bid_size1': 596, 'bid_size2': 875, 'bid_size3': 309, 'bid_size4': 409, 'bid_size5': 395, 'ask_size1': 48, 'ask_size2': 552, 'ask_size3': 539, 'ask_size4': 260, 'ask_size5': 309, 'bid_order1': 11, 'bid_order2': 9, 'bid_order3': 9, 'bid_order4': 9, 'bid_order5': 8, 'ask_order1': 2, 'ask_order2': 4, 'ask_order3': 4, 'ask_order4': 7, 'ask_order5': 4, 'type': 'dp', 'symbol': 'NSE:TATAMOTORS-EQ'}\n",
      "[1089.0, 1088.95, 1088.9, 1088.85, 1088.8, 1089.1, 1089.15, 1089.2, 1089.3, 1089.35, 596, 875, 309, 409, 395, 48, 552, 539, 260, 309, 11, 9, 9, 9, 8, 2, 4, 4, 7, 4, 1723817909.386002]\n",
      "saved to:TATAMOTORS/1/NSE/Depth\n",
      "Response: {'bid_price1': 812.75, 'bid_price2': 812.7, 'bid_price3': 812.65, 'bid_price4': 812.6, 'bid_price5': 812.55, 'ask_price1': 813.2, 'ask_price2': 813.25, 'ask_price3': 813.3, 'ask_price4': 813.35, 'ask_price5': 813.4, 'bid_size1': 396, 'bid_size2': 799, 'bid_size3': 1404, 'bid_size4': 2655, 'bid_size5': 828, 'ask_size1': 120, 'ask_size2': 356, 'ask_size3': 705, 'ask_size4': 782, 'ask_size5': 350, 'bid_order1': 5, 'bid_order2': 5, 'bid_order3': 9, 'bid_order4': 10, 'bid_order5': 7, 'ask_order1': 2, 'ask_order2': 4, 'ask_order3': 10, 'ask_order4': 4, 'ask_order5': 4, 'type': 'dp', 'symbol': 'BSE:SBIN-A'}\n",
      "[812.75, 812.7, 812.65, 812.6, 812.55, 813.2, 813.25, 813.3, 813.35, 813.4, 396, 799, 1404, 2655, 828, 120, 356, 705, 782, 350, 5, 5, 9, 10, 7, 2, 4, 10, 4, 4, 1723817909.516946]\n",
      "saved to:SBIN/1/BSE/Depth\n",
      "Response: {'bid_price1': 1089.0, 'bid_price2': 1088.95, 'bid_price3': 1088.9, 'bid_price4': 1088.85, 'bid_price5': 1088.8, 'ask_price1': 1089.05, 'ask_price2': 1089.1, 'ask_price3': 1089.15, 'ask_price4': 1089.2, 'ask_price5': 1089.3, 'bid_size1': 596, 'bid_size2': 875, 'bid_size3': 309, 'bid_size4': 409, 'bid_size5': 395, 'ask_size1': 3, 'ask_size2': 50, 'ask_size3': 552, 'ask_size4': 539, 'ask_size5': 260, 'bid_order1': 11, 'bid_order2': 9, 'bid_order3': 9, 'bid_order4': 9, 'bid_order5': 8, 'ask_order1': 1, 'ask_order2': 3, 'ask_order3': 4, 'ask_order4': 4, 'ask_order5': 7, 'type': 'dp', 'symbol': 'NSE:TATAMOTORS-EQ'}\n",
      "[1089.0, 1088.95, 1088.9, 1088.85, 1088.8, 1089.05, 1089.1, 1089.15, 1089.2, 1089.3, 596, 875, 309, 409, 395, 3, 50, 552, 539, 260, 11, 9, 9, 9, 8, 1, 3, 4, 4, 7, 1723817910.145363]\n",
      "saved to:TATAMOTORS/1/NSE/Depth\n",
      "Response: {'bid_price1': 812.75, 'bid_price2': 812.7, 'bid_price3': 812.65, 'bid_price4': 812.6, 'bid_price5': 812.55, 'ask_price1': 813.2, 'ask_price2': 813.25, 'ask_price3': 813.3, 'ask_price4': 813.35, 'ask_price5': 813.4, 'bid_size1': 396, 'bid_size2': 799, 'bid_size3': 1317, 'bid_size4': 2655, 'bid_size5': 828, 'ask_size1': 120, 'ask_size2': 356, 'ask_size3': 705, 'ask_size4': 782, 'ask_size5': 350, 'bid_order1': 5, 'bid_order2': 5, 'bid_order3': 9, 'bid_order4': 10, 'bid_order5': 7, 'ask_order1': 2, 'ask_order2': 4, 'ask_order3': 10, 'ask_order4': 4, 'ask_order5': 4, 'type': 'dp', 'symbol': 'BSE:SBIN-A'}\n",
      "[812.75, 812.7, 812.65, 812.6, 812.55, 813.2, 813.25, 813.3, 813.35, 813.4, 396, 799, 1317, 2655, 828, 120, 356, 705, 782, 350, 5, 5, 9, 10, 7, 2, 4, 10, 4, 4, 1723817910.331674]\n",
      "saved to:SBIN/1/BSE/Depth\n",
      "Response: {'bid_price1': 813.1, 'bid_price2': 813.05, 'bid_price3': 813.0, 'bid_price4': 812.95, 'bid_price5': 812.9, 'ask_price1': 813.15, 'ask_price2': 813.2, 'ask_price3': 813.25, 'ask_price4': 813.3, 'ask_price5': 813.35, 'bid_size1': 20, 'bid_size2': 129, 'bid_size3': 18913, 'bid_size4': 1036, 'bid_size5': 1227, 'ask_size1': 1972, 'ask_size2': 25, 'ask_size3': 286, 'ask_size4': 377, 'ask_size5': 1237, 'bid_order1': 1, 'bid_order2': 1, 'bid_order3': 49, 'bid_order4': 9, 'bid_order5': 9, 'ask_order1': 3, 'ask_order2': 1, 'ask_order3': 3, 'ask_order4': 2, 'ask_order5': 6, 'type': 'dp', 'symbol': 'NSE:SBIN-EQ'}\n",
      "[813.1, 813.05, 813.0, 812.95, 812.9, 813.15, 813.2, 813.25, 813.3, 813.35, 20, 129, 18913, 1036, 1227, 1972, 25, 286, 377, 1237, 1, 1, 49, 9, 9, 3, 1, 3, 2, 6, 1723817910.528242]\n",
      "saved to:SBIN/1/NSE/Depth\n",
      "Response: {'bid_price1': 812.75, 'bid_price2': 812.7, 'bid_price3': 812.65, 'bid_price4': 812.6, 'bid_price5': 812.55, 'ask_price1': 813.2, 'ask_price2': 813.25, 'ask_price3': 813.3, 'ask_price4': 813.35, 'ask_price5': 813.4, 'bid_size1': 396, 'bid_size2': 846, 'bid_size3': 1492, 'bid_size4': 2706, 'bid_size5': 523, 'ask_size1': 120, 'ask_size2': 524, 'ask_size3': 532, 'ask_size4': 782, 'ask_size5': 350, 'bid_order1': 5, 'bid_order2': 10, 'bid_order3': 15, 'bid_order4': 18, 'bid_order5': 2, 'ask_order1': 2, 'ask_order2': 5, 'ask_order3': 8, 'ask_order4': 4, 'ask_order5': 4, 'type': 'dp', 'symbol': 'BSE:SBIN-A'}\n",
      "[812.75, 812.7, 812.65, 812.6, 812.55, 813.2, 813.25, 813.3, 813.35, 813.4, 396, 846, 1492, 2706, 523, 120, 524, 532, 782, 350, 5, 10, 15, 18, 2, 2, 5, 8, 4, 4, 1723817910.717507]\n",
      "saved to:SBIN/1/BSE/Depth\n",
      "Response: {'bid_price1': 1089.0, 'bid_price2': 1088.95, 'bid_price3': 1088.9, 'bid_price4': 1088.85, 'bid_price5': 1088.8, 'ask_price1': 1089.05, 'ask_price2': 1089.1, 'ask_price3': 1089.15, 'ask_price4': 1089.2, 'ask_price5': 1089.3, 'bid_size1': 513, 'bid_size2': 834, 'bid_size3': 245, 'bid_size4': 471, 'bid_size5': 397, 'ask_size1': 7, 'ask_size2': 44, 'ask_size3': 552, 'ask_size4': 539, 'ask_size5': 260, 'bid_order1': 11, 'bid_order2': 8, 'bid_order3': 8, 'bid_order4': 9, 'bid_order5': 9, 'ask_order1': 3, 'ask_order2': 1, 'ask_order3': 4, 'ask_order4': 4, 'ask_order5': 7, 'type': 'dp', 'symbol': 'NSE:TATAMOTORS-EQ'}\n",
      "[1089.0, 1088.95, 1088.9, 1088.85, 1088.8, 1089.05, 1089.1, 1089.15, 1089.2, 1089.3, 513, 834, 245, 471, 397, 7, 44, 552, 539, 260, 11, 8, 8, 9, 9, 3, 1, 4, 4, 7, 1723817911.218555]\n",
      "saved to:TATAMOTORS/1/NSE/Depth\n",
      "Response: {'bid_price1': 812.75, 'bid_price2': 812.7, 'bid_price3': 812.65, 'bid_price4': 812.6, 'bid_price5': 812.55, 'ask_price1': 813.2, 'ask_price2': 813.25, 'ask_price3': 813.3, 'ask_price4': 813.35, 'ask_price5': 813.4, 'bid_size1': 396, 'bid_size2': 846, 'bid_size3': 1492, 'bid_size4': 2691, 'bid_size5': 523, 'ask_size1': 120, 'ask_size2': 356, 'ask_size3': 700, 'ask_size4': 782, 'ask_size5': 374, 'bid_order1': 5, 'bid_order2': 10, 'bid_order3': 15, 'bid_order4': 18, 'bid_order5': 2, 'ask_order1': 2, 'ask_order2': 4, 'ask_order3': 9, 'ask_order4': 4, 'ask_order5': 5, 'type': 'dp', 'symbol': 'BSE:SBIN-A'}\n",
      "[812.75, 812.7, 812.65, 812.6, 812.55, 813.2, 813.25, 813.3, 813.35, 813.4, 396, 846, 1492, 2691, 523, 120, 356, 700, 782, 374, 5, 10, 15, 18, 2, 2, 4, 9, 4, 5, 1723817911.518319]\n",
      "saved to:SBIN/1/BSE/Depth\n",
      "Response: {'bid_price1': 813.1, 'bid_price2': 813.05, 'bid_price3': 813.0, 'bid_price4': 812.95, 'bid_price5': 812.9, 'ask_price1': 813.15, 'ask_price2': 813.2, 'ask_price3': 813.25, 'ask_price4': 813.3, 'ask_price5': 813.35, 'bid_size1': 13, 'bid_size2': 130, 'bid_size3': 18855, 'bid_size4': 457, 'bid_size5': 1503, 'ask_size1': 2246, 'ask_size2': 25, 'ask_size3': 791, 'ask_size4': 362, 'ask_size5': 1335, 'bid_order1': 1, 'bid_order2': 2, 'bid_order3': 48, 'bid_order4': 6, 'bid_order5': 10, 'ask_order1': 5, 'ask_order2': 1, 'ask_order3': 5, 'ask_order4': 2, 'ask_order5': 8, 'type': 'dp', 'symbol': 'NSE:SBIN-EQ'}\n",
      "[813.1, 813.05, 813.0, 812.95, 812.9, 813.15, 813.2, 813.25, 813.3, 813.35, 13, 130, 18855, 457, 1503, 2246, 25, 791, 362, 1335, 1, 2, 48, 6, 10, 5, 1, 5, 2, 8, 1723817911.741358]\n",
      "saved to:SBIN/1/NSE/Depth\n",
      "Response: {'bid_price1': 1089.0, 'bid_price2': 1088.95, 'bid_price3': 1088.9, 'bid_price4': 1088.85, 'bid_price5': 1088.8, 'ask_price1': 1089.05, 'ask_price2': 1089.1, 'ask_price3': 1089.15, 'ask_price4': 1089.2, 'ask_price5': 1089.3, 'bid_size1': 413, 'bid_size2': 834, 'bid_size3': 245, 'bid_size4': 471, 'bid_size5': 397, 'ask_size1': 82, 'ask_size2': 44, 'ask_size3': 552, 'ask_size4': 539, 'ask_size5': 260, 'bid_order1': 11, 'bid_order2': 8, 'bid_order3': 8, 'bid_order4': 9, 'bid_order5': 9, 'ask_order1': 4, 'ask_order2': 1, 'ask_order3': 4, 'ask_order4': 4, 'ask_order5': 7, 'type': 'dp', 'symbol': 'NSE:TATAMOTORS-EQ'}\n",
      "[1089.0, 1088.95, 1088.9, 1088.85, 1088.8, 1089.05, 1089.1, 1089.15, 1089.2, 1089.3, 413, 834, 245, 471, 397, 82, 44, 552, 539, 260, 11, 8, 8, 9, 9, 4, 1, 4, 4, 7, 1723817911.743107]\n",
      "saved to:TATAMOTORS/1/NSE/Depth\n",
      "Response: {'bid_price1': 812.75, 'bid_price2': 812.7, 'bid_price3': 812.65, 'bid_price4': 812.6, 'bid_price5': 812.55, 'ask_price1': 813.2, 'ask_price2': 813.25, 'ask_price3': 813.3, 'ask_price4': 813.35, 'ask_price5': 813.4, 'bid_size1': 396, 'bid_size2': 799, 'bid_size3': 1415, 'bid_size4': 2556, 'bid_size5': 828, 'ask_size1': 120, 'ask_size2': 164, 'ask_size3': 700, 'ask_size4': 787, 'ask_size5': 350, 'bid_order1': 5, 'bid_order2': 5, 'bid_order3': 10, 'bid_order4': 9, 'bid_order5': 7, 'ask_order1': 2, 'ask_order2': 3, 'ask_order3': 9, 'ask_order4': 5, 'ask_order5': 4, 'type': 'dp', 'symbol': 'BSE:SBIN-A'}\n",
      "[812.75, 812.7, 812.65, 812.6, 812.55, 813.2, 813.25, 813.3, 813.35, 813.4, 396, 799, 1415, 2556, 828, 120, 164, 700, 787, 350, 5, 5, 10, 9, 7, 2, 3, 9, 5, 4, 1723817911.958634]\n",
      "saved to:SBIN/1/BSE/Depth\n",
      "Response: {'bid_price1': 1089.0, 'bid_price2': 1088.95, 'bid_price3': 1088.9, 'bid_price4': 1088.85, 'bid_price5': 1088.8, 'ask_price1': 1089.05, 'ask_price2': 1089.1, 'ask_price3': 1089.15, 'ask_price4': 1089.2, 'ask_price5': 1089.3, 'bid_size1': 417, 'bid_size2': 743, 'bid_size3': 239, 'bid_size4': 382, 'bid_size5': 182, 'ask_size1': 8, 'ask_size2': 44, 'ask_size3': 552, 'ask_size4': 539, 'ask_size5': 265, 'bid_order1': 12, 'bid_order2': 7, 'bid_order3': 7, 'bid_order4': 7, 'bid_order5': 5, 'ask_order1': 3, 'ask_order2': 1, 'ask_order3': 4, 'ask_order4': 4, 'ask_order5': 8, 'type': 'dp', 'symbol': 'NSE:TATAMOTORS-EQ'}\n",
      "[1089.0, 1088.95, 1088.9, 1088.85, 1088.8, 1089.05, 1089.1, 1089.15, 1089.2, 1089.3, 417, 743, 239, 382, 182, 8, 44, 552, 539, 265, 12, 7, 7, 7, 5, 3, 1, 4, 4, 8, 1723817912.159892]\n",
      "saved to:TATAMOTORS/1/NSE/Depth\n",
      "Response: {'bid_price1': 1089.0, 'bid_price2': 1088.95, 'bid_price3': 1088.9, 'bid_price4': 1088.85, 'bid_price5': 1088.8, 'ask_price1': 1089.05, 'ask_price2': 1089.1, 'ask_price3': 1089.15, 'ask_price4': 1089.2, 'ask_price5': 1089.3, 'bid_size1': 417, 'bid_size2': 743, 'bid_size3': 239, 'bid_size4': 446, 'bid_size5': 313, 'ask_size1': 8, 'ask_size2': 49, 'ask_size3': 552, 'ask_size4': 539, 'ask_size5': 265, 'bid_order1': 12, 'bid_order2': 7, 'bid_order3': 7, 'bid_order4': 8, 'bid_order5': 7, 'ask_order1': 3, 'ask_order2': 2, 'ask_order3': 4, 'ask_order4': 4, 'ask_order5': 8, 'type': 'dp', 'symbol': 'NSE:TATAMOTORS-EQ'}\n",
      "[1089.0, 1088.95, 1088.9, 1088.85, 1088.8, 1089.05, 1089.1, 1089.15, 1089.2, 1089.3, 417, 743, 239, 446, 313, 8, 49, 552, 539, 265, 12, 7, 7, 8, 7, 3, 2, 4, 4, 8, 1723817912.544542]\n",
      "saved to:TATAMOTORS/1/NSE/Depth\n",
      "Response: {'bid_price1': 812.75, 'bid_price2': 812.7, 'bid_price3': 812.65, 'bid_price4': 812.6, 'bid_price5': 812.55, 'ask_price1': 813.2, 'ask_price2': 813.25, 'ask_price3': 813.3, 'ask_price4': 813.35, 'ask_price5': 813.4, 'bid_size1': 396, 'bid_size2': 799, 'bid_size3': 1414, 'bid_size4': 2655, 'bid_size5': 828, 'ask_size1': 120, 'ask_size2': 356, 'ask_size3': 700, 'ask_size4': 787, 'ask_size5': 350, 'bid_order1': 5, 'bid_order2': 5, 'bid_order3': 10, 'bid_order4': 10, 'bid_order5': 7, 'ask_order1': 2, 'ask_order2': 4, 'ask_order3': 9, 'ask_order4': 5, 'ask_order5': 4, 'type': 'dp', 'symbol': 'BSE:SBIN-A'}\n",
      "[812.75, 812.7, 812.65, 812.6, 812.55, 813.2, 813.25, 813.3, 813.35, 813.4, 396, 799, 1414, 2655, 828, 120, 356, 700, 787, 350, 5, 5, 10, 10, 7, 2, 4, 9, 5, 4, 1723817912.727081]\n",
      "saved to:SBIN/1/BSE/Depth\n",
      "Response: {'bid_price1': 813.05, 'bid_price2': 813.0, 'bid_price3': 812.95, 'bid_price4': 812.9, 'bid_price5': 812.85, 'ask_price1': 813.1, 'ask_price2': 813.15, 'ask_price3': 813.2, 'ask_price4': 813.25, 'ask_price5': 813.3, 'bid_size1': 1130, 'bid_size2': 17855, 'bid_size3': 457, 'bid_size4': 1758, 'bid_size5': 1985, 'ask_size1': 28, 'ask_size2': 1, 'ask_size3': 25, 'ask_size4': 161, 'ask_size5': 752, 'bid_order1': 3, 'bid_order2': 47, 'bid_order3': 6, 'bid_order4': 10, 'bid_order5': 10, 'ask_order1': 2, 'ask_order2': 1, 'ask_order3': 1, 'ask_order4': 3, 'ask_order5': 4, 'type': 'dp', 'symbol': 'NSE:SBIN-EQ'}\n",
      "[813.05, 813.0, 812.95, 812.9, 812.85, 813.1, 813.15, 813.2, 813.25, 813.3, 1130, 17855, 457, 1758, 1985, 28, 1, 25, 161, 752, 3, 47, 6, 10, 10, 2, 1, 1, 3, 4, 1723817913.031681]\n",
      "saved to:SBIN/1/NSE/Depth\n",
      "Response: {'bid_price1': 1089.0, 'bid_price2': 1088.95, 'bid_price3': 1088.9, 'bid_price4': 1088.85, 'bid_price5': 1088.8, 'ask_price1': 1089.05, 'ask_price2': 1089.1, 'ask_price3': 1089.15, 'ask_price4': 1089.2, 'ask_price5': 1089.3, 'bid_size1': 374, 'bid_size2': 743, 'bid_size3': 239, 'bid_size4': 446, 'bid_size5': 313, 'ask_size1': 8, 'ask_size2': 49, 'ask_size3': 552, 'ask_size4': 539, 'ask_size5': 265, 'bid_order1': 12, 'bid_order2': 7, 'bid_order3': 7, 'bid_order4': 8, 'bid_order5': 7, 'ask_order1': 3, 'ask_order2': 2, 'ask_order3': 4, 'ask_order4': 4, 'ask_order5': 8, 'type': 'dp', 'symbol': 'NSE:TATAMOTORS-EQ'}\n",
      "[1089.0, 1088.95, 1088.9, 1088.85, 1088.8, 1089.05, 1089.1, 1089.15, 1089.2, 1089.3, 374, 743, 239, 446, 313, 8, 49, 552, 539, 265, 12, 7, 7, 8, 7, 3, 2, 4, 4, 8, 1723817913.034265]\n",
      "saved to:TATAMOTORS/1/NSE/Depth\n",
      "Response: {'bid_price1': 812.75, 'bid_price2': 812.7, 'bid_price3': 812.65, 'bid_price4': 812.6, 'bid_price5': 812.55, 'ask_price1': 813.2, 'ask_price2': 813.25, 'ask_price3': 813.3, 'ask_price4': 813.35, 'ask_price5': 813.4, 'bid_size1': 396, 'bid_size2': 899, 'bid_size3': 1231, 'bid_size4': 2655, 'bid_size5': 828, 'ask_size1': 120, 'ask_size2': 692, 'ask_size3': 364, 'ask_size4': 787, 'ask_size5': 350, 'bid_order1': 5, 'bid_order2': 9, 'bid_order3': 5, 'bid_order4': 10, 'bid_order5': 7, 'ask_order1': 2, 'ask_order2': 6, 'ask_order3': 7, 'ask_order4': 5, 'ask_order5': 4, 'type': 'dp', 'symbol': 'BSE:SBIN-A'}\n",
      "[812.75, 812.7, 812.65, 812.6, 812.55, 813.2, 813.25, 813.3, 813.35, 813.4, 396, 899, 1231, 2655, 828, 120, 692, 364, 787, 350, 5, 9, 5, 10, 7, 2, 6, 7, 5, 4, 1723817913.116161]\n",
      "saved to:SBIN/1/BSE/Depth\n",
      "Response: {'bid_price1': 1089.0, 'bid_price2': 1088.95, 'bid_price3': 1088.9, 'bid_price4': 1088.85, 'bid_price5': 1088.8, 'ask_price1': 1089.05, 'ask_price2': 1089.1, 'ask_price3': 1089.15, 'ask_price4': 1089.2, 'ask_price5': 1089.3, 'bid_size1': 378, 'bid_size2': 743, 'bid_size3': 239, 'bid_size4': 446, 'bid_size5': 316, 'ask_size1': 1, 'ask_size2': 49, 'ask_size3': 552, 'ask_size4': 539, 'ask_size5': 265, 'bid_order1': 13, 'bid_order2': 7, 'bid_order3': 7, 'bid_order4': 8, 'bid_order5': 8, 'ask_order1': 1, 'ask_order2': 2, 'ask_order3': 4, 'ask_order4': 4, 'ask_order5': 8, 'type': 'dp', 'symbol': 'NSE:TATAMOTORS-EQ'}\n",
      "[1089.0, 1088.95, 1088.9, 1088.85, 1088.8, 1089.05, 1089.1, 1089.15, 1089.2, 1089.3, 378, 743, 239, 446, 316, 1, 49, 552, 539, 265, 13, 7, 7, 8, 8, 1, 2, 4, 4, 8, 1723817913.403355]\n",
      "saved to:TATAMOTORS/1/NSE/Depth\n",
      "Response: {'bid_price1': 812.75, 'bid_price2': 812.7, 'bid_price3': 812.65, 'bid_price4': 812.6, 'bid_price5': 812.55, 'ask_price1': 813.2, 'ask_price2': 813.25, 'ask_price3': 813.3, 'ask_price4': 813.35, 'ask_price5': 813.4, 'bid_size1': 396, 'bid_size2': 899, 'bid_size3': 1329, 'bid_size4': 2655, 'bid_size5': 828, 'ask_size1': 120, 'ask_size2': 356, 'ask_size3': 364, 'ask_size4': 1123, 'ask_size5': 350, 'bid_order1': 5, 'bid_order2': 9, 'bid_order3': 6, 'bid_order4': 10, 'bid_order5': 7, 'ask_order1': 2, 'ask_order2': 4, 'ask_order3': 7, 'ask_order4': 7, 'ask_order5': 4, 'type': 'dp', 'symbol': 'BSE:SBIN-A'}\n",
      "[812.75, 812.7, 812.65, 812.6, 812.55, 813.2, 813.25, 813.3, 813.35, 813.4, 396, 899, 1329, 2655, 828, 120, 356, 364, 1123, 350, 5, 9, 6, 10, 7, 2, 4, 7, 7, 4, 1723817913.920851]\n",
      "saved to:SBIN/1/BSE/Depth\n",
      "Response: {'bid_price1': 813.05, 'bid_price2': 813.0, 'bid_price3': 812.95, 'bid_price4': 812.9, 'bid_price5': 812.85, 'ask_price1': 813.1, 'ask_price2': 813.15, 'ask_price3': 813.2, 'ask_price4': 813.25, 'ask_price5': 813.3, 'bid_size1': 655, 'bid_size2': 17855, 'bid_size3': 702, 'bid_size4': 1758, 'bid_size5': 1976, 'ask_size1': 9, 'ask_size2': 2, 'ask_size3': 25, 'ask_size4': 156, 'ask_size5': 644, 'bid_order1': 1, 'bid_order2': 47, 'bid_order3': 7, 'bid_order4': 10, 'bid_order5': 9, 'ask_order1': 2, 'ask_order2': 2, 'ask_order3': 1, 'ask_order4': 2, 'ask_order5': 4, 'type': 'dp', 'symbol': 'NSE:SBIN-EQ'}\n",
      "[813.05, 813.0, 812.95, 812.9, 812.85, 813.1, 813.15, 813.2, 813.25, 813.3, 655, 17855, 702, 1758, 1976, 9, 2, 25, 156, 644, 1, 47, 7, 10, 9, 2, 2, 1, 2, 4, 1723817914.137958]\n",
      "saved to:SBIN/1/NSE/Depth\n",
      "Response: {'bid_price1': 1089.0, 'bid_price2': 1088.95, 'bid_price3': 1088.9, 'bid_price4': 1088.85, 'bid_price5': 1088.8, 'ask_price1': 1089.05, 'ask_price2': 1089.1, 'ask_price3': 1089.15, 'ask_price4': 1089.2, 'ask_price5': 1089.3, 'bid_size1': 242, 'bid_size2': 743, 'bid_size3': 239, 'bid_size4': 446, 'bid_size5': 260, 'ask_size1': 80, 'ask_size2': 49, 'ask_size3': 552, 'ask_size4': 539, 'ask_size5': 265, 'bid_order1': 13, 'bid_order2': 7, 'bid_order3': 7, 'bid_order4': 8, 'bid_order5': 7, 'ask_order1': 2, 'ask_order2': 2, 'ask_order3': 4, 'ask_order4': 4, 'ask_order5': 8, 'type': 'dp', 'symbol': 'NSE:TATAMOTORS-EQ'}\n",
      "[1089.0, 1088.95, 1088.9, 1088.85, 1088.8, 1089.05, 1089.1, 1089.15, 1089.2, 1089.3, 242, 743, 239, 446, 260, 80, 49, 552, 539, 265, 13, 7, 7, 8, 7, 2, 2, 4, 4, 8, 1723817914.140992]\n",
      "saved to:TATAMOTORS/1/NSE/Depth\n",
      "Response: {'bid_price1': 812.85, 'bid_price2': 812.8, 'bid_price3': 812.75, 'bid_price4': 812.7, 'bid_price5': 812.65, 'ask_price1': 813.25, 'ask_price2': 813.35, 'ask_price3': 813.4, 'ask_price4': 813.45, 'ask_price5': 813.5, 'bid_size1': 331, 'bid_size2': 973, 'bid_size3': 1328, 'bid_size4': 1280, 'bid_size5': 1239, 'ask_size1': 1, 'ask_size2': 98, 'ask_size3': 269, 'ask_size4': 324, 'ask_size5': 340, 'bid_order1': 3, 'bid_order2': 34, 'bid_order3': 13, 'bid_order4': 6, 'bid_order5': 4, 'ask_order1': 1, 'ask_order2': 2, 'ask_order3': 3, 'ask_order4': 3, 'ask_order5': 6, 'type': 'dp', 'symbol': 'BSE:SBIN-A'}\n",
      "[812.85, 812.8, 812.75, 812.7, 812.65, 813.25, 813.35, 813.4, 813.45, 813.5, 331, 973, 1328, 1280, 1239, 1, 98, 269, 324, 340, 3, 34, 13, 6, 4, 1, 2, 3, 3, 6, 1723817914.367686]\n",
      "saved to:SBIN/1/BSE/Depth\n",
      "Response: {'bid_price1': 1089.0, 'bid_price2': 1088.95, 'bid_price3': 1088.9, 'bid_price4': 1088.85, 'bid_price5': 1088.8, 'ask_price1': 1089.1, 'ask_price2': 1089.15, 'ask_price3': 1089.2, 'ask_price4': 1089.3, 'ask_price5': 1089.35, 'bid_size1': 176, 'bid_size2': 800, 'bid_size3': 239, 'bid_size4': 446, 'bid_size5': 260, 'ask_size1': 182, 'ask_size2': 552, 'ask_size3': 539, 'ask_size4': 265, 'ask_size5': 258, 'bid_order1': 13, 'bid_order2': 9, 'bid_order3': 7, 'bid_order4': 8, 'bid_order5': 7, 'ask_order1': 4, 'ask_order2': 4, 'ask_order3': 4, 'ask_order4': 8, 'ask_order5': 6, 'type': 'dp', 'symbol': 'NSE:TATAMOTORS-EQ'}\n",
      "[1089.0, 1088.95, 1088.9, 1088.85, 1088.8, 1089.1, 1089.15, 1089.2, 1089.3, 1089.35, 176, 800, 239, 446, 260, 182, 552, 539, 265, 258, 13, 9, 7, 8, 7, 4, 4, 4, 8, 6, 1723817914.531491]\n",
      "saved to:TATAMOTORS/1/NSE/Depth\n",
      "Response: {'bid_price1': 813.25, 'bid_price2': 813.15, 'bid_price3': 813.1, 'bid_price4': 813.05, 'bid_price5': 813.0, 'ask_price1': 813.35, 'ask_price2': 813.4, 'ask_price3': 813.45, 'ask_price4': 813.5, 'ask_price5': 813.55, 'bid_size1': 953, 'bid_size2': 1, 'bid_size3': 287, 'bid_size4': 1339, 'bid_size5': 18610, 'ask_size1': 285, 'ask_size2': 516, 'ask_size3': 1580, 'ask_size4': 2967, 'ask_size5': 1350, 'bid_order1': 1, 'bid_order2': 1, 'bid_order3': 2, 'bid_order4': 6, 'bid_order5': 51, 'ask_order1': 3, 'ask_order2': 5, 'ask_order3': 7, 'ask_order4': 22, 'ask_order5': 15, 'type': 'dp', 'symbol': 'NSE:SBIN-EQ'}\n",
      "[813.25, 813.15, 813.1, 813.05, 813.0, 813.35, 813.4, 813.45, 813.5, 813.55, 953, 1, 287, 1339, 18610, 285, 516, 1580, 2967, 1350, 1, 1, 2, 6, 51, 3, 5, 7, 22, 15, 1723817914.9334]\n",
      "saved to:SBIN/1/NSE/Depth\n",
      "Response: {'bid_price1': 812.9, 'bid_price2': 812.85, 'bid_price3': 812.8, 'bid_price4': 812.75, 'bid_price5': 812.7, 'ask_price1': 813.2, 'ask_price2': 813.25, 'ask_price3': 813.35, 'ask_price4': 813.4, 'ask_price5': 813.45, 'bid_size1': 370, 'bid_size2': 736, 'bid_size3': 523, 'bid_size4': 1328, 'bid_size5': 1280, 'ask_size1': 198, 'ask_size2': 1, 'ask_size3': 290, 'ask_size4': 605, 'ask_size5': 103, 'bid_order1': 8, 'bid_order2': 24, 'bid_order3': 8, 'bid_order4': 13, 'bid_order5': 6, 'ask_order1': 1, 'ask_order2': 1, 'ask_order3': 3, 'ask_order4': 5, 'ask_order5': 2, 'type': 'dp', 'symbol': 'BSE:SBIN-A'}\n",
      "[812.9, 812.85, 812.8, 812.75, 812.7, 813.2, 813.25, 813.35, 813.4, 813.45, 370, 736, 523, 1328, 1280, 198, 1, 290, 605, 103, 8, 24, 8, 13, 6, 1, 1, 3, 5, 2, 1723817915.152301]\n",
      "saved to:SBIN/1/BSE/Depth\n",
      "Response: {'bid_price1': 813.25, 'bid_price2': 813.15, 'bid_price3': 813.1, 'bid_price4': 813.05, 'bid_price5': 813.0, 'ask_price1': 813.35, 'ask_price2': 813.4, 'ask_price3': 813.45, 'ask_price4': 813.5, 'ask_price5': 813.55, 'bid_size1': 857, 'bid_size2': 1, 'bid_size3': 287, 'bid_size4': 1339, 'bid_size5': 18610, 'ask_size1': 283, 'ask_size2': 516, 'ask_size3': 1580, 'ask_size4': 2967, 'ask_size5': 1350, 'bid_order1': 1, 'bid_order2': 1, 'bid_order3': 2, 'bid_order4': 6, 'bid_order5': 51, 'ask_order1': 3, 'ask_order2': 5, 'ask_order3': 7, 'ask_order4': 22, 'ask_order5': 15, 'type': 'dp', 'symbol': 'NSE:SBIN-EQ'}\n",
      "[813.25, 813.15, 813.1, 813.05, 813.0, 813.35, 813.4, 813.45, 813.5, 813.55, 857, 1, 287, 1339, 18610, 283, 516, 1580, 2967, 1350, 1, 1, 2, 6, 51, 3, 5, 7, 22, 15, 1723817915.339664]\n",
      "saved to:SBIN/1/NSE/Depth\n",
      "Response: {'bid_price1': 1089.0, 'bid_price2': 1088.95, 'bid_price3': 1088.9, 'bid_price4': 1088.85, 'bid_price5': 1088.8, 'ask_price1': 1089.1, 'ask_price2': 1089.15, 'ask_price3': 1089.2, 'ask_price4': 1089.3, 'ask_price5': 1089.35, 'bid_size1': 149, 'bid_size2': 800, 'bid_size3': 148, 'bid_size4': 382, 'bid_size5': 188, 'ask_size1': 99, 'ask_size2': 552, 'ask_size3': 539, 'ask_size4': 265, 'ask_size5': 259, 'bid_order1': 13, 'bid_order2': 9, 'bid_order3': 6, 'bid_order4': 7, 'bid_order5': 6, 'ask_order1': 5, 'ask_order2': 4, 'ask_order3': 4, 'ask_order4': 8, 'ask_order5': 7, 'type': 'dp', 'symbol': 'NSE:TATAMOTORS-EQ'}\n",
      "[1089.0, 1088.95, 1088.9, 1088.85, 1088.8, 1089.1, 1089.15, 1089.2, 1089.3, 1089.35, 149, 800, 148, 382, 188, 99, 552, 539, 265, 259, 13, 9, 6, 7, 6, 5, 4, 4, 8, 7, 1723817915.340872]\n",
      "saved to:TATAMOTORS/1/NSE/Depth\n",
      "Response: {'bid_price1': 812.9, 'bid_price2': 812.85, 'bid_price3': 812.8, 'bid_price4': 812.75, 'bid_price5': 812.7, 'ask_price1': 813.2, 'ask_price2': 813.25, 'ask_price3': 813.35, 'ask_price4': 813.4, 'ask_price5': 813.45, 'bid_size1': 370, 'bid_size2': 619, 'bid_size3': 425, 'bid_size4': 1328, 'bid_size5': 1280, 'ask_size1': 198, 'ask_size2': 1, 'ask_size3': 290, 'ask_size4': 605, 'ask_size5': 103, 'bid_order1': 8, 'bid_order2': 17, 'bid_order3': 7, 'bid_order4': 13, 'bid_order5': 6, 'ask_order1': 1, 'ask_order2': 1, 'ask_order3': 3, 'ask_order4': 5, 'ask_order5': 2, 'type': 'dp', 'symbol': 'BSE:SBIN-A'}\n",
      "[812.9, 812.85, 812.8, 812.75, 812.7, 813.2, 813.25, 813.35, 813.4, 813.45, 370, 619, 425, 1328, 1280, 198, 1, 290, 605, 103, 8, 17, 7, 13, 6, 1, 1, 3, 5, 2, 1723817915.557945]\n",
      "saved to:SBIN/1/BSE/Depth\n",
      "Response: {'bid_price1': 813.25, 'bid_price2': 813.15, 'bid_price3': 813.1, 'bid_price4': 813.05, 'bid_price5': 813.0, 'ask_price1': 813.35, 'ask_price2': 813.4, 'ask_price3': 813.45, 'ask_price4': 813.5, 'ask_price5': 813.55, 'bid_size1': 809, 'bid_size2': 1, 'bid_size3': 58, 'bid_size4': 1339, 'bid_size5': 18610, 'ask_size1': 272, 'ask_size2': 470, 'ask_size3': 1661, 'ask_size4': 3085, 'ask_size5': 1436, 'bid_order1': 1, 'bid_order2': 1, 'bid_order3': 1, 'bid_order4': 6, 'bid_order5': 51, 'ask_order1': 3, 'ask_order2': 5, 'ask_order3': 8, 'ask_order4': 22, 'ask_order5': 17, 'type': 'dp', 'symbol': 'NSE:SBIN-EQ'}\n",
      "[813.25, 813.15, 813.1, 813.05, 813.0, 813.35, 813.4, 813.45, 813.5, 813.55, 809, 1, 58, 1339, 18610, 272, 470, 1661, 3085, 1436, 1, 1, 1, 6, 51, 3, 5, 8, 22, 17, 1723817916.164338]\n",
      "saved to:SBIN/1/NSE/Depth\n",
      "Response: {'bid_price1': 812.9, 'bid_price2': 812.85, 'bid_price3': 812.8, 'bid_price4': 812.75, 'bid_price5': 812.7, 'ask_price1': 813.2, 'ask_price2': 813.25, 'ask_price3': 813.35, 'ask_price4': 813.4, 'ask_price5': 813.45, 'bid_size1': 989, 'bid_size2': 1722, 'bid_size3': 1522, 'bid_size4': 1000, 'bid_size5': 1416, 'ask_size1': 198, 'ask_size2': 1, 'ask_size3': 98, 'ask_size4': 339, 'ask_size5': 439, 'bid_order1': 16, 'bid_order2': 20, 'bid_order3': 13, 'bid_order4': 8, 'bid_order5': 6, 'ask_order1': 1, 'ask_order2': 1, 'ask_order3': 2, 'ask_order4': 3, 'ask_order5': 4, 'type': 'dp', 'symbol': 'BSE:SBIN-A'}\n",
      "[812.9, 812.85, 812.8, 812.75, 812.7, 813.2, 813.25, 813.35, 813.4, 813.45, 989, 1722, 1522, 1000, 1416, 198, 1, 98, 339, 439, 16, 20, 13, 8, 6, 1, 1, 2, 3, 4, 1723817916.426546]\n",
      "saved to:SBIN/1/BSE/Depth\n",
      "Response: {'bid_price1': 1089.0, 'bid_price2': 1088.95, 'bid_price3': 1088.9, 'bid_price4': 1088.85, 'bid_price5': 1088.8, 'ask_price1': 1089.1, 'ask_price2': 1089.15, 'ask_price3': 1089.2, 'ask_price4': 1089.3, 'ask_price5': 1089.35, 'bid_size1': 153, 'bid_size2': 250, 'bid_size3': 148, 'bid_size4': 423, 'bid_size5': 125, 'ask_size1': 44, 'ask_size2': 552, 'ask_size3': 539, 'ask_size4': 265, 'ask_size5': 435, 'bid_order1': 14, 'bid_order2': 8, 'bid_order3': 6, 'bid_order4': 8, 'bid_order5': 5, 'ask_order1': 1, 'ask_order2': 4, 'ask_order3': 4, 'ask_order4': 8, 'ask_order5': 8, 'type': 'dp', 'symbol': 'NSE:TATAMOTORS-EQ'}\n",
      "[1089.0, 1088.95, 1088.9, 1088.85, 1088.8, 1089.1, 1089.15, 1089.2, 1089.3, 1089.35, 153, 250, 148, 423, 125, 44, 552, 539, 265, 435, 14, 8, 6, 8, 5, 1, 4, 4, 8, 8, 1723817916.535209]\n",
      "saved to:TATAMOTORS/1/NSE/Depth\n",
      "Response: {'bid_price1': 812.9, 'bid_price2': 812.85, 'bid_price3': 812.8, 'bid_price4': 812.75, 'bid_price5': 812.7, 'ask_price1': 813.2, 'ask_price2': 813.25, 'ask_price3': 813.35, 'ask_price4': 813.4, 'ask_price5': 813.45, 'bid_size1': 989, 'bid_size2': 1742, 'bid_size3': 1419, 'bid_size4': 1468, 'bid_size5': 948, 'ask_size1': 198, 'ask_size2': 1, 'ask_size3': 290, 'ask_size4': 147, 'ask_size5': 439, 'bid_order1': 16, 'bid_order2': 21, 'bid_order3': 12, 'bid_order4': 9, 'bid_order5': 5, 'ask_order1': 1, 'ask_order2': 1, 'ask_order3': 3, 'ask_order4': 2, 'ask_order5': 4, 'type': 'dp', 'symbol': 'BSE:SBIN-A'}\n",
      "[812.9, 812.85, 812.8, 812.75, 812.7, 813.2, 813.25, 813.35, 813.4, 813.45, 989, 1742, 1419, 1468, 948, 198, 1, 290, 147, 439, 16, 21, 12, 9, 5, 1, 1, 3, 2, 4, 1723817916.715167]\n",
      "saved to:SBIN/1/BSE/Depth\n",
      "Response: {'bid_price1': 1089.0, 'bid_price2': 1088.95, 'bid_price3': 1088.9, 'bid_price4': 1088.85, 'bid_price5': 1088.8, 'ask_price1': 1089.1, 'ask_price2': 1089.15, 'ask_price3': 1089.2, 'ask_price4': 1089.3, 'ask_price5': 1089.35, 'bid_size1': 196, 'bid_size2': 250, 'bid_size3': 148, 'bid_size4': 423, 'bid_size5': 125, 'ask_size1': 55, 'ask_size2': 552, 'ask_size3': 539, 'ask_size4': 265, 'ask_size5': 435, 'bid_order1': 15, 'bid_order2': 8, 'bid_order3': 6, 'bid_order4': 8, 'bid_order5': 5, 'ask_order1': 2, 'ask_order2': 4, 'ask_order3': 4, 'ask_order4': 8, 'ask_order5': 8, 'type': 'dp', 'symbol': 'NSE:TATAMOTORS-EQ'}\n",
      "[1089.0, 1088.95, 1088.9, 1088.85, 1088.8, 1089.1, 1089.15, 1089.2, 1089.3, 1089.35, 196, 250, 148, 423, 125, 55, 552, 539, 265, 435, 15, 8, 6, 8, 5, 2, 4, 4, 8, 8, 1723817916.939888]\n",
      "saved to:TATAMOTORS/1/NSE/Depth\n",
      "Response: {'bid_price1': 813.3, 'bid_price2': 813.25, 'bid_price3': 813.2, 'bid_price4': 813.15, 'bid_price5': 813.1, 'ask_price1': 813.35, 'ask_price2': 813.4, 'ask_price3': 813.45, 'ask_price4': 813.5, 'ask_price5': 813.55, 'bid_size1': 8, 'bid_size2': 809, 'bid_size3': 1, 'bid_size4': 10, 'bid_size5': 250, 'ask_size1': 66, 'ask_size2': 44, 'ask_size3': 1725, 'ask_size4': 2768, 'ask_size5': 1033, 'bid_order1': 1, 'bid_order2': 1, 'bid_order3': 1, 'bid_order4': 2, 'bid_order5': 2, 'ask_order1': 1, 'ask_order2': 1, 'ask_order3': 8, 'ask_order4': 18, 'ask_order5': 11, 'type': 'dp', 'symbol': 'NSE:SBIN-EQ'}\n",
      "[813.3, 813.25, 813.2, 813.15, 813.1, 813.35, 813.4, 813.45, 813.5, 813.55, 8, 809, 1, 10, 250, 66, 44, 1725, 2768, 1033, 1, 1, 1, 2, 2, 1, 1, 8, 18, 11, 1723817917.351157]\n",
      "saved to:SBIN/1/NSE/Depth\n",
      "Response: {'bid_price1': 812.9, 'bid_price2': 812.85, 'bid_price3': 812.8, 'bid_price4': 812.75, 'bid_price5': 812.7, 'ask_price1': 813.2, 'ask_price2': 813.25, 'ask_price3': 813.35, 'ask_price4': 813.4, 'ask_price5': 813.45, 'bid_size1': 912, 'bid_size2': 1797, 'bid_size3': 1389, 'bid_size4': 1000, 'bid_size5': 1416, 'ask_size1': 198, 'ask_size2': 1, 'ask_size3': 290, 'ask_size4': 147, 'ask_size5': 439, 'bid_order1': 11, 'bid_order2': 23, 'bid_order3': 12, 'bid_order4': 8, 'bid_order5': 6, 'ask_order1': 1, 'ask_order2': 1, 'ask_order3': 3, 'ask_order4': 2, 'ask_order5': 4, 'type': 'dp', 'symbol': 'BSE:SBIN-A'}\n",
      "[812.9, 812.85, 812.8, 812.75, 812.7, 813.2, 813.25, 813.35, 813.4, 813.45, 912, 1797, 1389, 1000, 1416, 198, 1, 290, 147, 439, 11, 23, 12, 8, 6, 1, 1, 3, 2, 4, 1723817917.521614]\n",
      "saved to:SBIN/1/BSE/Depth\n",
      "Response: {'bid_price1': 1089.0, 'bid_price2': 1088.95, 'bid_price3': 1088.9, 'bid_price4': 1088.85, 'bid_price5': 1088.8, 'ask_price1': 1089.1, 'ask_price2': 1089.15, 'ask_price3': 1089.2, 'ask_price4': 1089.3, 'ask_price5': 1089.35, 'bid_size1': 188, 'bid_size2': 250, 'bid_size3': 148, 'bid_size4': 423, 'bid_size5': 120, 'ask_size1': 51, 'ask_size2': 552, 'ask_size3': 539, 'ask_size4': 265, 'ask_size5': 435, 'bid_order1': 14, 'bid_order2': 8, 'bid_order3': 6, 'bid_order4': 8, 'bid_order5': 4, 'ask_order1': 2, 'ask_order2': 4, 'ask_order3': 4, 'ask_order4': 8, 'ask_order5': 8, 'type': 'dp', 'symbol': 'NSE:TATAMOTORS-EQ'}\n",
      "[1089.0, 1088.95, 1088.9, 1088.85, 1088.8, 1089.1, 1089.15, 1089.2, 1089.3, 1089.35, 188, 250, 148, 423, 120, 51, 552, 539, 265, 435, 14, 8, 6, 8, 4, 2, 4, 4, 8, 8, 1723817917.837126]\n",
      "saved to:TATAMOTORS/1/NSE/Depth\n",
      "Response: {'bid_price1': 812.9, 'bid_price2': 812.85, 'bid_price3': 812.8, 'bid_price4': 812.75, 'bid_price5': 812.7, 'ask_price1': 813.2, 'ask_price2': 813.25, 'ask_price3': 813.35, 'ask_price4': 813.4, 'ask_price5': 813.45, 'bid_size1': 892, 'bid_size2': 1915, 'bid_size3': 1379, 'bid_size4': 1000, 'bid_size5': 1416, 'ask_size1': 198, 'ask_size2': 1, 'ask_size3': 98, 'ask_size4': 241, 'ask_size5': 341, 'bid_order1': 9, 'bid_order2': 26, 'bid_order3': 12, 'bid_order4': 8, 'bid_order5': 6, 'ask_order1': 1, 'ask_order2': 1, 'ask_order3': 2, 'ask_order4': 2, 'ask_order5': 3, 'type': 'dp', 'symbol': 'BSE:SBIN-A'}\n",
      "[812.9, 812.85, 812.8, 812.75, 812.7, 813.2, 813.25, 813.35, 813.4, 813.45, 892, 1915, 1379, 1000, 1416, 198, 1, 98, 241, 341, 9, 26, 12, 8, 6, 1, 1, 2, 2, 3, 1723817917.967138]\n",
      "saved to:SBIN/1/BSE/Depth\n",
      "Response: {'bid_price1': 813.3, 'bid_price2': 813.25, 'bid_price3': 813.2, 'bid_price4': 813.15, 'bid_price5': 813.1, 'ask_price1': 813.4, 'ask_price2': 813.45, 'ask_price3': 813.5, 'ask_price4': 813.55, 'ask_price5': 813.6, 'bid_size1': 4, 'bid_size2': 819, 'bid_size3': 1, 'bid_size4': 1, 'bid_size5': 250, 'ask_size1': 20, 'ask_size2': 1205, 'ask_size3': 2701, 'ask_size4': 1280, 'ask_size5': 1801, 'bid_order1': 1, 'bid_order2': 2, 'bid_order3': 1, 'bid_order4': 1, 'bid_order5': 2, 'ask_order1': 1, 'ask_order2': 7, 'ask_order3': 16, 'ask_order4': 9, 'ask_order5': 18, 'type': 'dp', 'symbol': 'NSE:SBIN-EQ'}\n",
      "[813.3, 813.25, 813.2, 813.15, 813.1, 813.4, 813.45, 813.5, 813.55, 813.6, 4, 819, 1, 1, 250, 20, 1205, 2701, 1280, 1801, 1, 2, 1, 1, 2, 1, 7, 16, 9, 18, 1723817918.13288]\n",
      "saved to:SBIN/1/NSE/Depth\n",
      "Response: {'bid_price1': 1089.0, 'bid_price2': 1088.95, 'bid_price3': 1088.9, 'bid_price4': 1088.85, 'bid_price5': 1088.8, 'ask_price1': 1089.1, 'ask_price2': 1089.15, 'ask_price3': 1089.2, 'ask_price4': 1089.3, 'ask_price5': 1089.35, 'bid_size1': 187, 'bid_size2': 250, 'bid_size3': 148, 'bid_size4': 423, 'bid_size5': 120, 'ask_size1': 98, 'ask_size2': 552, 'ask_size3': 539, 'ask_size4': 265, 'ask_size5': 435, 'bid_order1': 14, 'bid_order2': 8, 'bid_order3': 6, 'bid_order4': 8, 'bid_order5': 4, 'ask_order1': 4, 'ask_order2': 4, 'ask_order3': 4, 'ask_order4': 8, 'ask_order5': 8, 'type': 'dp', 'symbol': 'NSE:TATAMOTORS-EQ'}\n",
      "[1089.0, 1088.95, 1088.9, 1088.85, 1088.8, 1089.1, 1089.15, 1089.2, 1089.3, 1089.35, 187, 250, 148, 423, 120, 98, 552, 539, 265, 435, 14, 8, 6, 8, 4, 4, 4, 4, 8, 8, 1723817918.544082]\n",
      "saved to:TATAMOTORS/1/NSE/Depth\n",
      "Response: {'bid_price1': 813.25, 'bid_price2': 813.2, 'bid_price3': 813.15, 'bid_price4': 813.05, 'bid_price5': 813.0, 'ask_price1': 813.3, 'ask_price2': 813.35, 'ask_price3': 813.4, 'ask_price4': 813.45, 'ask_price5': 813.5, 'bid_size1': 779, 'bid_size2': 1, 'bid_size3': 1, 'bid_size4': 1638, 'bid_size5': 17517, 'ask_size1': 1, 'ask_size2': 10, 'ask_size3': 150, 'ask_size4': 1320, 'ask_size5': 2768, 'bid_order1': 2, 'bid_order2': 1, 'bid_order3': 1, 'bid_order4': 7, 'bid_order5': 49, 'ask_order1': 1, 'ask_order2': 1, 'ask_order3': 2, 'ask_order4': 7, 'ask_order5': 18, 'type': 'dp', 'symbol': 'NSE:SBIN-EQ'}\n",
      "[813.25, 813.2, 813.15, 813.05, 813.0, 813.3, 813.35, 813.4, 813.45, 813.5, 779, 1, 1, 1638, 17517, 1, 10, 150, 1320, 2768, 2, 1, 1, 7, 49, 1, 1, 2, 7, 18, 1723817918.967275]\n",
      "saved to:SBIN/1/NSE/Depth\n",
      "Response: {'bid_price1': 1089.0, 'bid_price2': 1088.95, 'bid_price3': 1088.9, 'bid_price4': 1088.85, 'bid_price5': 1088.8, 'ask_price1': 1089.1, 'ask_price2': 1089.15, 'ask_price3': 1089.2, 'ask_price4': 1089.3, 'ask_price5': 1089.35, 'bid_size1': 187, 'bid_size2': 250, 'bid_size3': 148, 'bid_size4': 423, 'bid_size5': 120, 'ask_size1': 103, 'ask_size2': 552, 'ask_size3': 539, 'ask_size4': 265, 'ask_size5': 435, 'bid_order1': 14, 'bid_order2': 8, 'bid_order3': 6, 'bid_order4': 8, 'bid_order5': 4, 'ask_order1': 5, 'ask_order2': 4, 'ask_order3': 4, 'ask_order4': 8, 'ask_order5': 8, 'type': 'dp', 'symbol': 'NSE:TATAMOTORS-EQ'}\n",
      "[1089.0, 1088.95, 1088.9, 1088.85, 1088.8, 1089.1, 1089.15, 1089.2, 1089.3, 1089.35, 187, 250, 148, 423, 120, 103, 552, 539, 265, 435, 14, 8, 6, 8, 4, 5, 4, 4, 8, 8, 1723817918.969198]\n",
      "saved to:TATAMOTORS/1/NSE/Depth\n",
      "Response: {'bid_price1': 812.9, 'bid_price2': 812.85, 'bid_price3': 812.8, 'bid_price4': 812.75, 'bid_price5': 812.7, 'ask_price1': 813.2, 'ask_price2': 813.25, 'ask_price3': 813.35, 'ask_price4': 813.4, 'ask_price5': 813.45, 'bid_size1': 350, 'bid_size2': 454, 'bid_size3': 425, 'bid_size4': 1328, 'bid_size5': 1181, 'ask_size1': 198, 'ask_size2': 66, 'ask_size3': 626, 'ask_size4': 49, 'ask_size5': 103, 'bid_order1': 6, 'bid_order2': 5, 'bid_order3': 7, 'bid_order4': 13, 'bid_order5': 5, 'ask_order1': 1, 'ask_order2': 2, 'ask_order3': 5, 'ask_order4': 1, 'ask_order5': 2, 'type': 'dp', 'symbol': 'BSE:SBIN-A'}\n",
      "[812.9, 812.85, 812.8, 812.75, 812.7, 813.2, 813.25, 813.35, 813.4, 813.45, 350, 454, 425, 1328, 1181, 198, 66, 626, 49, 103, 6, 5, 7, 13, 5, 1, 2, 5, 1, 2, 1723817919.165322]\n",
      "saved to:SBIN/1/BSE/Depth\n",
      "Response: {'bid_price1': 1089.0, 'bid_price2': 1088.95, 'bid_price3': 1088.9, 'bid_price4': 1088.85, 'bid_price5': 1088.8, 'ask_price1': 1089.05, 'ask_price2': 1089.1, 'ask_price3': 1089.15, 'ask_price4': 1089.2, 'ask_price5': 1089.3, 'bid_size1': 121, 'bid_size2': 250, 'bid_size3': 239, 'bid_size4': 423, 'bid_size5': 168, 'ask_size1': 10, 'ask_size2': 103, 'ask_size3': 552, 'ask_size4': 539, 'ask_size5': 265, 'bid_order1': 7, 'bid_order2': 8, 'bid_order3': 7, 'bid_order4': 8, 'bid_order5': 6, 'ask_order1': 2, 'ask_order2': 5, 'ask_order3': 4, 'ask_order4': 4, 'ask_order5': 8, 'type': 'dp', 'symbol': 'NSE:TATAMOTORS-EQ'}\n",
      "[1089.0, 1088.95, 1088.9, 1088.85, 1088.8, 1089.05, 1089.1, 1089.15, 1089.2, 1089.3, 121, 250, 239, 423, 168, 10, 103, 552, 539, 265, 7, 8, 7, 8, 6, 2, 5, 4, 4, 8, 1723817919.86253]\n",
      "saved to:TATAMOTORS/1/NSE/Depth\n",
      "Response: {'bid_price1': 813.3, 'bid_price2': 813.25, 'bid_price3': 813.2, 'bid_price4': 813.05, 'bid_price5': 813.0, 'ask_price1': 813.35, 'ask_price2': 813.4, 'ask_price3': 813.45, 'ask_price4': 813.5, 'ask_price5': 813.55, 'bid_size1': 11, 'bid_size2': 774, 'bid_size3': 1, 'bid_size4': 1663, 'bid_size5': 18292, 'ask_size1': 7, 'ask_size2': 20, 'ask_size3': 1205, 'ask_size4': 3279, 'ask_size5': 1091, 'bid_order1': 1, 'bid_order2': 2, 'bid_order3': 1, 'bid_order4': 8, 'bid_order5': 50, 'ask_order1': 1, 'ask_order2': 1, 'ask_order3': 7, 'ask_order4': 18, 'ask_order5': 14, 'type': 'dp', 'symbol': 'NSE:SBIN-EQ'}\n",
      "[813.3, 813.25, 813.2, 813.05, 813.0, 813.35, 813.4, 813.45, 813.5, 813.55, 11, 774, 1, 1663, 18292, 7, 20, 1205, 3279, 1091, 1, 2, 1, 8, 50, 1, 1, 7, 18, 14, 1723817920.477027]\n",
      "saved to:SBIN/1/NSE/Depth\n",
      "Response: {'bid_price1': 1089.0, 'bid_price2': 1088.95, 'bid_price3': 1088.9, 'bid_price4': 1088.85, 'bid_price5': 1088.8, 'ask_price1': 1089.05, 'ask_price2': 1089.1, 'ask_price3': 1089.15, 'ask_price4': 1089.2, 'ask_price5': 1089.3, 'bid_size1': 152, 'bid_size2': 250, 'bid_size3': 148, 'bid_size4': 423, 'bid_size5': 202, 'ask_size1': 9, 'ask_size2': 103, 'ask_size3': 552, 'ask_size4': 539, 'ask_size5': 265, 'bid_order1': 7, 'bid_order2': 8, 'bid_order3': 6, 'bid_order4': 8, 'bid_order5': 5, 'ask_order1': 2, 'ask_order2': 5, 'ask_order3': 4, 'ask_order4': 4, 'ask_order5': 8, 'type': 'dp', 'symbol': 'NSE:TATAMOTORS-EQ'}\n",
      "[1089.0, 1088.95, 1088.9, 1088.85, 1088.8, 1089.05, 1089.1, 1089.15, 1089.2, 1089.3, 152, 250, 148, 423, 202, 9, 103, 552, 539, 265, 7, 8, 6, 8, 5, 2, 5, 4, 4, 8, 1723817920.480419]\n",
      "saved to:TATAMOTORS/1/NSE/Depth\n",
      "Response: {'bid_price1': 812.9, 'bid_price2': 812.85, 'bid_price3': 812.8, 'bid_price4': 812.75, 'bid_price5': 812.7, 'ask_price1': 813.2, 'ask_price2': 813.25, 'ask_price3': 813.35, 'ask_price4': 813.4, 'ask_price5': 813.45, 'bid_size1': 1010, 'bid_size2': 1797, 'bid_size3': 1394, 'bid_size4': 1000, 'bid_size5': 1416, 'ask_size1': 198, 'ask_size2': 66, 'ask_size3': 98, 'ask_size4': 241, 'ask_size5': 439, 'bid_order1': 12, 'bid_order2': 23, 'bid_order3': 12, 'bid_order4': 8, 'bid_order5': 6, 'ask_order1': 1, 'ask_order2': 2, 'ask_order3': 2, 'ask_order4': 2, 'ask_order5': 4, 'type': 'dp', 'symbol': 'BSE:SBIN-A'}\n",
      "[812.9, 812.85, 812.8, 812.75, 812.7, 813.2, 813.25, 813.35, 813.4, 813.45, 1010, 1797, 1394, 1000, 1416, 198, 66, 98, 241, 439, 12, 23, 12, 8, 6, 1, 2, 2, 2, 4, 1723817920.482389]\n",
      "saved to:SBIN/1/BSE/Depth\n",
      "Response: {'bid_price1': 813.3, 'bid_price2': 813.25, 'bid_price3': 813.2, 'bid_price4': 813.05, 'bid_price5': 813.0, 'ask_price1': 813.35, 'ask_price2': 813.4, 'ask_price3': 813.45, 'ask_price4': 813.5, 'ask_price5': 813.55, 'bid_size1': 11, 'bid_size2': 774, 'bid_size3': 1, 'bid_size4': 1663, 'bid_size5': 18301, 'ask_size1': 7, 'ask_size2': 20, 'ask_size3': 1311, 'ask_size4': 3279, 'ask_size5': 1091, 'bid_order1': 1, 'bid_order2': 2, 'bid_order3': 1, 'bid_order4': 8, 'bid_order5': 51, 'ask_order1': 1, 'ask_order2': 1, 'ask_order3': 8, 'ask_order4': 18, 'ask_order5': 14, 'type': 'dp', 'symbol': 'NSE:SBIN-EQ'}\n",
      "[813.3, 813.25, 813.2, 813.05, 813.0, 813.35, 813.4, 813.45, 813.5, 813.55, 11, 774, 1, 1663, 18301, 7, 20, 1311, 3279, 1091, 1, 2, 1, 8, 51, 1, 1, 8, 18, 14, 1723817920.540878]\n",
      "saved to:SBIN/1/NSE/Depth\n",
      "Response: {'bid_price1': 1089.0, 'bid_price2': 1088.95, 'bid_price3': 1088.9, 'bid_price4': 1088.85, 'bid_price5': 1088.8, 'ask_price1': 1089.05, 'ask_price2': 1089.1, 'ask_price3': 1089.15, 'ask_price4': 1089.2, 'ask_price5': 1089.3, 'bid_size1': 154, 'bid_size2': 250, 'bid_size3': 698, 'bid_size4': 423, 'bid_size5': 202, 'ask_size1': 10, 'ask_size2': 85, 'ask_size3': 552, 'ask_size4': 639, 'ask_size5': 265, 'bid_order1': 8, 'bid_order2': 8, 'bid_order3': 7, 'bid_order4': 8, 'bid_order5': 5, 'ask_order1': 3, 'ask_order2': 2, 'ask_order3': 4, 'ask_order4': 5, 'ask_order5': 8, 'type': 'dp', 'symbol': 'NSE:TATAMOTORS-EQ'}\n",
      "[1089.0, 1088.95, 1088.9, 1088.85, 1088.8, 1089.05, 1089.1, 1089.15, 1089.2, 1089.3, 154, 250, 698, 423, 202, 10, 85, 552, 639, 265, 8, 8, 7, 8, 5, 3, 2, 4, 5, 8, 1723817921.094484]\n",
      "saved to:TATAMOTORS/1/NSE/Depth\n",
      "Response: {'bid_price1': 813.3, 'bid_price2': 813.25, 'bid_price3': 813.2, 'bid_price4': 813.05, 'bid_price5': 813.0, 'ask_price1': 813.4, 'ask_price2': 813.45, 'ask_price3': 813.5, 'ask_price4': 813.55, 'ask_price5': 813.6, 'bid_size1': 9, 'bid_size2': 774, 'bid_size3': 1, 'bid_size4': 1850, 'bid_size5': 18369, 'ask_size1': 213, 'ask_size2': 1181, 'ask_size3': 3284, 'ask_size4': 962, 'ask_size5': 1669, 'bid_order1': 1, 'bid_order2': 2, 'bid_order3': 1, 'bid_order4': 9, 'bid_order5': 52, 'ask_order1': 3, 'ask_order2': 7, 'ask_order3': 19, 'ask_order4': 13, 'ask_order5': 14, 'type': 'dp', 'symbol': 'NSE:SBIN-EQ'}\n",
      "[813.3, 813.25, 813.2, 813.05, 813.0, 813.4, 813.45, 813.5, 813.55, 813.6, 9, 774, 1, 1850, 18369, 213, 1181, 3284, 962, 1669, 1, 2, 1, 9, 52, 3, 7, 19, 13, 14, 1723817921.399064]\n",
      "saved to:SBIN/1/NSE/Depth\n",
      "Response: {'bid_price1': 812.9, 'bid_price2': 812.85, 'bid_price3': 812.8, 'bid_price4': 812.75, 'bid_price5': 812.7, 'ask_price1': 813.2, 'ask_price2': 813.25, 'ask_price3': 813.35, 'ask_price4': 813.4, 'ask_price5': 813.45, 'bid_size1': 1010, 'bid_size2': 1807, 'bid_size3': 1389, 'bid_size4': 1000, 'bid_size5': 1416, 'ask_size1': 198, 'ask_size2': 66, 'ask_size3': 290, 'ask_size4': 217, 'ask_size5': 271, 'bid_order1': 12, 'bid_order2': 24, 'bid_order3': 12, 'bid_order4': 8, 'bid_order5': 6, 'ask_order1': 1, 'ask_order2': 2, 'ask_order3': 3, 'ask_order4': 2, 'ask_order5': 3, 'type': 'dp', 'symbol': 'BSE:SBIN-A'}\n",
      "[812.9, 812.85, 812.8, 812.75, 812.7, 813.2, 813.25, 813.35, 813.4, 813.45, 1010, 1807, 1389, 1000, 1416, 198, 66, 290, 217, 271, 12, 24, 12, 8, 6, 1, 2, 3, 2, 3, 1723817921.689237]\n",
      "saved to:SBIN/1/BSE/Depth\n",
      "Response: {'bid_price1': 1089.0, 'bid_price2': 1088.95, 'bid_price3': 1088.9, 'bid_price4': 1088.85, 'bid_price5': 1088.8, 'ask_price1': 1089.05, 'ask_price2': 1089.1, 'ask_price3': 1089.15, 'ask_price4': 1089.2, 'ask_price5': 1089.3, 'bid_size1': 122, 'bid_size2': 250, 'bid_size3': 698, 'bid_size4': 423, 'bid_size5': 202, 'ask_size1': 12, 'ask_size2': 85, 'ask_size3': 552, 'ask_size4': 639, 'ask_size5': 265, 'bid_order1': 8, 'bid_order2': 8, 'bid_order3': 7, 'bid_order4': 8, 'bid_order5': 5, 'ask_order1': 4, 'ask_order2': 2, 'ask_order3': 4, 'ask_order4': 5, 'ask_order5': 8, 'type': 'dp', 'symbol': 'NSE:TATAMOTORS-EQ'}\n",
      "[1089.0, 1088.95, 1088.9, 1088.85, 1088.8, 1089.05, 1089.1, 1089.15, 1089.2, 1089.3, 122, 250, 698, 423, 202, 12, 85, 552, 639, 265, 8, 8, 7, 8, 5, 4, 2, 4, 5, 8, 1723817921.73983]\n",
      "saved to:TATAMOTORS/1/NSE/Depth\n",
      "Response: {'bid_price1': 813.25, 'bid_price2': 813.2, 'bid_price3': 813.1, 'bid_price4': 813.05, 'bid_price5': 813.0, 'ask_price1': 813.4, 'ask_price2': 813.45, 'ask_price3': 813.5, 'ask_price4': 813.55, 'ask_price5': 813.6, 'bid_size1': 771, 'bid_size2': 1, 'bid_size3': 375, 'bid_size4': 1720, 'bid_size5': 18374, 'ask_size1': 11, 'ask_size2': 1560, 'ask_size3': 3048, 'ask_size4': 875, 'ask_size5': 1823, 'bid_order1': 2, 'bid_order2': 1, 'bid_order3': 2, 'bid_order4': 8, 'bid_order5': 53, 'ask_order1': 1, 'ask_order2': 9, 'ask_order3': 19, 'ask_order4': 12, 'ask_order5': 15, 'type': 'dp', 'symbol': 'NSE:SBIN-EQ'}\n",
      "[813.25, 813.2, 813.1, 813.05, 813.0, 813.4, 813.45, 813.5, 813.55, 813.6, 771, 1, 375, 1720, 18374, 11, 1560, 3048, 875, 1823, 2, 1, 2, 8, 53, 1, 9, 19, 12, 15, 1723817922.145421]\n",
      "saved to:SBIN/1/NSE/Depth\n",
      "Response: {'bid_price1': 1089.0, 'bid_price2': 1088.95, 'bid_price3': 1088.9, 'bid_price4': 1088.85, 'bid_price5': 1088.8, 'ask_price1': 1089.05, 'ask_price2': 1089.1, 'ask_price3': 1089.15, 'ask_price4': 1089.2, 'ask_price5': 1089.3, 'bid_size1': 121, 'bid_size2': 250, 'bid_size3': 698, 'bid_size4': 382, 'bid_size5': 159, 'ask_size1': 12, 'ask_size2': 85, 'ask_size3': 552, 'ask_size4': 639, 'ask_size5': 265, 'bid_order1': 8, 'bid_order2': 8, 'bid_order3': 7, 'bid_order4': 7, 'bid_order5': 4, 'ask_order1': 4, 'ask_order2': 2, 'ask_order3': 4, 'ask_order4': 5, 'ask_order5': 8, 'type': 'dp', 'symbol': 'NSE:TATAMOTORS-EQ'}\n",
      "[1089.0, 1088.95, 1088.9, 1088.85, 1088.8, 1089.05, 1089.1, 1089.15, 1089.2, 1089.3, 121, 250, 698, 382, 159, 12, 85, 552, 639, 265, 8, 8, 7, 7, 4, 4, 2, 4, 5, 8, 1723817922.148176]\n",
      "saved to:TATAMOTORS/1/NSE/Depth\n",
      "Response: {'bid_price1': 813.25, 'bid_price2': 813.2, 'bid_price3': 813.15, 'bid_price4': 813.05, 'bid_price5': 813.0, 'ask_price1': 813.4, 'ask_price2': 813.45, 'ask_price3': 813.5, 'ask_price4': 813.55, 'ask_price5': 813.6, 'bid_size1': 771, 'bid_size2': 1, 'bid_size3': 254, 'bid_size4': 1850, 'bid_size5': 18502, 'ask_size1': 11, 'ask_size2': 1560, 'ask_size3': 2981, 'ask_size4': 814, 'ask_size5': 1613, 'bid_order1': 2, 'bid_order2': 1, 'bid_order3': 2, 'bid_order4': 9, 'bid_order5': 53, 'ask_order1': 1, 'ask_order2': 9, 'ask_order3': 17, 'ask_order4': 11, 'ask_order5': 12, 'type': 'dp', 'symbol': 'NSE:SBIN-EQ'}\n",
      "[813.25, 813.2, 813.15, 813.05, 813.0, 813.4, 813.45, 813.5, 813.55, 813.6, 771, 1, 254, 1850, 18502, 11, 1560, 2981, 814, 1613, 2, 1, 2, 9, 53, 1, 9, 17, 11, 12, 1723817922.551643]\n",
      "saved to:SBIN/1/NSE/Depth\n",
      "Response: {'bid_price1': 812.9, 'bid_price2': 812.85, 'bid_price3': 812.8, 'bid_price4': 812.75, 'bid_price5': 812.7, 'ask_price1': 813.2, 'ask_price2': 813.25, 'ask_price3': 813.35, 'ask_price4': 813.4, 'ask_price5': 813.45, 'bid_size1': 370, 'bid_size2': 726, 'bid_size3': 425, 'bid_size4': 1328, 'bid_size5': 1280, 'ask_size1': 198, 'ask_size2': 66, 'ask_size3': 626, 'ask_size4': 49, 'ask_size5': 103, 'bid_order1': 8, 'bid_order2': 19, 'bid_order3': 7, 'bid_order4': 13, 'bid_order5': 6, 'ask_order1': 1, 'ask_order2': 2, 'ask_order3': 5, 'ask_order4': 1, 'ask_order5': 2, 'type': 'dp', 'symbol': 'BSE:SBIN-A'}\n",
      "[812.9, 812.85, 812.8, 812.75, 812.7, 813.2, 813.25, 813.35, 813.4, 813.45, 370, 726, 425, 1328, 1280, 198, 66, 626, 49, 103, 8, 19, 7, 13, 6, 1, 2, 5, 1, 2, 1723817922.930744]\n",
      "saved to:SBIN/1/BSE/Depth\n",
      "Response: {'bid_price1': 1089.0, 'bid_price2': 1088.95, 'bid_price3': 1088.9, 'bid_price4': 1088.85, 'bid_price5': 1088.8, 'ask_price1': 1089.05, 'ask_price2': 1089.1, 'ask_price3': 1089.15, 'ask_price4': 1089.2, 'ask_price5': 1089.3, 'bid_size1': 143, 'bid_size2': 250, 'bid_size3': 698, 'bid_size4': 423, 'bid_size5': 159, 'ask_size1': 3, 'ask_size2': 37, 'ask_size3': 552, 'ask_size4': 639, 'ask_size5': 265, 'bid_order1': 6, 'bid_order2': 8, 'bid_order3': 7, 'bid_order4': 8, 'bid_order5': 4, 'ask_order1': 2, 'ask_order2': 1, 'ask_order3': 4, 'ask_order4': 5, 'ask_order5': 8, 'type': 'dp', 'symbol': 'NSE:TATAMOTORS-EQ'}\n",
      "[1089.0, 1088.95, 1088.9, 1088.85, 1088.8, 1089.05, 1089.1, 1089.15, 1089.2, 1089.3, 143, 250, 698, 423, 159, 3, 37, 552, 639, 265, 6, 8, 7, 8, 4, 2, 1, 4, 5, 8, 1723817923.041856]\n",
      "saved to:TATAMOTORS/1/NSE/Depth\n",
      "Response: {'bid_price1': 812.9, 'bid_price2': 812.85, 'bid_price3': 812.8, 'bid_price4': 812.75, 'bid_price5': 812.7, 'ask_price1': 813.2, 'ask_price2': 813.25, 'ask_price3': 813.35, 'ask_price4': 813.4, 'ask_price5': 813.45, 'bid_size1': 370, 'bid_size2': 628, 'bid_size3': 947, 'bid_size4': 1937, 'bid_size5': 1214, 'ask_size1': 198, 'ask_size2': 66, 'ask_size3': 626, 'ask_size4': 49, 'ask_size5': 103, 'bid_order1': 8, 'bid_order2': 18, 'bid_order3': 8, 'bid_order4': 15, 'bid_order5': 5, 'ask_order1': 1, 'ask_order2': 2, 'ask_order3': 5, 'ask_order4': 1, 'ask_order5': 2, 'type': 'dp', 'symbol': 'BSE:SBIN-A'}\n",
      "[812.9, 812.85, 812.8, 812.75, 812.7, 813.2, 813.25, 813.35, 813.4, 813.45, 370, 628, 947, 1937, 1214, 198, 66, 626, 49, 103, 8, 18, 8, 15, 5, 1, 2, 5, 1, 2, 1723817923.23055]\n",
      "saved to:SBIN/1/BSE/Depth\n",
      "Response: {'bid_price1': 813.25, 'bid_price2': 813.2, 'bid_price3': 813.15, 'bid_price4': 813.1, 'bid_price5': 813.05, 'ask_price1': 813.4, 'ask_price2': 813.45, 'ask_price3': 813.5, 'ask_price4': 813.55, 'ask_price5': 813.6, 'bid_size1': 741, 'bid_size2': 1, 'bid_size3': 254, 'bid_size4': 375, 'bid_size5': 1720, 'ask_size1': 43, 'ask_size2': 1185, 'ask_size3': 2981, 'ask_size4': 814, 'ask_size5': 1466, 'bid_order1': 1, 'bid_order2': 1, 'bid_order3': 2, 'bid_order4': 2, 'bid_order5': 8, 'ask_order1': 1, 'ask_order2': 7, 'ask_order3': 17, 'ask_order4': 11, 'ask_order5': 10, 'type': 'dp', 'symbol': 'NSE:SBIN-EQ'}\n",
      "[813.25, 813.2, 813.15, 813.1, 813.05, 813.4, 813.45, 813.5, 813.55, 813.6, 741, 1, 254, 375, 1720, 43, 1185, 2981, 814, 1466, 1, 1, 2, 2, 8, 1, 7, 17, 11, 10, 1723817923.460163]\n",
      "saved to:SBIN/1/NSE/Depth\n",
      "Response: {'bid_price1': 1089.0, 'bid_price2': 1088.95, 'bid_price3': 1088.9, 'bid_price4': 1088.85, 'bid_price5': 1088.8, 'ask_price1': 1089.05, 'ask_price2': 1089.1, 'ask_price3': 1089.15, 'ask_price4': 1089.2, 'ask_price5': 1089.3, 'bid_size1': 128, 'bid_size2': 250, 'bid_size3': 698, 'bid_size4': 423, 'bid_size5': 159, 'ask_size1': 5, 'ask_size2': 37, 'ask_size3': 552, 'ask_size4': 639, 'ask_size5': 265, 'bid_order1': 5, 'bid_order2': 8, 'bid_order3': 7, 'bid_order4': 8, 'bid_order5': 4, 'ask_order1': 1, 'ask_order2': 1, 'ask_order3': 4, 'ask_order4': 5, 'ask_order5': 8, 'type': 'dp', 'symbol': 'NSE:TATAMOTORS-EQ'}\n",
      "[1089.0, 1088.95, 1088.9, 1088.85, 1088.8, 1089.05, 1089.1, 1089.15, 1089.2, 1089.3, 128, 250, 698, 423, 159, 5, 37, 552, 639, 265, 5, 8, 7, 8, 4, 1, 1, 4, 5, 8, 1723817923.461628]\n",
      "saved to:TATAMOTORS/1/NSE/Depth\n",
      "Response: {'bid_price1': 813.3, 'bid_price2': 813.25, 'bid_price3': 813.2, 'bid_price4': 813.15, 'bid_price5': 813.1, 'ask_price1': 813.4, 'ask_price2': 813.45, 'ask_price3': 813.5, 'ask_price4': 813.55, 'ask_price5': 813.6, 'bid_size1': 22, 'bid_size2': 741, 'bid_size3': 1, 'bid_size4': 9, 'bid_size5': 375, 'ask_size1': 43, 'ask_size2': 1185, 'ask_size3': 3284, 'ask_size4': 872, 'ask_size5': 1693, 'bid_order1': 1, 'bid_order2': 1, 'bid_order3': 1, 'bid_order4': 1, 'bid_order5': 2, 'ask_order1': 1, 'ask_order2': 7, 'ask_order3': 19, 'ask_order4': 12, 'ask_order5': 13, 'type': 'dp', 'symbol': 'NSE:SBIN-EQ'}\n",
      "[813.3, 813.25, 813.2, 813.15, 813.1, 813.4, 813.45, 813.5, 813.55, 813.6, 22, 741, 1, 9, 375, 43, 1185, 3284, 872, 1693, 1, 1, 1, 1, 2, 1, 7, 19, 12, 13, 1723817923.777005]\n",
      "saved to:SBIN/1/NSE/Depth\n",
      "Response: {'bid_price1': 1089.05, 'bid_price2': 1089.0, 'bid_price3': 1088.95, 'bid_price4': 1088.9, 'bid_price5': 1088.85, 'ask_price1': 1089.1, 'ask_price2': 1089.15, 'ask_price3': 1089.2, 'ask_price4': 1089.3, 'ask_price5': 1089.35, 'bid_size1': 433, 'bid_size2': 181, 'bid_size3': 250, 'bid_size4': 789, 'bid_size5': 423, 'ask_size1': 37, 'ask_size2': 552, 'ask_size3': 639, 'ask_size4': 265, 'ask_size5': 259, 'bid_order1': 1, 'bid_order2': 7, 'bid_order3': 8, 'bid_order4': 8, 'bid_order5': 8, 'ask_order1': 1, 'ask_order2': 4, 'ask_order3': 5, 'ask_order4': 8, 'ask_order5': 7, 'type': 'dp', 'symbol': 'NSE:TATAMOTORS-EQ'}\n",
      "[1089.05, 1089.0, 1088.95, 1088.9, 1088.85, 1089.1, 1089.15, 1089.2, 1089.3, 1089.35, 433, 181, 250, 789, 423, 37, 552, 639, 265, 259, 1, 7, 8, 8, 8, 1, 4, 5, 8, 7, 1723817923.779809]\n",
      "saved to:TATAMOTORS/1/NSE/Depth\n",
      "Response: {'bid_price1': 812.95, 'bid_price2': 812.9, 'bid_price3': 812.85, 'bid_price4': 812.8, 'bid_price5': 812.75, 'ask_price1': 813.2, 'ask_price2': 813.25, 'ask_price3': 813.35, 'ask_price4': 813.4, 'ask_price5': 813.45, 'bid_size1': 522, 'bid_size2': 997, 'bid_size3': 1807, 'bid_size4': 1394, 'bid_size5': 1468, 'ask_size1': 198, 'ask_size2': 1, 'ask_size3': 98, 'ask_size4': 385, 'ask_size5': 295, 'bid_order1': 1, 'bid_order2': 13, 'bid_order3': 24, 'bid_order4': 12, 'bid_order5': 9, 'ask_order1': 1, 'ask_order2': 1, 'ask_order3': 2, 'ask_order4': 3, 'ask_order5': 3, 'type': 'dp', 'symbol': 'BSE:SBIN-A'}\n",
      "[812.95, 812.9, 812.85, 812.8, 812.75, 813.2, 813.25, 813.35, 813.4, 813.45, 522, 997, 1807, 1394, 1468, 198, 1, 98, 385, 295, 1, 13, 24, 12, 9, 1, 1, 2, 3, 3, 1723817924.08769]\n",
      "saved to:SBIN/1/BSE/Depth\n",
      "Response: {'bid_price1': 813.25, 'bid_price2': 813.2, 'bid_price3': 813.15, 'bid_price4': 813.1, 'bid_price5': 813.05, 'ask_price1': 813.35, 'ask_price2': 813.4, 'ask_price3': 813.45, 'ask_price4': 813.5, 'ask_price5': 813.55, 'bid_size1': 721, 'bid_size2': 1, 'bid_size3': 245, 'bid_size4': 903, 'bid_size5': 1901, 'ask_size1': 14, 'ask_size2': 59, 'ask_size3': 957, 'ask_size4': 1586, 'ask_size5': 749, 'bid_order1': 2, 'bid_order2': 1, 'bid_order3': 1, 'bid_order4': 7, 'bid_order5': 11, 'ask_order1': 2, 'ask_order2': 2, 'ask_order3': 7, 'ask_order4': 16, 'ask_order5': 7, 'type': 'dp', 'symbol': 'NSE:SBIN-EQ'}\n",
      "[813.25, 813.2, 813.15, 813.1, 813.05, 813.35, 813.4, 813.45, 813.5, 813.55, 721, 1, 245, 903, 1901, 14, 59, 957, 1586, 749, 2, 1, 1, 7, 11, 2, 2, 7, 16, 7, 1723817924.653128]\n",
      "saved to:SBIN/1/NSE/Depth\n",
      "Response: {'bid_price1': 1089.1, 'bid_price2': 1089.05, 'bid_price3': 1089.0, 'bid_price4': 1088.95, 'bid_price5': 1088.9, 'ask_price1': 1089.15, 'ask_price2': 1089.2, 'ask_price3': 1089.3, 'ask_price4': 1089.35, 'ask_price5': 1089.4, 'bid_size1': 216, 'bid_size2': 529, 'bid_size3': 1408, 'bid_size4': 382, 'bid_size5': 321, 'ask_size1': 50, 'ask_size2': 639, 'ask_size3': 260, 'ask_size4': 137, 'ask_size5': 345, 'bid_order1': 1, 'bid_order2': 3, 'bid_order3': 13, 'bid_order4': 10, 'bid_order5': 12, 'ask_order1': 4, 'ask_order2': 5, 'ask_order3': 7, 'ask_order4': 4, 'ask_order5': 5, 'type': 'dp', 'symbol': 'NSE:TATAMOTORS-EQ'}\n",
      "[1089.1, 1089.05, 1089.0, 1088.95, 1088.9, 1089.15, 1089.2, 1089.3, 1089.35, 1089.4, 216, 529, 1408, 382, 321, 50, 639, 260, 137, 345, 1, 3, 13, 10, 12, 4, 5, 7, 4, 5, 1723817924.657446]\n",
      "saved to:TATAMOTORS/1/NSE/Depth\n",
      "Response: {'bid_price1': 813.25, 'bid_price2': 813.2, 'bid_price3': 813.15, 'bid_price4': 813.1, 'bid_price5': 813.05, 'ask_price1': 813.3, 'ask_price2': 813.35, 'ask_price3': 813.4, 'ask_price4': 813.45, 'ask_price5': 813.5, 'bid_size1': 710, 'bid_size2': 1, 'bid_size3': 245, 'bid_size4': 1139, 'bid_size5': 1901, 'ask_size1': 2, 'ask_size2': 14, 'ask_size3': 59, 'ask_size4': 1062, 'ask_size5': 1586, 'bid_order1': 1, 'bid_order2': 1, 'bid_order3': 1, 'bid_order4': 8, 'bid_order5': 11, 'ask_order1': 2, 'ask_order2': 2, 'ask_order3': 2, 'ask_order4': 8, 'ask_order5': 16, 'type': 'dp', 'symbol': 'NSE:SBIN-EQ'}\n",
      "[813.25, 813.2, 813.15, 813.1, 813.05, 813.3, 813.35, 813.4, 813.45, 813.5, 710, 1, 245, 1139, 1901, 2, 14, 59, 1062, 1586, 1, 1, 1, 8, 11, 2, 2, 2, 8, 16, 1723817925.054404]\n",
      "saved to:SBIN/1/NSE/Depth\n",
      "Response: {'bid_price1': 812.9, 'bid_price2': 812.85, 'bid_price3': 812.8, 'bid_price4': 812.75, 'bid_price5': 812.7, 'ask_price1': 813.2, 'ask_price2': 813.25, 'ask_price3': 813.3, 'ask_price4': 813.35, 'ask_price5': 813.4, 'bid_size1': 380, 'bid_size2': 725, 'bid_size3': 923, 'bid_size4': 1838, 'bid_size5': 1214, 'ask_size1': 194, 'ask_size2': 1, 'ask_size3': 28, 'ask_size4': 98, 'ask_size5': 49, 'bid_order1': 9, 'bid_order2': 19, 'bid_order3': 7, 'bid_order4': 14, 'bid_order5': 5, 'ask_order1': 1, 'ask_order2': 1, 'ask_order3': 1, 'ask_order4': 2, 'ask_order5': 1, 'type': 'dp', 'symbol': 'BSE:SBIN-A'}\n",
      "[812.9, 812.85, 812.8, 812.75, 812.7, 813.2, 813.25, 813.3, 813.35, 813.4, 380, 725, 923, 1838, 1214, 194, 1, 28, 98, 49, 9, 19, 7, 14, 5, 1, 1, 1, 2, 1, 1723817925.242101]\n",
      "saved to:SBIN/1/BSE/Depth\n",
      "Response: {'bid_price1': 813.3, 'bid_price2': 813.25, 'bid_price3': 813.2, 'bid_price4': 813.1, 'bid_price5': 813.05, 'ask_price1': 813.35, 'ask_price2': 813.4, 'ask_price3': 813.45, 'ask_price4': 813.5, 'ask_price5': 813.55, 'bid_size1': 6, 'bid_size2': 710, 'bid_size3': 1, 'bid_size4': 1139, 'bid_size5': 1901, 'ask_size1': 14, 'ask_size2': 59, 'ask_size3': 957, 'ask_size4': 1586, 'ask_size5': 749, 'bid_order1': 2, 'bid_order2': 1, 'bid_order3': 1, 'bid_order4': 8, 'bid_order5': 11, 'ask_order1': 2, 'ask_order2': 2, 'ask_order3': 7, 'ask_order4': 16, 'ask_order5': 7, 'type': 'dp', 'symbol': 'NSE:SBIN-EQ'}\n",
      "[813.3, 813.25, 813.2, 813.1, 813.05, 813.35, 813.4, 813.45, 813.5, 813.55, 6, 710, 1, 1139, 1901, 14, 59, 957, 1586, 749, 2, 1, 1, 8, 11, 2, 2, 7, 16, 7, 1723817925.857384]\n",
      "saved to:SBIN/1/NSE/Depth\n",
      "Response: {'bid_price1': 1089.1, 'bid_price2': 1089.05, 'bid_price3': 1089.0, 'bid_price4': 1088.95, 'bid_price5': 1088.9, 'ask_price1': 1089.15, 'ask_price2': 1089.2, 'ask_price3': 1089.3, 'ask_price4': 1089.35, 'ask_price5': 1089.4, 'bid_size1': 71, 'bid_size2': 504, 'bid_size3': 1266, 'bid_size4': 291, 'bid_size5': 149, 'ask_size1': 27, 'ask_size2': 639, 'ask_size3': 260, 'ask_size4': 137, 'ask_size5': 350, 'bid_order1': 4, 'bid_order2': 4, 'bid_order3': 9, 'bid_order4': 9, 'bid_order5': 9, 'ask_order1': 5, 'ask_order2': 5, 'ask_order3': 7, 'ask_order4': 4, 'ask_order5': 6, 'type': 'dp', 'symbol': 'NSE:TATAMOTORS-EQ'}\n",
      "[1089.1, 1089.05, 1089.0, 1088.95, 1088.9, 1089.15, 1089.2, 1089.3, 1089.35, 1089.4, 71, 504, 1266, 291, 149, 27, 639, 260, 137, 350, 4, 4, 9, 9, 9, 5, 5, 7, 4, 6, 1723817925.85954]\n",
      "saved to:TATAMOTORS/1/NSE/Depth\n",
      "Response: {'bid_price1': 813.3, 'bid_price2': 813.25, 'bid_price3': 813.2, 'bid_price4': 813.1, 'bid_price5': 813.05, 'ask_price1': 813.35, 'ask_price2': 813.4, 'ask_price3': 813.45, 'ask_price4': 813.5, 'ask_price5': 813.55, 'bid_size1': 5, 'bid_size2': 710, 'bid_size3': 1, 'bid_size4': 1139, 'bid_size5': 1901, 'ask_size1': 2, 'ask_size2': 59, 'ask_size3': 957, 'ask_size4': 1586, 'ask_size5': 749, 'bid_order1': 2, 'bid_order2': 1, 'bid_order3': 1, 'bid_order4': 8, 'bid_order5': 11, 'ask_order1': 1, 'ask_order2': 2, 'ask_order3': 7, 'ask_order4': 16, 'ask_order5': 7, 'type': 'dp', 'symbol': 'NSE:SBIN-EQ'}\n",
      "[813.3, 813.25, 813.2, 813.1, 813.05, 813.35, 813.4, 813.45, 813.5, 813.55, 5, 710, 1, 1139, 1901, 2, 59, 957, 1586, 749, 2, 1, 1, 8, 11, 1, 2, 7, 16, 7, 1723817926.24114]\n",
      "saved to:SBIN/1/NSE/Depth\n",
      "Response: {'bid_price1': 812.9, 'bid_price2': 812.85, 'bid_price3': 812.8, 'bid_price4': 812.75, 'bid_price5': 812.7, 'ask_price1': 813.2, 'ask_price2': 813.25, 'ask_price3': 813.3, 'ask_price4': 813.35, 'ask_price5': 813.4, 'bid_size1': 1000, 'bid_size2': 1827, 'bid_size3': 1374, 'bid_size4': 1000, 'bid_size5': 1416, 'ask_size1': 194, 'ask_size2': 1, 'ask_size3': 28, 'ask_size4': 290, 'ask_size5': 49, 'bid_order1': 11, 'bid_order2': 26, 'bid_order3': 12, 'bid_order4': 8, 'bid_order5': 6, 'ask_order1': 1, 'ask_order2': 1, 'ask_order3': 1, 'ask_order4': 3, 'ask_order5': 1, 'type': 'dp', 'symbol': 'BSE:SBIN-A'}\n",
      "[812.9, 812.85, 812.8, 812.75, 812.7, 813.2, 813.25, 813.3, 813.35, 813.4, 1000, 1827, 1374, 1000, 1416, 194, 1, 28, 290, 49, 11, 26, 12, 8, 6, 1, 1, 1, 3, 1, 1723817926.445341]\n",
      "saved to:SBIN/1/BSE/Depth\n",
      "Response: {'bid_price1': 812.9, 'bid_price2': 812.85, 'bid_price3': 812.8, 'bid_price4': 812.75, 'bid_price5': 812.7, 'ask_price1': 813.2, 'ask_price2': 813.25, 'ask_price3': 813.3, 'ask_price4': 813.35, 'ask_price5': 813.4, 'bid_size1': 1020, 'bid_size2': 1807, 'bid_size3': 1374, 'bid_size4': 1000, 'bid_size5': 1416, 'ask_size1': 194, 'ask_size2': 1, 'ask_size3': 28, 'ask_size4': 290, 'ask_size5': 49, 'bid_order1': 13, 'bid_order2': 24, 'bid_order3': 12, 'bid_order4': 8, 'bid_order5': 6, 'ask_order1': 1, 'ask_order2': 1, 'ask_order3': 1, 'ask_order4': 3, 'ask_order5': 1, 'type': 'dp', 'symbol': 'BSE:SBIN-A'}\n",
      "[812.9, 812.85, 812.8, 812.75, 812.7, 813.2, 813.25, 813.3, 813.35, 813.4, 1020, 1807, 1374, 1000, 1416, 194, 1, 28, 290, 49, 13, 24, 12, 8, 6, 1, 1, 1, 3, 1, 1723817926.837454]\n",
      "saved to:SBIN/1/BSE/Depth\n",
      "Response: {'bid_price1': 813.3, 'bid_price2': 813.25, 'bid_price3': 813.2, 'bid_price4': 813.1, 'bid_price5': 813.05, 'ask_price1': 813.35, 'ask_price2': 813.4, 'ask_price3': 813.45, 'ask_price4': 813.5, 'ask_price5': 813.55, 'bid_size1': 6, 'bid_size2': 710, 'bid_size3': 1, 'bid_size4': 1139, 'bid_size5': 1901, 'ask_size1': 10, 'ask_size2': 59, 'ask_size3': 957, 'ask_size4': 1586, 'ask_size5': 760, 'bid_order1': 2, 'bid_order2': 1, 'bid_order3': 1, 'bid_order4': 8, 'bid_order5': 11, 'ask_order1': 1, 'ask_order2': 2, 'ask_order3': 7, 'ask_order4': 16, 'ask_order5': 8, 'type': 'dp', 'symbol': 'NSE:SBIN-EQ'}\n",
      "[813.3, 813.25, 813.2, 813.1, 813.05, 813.35, 813.4, 813.45, 813.5, 813.55, 6, 710, 1, 1139, 1901, 10, 59, 957, 1586, 760, 2, 1, 1, 8, 11, 1, 2, 7, 16, 8, 1723817927.053091]\n",
      "saved to:SBIN/1/NSE/Depth\n",
      "Response: {'bid_price1': 1089.1, 'bid_price2': 1089.05, 'bid_price3': 1089.0, 'bid_price4': 1088.95, 'bid_price5': 1088.9, 'ask_price1': 1089.15, 'ask_price2': 1089.2, 'ask_price3': 1089.3, 'ask_price4': 1089.35, 'ask_price5': 1089.4, 'bid_size1': 35, 'bid_size2': 1054, 'bid_size3': 848, 'bid_size4': 446, 'bid_size5': 154, 'ask_size1': 28, 'ask_size2': 639, 'ask_size3': 260, 'ask_size4': 137, 'ask_size5': 350, 'bid_order1': 3, 'bid_order2': 5, 'bid_order3': 10, 'bid_order4': 11, 'bid_order5': 10, 'ask_order1': 3, 'ask_order2': 5, 'ask_order3': 7, 'ask_order4': 4, 'ask_order5': 6, 'type': 'dp', 'symbol': 'NSE:TATAMOTORS-EQ'}\n",
      "[1089.1, 1089.05, 1089.0, 1088.95, 1088.9, 1089.15, 1089.2, 1089.3, 1089.35, 1089.4, 35, 1054, 848, 446, 154, 28, 639, 260, 137, 350, 3, 5, 10, 11, 10, 3, 5, 7, 4, 6, 1723817927.055492]\n",
      "saved to:TATAMOTORS/1/NSE/Depth\n",
      "Response: {'bid_price1': 813.3, 'bid_price2': 813.25, 'bid_price3': 813.2, 'bid_price4': 813.1, 'bid_price5': 813.05, 'ask_price1': 813.35, 'ask_price2': 813.4, 'ask_price3': 813.45, 'ask_price4': 813.5, 'ask_price5': 813.55, 'bid_size1': 25, 'bid_size2': 710, 'bid_size3': 1, 'bid_size4': 1139, 'bid_size5': 1901, 'ask_size1': 10, 'ask_size2': 214, 'ask_size3': 957, 'ask_size4': 1586, 'ask_size5': 760, 'bid_order1': 3, 'bid_order2': 1, 'bid_order3': 1, 'bid_order4': 8, 'bid_order5': 11, 'ask_order1': 1, 'ask_order2': 4, 'ask_order3': 7, 'ask_order4': 16, 'ask_order5': 8, 'type': 'dp', 'symbol': 'NSE:SBIN-EQ'}\n",
      "[813.3, 813.25, 813.2, 813.1, 813.05, 813.35, 813.4, 813.45, 813.5, 813.55, 25, 710, 1, 1139, 1901, 10, 214, 957, 1586, 760, 3, 1, 1, 8, 11, 1, 4, 7, 16, 8, 1723817927.452909]\n",
      "saved to:SBIN/1/NSE/Depth\n",
      "Response: {'bid_price1': 812.9, 'bid_price2': 812.85, 'bid_price3': 812.8, 'bid_price4': 812.75, 'bid_price5': 812.7, 'ask_price1': 813.2, 'ask_price2': 813.25, 'ask_price3': 813.3, 'ask_price4': 813.35, 'ask_price5': 813.4, 'bid_size1': 1099, 'bid_size2': 1732, 'bid_size3': 1374, 'bid_size4': 1000, 'bid_size5': 1416, 'ask_size1': 194, 'ask_size2': 1, 'ask_size3': 28, 'ask_size4': 290, 'ask_size5': 49, 'bid_order1': 18, 'bid_order2': 21, 'bid_order3': 12, 'bid_order4': 8, 'bid_order5': 6, 'ask_order1': 1, 'ask_order2': 1, 'ask_order3': 1, 'ask_order4': 3, 'ask_order5': 1, 'type': 'dp', 'symbol': 'BSE:SBIN-A'}\n",
      "[812.9, 812.85, 812.8, 812.75, 812.7, 813.2, 813.25, 813.3, 813.35, 813.4, 1099, 1732, 1374, 1000, 1416, 194, 1, 28, 290, 49, 18, 21, 12, 8, 6, 1, 1, 1, 3, 1, 1723817927.673626]\n",
      "saved to:SBIN/1/BSE/Depth\n",
      "Response: {'bid_price1': 1089.1, 'bid_price2': 1089.05, 'bid_price3': 1089.0, 'bid_price4': 1088.95, 'bid_price5': 1088.9, 'ask_price1': 1089.15, 'ask_price2': 1089.2, 'ask_price3': 1089.3, 'ask_price4': 1089.35, 'ask_price5': 1089.4, 'bid_size1': 34, 'bid_size2': 1084, 'bid_size3': 848, 'bid_size4': 446, 'bid_size5': 154, 'ask_size1': 48, 'ask_size2': 639, 'ask_size3': 260, 'ask_size4': 137, 'ask_size5': 350, 'bid_order1': 4, 'bid_order2': 6, 'bid_order3': 10, 'bid_order4': 11, 'bid_order5': 10, 'ask_order1': 4, 'ask_order2': 5, 'ask_order3': 7, 'ask_order4': 4, 'ask_order5': 6, 'type': 'dp', 'symbol': 'NSE:TATAMOTORS-EQ'}\n",
      "[1089.1, 1089.05, 1089.0, 1088.95, 1088.9, 1089.15, 1089.2, 1089.3, 1089.35, 1089.4, 34, 1084, 848, 446, 154, 48, 639, 260, 137, 350, 4, 6, 10, 11, 10, 4, 5, 7, 4, 6, 1723817927.73501]\n",
      "saved to:TATAMOTORS/1/NSE/Depth\n",
      "Response: {'bid_price1': 812.9, 'bid_price2': 812.85, 'bid_price3': 812.8, 'bid_price4': 812.75, 'bid_price5': 812.7, 'ask_price1': 813.2, 'ask_price2': 813.25, 'ask_price3': 813.3, 'ask_price4': 813.35, 'ask_price5': 813.4, 'bid_size1': 380, 'bid_size2': 627, 'bid_size3': 826, 'bid_size4': 1838, 'bid_size5': 1313, 'ask_size1': 194, 'ask_size2': 1, 'ask_size3': 28, 'ask_size4': 290, 'ask_size5': 49, 'bid_order1': 9, 'bid_order2': 18, 'bid_order3': 6, 'bid_order4': 14, 'bid_order5': 6, 'ask_order1': 1, 'ask_order2': 1, 'ask_order3': 1, 'ask_order4': 3, 'ask_order5': 1, 'type': 'dp', 'symbol': 'BSE:SBIN-A'}\n",
      "[812.9, 812.85, 812.8, 812.75, 812.7, 813.2, 813.25, 813.3, 813.35, 813.4, 380, 627, 826, 1838, 1313, 194, 1, 28, 290, 49, 9, 18, 6, 14, 6, 1, 1, 1, 3, 1, 1723817928.040023]\n",
      "saved to:SBIN/1/BSE/Depth\n",
      "Response: {'bid_price1': 813.25, 'bid_price2': 813.1, 'bid_price3': 813.05, 'bid_price4': 813.0, 'bid_price5': 812.95, 'ask_price1': 813.35, 'ask_price2': 813.4, 'ask_price3': 813.45, 'ask_price4': 813.5, 'ask_price5': 813.55, 'bid_size1': 658, 'bid_size2': 898, 'bid_size3': 1894, 'bid_size4': 18875, 'bid_size5': 1197, 'ask_size1': 4, 'ask_size2': 220, 'ask_size3': 1217, 'ask_size4': 1326, 'ask_size5': 749, 'bid_order1': 1, 'bid_order2': 6, 'bid_order3': 11, 'bid_order4': 56, 'bid_order5': 14, 'ask_order1': 1, 'ask_order2': 5, 'ask_order3': 8, 'ask_order4': 15, 'ask_order5': 7, 'type': 'dp', 'symbol': 'NSE:SBIN-EQ'}\n",
      "[813.25, 813.1, 813.05, 813.0, 812.95, 813.35, 813.4, 813.45, 813.5, 813.55, 658, 898, 1894, 18875, 1197, 4, 220, 1217, 1326, 749, 1, 6, 11, 56, 14, 1, 5, 8, 15, 7, 1723817928.25325]\n",
      "saved to:SBIN/1/NSE/Depth\n",
      "Response: {'bid_price1': 1089.1, 'bid_price2': 1089.05, 'bid_price3': 1089.0, 'bid_price4': 1088.95, 'bid_price5': 1088.9, 'ask_price1': 1089.15, 'ask_price2': 1089.2, 'ask_price3': 1089.3, 'ask_price4': 1089.35, 'ask_price5': 1089.4, 'bid_size1': 38, 'bid_size2': 1084, 'bid_size3': 716, 'bid_size4': 382, 'bid_size5': 193, 'ask_size1': 49, 'ask_size2': 639, 'ask_size3': 260, 'ask_size4': 137, 'ask_size5': 350, 'bid_order1': 5, 'bid_order2': 6, 'bid_order3': 8, 'bid_order4': 10, 'bid_order5': 10, 'ask_order1': 5, 'ask_order2': 5, 'ask_order3': 7, 'ask_order4': 4, 'ask_order5': 6, 'type': 'dp', 'symbol': 'NSE:TATAMOTORS-EQ'}\n",
      "[1089.1, 1089.05, 1089.0, 1088.95, 1088.9, 1089.15, 1089.2, 1089.3, 1089.35, 1089.4, 38, 1084, 716, 382, 193, 49, 639, 260, 137, 350, 5, 6, 8, 10, 10, 5, 5, 7, 4, 6, 1723817928.254623]\n",
      "saved to:TATAMOTORS/1/NSE/Depth\n",
      "Response: {'bid_price1': 812.9, 'bid_price2': 812.85, 'bid_price3': 812.8, 'bid_price4': 812.75, 'bid_price5': 812.7, 'ask_price1': 813.2, 'ask_price2': 813.25, 'ask_price3': 813.3, 'ask_price4': 813.35, 'ask_price5': 813.4, 'bid_size1': 380, 'bid_size2': 626, 'bid_size3': 923, 'bid_size4': 1936, 'bid_size5': 1313, 'ask_size1': 194, 'ask_size2': 1, 'ask_size3': 28, 'ask_size4': 290, 'ask_size5': 49, 'bid_order1': 9, 'bid_order2': 18, 'bid_order3': 7, 'bid_order4': 15, 'bid_order5': 6, 'ask_order1': 1, 'ask_order2': 1, 'ask_order3': 1, 'ask_order4': 3, 'ask_order5': 1, 'type': 'dp', 'symbol': 'BSE:SBIN-A'}\n",
      "Response: {'bid_price1': 1089.1, 'bid_price2': 1089.05, 'bid_price3': 1089.0, 'bid_price4': 1088.95, 'bid_price5': 1088.9, 'ask_price1': 1089.15, 'ask_price2': 1089.2, 'ask_price3': 1089.3, 'ask_price4': 1089.35, 'ask_price5': 1089.4, 'bid_size1': 50, 'bid_size2': 1085, 'bid_size3': 725, 'bid_size4': 430, 'bid_size5': 361, 'ask_size1': 27, 'ask_size2': 639, 'ask_size3': 260, 'ask_size4': 137, 'ask_size5': 351, 'bid_order1': 7, 'bid_order2': 7, 'bid_order3': 9, 'bid_order4': 11, 'bid_order5': 13, 'ask_order1': 3, 'ask_order2': 5, 'ask_order3': 7, 'ask_order4': 4, 'ask_order5': 7, 'type': 'dp', 'symbol': 'NSE:TATAMOTORS-EQ'}\n",
      "Response: {'type': 'unsub', 'code': 200, 'message': 'Unsubscribed', 's': 'ok'}\n",
      "processes closed!\n",
      "\n",
      "\n",
      "\n",
      "\n",
      "\n",
      "\n",
      "\n"
     ]
    }
   ],
   "source": [
    "data.connect(access_token=access_token,\n",
    "             stonks= ['NSE:SBIN-EQ','BSE:SBIN-A','NSE:TATAMOTORS-EQ'],\n",
    "             wait_time= 30,\n",
    "             save_format=Save.hdf5,\n",
    "             dir=r'/Users/gurusai/data')"
   ]
  },
  {
   "cell_type": "code",
   "execution_count": 5,
   "metadata": {},
   "outputs": [
    {
     "ename": "EmptyDataError",
     "evalue": "No columns to parse from file",
     "output_type": "error",
     "traceback": [
      "\u001b[0;31m---------------------------------------------------------------------------\u001b[0m",
      "\u001b[0;31mEmptyDataError\u001b[0m                            Traceback (most recent call last)",
      "Cell \u001b[0;32mIn[5], line 2\u001b[0m\n\u001b[1;32m      1\u001b[0m \u001b[38;5;28;01mimport\u001b[39;00m \u001b[38;5;21;01mpandas\u001b[39;00m \u001b[38;5;28;01mas\u001b[39;00m \u001b[38;5;21;01mpd\u001b[39;00m\n\u001b[0;32m----> 2\u001b[0m \u001b[43mpd\u001b[49m\u001b[38;5;241;43m.\u001b[39;49m\u001b[43mread_csv\u001b[49m\u001b[43m(\u001b[49m\u001b[38;5;124;43m'\u001b[39;49m\u001b[38;5;124;43mbse_stock_names.csv\u001b[39;49m\u001b[38;5;124;43m'\u001b[39;49m\u001b[43m)\u001b[49m\n",
      "File \u001b[0;32m~/programming/STONKS/data_retreival_v2/fyers_data_retreivalv2/lib/python3.12/site-packages/pandas/io/parsers/readers.py:1026\u001b[0m, in \u001b[0;36mread_csv\u001b[0;34m(filepath_or_buffer, sep, delimiter, header, names, index_col, usecols, dtype, engine, converters, true_values, false_values, skipinitialspace, skiprows, skipfooter, nrows, na_values, keep_default_na, na_filter, verbose, skip_blank_lines, parse_dates, infer_datetime_format, keep_date_col, date_parser, date_format, dayfirst, cache_dates, iterator, chunksize, compression, thousands, decimal, lineterminator, quotechar, quoting, doublequote, escapechar, comment, encoding, encoding_errors, dialect, on_bad_lines, delim_whitespace, low_memory, memory_map, float_precision, storage_options, dtype_backend)\u001b[0m\n\u001b[1;32m   1013\u001b[0m kwds_defaults \u001b[38;5;241m=\u001b[39m _refine_defaults_read(\n\u001b[1;32m   1014\u001b[0m     dialect,\n\u001b[1;32m   1015\u001b[0m     delimiter,\n\u001b[0;32m   (...)\u001b[0m\n\u001b[1;32m   1022\u001b[0m     dtype_backend\u001b[38;5;241m=\u001b[39mdtype_backend,\n\u001b[1;32m   1023\u001b[0m )\n\u001b[1;32m   1024\u001b[0m kwds\u001b[38;5;241m.\u001b[39mupdate(kwds_defaults)\n\u001b[0;32m-> 1026\u001b[0m \u001b[38;5;28;01mreturn\u001b[39;00m \u001b[43m_read\u001b[49m\u001b[43m(\u001b[49m\u001b[43mfilepath_or_buffer\u001b[49m\u001b[43m,\u001b[49m\u001b[43m \u001b[49m\u001b[43mkwds\u001b[49m\u001b[43m)\u001b[49m\n",
      "File \u001b[0;32m~/programming/STONKS/data_retreival_v2/fyers_data_retreivalv2/lib/python3.12/site-packages/pandas/io/parsers/readers.py:620\u001b[0m, in \u001b[0;36m_read\u001b[0;34m(filepath_or_buffer, kwds)\u001b[0m\n\u001b[1;32m    617\u001b[0m _validate_names(kwds\u001b[38;5;241m.\u001b[39mget(\u001b[38;5;124m\"\u001b[39m\u001b[38;5;124mnames\u001b[39m\u001b[38;5;124m\"\u001b[39m, \u001b[38;5;28;01mNone\u001b[39;00m))\n\u001b[1;32m    619\u001b[0m \u001b[38;5;66;03m# Create the parser.\u001b[39;00m\n\u001b[0;32m--> 620\u001b[0m parser \u001b[38;5;241m=\u001b[39m \u001b[43mTextFileReader\u001b[49m\u001b[43m(\u001b[49m\u001b[43mfilepath_or_buffer\u001b[49m\u001b[43m,\u001b[49m\u001b[43m \u001b[49m\u001b[38;5;241;43m*\u001b[39;49m\u001b[38;5;241;43m*\u001b[39;49m\u001b[43mkwds\u001b[49m\u001b[43m)\u001b[49m\n\u001b[1;32m    622\u001b[0m \u001b[38;5;28;01mif\u001b[39;00m chunksize \u001b[38;5;129;01mor\u001b[39;00m iterator:\n\u001b[1;32m    623\u001b[0m     \u001b[38;5;28;01mreturn\u001b[39;00m parser\n",
      "File \u001b[0;32m~/programming/STONKS/data_retreival_v2/fyers_data_retreivalv2/lib/python3.12/site-packages/pandas/io/parsers/readers.py:1620\u001b[0m, in \u001b[0;36mTextFileReader.__init__\u001b[0;34m(self, f, engine, **kwds)\u001b[0m\n\u001b[1;32m   1617\u001b[0m     \u001b[38;5;28mself\u001b[39m\u001b[38;5;241m.\u001b[39moptions[\u001b[38;5;124m\"\u001b[39m\u001b[38;5;124mhas_index_names\u001b[39m\u001b[38;5;124m\"\u001b[39m] \u001b[38;5;241m=\u001b[39m kwds[\u001b[38;5;124m\"\u001b[39m\u001b[38;5;124mhas_index_names\u001b[39m\u001b[38;5;124m\"\u001b[39m]\n\u001b[1;32m   1619\u001b[0m \u001b[38;5;28mself\u001b[39m\u001b[38;5;241m.\u001b[39mhandles: IOHandles \u001b[38;5;241m|\u001b[39m \u001b[38;5;28;01mNone\u001b[39;00m \u001b[38;5;241m=\u001b[39m \u001b[38;5;28;01mNone\u001b[39;00m\n\u001b[0;32m-> 1620\u001b[0m \u001b[38;5;28mself\u001b[39m\u001b[38;5;241m.\u001b[39m_engine \u001b[38;5;241m=\u001b[39m \u001b[38;5;28;43mself\u001b[39;49m\u001b[38;5;241;43m.\u001b[39;49m\u001b[43m_make_engine\u001b[49m\u001b[43m(\u001b[49m\u001b[43mf\u001b[49m\u001b[43m,\u001b[49m\u001b[43m \u001b[49m\u001b[38;5;28;43mself\u001b[39;49m\u001b[38;5;241;43m.\u001b[39;49m\u001b[43mengine\u001b[49m\u001b[43m)\u001b[49m\n",
      "File \u001b[0;32m~/programming/STONKS/data_retreival_v2/fyers_data_retreivalv2/lib/python3.12/site-packages/pandas/io/parsers/readers.py:1898\u001b[0m, in \u001b[0;36mTextFileReader._make_engine\u001b[0;34m(self, f, engine)\u001b[0m\n\u001b[1;32m   1895\u001b[0m     \u001b[38;5;28;01mraise\u001b[39;00m \u001b[38;5;167;01mValueError\u001b[39;00m(msg)\n\u001b[1;32m   1897\u001b[0m \u001b[38;5;28;01mtry\u001b[39;00m:\n\u001b[0;32m-> 1898\u001b[0m     \u001b[38;5;28;01mreturn\u001b[39;00m \u001b[43mmapping\u001b[49m\u001b[43m[\u001b[49m\u001b[43mengine\u001b[49m\u001b[43m]\u001b[49m\u001b[43m(\u001b[49m\u001b[43mf\u001b[49m\u001b[43m,\u001b[49m\u001b[43m \u001b[49m\u001b[38;5;241;43m*\u001b[39;49m\u001b[38;5;241;43m*\u001b[39;49m\u001b[38;5;28;43mself\u001b[39;49m\u001b[38;5;241;43m.\u001b[39;49m\u001b[43moptions\u001b[49m\u001b[43m)\u001b[49m\n\u001b[1;32m   1899\u001b[0m \u001b[38;5;28;01mexcept\u001b[39;00m \u001b[38;5;167;01mException\u001b[39;00m:\n\u001b[1;32m   1900\u001b[0m     \u001b[38;5;28;01mif\u001b[39;00m \u001b[38;5;28mself\u001b[39m\u001b[38;5;241m.\u001b[39mhandles \u001b[38;5;129;01mis\u001b[39;00m \u001b[38;5;129;01mnot\u001b[39;00m \u001b[38;5;28;01mNone\u001b[39;00m:\n",
      "File \u001b[0;32m~/programming/STONKS/data_retreival_v2/fyers_data_retreivalv2/lib/python3.12/site-packages/pandas/io/parsers/c_parser_wrapper.py:93\u001b[0m, in \u001b[0;36mCParserWrapper.__init__\u001b[0;34m(self, src, **kwds)\u001b[0m\n\u001b[1;32m     90\u001b[0m \u001b[38;5;28;01mif\u001b[39;00m kwds[\u001b[38;5;124m\"\u001b[39m\u001b[38;5;124mdtype_backend\u001b[39m\u001b[38;5;124m\"\u001b[39m] \u001b[38;5;241m==\u001b[39m \u001b[38;5;124m\"\u001b[39m\u001b[38;5;124mpyarrow\u001b[39m\u001b[38;5;124m\"\u001b[39m:\n\u001b[1;32m     91\u001b[0m     \u001b[38;5;66;03m# Fail here loudly instead of in cython after reading\u001b[39;00m\n\u001b[1;32m     92\u001b[0m     import_optional_dependency(\u001b[38;5;124m\"\u001b[39m\u001b[38;5;124mpyarrow\u001b[39m\u001b[38;5;124m\"\u001b[39m)\n\u001b[0;32m---> 93\u001b[0m \u001b[38;5;28mself\u001b[39m\u001b[38;5;241m.\u001b[39m_reader \u001b[38;5;241m=\u001b[39m \u001b[43mparsers\u001b[49m\u001b[38;5;241;43m.\u001b[39;49m\u001b[43mTextReader\u001b[49m\u001b[43m(\u001b[49m\u001b[43msrc\u001b[49m\u001b[43m,\u001b[49m\u001b[43m \u001b[49m\u001b[38;5;241;43m*\u001b[39;49m\u001b[38;5;241;43m*\u001b[39;49m\u001b[43mkwds\u001b[49m\u001b[43m)\u001b[49m\n\u001b[1;32m     95\u001b[0m \u001b[38;5;28mself\u001b[39m\u001b[38;5;241m.\u001b[39munnamed_cols \u001b[38;5;241m=\u001b[39m \u001b[38;5;28mself\u001b[39m\u001b[38;5;241m.\u001b[39m_reader\u001b[38;5;241m.\u001b[39munnamed_cols\n\u001b[1;32m     97\u001b[0m \u001b[38;5;66;03m# error: Cannot determine type of 'names'\u001b[39;00m\n",
      "File \u001b[0;32mparsers.pyx:581\u001b[0m, in \u001b[0;36mpandas._libs.parsers.TextReader.__cinit__\u001b[0;34m()\u001b[0m\n",
      "\u001b[0;31mEmptyDataError\u001b[0m: No columns to parse from file"
     ]
    }
   ],
   "source": [
    "import pandas as pd\n",
    "pd.read_csv('bse_stock_names.csv')"
   ]
  },
  {
   "cell_type": "code",
   "execution_count": null,
   "metadata": {},
   "outputs": [],
   "source": []
  }
 ],
 "metadata": {
  "kernelspec": {
   "display_name": "fyers_data_retreivalv2",
   "language": "python",
   "name": "python3"
  },
  "language_info": {
   "codemirror_mode": {
    "name": "ipython",
    "version": 3
   },
   "file_extension": ".py",
   "mimetype": "text/x-python",
   "name": "python",
   "nbconvert_exporter": "python",
   "pygments_lexer": "ipython3",
   "version": "3.12.4"
  }
 },
 "nbformat": 4,
 "nbformat_minor": 2
}
